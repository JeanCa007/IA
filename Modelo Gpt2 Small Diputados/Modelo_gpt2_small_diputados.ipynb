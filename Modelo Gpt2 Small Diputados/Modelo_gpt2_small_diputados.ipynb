{
  "nbformat": 4,
  "nbformat_minor": 0,
  "metadata": {
    "colab": {
      "name": "Modelo gpt2-small-diputados.ipynb",
      "provenance": [],
      "collapsed_sections": []
    },
    "kernelspec": {
      "name": "python3",
      "display_name": "Python 3"
    },
    "language_info": {
      "name": "python"
    },
    "accelerator": "GPU",
    "gpuClass": "standard",
    "widgets": {
      "application/vnd.jupyter.widget-state+json": {
        "b8bd25b737c34f6088a3a6cfe853f9bd": {
          "model_module": "@jupyter-widgets/controls",
          "model_name": "HBoxModel",
          "model_module_version": "1.5.0",
          "state": {
            "_dom_classes": [],
            "_model_module": "@jupyter-widgets/controls",
            "_model_module_version": "1.5.0",
            "_model_name": "HBoxModel",
            "_view_count": null,
            "_view_module": "@jupyter-widgets/controls",
            "_view_module_version": "1.5.0",
            "_view_name": "HBoxView",
            "box_style": "",
            "children": [
              "IPY_MODEL_c5e18dc59d6a456da3f128b17638aefb",
              "IPY_MODEL_bc30414fc5ac487386787c493ff5888d",
              "IPY_MODEL_be49805cde27423f873fd4970bab55e1"
            ],
            "layout": "IPY_MODEL_43bad1a9b71d44b0bbf8a1d513ecb8d1"
          }
        },
        "c5e18dc59d6a456da3f128b17638aefb": {
          "model_module": "@jupyter-widgets/controls",
          "model_name": "HTMLModel",
          "model_module_version": "1.5.0",
          "state": {
            "_dom_classes": [],
            "_model_module": "@jupyter-widgets/controls",
            "_model_module_version": "1.5.0",
            "_model_name": "HTMLModel",
            "_view_count": null,
            "_view_module": "@jupyter-widgets/controls",
            "_view_module_version": "1.5.0",
            "_view_name": "HTMLView",
            "description": "",
            "description_tooltip": null,
            "layout": "IPY_MODEL_e541f8d32310410c80417b68321b3742",
            "placeholder": "​",
            "style": "IPY_MODEL_afcb53d8547a40528dae1a2771ce40ea",
            "value": "Downloading tokenizer_config.json: 100%"
          }
        },
        "bc30414fc5ac487386787c493ff5888d": {
          "model_module": "@jupyter-widgets/controls",
          "model_name": "FloatProgressModel",
          "model_module_version": "1.5.0",
          "state": {
            "_dom_classes": [],
            "_model_module": "@jupyter-widgets/controls",
            "_model_module_version": "1.5.0",
            "_model_name": "FloatProgressModel",
            "_view_count": null,
            "_view_module": "@jupyter-widgets/controls",
            "_view_module_version": "1.5.0",
            "_view_name": "ProgressView",
            "bar_style": "success",
            "description": "",
            "description_tooltip": null,
            "layout": "IPY_MODEL_7cf20c5880334993ad166e19a58dba56",
            "max": 620,
            "min": 0,
            "orientation": "horizontal",
            "style": "IPY_MODEL_3c3099acada04d1fb35608de5d67bc2c",
            "value": 620
          }
        },
        "be49805cde27423f873fd4970bab55e1": {
          "model_module": "@jupyter-widgets/controls",
          "model_name": "HTMLModel",
          "model_module_version": "1.5.0",
          "state": {
            "_dom_classes": [],
            "_model_module": "@jupyter-widgets/controls",
            "_model_module_version": "1.5.0",
            "_model_name": "HTMLModel",
            "_view_count": null,
            "_view_module": "@jupyter-widgets/controls",
            "_view_module_version": "1.5.0",
            "_view_name": "HTMLView",
            "description": "",
            "description_tooltip": null,
            "layout": "IPY_MODEL_9e2fa45f6eb14c34897db729d870754c",
            "placeholder": "​",
            "style": "IPY_MODEL_2bdfd9b3486c4891852c110cc920ef60",
            "value": " 620/620 [00:00&lt;00:00, 18.7kB/s]"
          }
        },
        "43bad1a9b71d44b0bbf8a1d513ecb8d1": {
          "model_module": "@jupyter-widgets/base",
          "model_name": "LayoutModel",
          "model_module_version": "1.2.0",
          "state": {
            "_model_module": "@jupyter-widgets/base",
            "_model_module_version": "1.2.0",
            "_model_name": "LayoutModel",
            "_view_count": null,
            "_view_module": "@jupyter-widgets/base",
            "_view_module_version": "1.2.0",
            "_view_name": "LayoutView",
            "align_content": null,
            "align_items": null,
            "align_self": null,
            "border": null,
            "bottom": null,
            "display": null,
            "flex": null,
            "flex_flow": null,
            "grid_area": null,
            "grid_auto_columns": null,
            "grid_auto_flow": null,
            "grid_auto_rows": null,
            "grid_column": null,
            "grid_gap": null,
            "grid_row": null,
            "grid_template_areas": null,
            "grid_template_columns": null,
            "grid_template_rows": null,
            "height": null,
            "justify_content": null,
            "justify_items": null,
            "left": null,
            "margin": null,
            "max_height": null,
            "max_width": null,
            "min_height": null,
            "min_width": null,
            "object_fit": null,
            "object_position": null,
            "order": null,
            "overflow": null,
            "overflow_x": null,
            "overflow_y": null,
            "padding": null,
            "right": null,
            "top": null,
            "visibility": null,
            "width": null
          }
        },
        "e541f8d32310410c80417b68321b3742": {
          "model_module": "@jupyter-widgets/base",
          "model_name": "LayoutModel",
          "model_module_version": "1.2.0",
          "state": {
            "_model_module": "@jupyter-widgets/base",
            "_model_module_version": "1.2.0",
            "_model_name": "LayoutModel",
            "_view_count": null,
            "_view_module": "@jupyter-widgets/base",
            "_view_module_version": "1.2.0",
            "_view_name": "LayoutView",
            "align_content": null,
            "align_items": null,
            "align_self": null,
            "border": null,
            "bottom": null,
            "display": null,
            "flex": null,
            "flex_flow": null,
            "grid_area": null,
            "grid_auto_columns": null,
            "grid_auto_flow": null,
            "grid_auto_rows": null,
            "grid_column": null,
            "grid_gap": null,
            "grid_row": null,
            "grid_template_areas": null,
            "grid_template_columns": null,
            "grid_template_rows": null,
            "height": null,
            "justify_content": null,
            "justify_items": null,
            "left": null,
            "margin": null,
            "max_height": null,
            "max_width": null,
            "min_height": null,
            "min_width": null,
            "object_fit": null,
            "object_position": null,
            "order": null,
            "overflow": null,
            "overflow_x": null,
            "overflow_y": null,
            "padding": null,
            "right": null,
            "top": null,
            "visibility": null,
            "width": null
          }
        },
        "afcb53d8547a40528dae1a2771ce40ea": {
          "model_module": "@jupyter-widgets/controls",
          "model_name": "DescriptionStyleModel",
          "model_module_version": "1.5.0",
          "state": {
            "_model_module": "@jupyter-widgets/controls",
            "_model_module_version": "1.5.0",
            "_model_name": "DescriptionStyleModel",
            "_view_count": null,
            "_view_module": "@jupyter-widgets/base",
            "_view_module_version": "1.2.0",
            "_view_name": "StyleView",
            "description_width": ""
          }
        },
        "7cf20c5880334993ad166e19a58dba56": {
          "model_module": "@jupyter-widgets/base",
          "model_name": "LayoutModel",
          "model_module_version": "1.2.0",
          "state": {
            "_model_module": "@jupyter-widgets/base",
            "_model_module_version": "1.2.0",
            "_model_name": "LayoutModel",
            "_view_count": null,
            "_view_module": "@jupyter-widgets/base",
            "_view_module_version": "1.2.0",
            "_view_name": "LayoutView",
            "align_content": null,
            "align_items": null,
            "align_self": null,
            "border": null,
            "bottom": null,
            "display": null,
            "flex": null,
            "flex_flow": null,
            "grid_area": null,
            "grid_auto_columns": null,
            "grid_auto_flow": null,
            "grid_auto_rows": null,
            "grid_column": null,
            "grid_gap": null,
            "grid_row": null,
            "grid_template_areas": null,
            "grid_template_columns": null,
            "grid_template_rows": null,
            "height": null,
            "justify_content": null,
            "justify_items": null,
            "left": null,
            "margin": null,
            "max_height": null,
            "max_width": null,
            "min_height": null,
            "min_width": null,
            "object_fit": null,
            "object_position": null,
            "order": null,
            "overflow": null,
            "overflow_x": null,
            "overflow_y": null,
            "padding": null,
            "right": null,
            "top": null,
            "visibility": null,
            "width": null
          }
        },
        "3c3099acada04d1fb35608de5d67bc2c": {
          "model_module": "@jupyter-widgets/controls",
          "model_name": "ProgressStyleModel",
          "model_module_version": "1.5.0",
          "state": {
            "_model_module": "@jupyter-widgets/controls",
            "_model_module_version": "1.5.0",
            "_model_name": "ProgressStyleModel",
            "_view_count": null,
            "_view_module": "@jupyter-widgets/base",
            "_view_module_version": "1.2.0",
            "_view_name": "StyleView",
            "bar_color": null,
            "description_width": ""
          }
        },
        "9e2fa45f6eb14c34897db729d870754c": {
          "model_module": "@jupyter-widgets/base",
          "model_name": "LayoutModel",
          "model_module_version": "1.2.0",
          "state": {
            "_model_module": "@jupyter-widgets/base",
            "_model_module_version": "1.2.0",
            "_model_name": "LayoutModel",
            "_view_count": null,
            "_view_module": "@jupyter-widgets/base",
            "_view_module_version": "1.2.0",
            "_view_name": "LayoutView",
            "align_content": null,
            "align_items": null,
            "align_self": null,
            "border": null,
            "bottom": null,
            "display": null,
            "flex": null,
            "flex_flow": null,
            "grid_area": null,
            "grid_auto_columns": null,
            "grid_auto_flow": null,
            "grid_auto_rows": null,
            "grid_column": null,
            "grid_gap": null,
            "grid_row": null,
            "grid_template_areas": null,
            "grid_template_columns": null,
            "grid_template_rows": null,
            "height": null,
            "justify_content": null,
            "justify_items": null,
            "left": null,
            "margin": null,
            "max_height": null,
            "max_width": null,
            "min_height": null,
            "min_width": null,
            "object_fit": null,
            "object_position": null,
            "order": null,
            "overflow": null,
            "overflow_x": null,
            "overflow_y": null,
            "padding": null,
            "right": null,
            "top": null,
            "visibility": null,
            "width": null
          }
        },
        "2bdfd9b3486c4891852c110cc920ef60": {
          "model_module": "@jupyter-widgets/controls",
          "model_name": "DescriptionStyleModel",
          "model_module_version": "1.5.0",
          "state": {
            "_model_module": "@jupyter-widgets/controls",
            "_model_module_version": "1.5.0",
            "_model_name": "DescriptionStyleModel",
            "_view_count": null,
            "_view_module": "@jupyter-widgets/base",
            "_view_module_version": "1.2.0",
            "_view_name": "StyleView",
            "description_width": ""
          }
        },
        "61921648e4ba4babb9af4fd8afc06a29": {
          "model_module": "@jupyter-widgets/controls",
          "model_name": "HBoxModel",
          "model_module_version": "1.5.0",
          "state": {
            "_dom_classes": [],
            "_model_module": "@jupyter-widgets/controls",
            "_model_module_version": "1.5.0",
            "_model_name": "HBoxModel",
            "_view_count": null,
            "_view_module": "@jupyter-widgets/controls",
            "_view_module_version": "1.5.0",
            "_view_name": "HBoxView",
            "box_style": "",
            "children": [
              "IPY_MODEL_4de44237b3b34efb8eedb0659014bee9",
              "IPY_MODEL_6d2d2bc643ed49f287db21bf53c2087a",
              "IPY_MODEL_07605d898f5944ac82c319c7ca37110e"
            ],
            "layout": "IPY_MODEL_bf5f486d02eb4014808fb332f2565feb"
          }
        },
        "4de44237b3b34efb8eedb0659014bee9": {
          "model_module": "@jupyter-widgets/controls",
          "model_name": "HTMLModel",
          "model_module_version": "1.5.0",
          "state": {
            "_dom_classes": [],
            "_model_module": "@jupyter-widgets/controls",
            "_model_module_version": "1.5.0",
            "_model_name": "HTMLModel",
            "_view_count": null,
            "_view_module": "@jupyter-widgets/controls",
            "_view_module_version": "1.5.0",
            "_view_name": "HTMLView",
            "description": "",
            "description_tooltip": null,
            "layout": "IPY_MODEL_6920b4a4599643c0a0c1d1aacc44fcd3",
            "placeholder": "​",
            "style": "IPY_MODEL_4681e12aecdb4460a2f5530516ceec82",
            "value": "Downloading config.json: 100%"
          }
        },
        "6d2d2bc643ed49f287db21bf53c2087a": {
          "model_module": "@jupyter-widgets/controls",
          "model_name": "FloatProgressModel",
          "model_module_version": "1.5.0",
          "state": {
            "_dom_classes": [],
            "_model_module": "@jupyter-widgets/controls",
            "_model_module_version": "1.5.0",
            "_model_name": "FloatProgressModel",
            "_view_count": null,
            "_view_module": "@jupyter-widgets/controls",
            "_view_module_version": "1.5.0",
            "_view_name": "ProgressView",
            "bar_style": "success",
            "description": "",
            "description_tooltip": null,
            "layout": "IPY_MODEL_2925f68712d1479f998cc105ba190b99",
            "max": 817,
            "min": 0,
            "orientation": "horizontal",
            "style": "IPY_MODEL_8cc8165eccda4eb4bcb74ffcd31c85f9",
            "value": 817
          }
        },
        "07605d898f5944ac82c319c7ca37110e": {
          "model_module": "@jupyter-widgets/controls",
          "model_name": "HTMLModel",
          "model_module_version": "1.5.0",
          "state": {
            "_dom_classes": [],
            "_model_module": "@jupyter-widgets/controls",
            "_model_module_version": "1.5.0",
            "_model_name": "HTMLModel",
            "_view_count": null,
            "_view_module": "@jupyter-widgets/controls",
            "_view_module_version": "1.5.0",
            "_view_name": "HTMLView",
            "description": "",
            "description_tooltip": null,
            "layout": "IPY_MODEL_56968bb276654cb588ca0b0a6546711f",
            "placeholder": "​",
            "style": "IPY_MODEL_747ac5cf2f194fde861240fb16e23f89",
            "value": " 817/817 [00:00&lt;00:00, 25.8kB/s]"
          }
        },
        "bf5f486d02eb4014808fb332f2565feb": {
          "model_module": "@jupyter-widgets/base",
          "model_name": "LayoutModel",
          "model_module_version": "1.2.0",
          "state": {
            "_model_module": "@jupyter-widgets/base",
            "_model_module_version": "1.2.0",
            "_model_name": "LayoutModel",
            "_view_count": null,
            "_view_module": "@jupyter-widgets/base",
            "_view_module_version": "1.2.0",
            "_view_name": "LayoutView",
            "align_content": null,
            "align_items": null,
            "align_self": null,
            "border": null,
            "bottom": null,
            "display": null,
            "flex": null,
            "flex_flow": null,
            "grid_area": null,
            "grid_auto_columns": null,
            "grid_auto_flow": null,
            "grid_auto_rows": null,
            "grid_column": null,
            "grid_gap": null,
            "grid_row": null,
            "grid_template_areas": null,
            "grid_template_columns": null,
            "grid_template_rows": null,
            "height": null,
            "justify_content": null,
            "justify_items": null,
            "left": null,
            "margin": null,
            "max_height": null,
            "max_width": null,
            "min_height": null,
            "min_width": null,
            "object_fit": null,
            "object_position": null,
            "order": null,
            "overflow": null,
            "overflow_x": null,
            "overflow_y": null,
            "padding": null,
            "right": null,
            "top": null,
            "visibility": null,
            "width": null
          }
        },
        "6920b4a4599643c0a0c1d1aacc44fcd3": {
          "model_module": "@jupyter-widgets/base",
          "model_name": "LayoutModel",
          "model_module_version": "1.2.0",
          "state": {
            "_model_module": "@jupyter-widgets/base",
            "_model_module_version": "1.2.0",
            "_model_name": "LayoutModel",
            "_view_count": null,
            "_view_module": "@jupyter-widgets/base",
            "_view_module_version": "1.2.0",
            "_view_name": "LayoutView",
            "align_content": null,
            "align_items": null,
            "align_self": null,
            "border": null,
            "bottom": null,
            "display": null,
            "flex": null,
            "flex_flow": null,
            "grid_area": null,
            "grid_auto_columns": null,
            "grid_auto_flow": null,
            "grid_auto_rows": null,
            "grid_column": null,
            "grid_gap": null,
            "grid_row": null,
            "grid_template_areas": null,
            "grid_template_columns": null,
            "grid_template_rows": null,
            "height": null,
            "justify_content": null,
            "justify_items": null,
            "left": null,
            "margin": null,
            "max_height": null,
            "max_width": null,
            "min_height": null,
            "min_width": null,
            "object_fit": null,
            "object_position": null,
            "order": null,
            "overflow": null,
            "overflow_x": null,
            "overflow_y": null,
            "padding": null,
            "right": null,
            "top": null,
            "visibility": null,
            "width": null
          }
        },
        "4681e12aecdb4460a2f5530516ceec82": {
          "model_module": "@jupyter-widgets/controls",
          "model_name": "DescriptionStyleModel",
          "model_module_version": "1.5.0",
          "state": {
            "_model_module": "@jupyter-widgets/controls",
            "_model_module_version": "1.5.0",
            "_model_name": "DescriptionStyleModel",
            "_view_count": null,
            "_view_module": "@jupyter-widgets/base",
            "_view_module_version": "1.2.0",
            "_view_name": "StyleView",
            "description_width": ""
          }
        },
        "2925f68712d1479f998cc105ba190b99": {
          "model_module": "@jupyter-widgets/base",
          "model_name": "LayoutModel",
          "model_module_version": "1.2.0",
          "state": {
            "_model_module": "@jupyter-widgets/base",
            "_model_module_version": "1.2.0",
            "_model_name": "LayoutModel",
            "_view_count": null,
            "_view_module": "@jupyter-widgets/base",
            "_view_module_version": "1.2.0",
            "_view_name": "LayoutView",
            "align_content": null,
            "align_items": null,
            "align_self": null,
            "border": null,
            "bottom": null,
            "display": null,
            "flex": null,
            "flex_flow": null,
            "grid_area": null,
            "grid_auto_columns": null,
            "grid_auto_flow": null,
            "grid_auto_rows": null,
            "grid_column": null,
            "grid_gap": null,
            "grid_row": null,
            "grid_template_areas": null,
            "grid_template_columns": null,
            "grid_template_rows": null,
            "height": null,
            "justify_content": null,
            "justify_items": null,
            "left": null,
            "margin": null,
            "max_height": null,
            "max_width": null,
            "min_height": null,
            "min_width": null,
            "object_fit": null,
            "object_position": null,
            "order": null,
            "overflow": null,
            "overflow_x": null,
            "overflow_y": null,
            "padding": null,
            "right": null,
            "top": null,
            "visibility": null,
            "width": null
          }
        },
        "8cc8165eccda4eb4bcb74ffcd31c85f9": {
          "model_module": "@jupyter-widgets/controls",
          "model_name": "ProgressStyleModel",
          "model_module_version": "1.5.0",
          "state": {
            "_model_module": "@jupyter-widgets/controls",
            "_model_module_version": "1.5.0",
            "_model_name": "ProgressStyleModel",
            "_view_count": null,
            "_view_module": "@jupyter-widgets/base",
            "_view_module_version": "1.2.0",
            "_view_name": "StyleView",
            "bar_color": null,
            "description_width": ""
          }
        },
        "56968bb276654cb588ca0b0a6546711f": {
          "model_module": "@jupyter-widgets/base",
          "model_name": "LayoutModel",
          "model_module_version": "1.2.0",
          "state": {
            "_model_module": "@jupyter-widgets/base",
            "_model_module_version": "1.2.0",
            "_model_name": "LayoutModel",
            "_view_count": null,
            "_view_module": "@jupyter-widgets/base",
            "_view_module_version": "1.2.0",
            "_view_name": "LayoutView",
            "align_content": null,
            "align_items": null,
            "align_self": null,
            "border": null,
            "bottom": null,
            "display": null,
            "flex": null,
            "flex_flow": null,
            "grid_area": null,
            "grid_auto_columns": null,
            "grid_auto_flow": null,
            "grid_auto_rows": null,
            "grid_column": null,
            "grid_gap": null,
            "grid_row": null,
            "grid_template_areas": null,
            "grid_template_columns": null,
            "grid_template_rows": null,
            "height": null,
            "justify_content": null,
            "justify_items": null,
            "left": null,
            "margin": null,
            "max_height": null,
            "max_width": null,
            "min_height": null,
            "min_width": null,
            "object_fit": null,
            "object_position": null,
            "order": null,
            "overflow": null,
            "overflow_x": null,
            "overflow_y": null,
            "padding": null,
            "right": null,
            "top": null,
            "visibility": null,
            "width": null
          }
        },
        "747ac5cf2f194fde861240fb16e23f89": {
          "model_module": "@jupyter-widgets/controls",
          "model_name": "DescriptionStyleModel",
          "model_module_version": "1.5.0",
          "state": {
            "_model_module": "@jupyter-widgets/controls",
            "_model_module_version": "1.5.0",
            "_model_name": "DescriptionStyleModel",
            "_view_count": null,
            "_view_module": "@jupyter-widgets/base",
            "_view_module_version": "1.2.0",
            "_view_name": "StyleView",
            "description_width": ""
          }
        },
        "90a19ed25024499b92aa592b26b0a9db": {
          "model_module": "@jupyter-widgets/controls",
          "model_name": "HBoxModel",
          "model_module_version": "1.5.0",
          "state": {
            "_dom_classes": [],
            "_model_module": "@jupyter-widgets/controls",
            "_model_module_version": "1.5.0",
            "_model_name": "HBoxModel",
            "_view_count": null,
            "_view_module": "@jupyter-widgets/controls",
            "_view_module_version": "1.5.0",
            "_view_name": "HBoxView",
            "box_style": "",
            "children": [
              "IPY_MODEL_ac1c4955acba4afaa7cbc85496c19229",
              "IPY_MODEL_03d815bd608d4284b7279c4e255aa56a",
              "IPY_MODEL_ef4d52f708754a03ade7a2c0f3206eae"
            ],
            "layout": "IPY_MODEL_b0fd7099c53d4f9caa59556615f250be"
          }
        },
        "ac1c4955acba4afaa7cbc85496c19229": {
          "model_module": "@jupyter-widgets/controls",
          "model_name": "HTMLModel",
          "model_module_version": "1.5.0",
          "state": {
            "_dom_classes": [],
            "_model_module": "@jupyter-widgets/controls",
            "_model_module_version": "1.5.0",
            "_model_name": "HTMLModel",
            "_view_count": null,
            "_view_module": "@jupyter-widgets/controls",
            "_view_module_version": "1.5.0",
            "_view_name": "HTMLView",
            "description": "",
            "description_tooltip": null,
            "layout": "IPY_MODEL_d0ded477d5164b8682ee5b0cfa4f25a2",
            "placeholder": "​",
            "style": "IPY_MODEL_3a6b34cd6b734064a169e2b6a39adcba",
            "value": "Downloading vocab.json: 100%"
          }
        },
        "03d815bd608d4284b7279c4e255aa56a": {
          "model_module": "@jupyter-widgets/controls",
          "model_name": "FloatProgressModel",
          "model_module_version": "1.5.0",
          "state": {
            "_dom_classes": [],
            "_model_module": "@jupyter-widgets/controls",
            "_model_module_version": "1.5.0",
            "_model_name": "FloatProgressModel",
            "_view_count": null,
            "_view_module": "@jupyter-widgets/controls",
            "_view_module_version": "1.5.0",
            "_view_name": "ProgressView",
            "bar_style": "success",
            "description": "",
            "description_tooltip": null,
            "layout": "IPY_MODEL_cccd7c18084046d49aa67c37e9b2b14e",
            "max": 849679,
            "min": 0,
            "orientation": "horizontal",
            "style": "IPY_MODEL_154ae37341d24a6ab4dc01ad2df1dd40",
            "value": 849679
          }
        },
        "ef4d52f708754a03ade7a2c0f3206eae": {
          "model_module": "@jupyter-widgets/controls",
          "model_name": "HTMLModel",
          "model_module_version": "1.5.0",
          "state": {
            "_dom_classes": [],
            "_model_module": "@jupyter-widgets/controls",
            "_model_module_version": "1.5.0",
            "_model_name": "HTMLModel",
            "_view_count": null,
            "_view_module": "@jupyter-widgets/controls",
            "_view_module_version": "1.5.0",
            "_view_name": "HTMLView",
            "description": "",
            "description_tooltip": null,
            "layout": "IPY_MODEL_904b84fe155248788bec6d92d6717a16",
            "placeholder": "​",
            "style": "IPY_MODEL_af306fdd96d5411e894bd6607611a82e",
            "value": " 830k/830k [00:00&lt;00:00, 12.5MB/s]"
          }
        },
        "b0fd7099c53d4f9caa59556615f250be": {
          "model_module": "@jupyter-widgets/base",
          "model_name": "LayoutModel",
          "model_module_version": "1.2.0",
          "state": {
            "_model_module": "@jupyter-widgets/base",
            "_model_module_version": "1.2.0",
            "_model_name": "LayoutModel",
            "_view_count": null,
            "_view_module": "@jupyter-widgets/base",
            "_view_module_version": "1.2.0",
            "_view_name": "LayoutView",
            "align_content": null,
            "align_items": null,
            "align_self": null,
            "border": null,
            "bottom": null,
            "display": null,
            "flex": null,
            "flex_flow": null,
            "grid_area": null,
            "grid_auto_columns": null,
            "grid_auto_flow": null,
            "grid_auto_rows": null,
            "grid_column": null,
            "grid_gap": null,
            "grid_row": null,
            "grid_template_areas": null,
            "grid_template_columns": null,
            "grid_template_rows": null,
            "height": null,
            "justify_content": null,
            "justify_items": null,
            "left": null,
            "margin": null,
            "max_height": null,
            "max_width": null,
            "min_height": null,
            "min_width": null,
            "object_fit": null,
            "object_position": null,
            "order": null,
            "overflow": null,
            "overflow_x": null,
            "overflow_y": null,
            "padding": null,
            "right": null,
            "top": null,
            "visibility": null,
            "width": null
          }
        },
        "d0ded477d5164b8682ee5b0cfa4f25a2": {
          "model_module": "@jupyter-widgets/base",
          "model_name": "LayoutModel",
          "model_module_version": "1.2.0",
          "state": {
            "_model_module": "@jupyter-widgets/base",
            "_model_module_version": "1.2.0",
            "_model_name": "LayoutModel",
            "_view_count": null,
            "_view_module": "@jupyter-widgets/base",
            "_view_module_version": "1.2.0",
            "_view_name": "LayoutView",
            "align_content": null,
            "align_items": null,
            "align_self": null,
            "border": null,
            "bottom": null,
            "display": null,
            "flex": null,
            "flex_flow": null,
            "grid_area": null,
            "grid_auto_columns": null,
            "grid_auto_flow": null,
            "grid_auto_rows": null,
            "grid_column": null,
            "grid_gap": null,
            "grid_row": null,
            "grid_template_areas": null,
            "grid_template_columns": null,
            "grid_template_rows": null,
            "height": null,
            "justify_content": null,
            "justify_items": null,
            "left": null,
            "margin": null,
            "max_height": null,
            "max_width": null,
            "min_height": null,
            "min_width": null,
            "object_fit": null,
            "object_position": null,
            "order": null,
            "overflow": null,
            "overflow_x": null,
            "overflow_y": null,
            "padding": null,
            "right": null,
            "top": null,
            "visibility": null,
            "width": null
          }
        },
        "3a6b34cd6b734064a169e2b6a39adcba": {
          "model_module": "@jupyter-widgets/controls",
          "model_name": "DescriptionStyleModel",
          "model_module_version": "1.5.0",
          "state": {
            "_model_module": "@jupyter-widgets/controls",
            "_model_module_version": "1.5.0",
            "_model_name": "DescriptionStyleModel",
            "_view_count": null,
            "_view_module": "@jupyter-widgets/base",
            "_view_module_version": "1.2.0",
            "_view_name": "StyleView",
            "description_width": ""
          }
        },
        "cccd7c18084046d49aa67c37e9b2b14e": {
          "model_module": "@jupyter-widgets/base",
          "model_name": "LayoutModel",
          "model_module_version": "1.2.0",
          "state": {
            "_model_module": "@jupyter-widgets/base",
            "_model_module_version": "1.2.0",
            "_model_name": "LayoutModel",
            "_view_count": null,
            "_view_module": "@jupyter-widgets/base",
            "_view_module_version": "1.2.0",
            "_view_name": "LayoutView",
            "align_content": null,
            "align_items": null,
            "align_self": null,
            "border": null,
            "bottom": null,
            "display": null,
            "flex": null,
            "flex_flow": null,
            "grid_area": null,
            "grid_auto_columns": null,
            "grid_auto_flow": null,
            "grid_auto_rows": null,
            "grid_column": null,
            "grid_gap": null,
            "grid_row": null,
            "grid_template_areas": null,
            "grid_template_columns": null,
            "grid_template_rows": null,
            "height": null,
            "justify_content": null,
            "justify_items": null,
            "left": null,
            "margin": null,
            "max_height": null,
            "max_width": null,
            "min_height": null,
            "min_width": null,
            "object_fit": null,
            "object_position": null,
            "order": null,
            "overflow": null,
            "overflow_x": null,
            "overflow_y": null,
            "padding": null,
            "right": null,
            "top": null,
            "visibility": null,
            "width": null
          }
        },
        "154ae37341d24a6ab4dc01ad2df1dd40": {
          "model_module": "@jupyter-widgets/controls",
          "model_name": "ProgressStyleModel",
          "model_module_version": "1.5.0",
          "state": {
            "_model_module": "@jupyter-widgets/controls",
            "_model_module_version": "1.5.0",
            "_model_name": "ProgressStyleModel",
            "_view_count": null,
            "_view_module": "@jupyter-widgets/base",
            "_view_module_version": "1.2.0",
            "_view_name": "StyleView",
            "bar_color": null,
            "description_width": ""
          }
        },
        "904b84fe155248788bec6d92d6717a16": {
          "model_module": "@jupyter-widgets/base",
          "model_name": "LayoutModel",
          "model_module_version": "1.2.0",
          "state": {
            "_model_module": "@jupyter-widgets/base",
            "_model_module_version": "1.2.0",
            "_model_name": "LayoutModel",
            "_view_count": null,
            "_view_module": "@jupyter-widgets/base",
            "_view_module_version": "1.2.0",
            "_view_name": "LayoutView",
            "align_content": null,
            "align_items": null,
            "align_self": null,
            "border": null,
            "bottom": null,
            "display": null,
            "flex": null,
            "flex_flow": null,
            "grid_area": null,
            "grid_auto_columns": null,
            "grid_auto_flow": null,
            "grid_auto_rows": null,
            "grid_column": null,
            "grid_gap": null,
            "grid_row": null,
            "grid_template_areas": null,
            "grid_template_columns": null,
            "grid_template_rows": null,
            "height": null,
            "justify_content": null,
            "justify_items": null,
            "left": null,
            "margin": null,
            "max_height": null,
            "max_width": null,
            "min_height": null,
            "min_width": null,
            "object_fit": null,
            "object_position": null,
            "order": null,
            "overflow": null,
            "overflow_x": null,
            "overflow_y": null,
            "padding": null,
            "right": null,
            "top": null,
            "visibility": null,
            "width": null
          }
        },
        "af306fdd96d5411e894bd6607611a82e": {
          "model_module": "@jupyter-widgets/controls",
          "model_name": "DescriptionStyleModel",
          "model_module_version": "1.5.0",
          "state": {
            "_model_module": "@jupyter-widgets/controls",
            "_model_module_version": "1.5.0",
            "_model_name": "DescriptionStyleModel",
            "_view_count": null,
            "_view_module": "@jupyter-widgets/base",
            "_view_module_version": "1.2.0",
            "_view_name": "StyleView",
            "description_width": ""
          }
        },
        "7e26ff8af249428c8cd64d336619599d": {
          "model_module": "@jupyter-widgets/controls",
          "model_name": "HBoxModel",
          "model_module_version": "1.5.0",
          "state": {
            "_dom_classes": [],
            "_model_module": "@jupyter-widgets/controls",
            "_model_module_version": "1.5.0",
            "_model_name": "HBoxModel",
            "_view_count": null,
            "_view_module": "@jupyter-widgets/controls",
            "_view_module_version": "1.5.0",
            "_view_name": "HBoxView",
            "box_style": "",
            "children": [
              "IPY_MODEL_7a16260922564b61bcd921ea9643717c",
              "IPY_MODEL_5da8de7e42d14cb99909e164773e0155",
              "IPY_MODEL_917aff4fde744a62be35757d64c0318e"
            ],
            "layout": "IPY_MODEL_988355ec25474db49b15a3d66e1a46ea"
          }
        },
        "7a16260922564b61bcd921ea9643717c": {
          "model_module": "@jupyter-widgets/controls",
          "model_name": "HTMLModel",
          "model_module_version": "1.5.0",
          "state": {
            "_dom_classes": [],
            "_model_module": "@jupyter-widgets/controls",
            "_model_module_version": "1.5.0",
            "_model_name": "HTMLModel",
            "_view_count": null,
            "_view_module": "@jupyter-widgets/controls",
            "_view_module_version": "1.5.0",
            "_view_name": "HTMLView",
            "description": "",
            "description_tooltip": null,
            "layout": "IPY_MODEL_61ca94d02ab94788a74636a76780e20f",
            "placeholder": "​",
            "style": "IPY_MODEL_72729ce2678b49c5b2e1b6d78c528118",
            "value": "Downloading merges.txt: 100%"
          }
        },
        "5da8de7e42d14cb99909e164773e0155": {
          "model_module": "@jupyter-widgets/controls",
          "model_name": "FloatProgressModel",
          "model_module_version": "1.5.0",
          "state": {
            "_dom_classes": [],
            "_model_module": "@jupyter-widgets/controls",
            "_model_module_version": "1.5.0",
            "_model_name": "FloatProgressModel",
            "_view_count": null,
            "_view_module": "@jupyter-widgets/controls",
            "_view_module_version": "1.5.0",
            "_view_name": "ProgressView",
            "bar_style": "success",
            "description": "",
            "description_tooltip": null,
            "layout": "IPY_MODEL_8ff4ad47a5af49fa9da105484abc35a1",
            "max": 507987,
            "min": 0,
            "orientation": "horizontal",
            "style": "IPY_MODEL_4383241c7a06428b98bc62d6ce012e26",
            "value": 507987
          }
        },
        "917aff4fde744a62be35757d64c0318e": {
          "model_module": "@jupyter-widgets/controls",
          "model_name": "HTMLModel",
          "model_module_version": "1.5.0",
          "state": {
            "_dom_classes": [],
            "_model_module": "@jupyter-widgets/controls",
            "_model_module_version": "1.5.0",
            "_model_name": "HTMLModel",
            "_view_count": null,
            "_view_module": "@jupyter-widgets/controls",
            "_view_module_version": "1.5.0",
            "_view_name": "HTMLView",
            "description": "",
            "description_tooltip": null,
            "layout": "IPY_MODEL_f5f8e9a31ee945e986562fd1776c590f",
            "placeholder": "​",
            "style": "IPY_MODEL_9bf008cad4194f98b75204c2dc3f4ca0",
            "value": " 496k/496k [00:00&lt;00:00, 9.20MB/s]"
          }
        },
        "988355ec25474db49b15a3d66e1a46ea": {
          "model_module": "@jupyter-widgets/base",
          "model_name": "LayoutModel",
          "model_module_version": "1.2.0",
          "state": {
            "_model_module": "@jupyter-widgets/base",
            "_model_module_version": "1.2.0",
            "_model_name": "LayoutModel",
            "_view_count": null,
            "_view_module": "@jupyter-widgets/base",
            "_view_module_version": "1.2.0",
            "_view_name": "LayoutView",
            "align_content": null,
            "align_items": null,
            "align_self": null,
            "border": null,
            "bottom": null,
            "display": null,
            "flex": null,
            "flex_flow": null,
            "grid_area": null,
            "grid_auto_columns": null,
            "grid_auto_flow": null,
            "grid_auto_rows": null,
            "grid_column": null,
            "grid_gap": null,
            "grid_row": null,
            "grid_template_areas": null,
            "grid_template_columns": null,
            "grid_template_rows": null,
            "height": null,
            "justify_content": null,
            "justify_items": null,
            "left": null,
            "margin": null,
            "max_height": null,
            "max_width": null,
            "min_height": null,
            "min_width": null,
            "object_fit": null,
            "object_position": null,
            "order": null,
            "overflow": null,
            "overflow_x": null,
            "overflow_y": null,
            "padding": null,
            "right": null,
            "top": null,
            "visibility": null,
            "width": null
          }
        },
        "61ca94d02ab94788a74636a76780e20f": {
          "model_module": "@jupyter-widgets/base",
          "model_name": "LayoutModel",
          "model_module_version": "1.2.0",
          "state": {
            "_model_module": "@jupyter-widgets/base",
            "_model_module_version": "1.2.0",
            "_model_name": "LayoutModel",
            "_view_count": null,
            "_view_module": "@jupyter-widgets/base",
            "_view_module_version": "1.2.0",
            "_view_name": "LayoutView",
            "align_content": null,
            "align_items": null,
            "align_self": null,
            "border": null,
            "bottom": null,
            "display": null,
            "flex": null,
            "flex_flow": null,
            "grid_area": null,
            "grid_auto_columns": null,
            "grid_auto_flow": null,
            "grid_auto_rows": null,
            "grid_column": null,
            "grid_gap": null,
            "grid_row": null,
            "grid_template_areas": null,
            "grid_template_columns": null,
            "grid_template_rows": null,
            "height": null,
            "justify_content": null,
            "justify_items": null,
            "left": null,
            "margin": null,
            "max_height": null,
            "max_width": null,
            "min_height": null,
            "min_width": null,
            "object_fit": null,
            "object_position": null,
            "order": null,
            "overflow": null,
            "overflow_x": null,
            "overflow_y": null,
            "padding": null,
            "right": null,
            "top": null,
            "visibility": null,
            "width": null
          }
        },
        "72729ce2678b49c5b2e1b6d78c528118": {
          "model_module": "@jupyter-widgets/controls",
          "model_name": "DescriptionStyleModel",
          "model_module_version": "1.5.0",
          "state": {
            "_model_module": "@jupyter-widgets/controls",
            "_model_module_version": "1.5.0",
            "_model_name": "DescriptionStyleModel",
            "_view_count": null,
            "_view_module": "@jupyter-widgets/base",
            "_view_module_version": "1.2.0",
            "_view_name": "StyleView",
            "description_width": ""
          }
        },
        "8ff4ad47a5af49fa9da105484abc35a1": {
          "model_module": "@jupyter-widgets/base",
          "model_name": "LayoutModel",
          "model_module_version": "1.2.0",
          "state": {
            "_model_module": "@jupyter-widgets/base",
            "_model_module_version": "1.2.0",
            "_model_name": "LayoutModel",
            "_view_count": null,
            "_view_module": "@jupyter-widgets/base",
            "_view_module_version": "1.2.0",
            "_view_name": "LayoutView",
            "align_content": null,
            "align_items": null,
            "align_self": null,
            "border": null,
            "bottom": null,
            "display": null,
            "flex": null,
            "flex_flow": null,
            "grid_area": null,
            "grid_auto_columns": null,
            "grid_auto_flow": null,
            "grid_auto_rows": null,
            "grid_column": null,
            "grid_gap": null,
            "grid_row": null,
            "grid_template_areas": null,
            "grid_template_columns": null,
            "grid_template_rows": null,
            "height": null,
            "justify_content": null,
            "justify_items": null,
            "left": null,
            "margin": null,
            "max_height": null,
            "max_width": null,
            "min_height": null,
            "min_width": null,
            "object_fit": null,
            "object_position": null,
            "order": null,
            "overflow": null,
            "overflow_x": null,
            "overflow_y": null,
            "padding": null,
            "right": null,
            "top": null,
            "visibility": null,
            "width": null
          }
        },
        "4383241c7a06428b98bc62d6ce012e26": {
          "model_module": "@jupyter-widgets/controls",
          "model_name": "ProgressStyleModel",
          "model_module_version": "1.5.0",
          "state": {
            "_model_module": "@jupyter-widgets/controls",
            "_model_module_version": "1.5.0",
            "_model_name": "ProgressStyleModel",
            "_view_count": null,
            "_view_module": "@jupyter-widgets/base",
            "_view_module_version": "1.2.0",
            "_view_name": "StyleView",
            "bar_color": null,
            "description_width": ""
          }
        },
        "f5f8e9a31ee945e986562fd1776c590f": {
          "model_module": "@jupyter-widgets/base",
          "model_name": "LayoutModel",
          "model_module_version": "1.2.0",
          "state": {
            "_model_module": "@jupyter-widgets/base",
            "_model_module_version": "1.2.0",
            "_model_name": "LayoutModel",
            "_view_count": null,
            "_view_module": "@jupyter-widgets/base",
            "_view_module_version": "1.2.0",
            "_view_name": "LayoutView",
            "align_content": null,
            "align_items": null,
            "align_self": null,
            "border": null,
            "bottom": null,
            "display": null,
            "flex": null,
            "flex_flow": null,
            "grid_area": null,
            "grid_auto_columns": null,
            "grid_auto_flow": null,
            "grid_auto_rows": null,
            "grid_column": null,
            "grid_gap": null,
            "grid_row": null,
            "grid_template_areas": null,
            "grid_template_columns": null,
            "grid_template_rows": null,
            "height": null,
            "justify_content": null,
            "justify_items": null,
            "left": null,
            "margin": null,
            "max_height": null,
            "max_width": null,
            "min_height": null,
            "min_width": null,
            "object_fit": null,
            "object_position": null,
            "order": null,
            "overflow": null,
            "overflow_x": null,
            "overflow_y": null,
            "padding": null,
            "right": null,
            "top": null,
            "visibility": null,
            "width": null
          }
        },
        "9bf008cad4194f98b75204c2dc3f4ca0": {
          "model_module": "@jupyter-widgets/controls",
          "model_name": "DescriptionStyleModel",
          "model_module_version": "1.5.0",
          "state": {
            "_model_module": "@jupyter-widgets/controls",
            "_model_module_version": "1.5.0",
            "_model_name": "DescriptionStyleModel",
            "_view_count": null,
            "_view_module": "@jupyter-widgets/base",
            "_view_module_version": "1.2.0",
            "_view_name": "StyleView",
            "description_width": ""
          }
        },
        "66085e73c84a4ab3a7e71662d9b6bea9": {
          "model_module": "@jupyter-widgets/controls",
          "model_name": "HBoxModel",
          "model_module_version": "1.5.0",
          "state": {
            "_dom_classes": [],
            "_model_module": "@jupyter-widgets/controls",
            "_model_module_version": "1.5.0",
            "_model_name": "HBoxModel",
            "_view_count": null,
            "_view_module": "@jupyter-widgets/controls",
            "_view_module_version": "1.5.0",
            "_view_name": "HBoxView",
            "box_style": "",
            "children": [
              "IPY_MODEL_73c071a8413b49aba3ae75085030cb01",
              "IPY_MODEL_3a4b4ca61a884257b561176477e877c4",
              "IPY_MODEL_c22c1b3f41834ea68d6d5d7711d739f5"
            ],
            "layout": "IPY_MODEL_d76fcf619d074363a1361fb20f55f375"
          }
        },
        "73c071a8413b49aba3ae75085030cb01": {
          "model_module": "@jupyter-widgets/controls",
          "model_name": "HTMLModel",
          "model_module_version": "1.5.0",
          "state": {
            "_dom_classes": [],
            "_model_module": "@jupyter-widgets/controls",
            "_model_module_version": "1.5.0",
            "_model_name": "HTMLModel",
            "_view_count": null,
            "_view_module": "@jupyter-widgets/controls",
            "_view_module_version": "1.5.0",
            "_view_name": "HTMLView",
            "description": "",
            "description_tooltip": null,
            "layout": "IPY_MODEL_49e9a0c4e59f4fff974933e5ba99bccb",
            "placeholder": "​",
            "style": "IPY_MODEL_0f0bf14b148d412fb2153d2d41bf6e74",
            "value": "Downloading special_tokens_map.json: 100%"
          }
        },
        "3a4b4ca61a884257b561176477e877c4": {
          "model_module": "@jupyter-widgets/controls",
          "model_name": "FloatProgressModel",
          "model_module_version": "1.5.0",
          "state": {
            "_dom_classes": [],
            "_model_module": "@jupyter-widgets/controls",
            "_model_module_version": "1.5.0",
            "_model_name": "FloatProgressModel",
            "_view_count": null,
            "_view_module": "@jupyter-widgets/controls",
            "_view_module_version": "1.5.0",
            "_view_name": "ProgressView",
            "bar_style": "success",
            "description": "",
            "description_tooltip": null,
            "layout": "IPY_MODEL_fd83ec7de8e446fd93b3e2fe82d5026d",
            "max": 387,
            "min": 0,
            "orientation": "horizontal",
            "style": "IPY_MODEL_7f5b1f32ed8b4691abf99b4be48c8ee7",
            "value": 387
          }
        },
        "c22c1b3f41834ea68d6d5d7711d739f5": {
          "model_module": "@jupyter-widgets/controls",
          "model_name": "HTMLModel",
          "model_module_version": "1.5.0",
          "state": {
            "_dom_classes": [],
            "_model_module": "@jupyter-widgets/controls",
            "_model_module_version": "1.5.0",
            "_model_name": "HTMLModel",
            "_view_count": null,
            "_view_module": "@jupyter-widgets/controls",
            "_view_module_version": "1.5.0",
            "_view_name": "HTMLView",
            "description": "",
            "description_tooltip": null,
            "layout": "IPY_MODEL_80c9a83684414cedae4046a49918427f",
            "placeholder": "​",
            "style": "IPY_MODEL_e94c166c346b49668f3d7bd399b39d7e",
            "value": " 387/387 [00:00&lt;00:00, 12.7kB/s]"
          }
        },
        "d76fcf619d074363a1361fb20f55f375": {
          "model_module": "@jupyter-widgets/base",
          "model_name": "LayoutModel",
          "model_module_version": "1.2.0",
          "state": {
            "_model_module": "@jupyter-widgets/base",
            "_model_module_version": "1.2.0",
            "_model_name": "LayoutModel",
            "_view_count": null,
            "_view_module": "@jupyter-widgets/base",
            "_view_module_version": "1.2.0",
            "_view_name": "LayoutView",
            "align_content": null,
            "align_items": null,
            "align_self": null,
            "border": null,
            "bottom": null,
            "display": null,
            "flex": null,
            "flex_flow": null,
            "grid_area": null,
            "grid_auto_columns": null,
            "grid_auto_flow": null,
            "grid_auto_rows": null,
            "grid_column": null,
            "grid_gap": null,
            "grid_row": null,
            "grid_template_areas": null,
            "grid_template_columns": null,
            "grid_template_rows": null,
            "height": null,
            "justify_content": null,
            "justify_items": null,
            "left": null,
            "margin": null,
            "max_height": null,
            "max_width": null,
            "min_height": null,
            "min_width": null,
            "object_fit": null,
            "object_position": null,
            "order": null,
            "overflow": null,
            "overflow_x": null,
            "overflow_y": null,
            "padding": null,
            "right": null,
            "top": null,
            "visibility": null,
            "width": null
          }
        },
        "49e9a0c4e59f4fff974933e5ba99bccb": {
          "model_module": "@jupyter-widgets/base",
          "model_name": "LayoutModel",
          "model_module_version": "1.2.0",
          "state": {
            "_model_module": "@jupyter-widgets/base",
            "_model_module_version": "1.2.0",
            "_model_name": "LayoutModel",
            "_view_count": null,
            "_view_module": "@jupyter-widgets/base",
            "_view_module_version": "1.2.0",
            "_view_name": "LayoutView",
            "align_content": null,
            "align_items": null,
            "align_self": null,
            "border": null,
            "bottom": null,
            "display": null,
            "flex": null,
            "flex_flow": null,
            "grid_area": null,
            "grid_auto_columns": null,
            "grid_auto_flow": null,
            "grid_auto_rows": null,
            "grid_column": null,
            "grid_gap": null,
            "grid_row": null,
            "grid_template_areas": null,
            "grid_template_columns": null,
            "grid_template_rows": null,
            "height": null,
            "justify_content": null,
            "justify_items": null,
            "left": null,
            "margin": null,
            "max_height": null,
            "max_width": null,
            "min_height": null,
            "min_width": null,
            "object_fit": null,
            "object_position": null,
            "order": null,
            "overflow": null,
            "overflow_x": null,
            "overflow_y": null,
            "padding": null,
            "right": null,
            "top": null,
            "visibility": null,
            "width": null
          }
        },
        "0f0bf14b148d412fb2153d2d41bf6e74": {
          "model_module": "@jupyter-widgets/controls",
          "model_name": "DescriptionStyleModel",
          "model_module_version": "1.5.0",
          "state": {
            "_model_module": "@jupyter-widgets/controls",
            "_model_module_version": "1.5.0",
            "_model_name": "DescriptionStyleModel",
            "_view_count": null,
            "_view_module": "@jupyter-widgets/base",
            "_view_module_version": "1.2.0",
            "_view_name": "StyleView",
            "description_width": ""
          }
        },
        "fd83ec7de8e446fd93b3e2fe82d5026d": {
          "model_module": "@jupyter-widgets/base",
          "model_name": "LayoutModel",
          "model_module_version": "1.2.0",
          "state": {
            "_model_module": "@jupyter-widgets/base",
            "_model_module_version": "1.2.0",
            "_model_name": "LayoutModel",
            "_view_count": null,
            "_view_module": "@jupyter-widgets/base",
            "_view_module_version": "1.2.0",
            "_view_name": "LayoutView",
            "align_content": null,
            "align_items": null,
            "align_self": null,
            "border": null,
            "bottom": null,
            "display": null,
            "flex": null,
            "flex_flow": null,
            "grid_area": null,
            "grid_auto_columns": null,
            "grid_auto_flow": null,
            "grid_auto_rows": null,
            "grid_column": null,
            "grid_gap": null,
            "grid_row": null,
            "grid_template_areas": null,
            "grid_template_columns": null,
            "grid_template_rows": null,
            "height": null,
            "justify_content": null,
            "justify_items": null,
            "left": null,
            "margin": null,
            "max_height": null,
            "max_width": null,
            "min_height": null,
            "min_width": null,
            "object_fit": null,
            "object_position": null,
            "order": null,
            "overflow": null,
            "overflow_x": null,
            "overflow_y": null,
            "padding": null,
            "right": null,
            "top": null,
            "visibility": null,
            "width": null
          }
        },
        "7f5b1f32ed8b4691abf99b4be48c8ee7": {
          "model_module": "@jupyter-widgets/controls",
          "model_name": "ProgressStyleModel",
          "model_module_version": "1.5.0",
          "state": {
            "_model_module": "@jupyter-widgets/controls",
            "_model_module_version": "1.5.0",
            "_model_name": "ProgressStyleModel",
            "_view_count": null,
            "_view_module": "@jupyter-widgets/base",
            "_view_module_version": "1.2.0",
            "_view_name": "StyleView",
            "bar_color": null,
            "description_width": ""
          }
        },
        "80c9a83684414cedae4046a49918427f": {
          "model_module": "@jupyter-widgets/base",
          "model_name": "LayoutModel",
          "model_module_version": "1.2.0",
          "state": {
            "_model_module": "@jupyter-widgets/base",
            "_model_module_version": "1.2.0",
            "_model_name": "LayoutModel",
            "_view_count": null,
            "_view_module": "@jupyter-widgets/base",
            "_view_module_version": "1.2.0",
            "_view_name": "LayoutView",
            "align_content": null,
            "align_items": null,
            "align_self": null,
            "border": null,
            "bottom": null,
            "display": null,
            "flex": null,
            "flex_flow": null,
            "grid_area": null,
            "grid_auto_columns": null,
            "grid_auto_flow": null,
            "grid_auto_rows": null,
            "grid_column": null,
            "grid_gap": null,
            "grid_row": null,
            "grid_template_areas": null,
            "grid_template_columns": null,
            "grid_template_rows": null,
            "height": null,
            "justify_content": null,
            "justify_items": null,
            "left": null,
            "margin": null,
            "max_height": null,
            "max_width": null,
            "min_height": null,
            "min_width": null,
            "object_fit": null,
            "object_position": null,
            "order": null,
            "overflow": null,
            "overflow_x": null,
            "overflow_y": null,
            "padding": null,
            "right": null,
            "top": null,
            "visibility": null,
            "width": null
          }
        },
        "e94c166c346b49668f3d7bd399b39d7e": {
          "model_module": "@jupyter-widgets/controls",
          "model_name": "DescriptionStyleModel",
          "model_module_version": "1.5.0",
          "state": {
            "_model_module": "@jupyter-widgets/controls",
            "_model_module_version": "1.5.0",
            "_model_name": "DescriptionStyleModel",
            "_view_count": null,
            "_view_module": "@jupyter-widgets/base",
            "_view_module_version": "1.2.0",
            "_view_name": "StyleView",
            "description_width": ""
          }
        },
        "f44e67394bd6475c8f62de16be7a7005": {
          "model_module": "@jupyter-widgets/controls",
          "model_name": "HBoxModel",
          "model_module_version": "1.5.0",
          "state": {
            "_dom_classes": [],
            "_model_module": "@jupyter-widgets/controls",
            "_model_module_version": "1.5.0",
            "_model_name": "HBoxModel",
            "_view_count": null,
            "_view_module": "@jupyter-widgets/controls",
            "_view_module_version": "1.5.0",
            "_view_name": "HBoxView",
            "box_style": "",
            "children": [
              "IPY_MODEL_1bc455068bac444bb4042a98e99fc3c0",
              "IPY_MODEL_786d88c4a0844563971ea03fb8156dfa",
              "IPY_MODEL_3e9ddbb965cf4016ab7184ab1345119f"
            ],
            "layout": "IPY_MODEL_ec9e98ed05fb4f97bdd729beb917bbee"
          }
        },
        "1bc455068bac444bb4042a98e99fc3c0": {
          "model_module": "@jupyter-widgets/controls",
          "model_name": "HTMLModel",
          "model_module_version": "1.5.0",
          "state": {
            "_dom_classes": [],
            "_model_module": "@jupyter-widgets/controls",
            "_model_module_version": "1.5.0",
            "_model_name": "HTMLModel",
            "_view_count": null,
            "_view_module": "@jupyter-widgets/controls",
            "_view_module_version": "1.5.0",
            "_view_name": "HTMLView",
            "description": "",
            "description_tooltip": null,
            "layout": "IPY_MODEL_74fc8ac27ace4e55b008b1a7b7014483",
            "placeholder": "​",
            "style": "IPY_MODEL_b9f379dc1b6845939ff1bf3f53659913",
            "value": "Downloading pytorch_model.bin: 100%"
          }
        },
        "786d88c4a0844563971ea03fb8156dfa": {
          "model_module": "@jupyter-widgets/controls",
          "model_name": "FloatProgressModel",
          "model_module_version": "1.5.0",
          "state": {
            "_dom_classes": [],
            "_model_module": "@jupyter-widgets/controls",
            "_model_module_version": "1.5.0",
            "_model_name": "FloatProgressModel",
            "_view_count": null,
            "_view_module": "@jupyter-widgets/controls",
            "_view_module_version": "1.5.0",
            "_view_name": "ProgressView",
            "bar_style": "success",
            "description": "",
            "description_tooltip": null,
            "layout": "IPY_MODEL_76aabfa24ac54a128c6a60f12b77f220",
            "max": 510408315,
            "min": 0,
            "orientation": "horizontal",
            "style": "IPY_MODEL_a63c3d48459b4f5398b27d1dbe5e8b7c",
            "value": 510408315
          }
        },
        "3e9ddbb965cf4016ab7184ab1345119f": {
          "model_module": "@jupyter-widgets/controls",
          "model_name": "HTMLModel",
          "model_module_version": "1.5.0",
          "state": {
            "_dom_classes": [],
            "_model_module": "@jupyter-widgets/controls",
            "_model_module_version": "1.5.0",
            "_model_name": "HTMLModel",
            "_view_count": null,
            "_view_module": "@jupyter-widgets/controls",
            "_view_module_version": "1.5.0",
            "_view_name": "HTMLView",
            "description": "",
            "description_tooltip": null,
            "layout": "IPY_MODEL_ebaaeacebc6a4456ae9eaac0c01b4e84",
            "placeholder": "​",
            "style": "IPY_MODEL_712956af6fad449e84dfb27ddc6903c4",
            "value": " 487M/487M [00:09&lt;00:00, 59.9MB/s]"
          }
        },
        "ec9e98ed05fb4f97bdd729beb917bbee": {
          "model_module": "@jupyter-widgets/base",
          "model_name": "LayoutModel",
          "model_module_version": "1.2.0",
          "state": {
            "_model_module": "@jupyter-widgets/base",
            "_model_module_version": "1.2.0",
            "_model_name": "LayoutModel",
            "_view_count": null,
            "_view_module": "@jupyter-widgets/base",
            "_view_module_version": "1.2.0",
            "_view_name": "LayoutView",
            "align_content": null,
            "align_items": null,
            "align_self": null,
            "border": null,
            "bottom": null,
            "display": null,
            "flex": null,
            "flex_flow": null,
            "grid_area": null,
            "grid_auto_columns": null,
            "grid_auto_flow": null,
            "grid_auto_rows": null,
            "grid_column": null,
            "grid_gap": null,
            "grid_row": null,
            "grid_template_areas": null,
            "grid_template_columns": null,
            "grid_template_rows": null,
            "height": null,
            "justify_content": null,
            "justify_items": null,
            "left": null,
            "margin": null,
            "max_height": null,
            "max_width": null,
            "min_height": null,
            "min_width": null,
            "object_fit": null,
            "object_position": null,
            "order": null,
            "overflow": null,
            "overflow_x": null,
            "overflow_y": null,
            "padding": null,
            "right": null,
            "top": null,
            "visibility": null,
            "width": null
          }
        },
        "74fc8ac27ace4e55b008b1a7b7014483": {
          "model_module": "@jupyter-widgets/base",
          "model_name": "LayoutModel",
          "model_module_version": "1.2.0",
          "state": {
            "_model_module": "@jupyter-widgets/base",
            "_model_module_version": "1.2.0",
            "_model_name": "LayoutModel",
            "_view_count": null,
            "_view_module": "@jupyter-widgets/base",
            "_view_module_version": "1.2.0",
            "_view_name": "LayoutView",
            "align_content": null,
            "align_items": null,
            "align_self": null,
            "border": null,
            "bottom": null,
            "display": null,
            "flex": null,
            "flex_flow": null,
            "grid_area": null,
            "grid_auto_columns": null,
            "grid_auto_flow": null,
            "grid_auto_rows": null,
            "grid_column": null,
            "grid_gap": null,
            "grid_row": null,
            "grid_template_areas": null,
            "grid_template_columns": null,
            "grid_template_rows": null,
            "height": null,
            "justify_content": null,
            "justify_items": null,
            "left": null,
            "margin": null,
            "max_height": null,
            "max_width": null,
            "min_height": null,
            "min_width": null,
            "object_fit": null,
            "object_position": null,
            "order": null,
            "overflow": null,
            "overflow_x": null,
            "overflow_y": null,
            "padding": null,
            "right": null,
            "top": null,
            "visibility": null,
            "width": null
          }
        },
        "b9f379dc1b6845939ff1bf3f53659913": {
          "model_module": "@jupyter-widgets/controls",
          "model_name": "DescriptionStyleModel",
          "model_module_version": "1.5.0",
          "state": {
            "_model_module": "@jupyter-widgets/controls",
            "_model_module_version": "1.5.0",
            "_model_name": "DescriptionStyleModel",
            "_view_count": null,
            "_view_module": "@jupyter-widgets/base",
            "_view_module_version": "1.2.0",
            "_view_name": "StyleView",
            "description_width": ""
          }
        },
        "76aabfa24ac54a128c6a60f12b77f220": {
          "model_module": "@jupyter-widgets/base",
          "model_name": "LayoutModel",
          "model_module_version": "1.2.0",
          "state": {
            "_model_module": "@jupyter-widgets/base",
            "_model_module_version": "1.2.0",
            "_model_name": "LayoutModel",
            "_view_count": null,
            "_view_module": "@jupyter-widgets/base",
            "_view_module_version": "1.2.0",
            "_view_name": "LayoutView",
            "align_content": null,
            "align_items": null,
            "align_self": null,
            "border": null,
            "bottom": null,
            "display": null,
            "flex": null,
            "flex_flow": null,
            "grid_area": null,
            "grid_auto_columns": null,
            "grid_auto_flow": null,
            "grid_auto_rows": null,
            "grid_column": null,
            "grid_gap": null,
            "grid_row": null,
            "grid_template_areas": null,
            "grid_template_columns": null,
            "grid_template_rows": null,
            "height": null,
            "justify_content": null,
            "justify_items": null,
            "left": null,
            "margin": null,
            "max_height": null,
            "max_width": null,
            "min_height": null,
            "min_width": null,
            "object_fit": null,
            "object_position": null,
            "order": null,
            "overflow": null,
            "overflow_x": null,
            "overflow_y": null,
            "padding": null,
            "right": null,
            "top": null,
            "visibility": null,
            "width": null
          }
        },
        "a63c3d48459b4f5398b27d1dbe5e8b7c": {
          "model_module": "@jupyter-widgets/controls",
          "model_name": "ProgressStyleModel",
          "model_module_version": "1.5.0",
          "state": {
            "_model_module": "@jupyter-widgets/controls",
            "_model_module_version": "1.5.0",
            "_model_name": "ProgressStyleModel",
            "_view_count": null,
            "_view_module": "@jupyter-widgets/base",
            "_view_module_version": "1.2.0",
            "_view_name": "StyleView",
            "bar_color": null,
            "description_width": ""
          }
        },
        "ebaaeacebc6a4456ae9eaac0c01b4e84": {
          "model_module": "@jupyter-widgets/base",
          "model_name": "LayoutModel",
          "model_module_version": "1.2.0",
          "state": {
            "_model_module": "@jupyter-widgets/base",
            "_model_module_version": "1.2.0",
            "_model_name": "LayoutModel",
            "_view_count": null,
            "_view_module": "@jupyter-widgets/base",
            "_view_module_version": "1.2.0",
            "_view_name": "LayoutView",
            "align_content": null,
            "align_items": null,
            "align_self": null,
            "border": null,
            "bottom": null,
            "display": null,
            "flex": null,
            "flex_flow": null,
            "grid_area": null,
            "grid_auto_columns": null,
            "grid_auto_flow": null,
            "grid_auto_rows": null,
            "grid_column": null,
            "grid_gap": null,
            "grid_row": null,
            "grid_template_areas": null,
            "grid_template_columns": null,
            "grid_template_rows": null,
            "height": null,
            "justify_content": null,
            "justify_items": null,
            "left": null,
            "margin": null,
            "max_height": null,
            "max_width": null,
            "min_height": null,
            "min_width": null,
            "object_fit": null,
            "object_position": null,
            "order": null,
            "overflow": null,
            "overflow_x": null,
            "overflow_y": null,
            "padding": null,
            "right": null,
            "top": null,
            "visibility": null,
            "width": null
          }
        },
        "712956af6fad449e84dfb27ddc6903c4": {
          "model_module": "@jupyter-widgets/controls",
          "model_name": "DescriptionStyleModel",
          "model_module_version": "1.5.0",
          "state": {
            "_model_module": "@jupyter-widgets/controls",
            "_model_module_version": "1.5.0",
            "_model_name": "DescriptionStyleModel",
            "_view_count": null,
            "_view_module": "@jupyter-widgets/base",
            "_view_module_version": "1.2.0",
            "_view_name": "StyleView",
            "description_width": ""
          }
        },
        "2b46e1cdae6d4ea0a9d65cdf38da279a": {
          "model_module": "@jupyter-widgets/controls",
          "model_name": "HBoxModel",
          "model_module_version": "1.5.0",
          "state": {
            "_dom_classes": [],
            "_model_module": "@jupyter-widgets/controls",
            "_model_module_version": "1.5.0",
            "_model_name": "HBoxModel",
            "_view_count": null,
            "_view_module": "@jupyter-widgets/controls",
            "_view_module_version": "1.5.0",
            "_view_name": "HBoxView",
            "box_style": "",
            "children": [
              "IPY_MODEL_e732f31a28f54c3f9b7bd89cf022497e",
              "IPY_MODEL_187d231302134f92a3e697d82cf85d9e",
              "IPY_MODEL_31ac8aee3cb0471c97276e9d859c7a0f"
            ],
            "layout": "IPY_MODEL_51cf347c7fec421bbbd6ab1c1a0dfa70"
          }
        },
        "e732f31a28f54c3f9b7bd89cf022497e": {
          "model_module": "@jupyter-widgets/controls",
          "model_name": "HTMLModel",
          "model_module_version": "1.5.0",
          "state": {
            "_dom_classes": [],
            "_model_module": "@jupyter-widgets/controls",
            "_model_module_version": "1.5.0",
            "_model_name": "HTMLModel",
            "_view_count": null,
            "_view_module": "@jupyter-widgets/controls",
            "_view_module_version": "1.5.0",
            "_view_name": "HTMLView",
            "description": "",
            "description_tooltip": null,
            "layout": "IPY_MODEL_3fcc472b7b614eac998d3388c18e7fba",
            "placeholder": "​",
            "style": "IPY_MODEL_951a83f2ec9c4f9781dfe422ef960744",
            "value": "Downloading vocab.json: 100%"
          }
        },
        "187d231302134f92a3e697d82cf85d9e": {
          "model_module": "@jupyter-widgets/controls",
          "model_name": "FloatProgressModel",
          "model_module_version": "1.5.0",
          "state": {
            "_dom_classes": [],
            "_model_module": "@jupyter-widgets/controls",
            "_model_module_version": "1.5.0",
            "_model_name": "FloatProgressModel",
            "_view_count": null,
            "_view_module": "@jupyter-widgets/controls",
            "_view_module_version": "1.5.0",
            "_view_name": "ProgressView",
            "bar_style": "success",
            "description": "",
            "description_tooltip": null,
            "layout": "IPY_MODEL_95bda0e5ec6248e7a47553cb86b37c52",
            "max": 1042301,
            "min": 0,
            "orientation": "horizontal",
            "style": "IPY_MODEL_a9f639c87c3f448995606f55eb6995ca",
            "value": 1042301
          }
        },
        "31ac8aee3cb0471c97276e9d859c7a0f": {
          "model_module": "@jupyter-widgets/controls",
          "model_name": "HTMLModel",
          "model_module_version": "1.5.0",
          "state": {
            "_dom_classes": [],
            "_model_module": "@jupyter-widgets/controls",
            "_model_module_version": "1.5.0",
            "_model_name": "HTMLModel",
            "_view_count": null,
            "_view_module": "@jupyter-widgets/controls",
            "_view_module_version": "1.5.0",
            "_view_name": "HTMLView",
            "description": "",
            "description_tooltip": null,
            "layout": "IPY_MODEL_8f6fe75df3234527ab785f80b69e9009",
            "placeholder": "​",
            "style": "IPY_MODEL_29e61a8d21794ea5821e5fb4d6d2575d",
            "value": " 0.99M/0.99M [00:00&lt;00:00, 2.15MB/s]"
          }
        },
        "51cf347c7fec421bbbd6ab1c1a0dfa70": {
          "model_module": "@jupyter-widgets/base",
          "model_name": "LayoutModel",
          "model_module_version": "1.2.0",
          "state": {
            "_model_module": "@jupyter-widgets/base",
            "_model_module_version": "1.2.0",
            "_model_name": "LayoutModel",
            "_view_count": null,
            "_view_module": "@jupyter-widgets/base",
            "_view_module_version": "1.2.0",
            "_view_name": "LayoutView",
            "align_content": null,
            "align_items": null,
            "align_self": null,
            "border": null,
            "bottom": null,
            "display": null,
            "flex": null,
            "flex_flow": null,
            "grid_area": null,
            "grid_auto_columns": null,
            "grid_auto_flow": null,
            "grid_auto_rows": null,
            "grid_column": null,
            "grid_gap": null,
            "grid_row": null,
            "grid_template_areas": null,
            "grid_template_columns": null,
            "grid_template_rows": null,
            "height": null,
            "justify_content": null,
            "justify_items": null,
            "left": null,
            "margin": null,
            "max_height": null,
            "max_width": null,
            "min_height": null,
            "min_width": null,
            "object_fit": null,
            "object_position": null,
            "order": null,
            "overflow": null,
            "overflow_x": null,
            "overflow_y": null,
            "padding": null,
            "right": null,
            "top": null,
            "visibility": null,
            "width": null
          }
        },
        "3fcc472b7b614eac998d3388c18e7fba": {
          "model_module": "@jupyter-widgets/base",
          "model_name": "LayoutModel",
          "model_module_version": "1.2.0",
          "state": {
            "_model_module": "@jupyter-widgets/base",
            "_model_module_version": "1.2.0",
            "_model_name": "LayoutModel",
            "_view_count": null,
            "_view_module": "@jupyter-widgets/base",
            "_view_module_version": "1.2.0",
            "_view_name": "LayoutView",
            "align_content": null,
            "align_items": null,
            "align_self": null,
            "border": null,
            "bottom": null,
            "display": null,
            "flex": null,
            "flex_flow": null,
            "grid_area": null,
            "grid_auto_columns": null,
            "grid_auto_flow": null,
            "grid_auto_rows": null,
            "grid_column": null,
            "grid_gap": null,
            "grid_row": null,
            "grid_template_areas": null,
            "grid_template_columns": null,
            "grid_template_rows": null,
            "height": null,
            "justify_content": null,
            "justify_items": null,
            "left": null,
            "margin": null,
            "max_height": null,
            "max_width": null,
            "min_height": null,
            "min_width": null,
            "object_fit": null,
            "object_position": null,
            "order": null,
            "overflow": null,
            "overflow_x": null,
            "overflow_y": null,
            "padding": null,
            "right": null,
            "top": null,
            "visibility": null,
            "width": null
          }
        },
        "951a83f2ec9c4f9781dfe422ef960744": {
          "model_module": "@jupyter-widgets/controls",
          "model_name": "DescriptionStyleModel",
          "model_module_version": "1.5.0",
          "state": {
            "_model_module": "@jupyter-widgets/controls",
            "_model_module_version": "1.5.0",
            "_model_name": "DescriptionStyleModel",
            "_view_count": null,
            "_view_module": "@jupyter-widgets/base",
            "_view_module_version": "1.2.0",
            "_view_name": "StyleView",
            "description_width": ""
          }
        },
        "95bda0e5ec6248e7a47553cb86b37c52": {
          "model_module": "@jupyter-widgets/base",
          "model_name": "LayoutModel",
          "model_module_version": "1.2.0",
          "state": {
            "_model_module": "@jupyter-widgets/base",
            "_model_module_version": "1.2.0",
            "_model_name": "LayoutModel",
            "_view_count": null,
            "_view_module": "@jupyter-widgets/base",
            "_view_module_version": "1.2.0",
            "_view_name": "LayoutView",
            "align_content": null,
            "align_items": null,
            "align_self": null,
            "border": null,
            "bottom": null,
            "display": null,
            "flex": null,
            "flex_flow": null,
            "grid_area": null,
            "grid_auto_columns": null,
            "grid_auto_flow": null,
            "grid_auto_rows": null,
            "grid_column": null,
            "grid_gap": null,
            "grid_row": null,
            "grid_template_areas": null,
            "grid_template_columns": null,
            "grid_template_rows": null,
            "height": null,
            "justify_content": null,
            "justify_items": null,
            "left": null,
            "margin": null,
            "max_height": null,
            "max_width": null,
            "min_height": null,
            "min_width": null,
            "object_fit": null,
            "object_position": null,
            "order": null,
            "overflow": null,
            "overflow_x": null,
            "overflow_y": null,
            "padding": null,
            "right": null,
            "top": null,
            "visibility": null,
            "width": null
          }
        },
        "a9f639c87c3f448995606f55eb6995ca": {
          "model_module": "@jupyter-widgets/controls",
          "model_name": "ProgressStyleModel",
          "model_module_version": "1.5.0",
          "state": {
            "_model_module": "@jupyter-widgets/controls",
            "_model_module_version": "1.5.0",
            "_model_name": "ProgressStyleModel",
            "_view_count": null,
            "_view_module": "@jupyter-widgets/base",
            "_view_module_version": "1.2.0",
            "_view_name": "StyleView",
            "bar_color": null,
            "description_width": ""
          }
        },
        "8f6fe75df3234527ab785f80b69e9009": {
          "model_module": "@jupyter-widgets/base",
          "model_name": "LayoutModel",
          "model_module_version": "1.2.0",
          "state": {
            "_model_module": "@jupyter-widgets/base",
            "_model_module_version": "1.2.0",
            "_model_name": "LayoutModel",
            "_view_count": null,
            "_view_module": "@jupyter-widgets/base",
            "_view_module_version": "1.2.0",
            "_view_name": "LayoutView",
            "align_content": null,
            "align_items": null,
            "align_self": null,
            "border": null,
            "bottom": null,
            "display": null,
            "flex": null,
            "flex_flow": null,
            "grid_area": null,
            "grid_auto_columns": null,
            "grid_auto_flow": null,
            "grid_auto_rows": null,
            "grid_column": null,
            "grid_gap": null,
            "grid_row": null,
            "grid_template_areas": null,
            "grid_template_columns": null,
            "grid_template_rows": null,
            "height": null,
            "justify_content": null,
            "justify_items": null,
            "left": null,
            "margin": null,
            "max_height": null,
            "max_width": null,
            "min_height": null,
            "min_width": null,
            "object_fit": null,
            "object_position": null,
            "order": null,
            "overflow": null,
            "overflow_x": null,
            "overflow_y": null,
            "padding": null,
            "right": null,
            "top": null,
            "visibility": null,
            "width": null
          }
        },
        "29e61a8d21794ea5821e5fb4d6d2575d": {
          "model_module": "@jupyter-widgets/controls",
          "model_name": "DescriptionStyleModel",
          "model_module_version": "1.5.0",
          "state": {
            "_model_module": "@jupyter-widgets/controls",
            "_model_module_version": "1.5.0",
            "_model_name": "DescriptionStyleModel",
            "_view_count": null,
            "_view_module": "@jupyter-widgets/base",
            "_view_module_version": "1.2.0",
            "_view_name": "StyleView",
            "description_width": ""
          }
        },
        "c8eca86a057b434e8a47305298ccf579": {
          "model_module": "@jupyter-widgets/controls",
          "model_name": "HBoxModel",
          "model_module_version": "1.5.0",
          "state": {
            "_dom_classes": [],
            "_model_module": "@jupyter-widgets/controls",
            "_model_module_version": "1.5.0",
            "_model_name": "HBoxModel",
            "_view_count": null,
            "_view_module": "@jupyter-widgets/controls",
            "_view_module_version": "1.5.0",
            "_view_name": "HBoxView",
            "box_style": "",
            "children": [
              "IPY_MODEL_5f8b1f3b1ab044179ef0f0fe8c5050e4",
              "IPY_MODEL_c2614d2339ad451983548599d8312d4a",
              "IPY_MODEL_bd0a7cc41b084c52aaba399d13fd0e95"
            ],
            "layout": "IPY_MODEL_259b4336b37e4b9a94dbb51c508d8693"
          }
        },
        "5f8b1f3b1ab044179ef0f0fe8c5050e4": {
          "model_module": "@jupyter-widgets/controls",
          "model_name": "HTMLModel",
          "model_module_version": "1.5.0",
          "state": {
            "_dom_classes": [],
            "_model_module": "@jupyter-widgets/controls",
            "_model_module_version": "1.5.0",
            "_model_name": "HTMLModel",
            "_view_count": null,
            "_view_module": "@jupyter-widgets/controls",
            "_view_module_version": "1.5.0",
            "_view_name": "HTMLView",
            "description": "",
            "description_tooltip": null,
            "layout": "IPY_MODEL_16254a8066204aed8751e8e7c2b0cdee",
            "placeholder": "​",
            "style": "IPY_MODEL_f0ffe73c019c4417a14cfcbe26df6eb1",
            "value": "Downloading merges.txt: 100%"
          }
        },
        "c2614d2339ad451983548599d8312d4a": {
          "model_module": "@jupyter-widgets/controls",
          "model_name": "FloatProgressModel",
          "model_module_version": "1.5.0",
          "state": {
            "_dom_classes": [],
            "_model_module": "@jupyter-widgets/controls",
            "_model_module_version": "1.5.0",
            "_model_name": "FloatProgressModel",
            "_view_count": null,
            "_view_module": "@jupyter-widgets/controls",
            "_view_module_version": "1.5.0",
            "_view_name": "ProgressView",
            "bar_style": "success",
            "description": "",
            "description_tooltip": null,
            "layout": "IPY_MODEL_de807d7503344698926b23ad448f0fb6",
            "max": 456318,
            "min": 0,
            "orientation": "horizontal",
            "style": "IPY_MODEL_f535e927fb214f389bdfbe7ee009e935",
            "value": 456318
          }
        },
        "bd0a7cc41b084c52aaba399d13fd0e95": {
          "model_module": "@jupyter-widgets/controls",
          "model_name": "HTMLModel",
          "model_module_version": "1.5.0",
          "state": {
            "_dom_classes": [],
            "_model_module": "@jupyter-widgets/controls",
            "_model_module_version": "1.5.0",
            "_model_name": "HTMLModel",
            "_view_count": null,
            "_view_module": "@jupyter-widgets/controls",
            "_view_module_version": "1.5.0",
            "_view_name": "HTMLView",
            "description": "",
            "description_tooltip": null,
            "layout": "IPY_MODEL_2ff86463fb144664ba63507b15739b7b",
            "placeholder": "​",
            "style": "IPY_MODEL_bc54784307904940840d728d5b50a95e",
            "value": " 446k/446k [00:00&lt;00:00, 8.50kB/s]"
          }
        },
        "259b4336b37e4b9a94dbb51c508d8693": {
          "model_module": "@jupyter-widgets/base",
          "model_name": "LayoutModel",
          "model_module_version": "1.2.0",
          "state": {
            "_model_module": "@jupyter-widgets/base",
            "_model_module_version": "1.2.0",
            "_model_name": "LayoutModel",
            "_view_count": null,
            "_view_module": "@jupyter-widgets/base",
            "_view_module_version": "1.2.0",
            "_view_name": "LayoutView",
            "align_content": null,
            "align_items": null,
            "align_self": null,
            "border": null,
            "bottom": null,
            "display": null,
            "flex": null,
            "flex_flow": null,
            "grid_area": null,
            "grid_auto_columns": null,
            "grid_auto_flow": null,
            "grid_auto_rows": null,
            "grid_column": null,
            "grid_gap": null,
            "grid_row": null,
            "grid_template_areas": null,
            "grid_template_columns": null,
            "grid_template_rows": null,
            "height": null,
            "justify_content": null,
            "justify_items": null,
            "left": null,
            "margin": null,
            "max_height": null,
            "max_width": null,
            "min_height": null,
            "min_width": null,
            "object_fit": null,
            "object_position": null,
            "order": null,
            "overflow": null,
            "overflow_x": null,
            "overflow_y": null,
            "padding": null,
            "right": null,
            "top": null,
            "visibility": null,
            "width": null
          }
        },
        "16254a8066204aed8751e8e7c2b0cdee": {
          "model_module": "@jupyter-widgets/base",
          "model_name": "LayoutModel",
          "model_module_version": "1.2.0",
          "state": {
            "_model_module": "@jupyter-widgets/base",
            "_model_module_version": "1.2.0",
            "_model_name": "LayoutModel",
            "_view_count": null,
            "_view_module": "@jupyter-widgets/base",
            "_view_module_version": "1.2.0",
            "_view_name": "LayoutView",
            "align_content": null,
            "align_items": null,
            "align_self": null,
            "border": null,
            "bottom": null,
            "display": null,
            "flex": null,
            "flex_flow": null,
            "grid_area": null,
            "grid_auto_columns": null,
            "grid_auto_flow": null,
            "grid_auto_rows": null,
            "grid_column": null,
            "grid_gap": null,
            "grid_row": null,
            "grid_template_areas": null,
            "grid_template_columns": null,
            "grid_template_rows": null,
            "height": null,
            "justify_content": null,
            "justify_items": null,
            "left": null,
            "margin": null,
            "max_height": null,
            "max_width": null,
            "min_height": null,
            "min_width": null,
            "object_fit": null,
            "object_position": null,
            "order": null,
            "overflow": null,
            "overflow_x": null,
            "overflow_y": null,
            "padding": null,
            "right": null,
            "top": null,
            "visibility": null,
            "width": null
          }
        },
        "f0ffe73c019c4417a14cfcbe26df6eb1": {
          "model_module": "@jupyter-widgets/controls",
          "model_name": "DescriptionStyleModel",
          "model_module_version": "1.5.0",
          "state": {
            "_model_module": "@jupyter-widgets/controls",
            "_model_module_version": "1.5.0",
            "_model_name": "DescriptionStyleModel",
            "_view_count": null,
            "_view_module": "@jupyter-widgets/base",
            "_view_module_version": "1.2.0",
            "_view_name": "StyleView",
            "description_width": ""
          }
        },
        "de807d7503344698926b23ad448f0fb6": {
          "model_module": "@jupyter-widgets/base",
          "model_name": "LayoutModel",
          "model_module_version": "1.2.0",
          "state": {
            "_model_module": "@jupyter-widgets/base",
            "_model_module_version": "1.2.0",
            "_model_name": "LayoutModel",
            "_view_count": null,
            "_view_module": "@jupyter-widgets/base",
            "_view_module_version": "1.2.0",
            "_view_name": "LayoutView",
            "align_content": null,
            "align_items": null,
            "align_self": null,
            "border": null,
            "bottom": null,
            "display": null,
            "flex": null,
            "flex_flow": null,
            "grid_area": null,
            "grid_auto_columns": null,
            "grid_auto_flow": null,
            "grid_auto_rows": null,
            "grid_column": null,
            "grid_gap": null,
            "grid_row": null,
            "grid_template_areas": null,
            "grid_template_columns": null,
            "grid_template_rows": null,
            "height": null,
            "justify_content": null,
            "justify_items": null,
            "left": null,
            "margin": null,
            "max_height": null,
            "max_width": null,
            "min_height": null,
            "min_width": null,
            "object_fit": null,
            "object_position": null,
            "order": null,
            "overflow": null,
            "overflow_x": null,
            "overflow_y": null,
            "padding": null,
            "right": null,
            "top": null,
            "visibility": null,
            "width": null
          }
        },
        "f535e927fb214f389bdfbe7ee009e935": {
          "model_module": "@jupyter-widgets/controls",
          "model_name": "ProgressStyleModel",
          "model_module_version": "1.5.0",
          "state": {
            "_model_module": "@jupyter-widgets/controls",
            "_model_module_version": "1.5.0",
            "_model_name": "ProgressStyleModel",
            "_view_count": null,
            "_view_module": "@jupyter-widgets/base",
            "_view_module_version": "1.2.0",
            "_view_name": "StyleView",
            "bar_color": null,
            "description_width": ""
          }
        },
        "2ff86463fb144664ba63507b15739b7b": {
          "model_module": "@jupyter-widgets/base",
          "model_name": "LayoutModel",
          "model_module_version": "1.2.0",
          "state": {
            "_model_module": "@jupyter-widgets/base",
            "_model_module_version": "1.2.0",
            "_model_name": "LayoutModel",
            "_view_count": null,
            "_view_module": "@jupyter-widgets/base",
            "_view_module_version": "1.2.0",
            "_view_name": "LayoutView",
            "align_content": null,
            "align_items": null,
            "align_self": null,
            "border": null,
            "bottom": null,
            "display": null,
            "flex": null,
            "flex_flow": null,
            "grid_area": null,
            "grid_auto_columns": null,
            "grid_auto_flow": null,
            "grid_auto_rows": null,
            "grid_column": null,
            "grid_gap": null,
            "grid_row": null,
            "grid_template_areas": null,
            "grid_template_columns": null,
            "grid_template_rows": null,
            "height": null,
            "justify_content": null,
            "justify_items": null,
            "left": null,
            "margin": null,
            "max_height": null,
            "max_width": null,
            "min_height": null,
            "min_width": null,
            "object_fit": null,
            "object_position": null,
            "order": null,
            "overflow": null,
            "overflow_x": null,
            "overflow_y": null,
            "padding": null,
            "right": null,
            "top": null,
            "visibility": null,
            "width": null
          }
        },
        "bc54784307904940840d728d5b50a95e": {
          "model_module": "@jupyter-widgets/controls",
          "model_name": "DescriptionStyleModel",
          "model_module_version": "1.5.0",
          "state": {
            "_model_module": "@jupyter-widgets/controls",
            "_model_module_version": "1.5.0",
            "_model_name": "DescriptionStyleModel",
            "_view_count": null,
            "_view_module": "@jupyter-widgets/base",
            "_view_module_version": "1.2.0",
            "_view_name": "StyleView",
            "description_width": ""
          }
        },
        "49bfc45c4e52459b8be61ac8404bbbc1": {
          "model_module": "@jupyter-widgets/controls",
          "model_name": "HBoxModel",
          "model_module_version": "1.5.0",
          "state": {
            "_dom_classes": [],
            "_model_module": "@jupyter-widgets/controls",
            "_model_module_version": "1.5.0",
            "_model_name": "HBoxModel",
            "_view_count": null,
            "_view_module": "@jupyter-widgets/controls",
            "_view_module_version": "1.5.0",
            "_view_name": "HBoxView",
            "box_style": "",
            "children": [
              "IPY_MODEL_c10f3376c9744be6bc7a9df4d69c6c60",
              "IPY_MODEL_4ccca14d0c824dd6a9349c4869014891",
              "IPY_MODEL_f7e466c56e994ad9aee054751c54ae3f"
            ],
            "layout": "IPY_MODEL_cf6f1abcbe12417c80e211f91deb09b0"
          }
        },
        "c10f3376c9744be6bc7a9df4d69c6c60": {
          "model_module": "@jupyter-widgets/controls",
          "model_name": "HTMLModel",
          "model_module_version": "1.5.0",
          "state": {
            "_dom_classes": [],
            "_model_module": "@jupyter-widgets/controls",
            "_model_module_version": "1.5.0",
            "_model_name": "HTMLModel",
            "_view_count": null,
            "_view_module": "@jupyter-widgets/controls",
            "_view_module_version": "1.5.0",
            "_view_name": "HTMLView",
            "description": "",
            "description_tooltip": null,
            "layout": "IPY_MODEL_da921ea74b60488e968d069e53da4f23",
            "placeholder": "​",
            "style": "IPY_MODEL_a33fa992359a4809bab0d4eab7e2e85a",
            "value": "Downloading tokenizer.json: 100%"
          }
        },
        "4ccca14d0c824dd6a9349c4869014891": {
          "model_module": "@jupyter-widgets/controls",
          "model_name": "FloatProgressModel",
          "model_module_version": "1.5.0",
          "state": {
            "_dom_classes": [],
            "_model_module": "@jupyter-widgets/controls",
            "_model_module_version": "1.5.0",
            "_model_name": "FloatProgressModel",
            "_view_count": null,
            "_view_module": "@jupyter-widgets/controls",
            "_view_module_version": "1.5.0",
            "_view_name": "ProgressView",
            "bar_style": "success",
            "description": "",
            "description_tooltip": null,
            "layout": "IPY_MODEL_e1b3e1dc919a4b70ad560b6338292ac9",
            "max": 1355256,
            "min": 0,
            "orientation": "horizontal",
            "style": "IPY_MODEL_36db2f7ec3ae4feb961b20e95440c72e",
            "value": 1355256
          }
        },
        "f7e466c56e994ad9aee054751c54ae3f": {
          "model_module": "@jupyter-widgets/controls",
          "model_name": "HTMLModel",
          "model_module_version": "1.5.0",
          "state": {
            "_dom_classes": [],
            "_model_module": "@jupyter-widgets/controls",
            "_model_module_version": "1.5.0",
            "_model_name": "HTMLModel",
            "_view_count": null,
            "_view_module": "@jupyter-widgets/controls",
            "_view_module_version": "1.5.0",
            "_view_name": "HTMLView",
            "description": "",
            "description_tooltip": null,
            "layout": "IPY_MODEL_2154888cdd5b451bb32198656c76dd9d",
            "placeholder": "​",
            "style": "IPY_MODEL_5dd7f8e571f442c38b14c424415b7cc0",
            "value": " 1.29M/1.29M [00:00&lt;00:00, 5.93MB/s]"
          }
        },
        "cf6f1abcbe12417c80e211f91deb09b0": {
          "model_module": "@jupyter-widgets/base",
          "model_name": "LayoutModel",
          "model_module_version": "1.2.0",
          "state": {
            "_model_module": "@jupyter-widgets/base",
            "_model_module_version": "1.2.0",
            "_model_name": "LayoutModel",
            "_view_count": null,
            "_view_module": "@jupyter-widgets/base",
            "_view_module_version": "1.2.0",
            "_view_name": "LayoutView",
            "align_content": null,
            "align_items": null,
            "align_self": null,
            "border": null,
            "bottom": null,
            "display": null,
            "flex": null,
            "flex_flow": null,
            "grid_area": null,
            "grid_auto_columns": null,
            "grid_auto_flow": null,
            "grid_auto_rows": null,
            "grid_column": null,
            "grid_gap": null,
            "grid_row": null,
            "grid_template_areas": null,
            "grid_template_columns": null,
            "grid_template_rows": null,
            "height": null,
            "justify_content": null,
            "justify_items": null,
            "left": null,
            "margin": null,
            "max_height": null,
            "max_width": null,
            "min_height": null,
            "min_width": null,
            "object_fit": null,
            "object_position": null,
            "order": null,
            "overflow": null,
            "overflow_x": null,
            "overflow_y": null,
            "padding": null,
            "right": null,
            "top": null,
            "visibility": null,
            "width": null
          }
        },
        "da921ea74b60488e968d069e53da4f23": {
          "model_module": "@jupyter-widgets/base",
          "model_name": "LayoutModel",
          "model_module_version": "1.2.0",
          "state": {
            "_model_module": "@jupyter-widgets/base",
            "_model_module_version": "1.2.0",
            "_model_name": "LayoutModel",
            "_view_count": null,
            "_view_module": "@jupyter-widgets/base",
            "_view_module_version": "1.2.0",
            "_view_name": "LayoutView",
            "align_content": null,
            "align_items": null,
            "align_self": null,
            "border": null,
            "bottom": null,
            "display": null,
            "flex": null,
            "flex_flow": null,
            "grid_area": null,
            "grid_auto_columns": null,
            "grid_auto_flow": null,
            "grid_auto_rows": null,
            "grid_column": null,
            "grid_gap": null,
            "grid_row": null,
            "grid_template_areas": null,
            "grid_template_columns": null,
            "grid_template_rows": null,
            "height": null,
            "justify_content": null,
            "justify_items": null,
            "left": null,
            "margin": null,
            "max_height": null,
            "max_width": null,
            "min_height": null,
            "min_width": null,
            "object_fit": null,
            "object_position": null,
            "order": null,
            "overflow": null,
            "overflow_x": null,
            "overflow_y": null,
            "padding": null,
            "right": null,
            "top": null,
            "visibility": null,
            "width": null
          }
        },
        "a33fa992359a4809bab0d4eab7e2e85a": {
          "model_module": "@jupyter-widgets/controls",
          "model_name": "DescriptionStyleModel",
          "model_module_version": "1.5.0",
          "state": {
            "_model_module": "@jupyter-widgets/controls",
            "_model_module_version": "1.5.0",
            "_model_name": "DescriptionStyleModel",
            "_view_count": null,
            "_view_module": "@jupyter-widgets/base",
            "_view_module_version": "1.2.0",
            "_view_name": "StyleView",
            "description_width": ""
          }
        },
        "e1b3e1dc919a4b70ad560b6338292ac9": {
          "model_module": "@jupyter-widgets/base",
          "model_name": "LayoutModel",
          "model_module_version": "1.2.0",
          "state": {
            "_model_module": "@jupyter-widgets/base",
            "_model_module_version": "1.2.0",
            "_model_name": "LayoutModel",
            "_view_count": null,
            "_view_module": "@jupyter-widgets/base",
            "_view_module_version": "1.2.0",
            "_view_name": "LayoutView",
            "align_content": null,
            "align_items": null,
            "align_self": null,
            "border": null,
            "bottom": null,
            "display": null,
            "flex": null,
            "flex_flow": null,
            "grid_area": null,
            "grid_auto_columns": null,
            "grid_auto_flow": null,
            "grid_auto_rows": null,
            "grid_column": null,
            "grid_gap": null,
            "grid_row": null,
            "grid_template_areas": null,
            "grid_template_columns": null,
            "grid_template_rows": null,
            "height": null,
            "justify_content": null,
            "justify_items": null,
            "left": null,
            "margin": null,
            "max_height": null,
            "max_width": null,
            "min_height": null,
            "min_width": null,
            "object_fit": null,
            "object_position": null,
            "order": null,
            "overflow": null,
            "overflow_x": null,
            "overflow_y": null,
            "padding": null,
            "right": null,
            "top": null,
            "visibility": null,
            "width": null
          }
        },
        "36db2f7ec3ae4feb961b20e95440c72e": {
          "model_module": "@jupyter-widgets/controls",
          "model_name": "ProgressStyleModel",
          "model_module_version": "1.5.0",
          "state": {
            "_model_module": "@jupyter-widgets/controls",
            "_model_module_version": "1.5.0",
            "_model_name": "ProgressStyleModel",
            "_view_count": null,
            "_view_module": "@jupyter-widgets/base",
            "_view_module_version": "1.2.0",
            "_view_name": "StyleView",
            "bar_color": null,
            "description_width": ""
          }
        },
        "2154888cdd5b451bb32198656c76dd9d": {
          "model_module": "@jupyter-widgets/base",
          "model_name": "LayoutModel",
          "model_module_version": "1.2.0",
          "state": {
            "_model_module": "@jupyter-widgets/base",
            "_model_module_version": "1.2.0",
            "_model_name": "LayoutModel",
            "_view_count": null,
            "_view_module": "@jupyter-widgets/base",
            "_view_module_version": "1.2.0",
            "_view_name": "LayoutView",
            "align_content": null,
            "align_items": null,
            "align_self": null,
            "border": null,
            "bottom": null,
            "display": null,
            "flex": null,
            "flex_flow": null,
            "grid_area": null,
            "grid_auto_columns": null,
            "grid_auto_flow": null,
            "grid_auto_rows": null,
            "grid_column": null,
            "grid_gap": null,
            "grid_row": null,
            "grid_template_areas": null,
            "grid_template_columns": null,
            "grid_template_rows": null,
            "height": null,
            "justify_content": null,
            "justify_items": null,
            "left": null,
            "margin": null,
            "max_height": null,
            "max_width": null,
            "min_height": null,
            "min_width": null,
            "object_fit": null,
            "object_position": null,
            "order": null,
            "overflow": null,
            "overflow_x": null,
            "overflow_y": null,
            "padding": null,
            "right": null,
            "top": null,
            "visibility": null,
            "width": null
          }
        },
        "5dd7f8e571f442c38b14c424415b7cc0": {
          "model_module": "@jupyter-widgets/controls",
          "model_name": "DescriptionStyleModel",
          "model_module_version": "1.5.0",
          "state": {
            "_model_module": "@jupyter-widgets/controls",
            "_model_module_version": "1.5.0",
            "_model_name": "DescriptionStyleModel",
            "_view_count": null,
            "_view_module": "@jupyter-widgets/base",
            "_view_module_version": "1.2.0",
            "_view_name": "StyleView",
            "description_width": ""
          }
        },
        "c6e5dbc721cb4eeaa95e10f9af7ecc8c": {
          "model_module": "@jupyter-widgets/base",
          "model_name": "LayoutModel",
          "model_module_version": "1.2.0",
          "state": {
            "_model_module": "@jupyter-widgets/base",
            "_model_module_version": "1.2.0",
            "_model_name": "LayoutModel",
            "_view_count": null,
            "_view_module": "@jupyter-widgets/base",
            "_view_module_version": "1.2.0",
            "_view_name": "LayoutView",
            "align_content": null,
            "align_items": null,
            "align_self": null,
            "border": null,
            "bottom": null,
            "display": null,
            "flex": null,
            "flex_flow": null,
            "grid_area": null,
            "grid_auto_columns": null,
            "grid_auto_flow": null,
            "grid_auto_rows": null,
            "grid_column": null,
            "grid_gap": null,
            "grid_row": null,
            "grid_template_areas": null,
            "grid_template_columns": null,
            "grid_template_rows": null,
            "height": null,
            "justify_content": null,
            "justify_items": null,
            "left": null,
            "margin": null,
            "max_height": null,
            "max_width": null,
            "min_height": null,
            "min_width": null,
            "object_fit": null,
            "object_position": null,
            "order": null,
            "overflow": null,
            "overflow_x": null,
            "overflow_y": null,
            "padding": null,
            "right": null,
            "top": null,
            "visibility": null,
            "width": null
          }
        },
        "8dad5238e75549a89e3275ef1c530b23": {
          "model_module": "@jupyter-widgets/controls",
          "model_name": "ProgressStyleModel",
          "model_module_version": "1.5.0",
          "state": {
            "_model_module": "@jupyter-widgets/controls",
            "_model_module_version": "1.5.0",
            "_model_name": "ProgressStyleModel",
            "_view_count": null,
            "_view_module": "@jupyter-widgets/base",
            "_view_module_version": "1.2.0",
            "_view_name": "StyleView",
            "bar_color": null,
            "description_width": ""
          }
        },
        "4fa2d13e41684a58872fae3c1ae8762f": {
          "model_module": "@jupyter-widgets/base",
          "model_name": "LayoutModel",
          "model_module_version": "1.2.0",
          "state": {
            "_model_module": "@jupyter-widgets/base",
            "_model_module_version": "1.2.0",
            "_model_name": "LayoutModel",
            "_view_count": null,
            "_view_module": "@jupyter-widgets/base",
            "_view_module_version": "1.2.0",
            "_view_name": "LayoutView",
            "align_content": null,
            "align_items": null,
            "align_self": null,
            "border": null,
            "bottom": null,
            "display": null,
            "flex": null,
            "flex_flow": null,
            "grid_area": null,
            "grid_auto_columns": null,
            "grid_auto_flow": null,
            "grid_auto_rows": null,
            "grid_column": null,
            "grid_gap": null,
            "grid_row": null,
            "grid_template_areas": null,
            "grid_template_columns": null,
            "grid_template_rows": null,
            "height": null,
            "justify_content": null,
            "justify_items": null,
            "left": null,
            "margin": null,
            "max_height": null,
            "max_width": null,
            "min_height": null,
            "min_width": null,
            "object_fit": null,
            "object_position": null,
            "order": null,
            "overflow": null,
            "overflow_x": null,
            "overflow_y": null,
            "padding": null,
            "right": null,
            "top": null,
            "visibility": null,
            "width": null
          }
        },
        "d402309a0e1849e5bbbade3d8ee8d845": {
          "model_module": "@jupyter-widgets/controls",
          "model_name": "DescriptionStyleModel",
          "model_module_version": "1.5.0",
          "state": {
            "_model_module": "@jupyter-widgets/controls",
            "_model_module_version": "1.5.0",
            "_model_name": "DescriptionStyleModel",
            "_view_count": null,
            "_view_module": "@jupyter-widgets/base",
            "_view_module_version": "1.2.0",
            "_view_name": "StyleView",
            "description_width": ""
          }
        },
        "c0861fe5a8c54034ad70bf30ee5211c4": {
          "model_module": "@jupyter-widgets/base",
          "model_name": "LayoutModel",
          "model_module_version": "1.2.0",
          "state": {
            "_model_module": "@jupyter-widgets/base",
            "_model_module_version": "1.2.0",
            "_model_name": "LayoutModel",
            "_view_count": null,
            "_view_module": "@jupyter-widgets/base",
            "_view_module_version": "1.2.0",
            "_view_name": "LayoutView",
            "align_content": null,
            "align_items": null,
            "align_self": null,
            "border": null,
            "bottom": null,
            "display": null,
            "flex": null,
            "flex_flow": null,
            "grid_area": null,
            "grid_auto_columns": null,
            "grid_auto_flow": null,
            "grid_auto_rows": null,
            "grid_column": null,
            "grid_gap": null,
            "grid_row": null,
            "grid_template_areas": null,
            "grid_template_columns": null,
            "grid_template_rows": null,
            "height": null,
            "justify_content": null,
            "justify_items": null,
            "left": null,
            "margin": null,
            "max_height": null,
            "max_width": null,
            "min_height": null,
            "min_width": null,
            "object_fit": null,
            "object_position": null,
            "order": null,
            "overflow": null,
            "overflow_x": null,
            "overflow_y": null,
            "padding": null,
            "right": null,
            "top": null,
            "visibility": null,
            "width": null
          }
        },
        "116c94dff996492d86ae3da351cfc048": {
          "model_module": "@jupyter-widgets/controls",
          "model_name": "DescriptionStyleModel",
          "model_module_version": "1.5.0",
          "state": {
            "_model_module": "@jupyter-widgets/controls",
            "_model_module_version": "1.5.0",
            "_model_name": "DescriptionStyleModel",
            "_view_count": null,
            "_view_module": "@jupyter-widgets/base",
            "_view_module_version": "1.2.0",
            "_view_name": "StyleView",
            "description_width": ""
          }
        },
        "8a6099fde24345ea9c20a13c4a8689e5": {
          "model_module": "@jupyter-widgets/controls",
          "model_name": "HTMLModel",
          "model_module_version": "1.5.0",
          "state": {
            "_dom_classes": [],
            "_model_module": "@jupyter-widgets/controls",
            "_model_module_version": "1.5.0",
            "_model_name": "HTMLModel",
            "_view_count": null,
            "_view_module": "@jupyter-widgets/controls",
            "_view_module_version": "1.5.0",
            "_view_name": "HTMLView",
            "description": "",
            "description_tooltip": null,
            "layout": "IPY_MODEL_4fa2d13e41684a58872fae3c1ae8762f",
            "placeholder": "​",
            "style": "IPY_MODEL_d402309a0e1849e5bbbade3d8ee8d845",
            "value": "Downloading config.json: 100%"
          }
        },
        "a3b309a9ab2141c0b645446c7ffac859": {
          "model_module": "@jupyter-widgets/controls",
          "model_name": "FloatProgressModel",
          "model_module_version": "1.5.0",
          "state": {
            "_dom_classes": [],
            "_model_module": "@jupyter-widgets/controls",
            "_model_module_version": "1.5.0",
            "_model_name": "FloatProgressModel",
            "_view_count": null,
            "_view_module": "@jupyter-widgets/controls",
            "_view_module_version": "1.5.0",
            "_view_name": "ProgressView",
            "bar_style": "success",
            "description": "",
            "description_tooltip": null,
            "layout": "IPY_MODEL_c6e5dbc721cb4eeaa95e10f9af7ecc8c",
            "max": 665,
            "min": 0,
            "orientation": "horizontal",
            "style": "IPY_MODEL_8dad5238e75549a89e3275ef1c530b23",
            "value": 665
          }
        },
        "2032b04aaf0040fd87e2d48f0635fde4": {
          "model_module": "@jupyter-widgets/controls",
          "model_name": "HTMLModel",
          "model_module_version": "1.5.0",
          "state": {
            "_dom_classes": [],
            "_model_module": "@jupyter-widgets/controls",
            "_model_module_version": "1.5.0",
            "_model_name": "HTMLModel",
            "_view_count": null,
            "_view_module": "@jupyter-widgets/controls",
            "_view_module_version": "1.5.0",
            "_view_name": "HTMLView",
            "description": "",
            "description_tooltip": null,
            "layout": "IPY_MODEL_c0861fe5a8c54034ad70bf30ee5211c4",
            "placeholder": "​",
            "style": "IPY_MODEL_116c94dff996492d86ae3da351cfc048",
            "value": " 665/665 [00:00&lt;00:00, 7.28kB/s]"
          }
        },
        "3a8007180cfb450db92cfd3deda3b202": {
          "model_module": "@jupyter-widgets/base",
          "model_name": "LayoutModel",
          "model_module_version": "1.2.0",
          "state": {
            "_model_module": "@jupyter-widgets/base",
            "_model_module_version": "1.2.0",
            "_model_name": "LayoutModel",
            "_view_count": null,
            "_view_module": "@jupyter-widgets/base",
            "_view_module_version": "1.2.0",
            "_view_name": "LayoutView",
            "align_content": null,
            "align_items": null,
            "align_self": null,
            "border": null,
            "bottom": null,
            "display": null,
            "flex": null,
            "flex_flow": null,
            "grid_area": null,
            "grid_auto_columns": null,
            "grid_auto_flow": null,
            "grid_auto_rows": null,
            "grid_column": null,
            "grid_gap": null,
            "grid_row": null,
            "grid_template_areas": null,
            "grid_template_columns": null,
            "grid_template_rows": null,
            "height": null,
            "justify_content": null,
            "justify_items": null,
            "left": null,
            "margin": null,
            "max_height": null,
            "max_width": null,
            "min_height": null,
            "min_width": null,
            "object_fit": null,
            "object_position": null,
            "order": null,
            "overflow": null,
            "overflow_x": null,
            "overflow_y": null,
            "padding": null,
            "right": null,
            "top": null,
            "visibility": null,
            "width": null
          }
        },
        "8c591cbbeb9346c2b56dba8d95f5afd2": {
          "model_module": "@jupyter-widgets/controls",
          "model_name": "HBoxModel",
          "model_module_version": "1.5.0",
          "state": {
            "_dom_classes": [],
            "_model_module": "@jupyter-widgets/controls",
            "_model_module_version": "1.5.0",
            "_model_name": "HBoxModel",
            "_view_count": null,
            "_view_module": "@jupyter-widgets/controls",
            "_view_module_version": "1.5.0",
            "_view_name": "HBoxView",
            "box_style": "",
            "children": [
              "IPY_MODEL_8a6099fde24345ea9c20a13c4a8689e5",
              "IPY_MODEL_a3b309a9ab2141c0b645446c7ffac859",
              "IPY_MODEL_2032b04aaf0040fd87e2d48f0635fde4"
            ],
            "layout": "IPY_MODEL_3a8007180cfb450db92cfd3deda3b202"
          }
        }
      }
    }
  },
  "cells": [
    {
      "cell_type": "markdown",
      "source": [
        "# **Proyecto Final Transformers y GPT-2: Modelo gpt2-small-diputados**\n",
        "\n",
        "### Universidad CENFOTEC\n",
        "\n",
        "### Maestría en Ingeniería del Software con énfasis en Inteligencia Artificial Aplicada\n",
        "\n",
        "### Aplicaciones de la Inteligencia Artificial\n",
        "\n",
        "## Autores:\n",
        "\n",
        "* Jose Alberto Aguilar\n",
        "* Jean Carlo Alvarado\n",
        "* Santiago Mejía\n",
        "\n"
      ],
      "metadata": {
        "id": "gnpt0CCQYoXV"
      }
    },
    {
      "cell_type": "markdown",
      "source": [
        "El presente modelo _gpt2-diputados-small_ fue entrenado para la tarea de generación de texto. Para el _fine tuning_ del modelo se utilizaron los textos de las intervenciones de los diputados del periodo 2018-2022 de la Asamblea Legislativa de Costa Rica. En total se utilizaron 2246 intervenciones que en total equivalen a 44mb de texto. Estos se descargaron a inicios de mayo del año 2022 de la página [Diputados y Diputadas](http://www.asamblea.go.cr/Diputados/SitePages/Inicio.aspx) del sitio oficial de la Asamblea Legislativa. Para su descarga y procesamiento se utilizaron varios programas de Python, cuyo código fuente está disponible en [Github](https://github.com/joaguilar/asamblea-scrapper)."
      ],
      "metadata": {
        "id": "SuA9mUQFZ8S4"
      }
    },
    {
      "cell_type": "markdown",
      "source": [
        "Para iniciar, copiamos los archivos necesarios de google drive e importamos las bibliotecas que vamos a utilizar."
      ],
      "metadata": {
        "id": "XeNY3wD_P8TQ"
      }
    },
    {
      "cell_type": "code",
      "source": [
        "from google.colab import drive\n",
        "drive.mount('/content/drive')"
      ],
      "metadata": {
        "colab": {
          "base_uri": "https://localhost:8080/"
        },
        "id": "8Udaz7nTx8KV",
        "outputId": "246ddbed-04bc-4b2a-e639-c3a98ad9ef8b"
      },
      "execution_count": null,
      "outputs": [
        {
          "output_type": "stream",
          "name": "stdout",
          "text": [
            "Mounted at /content/drive\n"
          ]
        }
      ]
    },
    {
      "cell_type": "markdown",
      "source": [],
      "metadata": {
        "id": "cA1ZzEyhZ5P8"
      }
    },
    {
      "cell_type": "code",
      "source": [
        "!cp -v '/content/drive/MyDrive/data/eswiki/all_texts_eswiki.csv' '/content/sample_data/' \n",
        "!cp -v '/content/drive/MyDrive/data/eswiki/all_texts_eswiki.txt' '/content/sample_data/' \n",
        "!cp -v '/content/drive/MyDrive/data/eswiki/diputados.csv' '/content/sample_data/' \n",
        "!cp -v '/content/drive/MyDrive/data/all_text.txt' '/content/sample_data/' \n",
        "!cp -rv '/content/drive/MyDrive/data/eswiki/modelo_diputados/' '/content/sample_data/' "
      ],
      "metadata": {
        "colab": {
          "base_uri": "https://localhost:8080/"
        },
        "id": "eJZFAwBdyaaC",
        "outputId": "dcbd5300-016a-4cbb-c223-fa5877e1761e"
      },
      "execution_count": null,
      "outputs": [
        {
          "output_type": "stream",
          "name": "stdout",
          "text": [
            "'/content/drive/MyDrive/data/eswiki/all_texts_eswiki.csv' -> '/content/sample_data/all_texts_eswiki.csv'\n",
            "'/content/drive/MyDrive/data/eswiki/all_texts_eswiki.txt' -> '/content/sample_data/all_texts_eswiki.txt'\n",
            "'/content/drive/MyDrive/data/eswiki/diputados.csv' -> '/content/sample_data/diputados.csv'\n",
            "'/content/drive/MyDrive/data/all_text.txt' -> '/content/sample_data/all_text.txt'\n",
            "'/content/drive/MyDrive/data/eswiki/modelo_diputados/' -> '/content/sample_data/modelo_diputados'\n",
            "'/content/drive/MyDrive/data/eswiki/modelo_diputados/GPT2_dp_1epoch.pth' -> '/content/sample_data/modelo_diputados/GPT2_dp_1epoch.pth'\n",
            "'/content/drive/MyDrive/data/eswiki/modelo_diputados/GPT2_dp_2epoch.pth' -> '/content/sample_data/modelo_diputados/GPT2_dp_2epoch.pth'\n",
            "'/content/drive/MyDrive/data/eswiki/modelo_diputados/GPT2_dp_3epoch.pth' -> '/content/sample_data/modelo_diputados/GPT2_dp_3epoch.pth'\n",
            "'/content/drive/MyDrive/data/eswiki/modelo_diputados/GPT2_dp_5epoch.pth' -> '/content/sample_data/modelo_diputados/GPT2_dp_5epoch.pth'\n"
          ]
        }
      ]
    },
    {
      "cell_type": "code",
      "source": [
        "!ls -lasrt '/content/drive/MyDrive/data/eswiki/modelo_diputados/'"
      ],
      "metadata": {
        "colab": {
          "base_uri": "https://localhost:8080/"
        },
        "id": "1fbSNdqf9-ct",
        "outputId": "e014d968-42ef-494b-c39c-59e7bac52140"
      },
      "execution_count": null,
      "outputs": [
        {
          "output_type": "stream",
          "name": "stdout",
          "text": [
            "total 4554349\n",
            " 806460 -rw------- 1 root root  825814745 Aug 24 03:45 GPT2_dp_1epoch.pth\n",
            "1027878 -rw------- 1 root root 1052546969 Aug 24 04:28 GPT2_dp_2epoch.pth\n",
            "1249297 -rw------- 1 root root 1279279257 Aug 24 05:03 GPT2_dp_3epoch.pth\n",
            "1470715 -rw------- 1 root root 1506011545 Aug 24 06:26 GPT2_dp_5epoch.pth\n"
          ]
        }
      ]
    },
    {
      "cell_type": "code",
      "source": [
        "# drive.flush_and_unmount()\n",
        "!ls -lasrt '/content/sample_data'"
      ],
      "metadata": {
        "colab": {
          "base_uri": "https://localhost:8080/"
        },
        "id": "w0Nd_xj-zZ31",
        "outputId": "e836373b-ec58-4302-ef5d-b0c3a9e79372"
      },
      "execution_count": null,
      "outputs": [
        {
          "output_type": "stream",
          "name": "stdout",
          "text": [
            "total 375684\n",
            "    4 -rwxr-xr-x 1 root root      930 Jan  1  2000 README.md\n",
            "    4 -rwxr-xr-x 1 root root     1697 Jan  1  2000 anscombe.json\n",
            " 1668 -rw-r--r-- 1 root root  1706430 Aug 15 13:44 california_housing_train.csv\n",
            "  296 -rw-r--r-- 1 root root   301141 Aug 15 13:44 california_housing_test.csv\n",
            "35668 -rw-r--r-- 1 root root 36523880 Aug 15 13:44 mnist_train_small.csv\n",
            "17864 -rw-r--r-- 1 root root 18289443 Aug 15 13:44 mnist_test.csv\n",
            "    8 drwxr-xr-x 1 root root     4096 Aug 25 03:02 ..\n",
            "93260 -rw------- 1 root root 95492565 Aug 25 03:02 all_texts_eswiki.csv\n",
            "92988 -rw------- 1 root root 95213317 Aug 25 03:02 all_texts_eswiki.txt\n",
            "89088 -rw------- 1 root root 91224938 Aug 25 03:02 diputados.csv\n",
            "    4 drwxr-xr-x 1 root root     4096 Aug 25 03:02 .\n",
            "44832 -rw------- 1 root root 45904926 Aug 25 03:02 all_text.txt\n"
          ]
        }
      ]
    },
    {
      "cell_type": "markdown",
      "source": [
        "**--------------------------------------------------------------------------------**\n",
        "\n",
        "Se cargan las libreria a utilizar para este caso se descargan la librerias:\n",
        "\n",
        "- Transformer\n",
        "- Tokenizers\n",
        "- Torch\n",
        "\n",
        "Una vez descargadas estas librerias se crea una instancia de las mismas, las cuales utilizaran el pequeño tranformer de gtp2-smal-spanish, esto ya que el texto con el que se va a trabajar y se desea generar es en español.\n",
        "\n",
        "Ademas de este se define que se utilice la GPU como el dispositivo principal para correr y entrenar el modelo a crear."
      ],
      "metadata": {
        "id": "Aowq_tgDbCt2"
      }
    },
    {
      "cell_type": "code",
      "execution_count": null,
      "metadata": {
        "colab": {
          "base_uri": "https://localhost:8080/",
          "height": 765,
          "referenced_widgets": [
            "b8bd25b737c34f6088a3a6cfe853f9bd",
            "c5e18dc59d6a456da3f128b17638aefb",
            "bc30414fc5ac487386787c493ff5888d",
            "be49805cde27423f873fd4970bab55e1",
            "43bad1a9b71d44b0bbf8a1d513ecb8d1",
            "e541f8d32310410c80417b68321b3742",
            "afcb53d8547a40528dae1a2771ce40ea",
            "7cf20c5880334993ad166e19a58dba56",
            "3c3099acada04d1fb35608de5d67bc2c",
            "9e2fa45f6eb14c34897db729d870754c",
            "2bdfd9b3486c4891852c110cc920ef60",
            "61921648e4ba4babb9af4fd8afc06a29",
            "4de44237b3b34efb8eedb0659014bee9",
            "6d2d2bc643ed49f287db21bf53c2087a",
            "07605d898f5944ac82c319c7ca37110e",
            "bf5f486d02eb4014808fb332f2565feb",
            "6920b4a4599643c0a0c1d1aacc44fcd3",
            "4681e12aecdb4460a2f5530516ceec82",
            "2925f68712d1479f998cc105ba190b99",
            "8cc8165eccda4eb4bcb74ffcd31c85f9",
            "56968bb276654cb588ca0b0a6546711f",
            "747ac5cf2f194fde861240fb16e23f89",
            "90a19ed25024499b92aa592b26b0a9db",
            "ac1c4955acba4afaa7cbc85496c19229",
            "03d815bd608d4284b7279c4e255aa56a",
            "ef4d52f708754a03ade7a2c0f3206eae",
            "b0fd7099c53d4f9caa59556615f250be",
            "d0ded477d5164b8682ee5b0cfa4f25a2",
            "3a6b34cd6b734064a169e2b6a39adcba",
            "cccd7c18084046d49aa67c37e9b2b14e",
            "154ae37341d24a6ab4dc01ad2df1dd40",
            "904b84fe155248788bec6d92d6717a16",
            "af306fdd96d5411e894bd6607611a82e",
            "7e26ff8af249428c8cd64d336619599d",
            "7a16260922564b61bcd921ea9643717c",
            "5da8de7e42d14cb99909e164773e0155",
            "917aff4fde744a62be35757d64c0318e",
            "988355ec25474db49b15a3d66e1a46ea",
            "61ca94d02ab94788a74636a76780e20f",
            "72729ce2678b49c5b2e1b6d78c528118",
            "8ff4ad47a5af49fa9da105484abc35a1",
            "4383241c7a06428b98bc62d6ce012e26",
            "f5f8e9a31ee945e986562fd1776c590f",
            "9bf008cad4194f98b75204c2dc3f4ca0",
            "66085e73c84a4ab3a7e71662d9b6bea9",
            "73c071a8413b49aba3ae75085030cb01",
            "3a4b4ca61a884257b561176477e877c4",
            "c22c1b3f41834ea68d6d5d7711d739f5",
            "d76fcf619d074363a1361fb20f55f375",
            "49e9a0c4e59f4fff974933e5ba99bccb",
            "0f0bf14b148d412fb2153d2d41bf6e74",
            "fd83ec7de8e446fd93b3e2fe82d5026d",
            "7f5b1f32ed8b4691abf99b4be48c8ee7",
            "80c9a83684414cedae4046a49918427f",
            "e94c166c346b49668f3d7bd399b39d7e",
            "f44e67394bd6475c8f62de16be7a7005",
            "1bc455068bac444bb4042a98e99fc3c0",
            "786d88c4a0844563971ea03fb8156dfa",
            "3e9ddbb965cf4016ab7184ab1345119f",
            "ec9e98ed05fb4f97bdd729beb917bbee",
            "74fc8ac27ace4e55b008b1a7b7014483",
            "b9f379dc1b6845939ff1bf3f53659913",
            "76aabfa24ac54a128c6a60f12b77f220",
            "a63c3d48459b4f5398b27d1dbe5e8b7c",
            "ebaaeacebc6a4456ae9eaac0c01b4e84",
            "712956af6fad449e84dfb27ddc6903c4"
          ]
        },
        "id": "iRy8bhvn2sKv",
        "outputId": "9d1c420f-0f39-4f92-f102-781d6f4fd239"
      },
      "outputs": [
        {
          "output_type": "stream",
          "name": "stdout",
          "text": [
            "Looking in indexes: https://pypi.org/simple, https://us-python.pkg.dev/colab-wheels/public/simple/\n",
            "Collecting transformers\n",
            "  Downloading transformers-4.21.2-py3-none-any.whl (4.7 MB)\n",
            "\u001b[K     |████████████████████████████████| 4.7 MB 5.0 MB/s \n",
            "\u001b[?25hCollecting tokenizers!=0.11.3,<0.13,>=0.11.1\n",
            "  Downloading tokenizers-0.12.1-cp37-cp37m-manylinux_2_12_x86_64.manylinux2010_x86_64.whl (6.6 MB)\n",
            "\u001b[K     |████████████████████████████████| 6.6 MB 47.1 MB/s \n",
            "\u001b[?25hCollecting huggingface-hub<1.0,>=0.1.0\n",
            "  Downloading huggingface_hub-0.9.0-py3-none-any.whl (120 kB)\n",
            "\u001b[K     |████████████████████████████████| 120 kB 33.6 MB/s \n",
            "\u001b[?25hRequirement already satisfied: requests in /usr/local/lib/python3.7/dist-packages (from transformers) (2.23.0)\n",
            "Requirement already satisfied: regex!=2019.12.17 in /usr/local/lib/python3.7/dist-packages (from transformers) (2022.6.2)\n",
            "Requirement already satisfied: filelock in /usr/local/lib/python3.7/dist-packages (from transformers) (3.8.0)\n",
            "Requirement already satisfied: pyyaml>=5.1 in /usr/local/lib/python3.7/dist-packages (from transformers) (6.0)\n",
            "Requirement already satisfied: tqdm>=4.27 in /usr/local/lib/python3.7/dist-packages (from transformers) (4.64.0)\n",
            "Requirement already satisfied: importlib-metadata in /usr/local/lib/python3.7/dist-packages (from transformers) (4.12.0)\n",
            "Requirement already satisfied: numpy>=1.17 in /usr/local/lib/python3.7/dist-packages (from transformers) (1.21.6)\n",
            "Requirement already satisfied: packaging>=20.0 in /usr/local/lib/python3.7/dist-packages (from transformers) (21.3)\n",
            "Requirement already satisfied: typing-extensions>=3.7.4.3 in /usr/local/lib/python3.7/dist-packages (from huggingface-hub<1.0,>=0.1.0->transformers) (4.1.1)\n",
            "Requirement already satisfied: pyparsing!=3.0.5,>=2.0.2 in /usr/local/lib/python3.7/dist-packages (from packaging>=20.0->transformers) (3.0.9)\n",
            "Requirement already satisfied: zipp>=0.5 in /usr/local/lib/python3.7/dist-packages (from importlib-metadata->transformers) (3.8.1)\n",
            "Requirement already satisfied: chardet<4,>=3.0.2 in /usr/local/lib/python3.7/dist-packages (from requests->transformers) (3.0.4)\n",
            "Requirement already satisfied: urllib3!=1.25.0,!=1.25.1,<1.26,>=1.21.1 in /usr/local/lib/python3.7/dist-packages (from requests->transformers) (1.24.3)\n",
            "Requirement already satisfied: certifi>=2017.4.17 in /usr/local/lib/python3.7/dist-packages (from requests->transformers) (2022.6.15)\n",
            "Requirement already satisfied: idna<3,>=2.5 in /usr/local/lib/python3.7/dist-packages (from requests->transformers) (2.10)\n",
            "Installing collected packages: tokenizers, huggingface-hub, transformers\n",
            "Successfully installed huggingface-hub-0.9.0 tokenizers-0.12.1 transformers-4.21.2\n",
            "Looking in indexes: https://pypi.org/simple, https://us-python.pkg.dev/colab-wheels/public/simple/\n",
            "Requirement already satisfied: tokenizers in /usr/local/lib/python3.7/dist-packages (0.12.1)\n"
          ]
        },
        {
          "output_type": "display_data",
          "data": {
            "text/plain": [
              "Downloading tokenizer_config.json:   0%|          | 0.00/620 [00:00<?, ?B/s]"
            ],
            "application/vnd.jupyter.widget-view+json": {
              "version_major": 2,
              "version_minor": 0,
              "model_id": "b8bd25b737c34f6088a3a6cfe853f9bd"
            }
          },
          "metadata": {}
        },
        {
          "output_type": "display_data",
          "data": {
            "text/plain": [
              "Downloading config.json:   0%|          | 0.00/817 [00:00<?, ?B/s]"
            ],
            "application/vnd.jupyter.widget-view+json": {
              "version_major": 2,
              "version_minor": 0,
              "model_id": "61921648e4ba4babb9af4fd8afc06a29"
            }
          },
          "metadata": {}
        },
        {
          "output_type": "display_data",
          "data": {
            "text/plain": [
              "Downloading vocab.json:   0%|          | 0.00/830k [00:00<?, ?B/s]"
            ],
            "application/vnd.jupyter.widget-view+json": {
              "version_major": 2,
              "version_minor": 0,
              "model_id": "90a19ed25024499b92aa592b26b0a9db"
            }
          },
          "metadata": {}
        },
        {
          "output_type": "display_data",
          "data": {
            "text/plain": [
              "Downloading merges.txt:   0%|          | 0.00/496k [00:00<?, ?B/s]"
            ],
            "application/vnd.jupyter.widget-view+json": {
              "version_major": 2,
              "version_minor": 0,
              "model_id": "7e26ff8af249428c8cd64d336619599d"
            }
          },
          "metadata": {}
        },
        {
          "output_type": "display_data",
          "data": {
            "text/plain": [
              "Downloading special_tokens_map.json:   0%|          | 0.00/387 [00:00<?, ?B/s]"
            ],
            "application/vnd.jupyter.widget-view+json": {
              "version_major": 2,
              "version_minor": 0,
              "model_id": "66085e73c84a4ab3a7e71662d9b6bea9"
            }
          },
          "metadata": {}
        },
        {
          "output_type": "display_data",
          "data": {
            "text/plain": [
              "Downloading pytorch_model.bin:   0%|          | 0.00/487M [00:00<?, ?B/s]"
            ],
            "application/vnd.jupyter.widget-view+json": {
              "version_major": 2,
              "version_minor": 0,
              "model_id": "f44e67394bd6475c8f62de16be7a7005"
            }
          },
          "metadata": {}
        },
        {
          "output_type": "stream",
          "name": "stdout",
          "text": [
            "cuda device: 0\n"
          ]
        }
      ],
      "source": [
        "# !pip install fastai2\n",
        "!pip install transformers\n",
        "!pip install tokenizers\n",
        "# !pip install fastai\n",
        "\n",
        "#import torch\n",
        "\n",
        "from transformers import AutoTokenizer, AutoModelForCausalLM\n",
        "\n",
        "\n",
        "tokenizer = AutoTokenizer.from_pretrained(\"datificate/gpt2-small-spanish\")\n",
        "\n",
        "model = AutoModelForCausalLM.from_pretrained(\"datificate/gpt2-small-spanish\")\n",
        "import torch\n",
        "gpu = 0\n",
        "torch.cuda.set_device(gpu)\n",
        "print(f'cuda device: {torch.cuda.current_device()}')"
      ]
    },
    {
      "cell_type": "code",
      "source": [
        "from google.colab import output\n",
        "output.enable_custom_widget_manager()\n",
        "\n",
        "from fastai.text.all import *"
      ],
      "metadata": {
        "id": "g4JAsni53d5S"
      },
      "execution_count": null,
      "outputs": []
    },
    {
      "cell_type": "code",
      "source": [
        "# import tokenizers and transformers\n",
        "from transformers import GPT2TokenizerFast, GPT2LMHeadModel\n",
        "from tokenizers import ByteLevelBPETokenizer\n",
        "# setup new path_data and create the lang folder\n",
        "data_path = '/content/sample_data/all_text.txt'\n",
        "path_data = '/content/sample_data'\n",
        "\n",
        "import os"
      ],
      "metadata": {
        "id": "TwhhPmZ-3iGz"
      },
      "execution_count": null,
      "outputs": []
    },
    {
      "cell_type": "code",
      "source": [
        "lang = 'es'\n",
        "# name = f'{lang}wiki'\n",
        "name = 'all_text.txt'\n",
        "data_path = '/content/sample_data'\n",
        "path_data = data_path+'/'+name\n",
        "# os.makedirs(path_data,exist_ok=True)"
      ],
      "metadata": {
        "id": "CwncjsrHibFb"
      },
      "execution_count": null,
      "outputs": []
    },
    {
      "cell_type": "markdown",
      "source": [
        "\n",
        "Para el entrenamiento del modelo, nos vamos a basar en el modelo [datificate/gpt2-small-spanish](https://huggingface.co/datificate/gpt2-small-spanish) de Hugging Face, Este modelo se entrenó utilizando Wikipedia en español  por medio de _Transfer Learning and Fine Tuning_.\n",
        "\n",
        "Este proyecto se basó en la documentación de la creación del modelo [GPorTuguese-2](https://huggingface.co/pierreguillou/gpt2-small-portuguese). Al igual que ese modelo, en el presente se hace un _fine tuning_ de un modelo basado en GPT2-small (el _gpt-small-spanish_ mencionado anteriormente). El _fine tuning_ es la práctica de entrenar aún más un modelo de lenguaje basado en transformers utilizando un conjunto de datos específico para una tarea o caso de uso particular.\n",
        "\n",
        "\n",
        "\n",
        "# Entrenamiento del modelo gpt-diputados-small\n",
        "\n",
        "## Tokenizer\n",
        "\n",
        "El primer paso del _fine tuning_ de un transformer es generar la tokenización. Las bibliotecas de fastai proveen un mecanismo fácil y rápido para esto. Nótese que para este tipo de entrenamientos se utiliza lo que se conoce como un [Byte-Level Byte-Pair Encoding Tokenizer](https://arxiv.org/pdf/1909.03341.pdf), que trabaja a nivel de Bytes en vez de palabras propiamente - esto representa el texto a nivel de bytes y usa un conjunto de 256 bytes como el vocabulario, haciendolo más compacto y muy importante para nuestro caso de uso agnóstico al idioma.\n",
        "\n",
        "Nota: El texto completo de las intervenciones de los diputados se encuentra en el archivo \"all_text.txt\".\n",
        "\n",
        "Los pasos para hacer _fine tuning_ de un BPE Tokenizer, a grandes rasgos, para nuestro corpus, son los siguientes, los cuales posteriormente se pueden observar en el código:\n",
        "\n",
        "1. Obtener un Tokenizer pre-entrenado - en este caso utilizamos el tokenizer incluido con el modelo _gpt2_ que es la base de los tokenizers de los modelos \n",
        "   1. Nótese que este tokenizer va a ser la base del tokenizer de nuestro modelo\n",
        "   2. La forma de aprovechar este tokenizer es es cambiar la matriz de embeddings del vocabulario del tokenizer (manteniendo tokens en común), tal y como se describe en la generación de [GPorTuguese-2](https://medium.com/@pierre_guillou/faster-than-training-from-scratch-fine-tuning-the-english-gpt-2-in-any-language-with-hugging-f2ec05c98787)\n",
        "2. Entrenar un _Byte-Pair Encoding Tokenizer_ utilizando el texto del corpus. En nuestro caso es el texto de las intervenciones de los diputados\n",
        "   1. Esto se describe en detalle en el [Tutorial de Hugging Face](https://huggingface.co/course/chapter6/5)\n",
        "   2. Algo importante a destacara es que se mantiene el tamaño del vocabulario del tokenizer original. Esto debido a que este vocabulario básicamente representa el tamaño de los embeddings entonces es necesario para poder combinar ambos Tokenizers.\n",
        "3. Una vez entrenado el tokenizer en el texto de los diputados, importar los archivos de configuración en el Tokenizer pre-entrenado, reemplazando la matriz de embeddings (como se mencionó anteriormente)\n",
        "4. Guardar el nuevo Tokenizer entrenado para poder utilizarlo posteriormente\n",
        "\n",
        "El siguiente código ejecuta lo anterior:"
      ],
      "metadata": {
        "id": "oguJ0KYK7hNY"
      }
    },
    {
      "cell_type": "code",
      "source": [
        "# Obtener un Tokenizer pre-entrenado\n",
        "from tokenizers import ByteLevelBPETokenizer\n",
        "\n",
        "pretrained_weights = 'gpt2'\n",
        "tokenizer_en = GPT2TokenizerFast.from_pretrained(pretrained_weights)\n",
        "tokenizer_en.pad_token = tokenizer_en.eos_token\n",
        "# Entrenar un _Byte-Pair Encoding Tokenizer_ utilizando el texto \n",
        "#del corpus. En nuestro caso es el texto de las intervenciones \n",
        "#de los diputados\n",
        "# se mantiene el tamaño del vocabulario del tokenizer original\n",
        "ByteLevelBPE_tokenizer_es_vocab_size = tokenizer_en.vocab_size\n",
        "ByteLevelBPE_tokenizer_es_vocab_size\n",
        "# Utilizamos el Byte-Level Byte-Pair Encoding Tokenizer de la\n",
        "#biblioteca de Hugging Face\n",
        "from tokenizers import ByteLevelBPETokenizer\n",
        "ByteLevelBPE_tokenizer_es = ByteLevelBPETokenizer()\n",
        "paths = ['/content/sample_data/all_text.txt']\n",
        "# Entrenamos el tokenizer nuevo de nuestro texto/modelo\n",
        "ByteLevelBPE_tokenizer_es.train(files=paths,\n",
        "                    vocab_size=ByteLevelBPE_tokenizer_es_vocab_size, \n",
        "                    min_frequency=2, \n",
        "                    special_tokens=[\"<|endoftext|>\"])\n",
        "# Requerido para mantener la compatibilidad con el modelo original\n",
        "ByteLevelBPE_tokenizer_es.enable_truncation(max_length=1024)\n",
        "#Guardamos el tokenizer\n",
        "ByteLevelBPE_tokenizer_es_rep = 'ByteLevelBPE_tokenizer_es'\n",
        "path_to_ByteLevelBPE_tokenizer_es_rep = data_path + '/' + ByteLevelBPE_tokenizer_es_rep\n",
        "print(path_to_ByteLevelBPE_tokenizer_es_rep)\n",
        "if not os.path.exists(path_to_ByteLevelBPE_tokenizer_es_rep):\n",
        "    os.makedirs(path_to_ByteLevelBPE_tokenizer_es_rep, exist_ok=True)\n",
        "ByteLevelBPE_tokenizer_es.save_model(str(path_to_ByteLevelBPE_tokenizer_es_rep))\n",
        "# Cargamos el tokenizer como un tokenizer de GPT2\n",
        "tokenizer_es = GPT2TokenizerFast.from_pretrained(\n",
        "    str(path_to_ByteLevelBPE_tokenizer_es_rep), \n",
        "    pad_token='<|endoftext|>')\n",
        "tokenizer_es.model_max_length = 1024\n"
      ],
      "metadata": {
        "colab": {
          "base_uri": "https://localhost:8080/",
          "height": 163,
          "referenced_widgets": [
            "2b46e1cdae6d4ea0a9d65cdf38da279a",
            "e732f31a28f54c3f9b7bd89cf022497e",
            "187d231302134f92a3e697d82cf85d9e",
            "31ac8aee3cb0471c97276e9d859c7a0f",
            "51cf347c7fec421bbbd6ab1c1a0dfa70",
            "3fcc472b7b614eac998d3388c18e7fba",
            "951a83f2ec9c4f9781dfe422ef960744",
            "95bda0e5ec6248e7a47553cb86b37c52",
            "a9f639c87c3f448995606f55eb6995ca",
            "8f6fe75df3234527ab785f80b69e9009",
            "29e61a8d21794ea5821e5fb4d6d2575d",
            "c8eca86a057b434e8a47305298ccf579",
            "5f8b1f3b1ab044179ef0f0fe8c5050e4",
            "c2614d2339ad451983548599d8312d4a",
            "bd0a7cc41b084c52aaba399d13fd0e95",
            "259b4336b37e4b9a94dbb51c508d8693",
            "16254a8066204aed8751e8e7c2b0cdee",
            "f0ffe73c019c4417a14cfcbe26df6eb1",
            "de807d7503344698926b23ad448f0fb6",
            "f535e927fb214f389bdfbe7ee009e935",
            "2ff86463fb144664ba63507b15739b7b",
            "bc54784307904940840d728d5b50a95e",
            "49bfc45c4e52459b8be61ac8404bbbc1",
            "c10f3376c9744be6bc7a9df4d69c6c60",
            "4ccca14d0c824dd6a9349c4869014891",
            "f7e466c56e994ad9aee054751c54ae3f",
            "cf6f1abcbe12417c80e211f91deb09b0",
            "da921ea74b60488e968d069e53da4f23",
            "a33fa992359a4809bab0d4eab7e2e85a",
            "e1b3e1dc919a4b70ad560b6338292ac9",
            "36db2f7ec3ae4feb961b20e95440c72e",
            "2154888cdd5b451bb32198656c76dd9d",
            "5dd7f8e571f442c38b14c424415b7cc0",
            "c6e5dbc721cb4eeaa95e10f9af7ecc8c",
            "8dad5238e75549a89e3275ef1c530b23",
            "4fa2d13e41684a58872fae3c1ae8762f",
            "d402309a0e1849e5bbbade3d8ee8d845",
            "c0861fe5a8c54034ad70bf30ee5211c4",
            "116c94dff996492d86ae3da351cfc048",
            "8a6099fde24345ea9c20a13c4a8689e5",
            "a3b309a9ab2141c0b645446c7ffac859",
            "2032b04aaf0040fd87e2d48f0635fde4",
            "3a8007180cfb450db92cfd3deda3b202",
            "8c591cbbeb9346c2b56dba8d95f5afd2"
          ]
        },
        "id": "wg5plUvX8dLS",
        "outputId": "7748b1ba-1a28-4c0d-f777-0b7565381191"
      },
      "execution_count": null,
      "outputs": [
        {
          "output_type": "display_data",
          "data": {
            "text/plain": [
              "Downloading vocab.json:   0%|          | 0.00/0.99M [00:00<?, ?B/s]"
            ],
            "application/vnd.jupyter.widget-view+json": {
              "version_major": 2,
              "version_minor": 0,
              "model_id": "2b46e1cdae6d4ea0a9d65cdf38da279a"
            }
          },
          "metadata": {
            "application/vnd.jupyter.widget-view+json": {
              "colab": {
                "custom_widget_manager": {
                  "url": "https://ssl.gstatic.com/colaboratory-static/widgets/colab-cdn-widget-manager/d2e234f7cc04bf79/manager.min.js"
                }
              }
            }
          }
        },
        {
          "output_type": "display_data",
          "data": {
            "text/plain": [
              "Downloading merges.txt:   0%|          | 0.00/446k [00:00<?, ?B/s]"
            ],
            "application/vnd.jupyter.widget-view+json": {
              "version_major": 2,
              "version_minor": 0,
              "model_id": "c8eca86a057b434e8a47305298ccf579"
            }
          },
          "metadata": {
            "application/vnd.jupyter.widget-view+json": {
              "colab": {
                "custom_widget_manager": {
                  "url": "https://ssl.gstatic.com/colaboratory-static/widgets/colab-cdn-widget-manager/d2e234f7cc04bf79/manager.min.js"
                }
              }
            }
          }
        },
        {
          "output_type": "display_data",
          "data": {
            "text/plain": [
              "Downloading tokenizer.json:   0%|          | 0.00/1.29M [00:00<?, ?B/s]"
            ],
            "application/vnd.jupyter.widget-view+json": {
              "version_major": 2,
              "version_minor": 0,
              "model_id": "49bfc45c4e52459b8be61ac8404bbbc1"
            }
          },
          "metadata": {
            "application/vnd.jupyter.widget-view+json": {
              "colab": {
                "custom_widget_manager": {
                  "url": "https://ssl.gstatic.com/colaboratory-static/widgets/colab-cdn-widget-manager/d2e234f7cc04bf79/manager.min.js"
                }
              }
            }
          }
        },
        {
          "output_type": "display_data",
          "data": {
            "text/plain": [
              "Downloading config.json:   0%|          | 0.00/665 [00:00<?, ?B/s]"
            ],
            "application/vnd.jupyter.widget-view+json": {
              "version_major": 2,
              "version_minor": 0,
              "model_id": "8c591cbbeb9346c2b56dba8d95f5afd2"
            }
          },
          "metadata": {
            "application/vnd.jupyter.widget-view+json": {
              "colab": {
                "custom_widget_manager": {
                  "url": "https://ssl.gstatic.com/colaboratory-static/widgets/colab-cdn-widget-manager/d2e234f7cc04bf79/manager.min.js"
                }
              }
            }
          }
        },
        {
          "output_type": "stream",
          "name": "stdout",
          "text": [
            "/content/sample_data/ByteLevelBPE_tokenizer_es\n"
          ]
        }
      ]
    },
    {
      "cell_type": "markdown",
      "source": [
        "El siguiente paso ejecuta el paso de \"mezclar\" los dos tokenizers, manteniendo los pesos de los \n",
        "embeddings en común, tal y como se describe en la documentación de [Transformers de fastai](https://docs.fast.ai/39_tutorial.transformers.html) y en la generación de [GPorTuguese-2](https://medium.com/@pierre_guillou/faster-than-training-from-scratch-fine-tuning-the-english-gpt-2-in-any-language-with-hugging-f2ec05c98787)\n",
        "\n",
        "Esta matriz es el objeto `wte`, el cual contiene los vectores de los embeddings del tokenizer.\n",
        "\n",
        "Nótese que modificamos el método `encode` del `TransformerTokenizer` para que no realice ningún post-procesamiento (tal y como lo recomienda la documentación), y el método decodes retorna un objeto de fastai que permite que se utilicen métodos de fastai más adelante con el Tokenizer. [Referencia](https://docs.fast.ai/39_tutorial.transformers.html)"
      ],
      "metadata": {
        "id": "eu2TT7r_8F0B"
      }
    },
    {
      "cell_type": "code",
      "source": [
        "# Creamos la clase del transformer tokenizer\n",
        "class TransformersTokenizer(Transform):\n",
        "    def __init__(self, tokenizer): self.tokenizer = tokenizer\n",
        "    def encodes(self, x): \n",
        "        toks = self.tokenizer.tokenize(x)\n",
        "        return tensor(self.tokenizer.convert_tokens_to_ids(toks))\n",
        "    def decodes(self, x): return TitledStr(self.tokenizer.decode(x.cpu().numpy()))\n",
        "# Obtenemos los dos tokenizers\n",
        "tokenizer_fastai_en = TransformersTokenizer(tokenizer_en)\n",
        "tokenizer_fastai_es = TransformersTokenizer(tokenizer_es)\n",
        "# Cambiamos los embeddings del modelo GPT-2 pre entrenado para usar el \n",
        "#vocabulario de \"diputados\"\n",
        "# Obtenemos los pesos anteriores\n",
        "old_wgts = model.transformer.get_input_embeddings().weight.clone().detach()\n",
        "# Este es un truco documentado en la en la generación de GPorTuguese-2, \n",
        "# donde los embeddings de tokens del nuevo vocabulario que no estan en el \n",
        "# vocabulario original se les asigna un vector promedio de los embeddings.\n",
        "wgts_m = old_wgts.mean(0)\n",
        "# Creamos el nuevo vocabulario\n",
        "new_vocab_size = tokenizer_fastai_es.tokenizer.vocab_size\n",
        "new_wgts = old_wgts.new_zeros(new_vocab_size,old_wgts.size(1))\n",
        "# Crear el nuevo vocabulario manteniendo los vectores de embeddings\n",
        "# presentes en ambos. Los embeddings de tokens del nuevo vocabulario que no \n",
        "# estan en el \n",
        "# vocabulario original se les asigna un vector promedio de los embeddings.\n",
        "old_vocab = tokenizer_fastai_en.tokenizer.get_vocab()\n",
        "new_vocab = tokenizer_fastai_es.tokenizer.get_vocab()\n",
        "same_tokens_list = list()\n",
        "different_tokens_list = list()\n",
        "    \n",
        "for w,idx_new in new_vocab.items():    \n",
        "    idx_old = old_vocab.get(w, -1)\n",
        "    if idx_old>=0:\n",
        "        new_wgts[idx_new] = old_wgts[idx_old]\n",
        "        same_tokens_list.append((w,idx_new))\n",
        "    else:\n",
        "        new_wgts[idx_new] = wgts_m\n",
        "        different_tokens_list.append((w,idx_new))\n",
        "# Creamos la nueva matriz de embeddings\n",
        "new_wte = nn.Embedding(new_vocab_size,old_wgts.size(1))\n",
        "new_wte.weight.data = new_wgts\n",
        "model.transformer.set_input_embeddings(new_wte)\n",
        "\n",
        "torch.save(new_wgts, data_path+'/'+'new_wte_wgts.dp')\n",
        "# Salvar las matrices de tokens preexistentes y de los nuevos\n",
        "torch.save(same_tokens_list, data_path+'/'+'same_tokens_list.dp')\n",
        "torch.save(different_tokens_list, data_path+'/'+'different_tokens_list.dp')\n",
        "# Guardar los pesos de los embeddings en el modelo\n",
        "model.lm_head.weight = model.transformer.wte.weight"
      ],
      "metadata": {
        "id": "cETqHOu_TXvz"
      },
      "execution_count": null,
      "outputs": []
    },
    {
      "cell_type": "markdown",
      "source": [
        "Mostramos el modelo."
      ],
      "metadata": {
        "id": "erNmsPq1jwjU"
      }
    },
    {
      "cell_type": "code",
      "source": [
        "model.lm_head"
      ],
      "metadata": {
        "colab": {
          "base_uri": "https://localhost:8080/"
        },
        "id": "ipTX-jFUdeOo",
        "outputId": "7d896b78-4e50-4690-b958-b7b7e20c0dfa"
      },
      "execution_count": null,
      "outputs": [
        {
          "output_type": "execute_result",
          "data": {
            "text/plain": [
              "Linear(in_features=768, out_features=50257, bias=False)"
            ]
          },
          "metadata": {},
          "execution_count": 13
        }
      ]
    },
    {
      "cell_type": "markdown",
      "source": [
        "En el siguiente paso cargamos las intervenciones de los diputados en formato csv, con una intervención por fila (solamente se tiene un campo, 'text').\n",
        "\n",
        "Esto se utilizará para el entrenamiento del modelo.\n",
        "\n",
        "Nota: Con el fin de poder utilizar el GPU T4 de Colab, fue necesario reducir el número de textos utilizados a solamente 2000. De lo contrario la máquina tenía errores por quedarse sin memoria."
      ],
      "metadata": {
        "id": "FBHq-tX9BZMv"
      }
    },
    {
      "cell_type": "code",
      "source": [
        "lang = 'es'\n",
        "fname = f'all_texts_{lang}wiki.csv'\n",
        "# df = pd.read_csv('/content/sample_data/all_texts_eswiki.csv')\n",
        "df = pd.read_csv('/content/sample_data/diputados.csv')\n",
        "df.dropna()\n",
        "print(len(df))\n",
        "dfl = df[0:2000]['text'].tolist()\n",
        "print(len(dfl))\n"
      ],
      "metadata": {
        "colab": {
          "base_uri": "https://localhost:8080/"
        },
        "id": "sfeGBLaYdoCs",
        "outputId": "e7c807b4-c1ca-42a5-ba90-dff29f30c2c7"
      },
      "execution_count": null,
      "outputs": [
        {
          "output_type": "stream",
          "name": "stdout",
          "text": [
            "2247\n",
            "2000\n"
          ]
        }
      ]
    },
    {
      "cell_type": "markdown",
      "source": [
        "A continuación se definen los parametros de los conjuntos de entrenamiento. Usamos una división 80/20 de entrenamiento/prueba.\n",
        "\n",
        "Nota: Basado en la [documentación de fastai](https://docs.fast.ai/39_tutorial.transformers.html), se utilizó un [TfmdLists](https://docs.fast.ai/data.core.html#tfmdlists). Esta clase tiene la caracteristica que puede manejar tanto el conjunto de entrenamiento como el de prueba. En la variable splits se le dice cuales elementos del arreglo de textos son de cada conjunto."
      ],
      "metadata": {
        "id": "PHUuW_-_B6iM"
      }
    },
    {
      "cell_type": "code",
      "source": [
        "num = int(0.8*len(df)) # 80% para entrenamiento\n",
        "idxs = np.random.randint(0, len(dfl), len(dfl))\n",
        "idxs_train = idxs[:num]\n",
        "idxs_val = idxs[num:]\n",
        "# We gather all texts in one numpy array \n",
        "# (since it will be easier to use this way with fastai)\n",
        "# all_texts = np.concatenate([dfl.iloc[idxs_train], dfl.iloc[idxs_val]])\n",
        "all_texts = np.concatenate([dfl[:num],dfl[num:]])\n",
        "# all_texts = np.concatenate([df.iloc[idxs_train].text.astype(str).values.to_list(), \n",
        "#                             df.iloc[idxs_val].text.astype(str).values.to_list()])\n",
        "splits = [list(idxs_train), list(idxs_val)]\n",
        "tls = TfmdLists(all_texts, TransformersTokenizer(tokenizer_es), splits=splits, dl_type=LMDataLoader)"
      ],
      "metadata": {
        "colab": {
          "base_uri": "https://localhost:8080/"
        },
        "id": "4uUxjBk3YzAx",
        "outputId": "497d4c11-8c9a-4c86-e93a-93d3e5b57639"
      },
      "execution_count": null,
      "outputs": [
        {
          "output_type": "stream",
          "name": "stderr",
          "text": [
            "Token indices sequence length is longer than the specified maximum sequence length for this model (3317 > 1024). Running this sequence through the model will result in indexing errors\n"
          ]
        }
      ]
    },
    {
      "cell_type": "markdown",
      "source": [
        "Parámetros para el entrenamiento.\n",
        "Utilizamos:\n",
        "\n",
        "\n",
        "*   Batch Size: 4. Números superiores causaban que la GPU se quedara sin memoria\n",
        "*   Tamaño de Sequencia de 1024. En este caso la GPU soportó esta secuencia y es la que utiliza GPT2 por defecto\n",
        "\n",
        "Adicionalmente se utiliza un objeto [Dataloader](https://docs.fast.ai/data.core.html#dataloaders), el cual carga los datos de prueba y validación.\n",
        "\n"
      ],
      "metadata": {
        "id": "Jxd1FlhECvrC"
      }
    },
    {
      "cell_type": "code",
      "source": [
        "bs,sl = 4,1024\n",
        "dls = tls.dataloaders(bs=bs, seq_len=sl)"
      ],
      "metadata": {
        "id": "aPfac1hGZFSX"
      },
      "execution_count": null,
      "outputs": []
    },
    {
      "cell_type": "markdown",
      "source": [
        "Podemos pedirle al dataloader que nos muestre los textos a utilizar. El de la derecha está corrida una posición para su uso en el entrenamiento y validación."
      ],
      "metadata": {
        "id": "pcIN56JKD2AV"
      }
    },
    {
      "cell_type": "code",
      "source": [
        "# df.head()\n",
        "# all_texts[0]\n",
        "# splits[1]\n",
        "dls.show_batch(max_n=5)\n"
      ],
      "metadata": {
        "colab": {
          "base_uri": "https://localhost:8080/",
          "height": 1000
        },
        "id": "Cbt9gT9ox0aE",
        "outputId": "caaac330-9810-4788-c3a6-d0956faf8c16"
      },
      "execution_count": null,
      "outputs": [
        {
          "output_type": "display_data",
          "data": {
            "text/plain": [
              "<IPython.core.display.HTML object>"
            ],
            "text/html": [
              "<table border=\"1\" class=\"dataframe\">\n",
              "  <thead>\n",
              "    <tr style=\"text-align: right;\">\n",
              "      <th></th>\n",
              "      <th>text</th>\n",
              "      <th>text_</th>\n",
              "    </tr>\n",
              "  </thead>\n",
              "  <tbody>\n",
              "    <tr>\n",
              "      <th>0</th>\n",
              "      <td>\\n\\nActa de la sesión plenaria ordinaria N\\n.º\\n 76\\nMiércoles 10 de octubre de 2018\\nSegundo período de sesiones ordinarias\\nPrimera legislatura\\nDiputado Roberto Thompson Chacón:\\nMuchas gracias, señora presidenta, compañeras y compañeros, muy buenas tardes para todos los que nos escuchan y nos ven.\\nYo quisiera referirme hoy al tema de la construcción de las obras en el campus de la Universidad Nacional, que junto con varios compañeros y compañeras de esta fracción hemos estado denunciando desde el día de ayer en que apareció el famoso cartel de adjudicación de la licitación.\\nYo particularmente me siento orgulloso de ser graduado de la Universidad de Costa Rica, donde pasé seis años estudiando y tengo un título de licenciado en Derecho de la Universidad de Costa Rica. Y me siento, me siento, diputado Cruickshank, igual que usted, profundamente orgulloso de llevar ese título y mostrarlo.\\nDefensor por supuesto de la educación pública superior, fui también durante el 2006 al 2010</td>\n",
              "      <td>\\nActa de la sesión plenaria ordinaria N\\n.º\\n 76\\nMiércoles 10 de octubre de 2018\\nSegundo período de sesiones ordinarias\\nPrimera legislatura\\nDiputado Roberto Thompson Chacón:\\nMuchas gracias, señora presidenta, compañeras y compañeros, muy buenas tardes para todos los que nos escuchan y nos ven.\\nYo quisiera referirme hoy al tema de la construcción de las obras en el campus de la Universidad Nacional, que junto con varios compañeros y compañeras de esta fracción hemos estado denunciando desde el día de ayer en que apareció el famoso cartel de adjudicación de la licitación.\\nYo particularmente me siento orgulloso de ser graduado de la Universidad de Costa Rica, donde pasé seis años estudiando y tengo un título de licenciado en Derecho de la Universidad de Costa Rica. Y me siento, me siento, diputado Cruickshank, igual que usted, profundamente orgulloso de llevar ese título y mostrarlo.\\nDefensor por supuesto de la educación pública superior, fui también durante el 2006 al 2010</td>\n",
              "    </tr>\n",
              "    <tr>\n",
              "      <th>1</th>\n",
              "      <td>se le apuntó en ese momento, al modelo de desarrollo cuyos réditos hemos disfrutado como costarricenses, y a ese modelo de convivencia social que nos da la opción permanente de contar con la vía institucional para resolver nuestras diferencias.Imaginémonos nosotros la importancia que replicó esto inclusive en esa transición democrática. Imaginemos nosotros la importancia que tuvo en los 40 las reformas sociales e institucionales que se llevaron a cabo bajo el liderazgo de Calderón Guardia y de Figueres Ferrer, que debían blindarse para garantizar esa transición democrática.Pues, compañeras y compañeros diputados, la abolición del Ejército le dio solidez e impidió que se revirtieran esas decisiones vitales.Sabidos de nuestros problemas económicos y sociales, que tenemos hoy y que se nos recuerdan constantemente, ya lo vimos en el último informe del Estado de la Nación 2019, donde nos habla de esa Costa Rica con una analogía de una caja de cartón,</td>\n",
              "      <td>le apuntó en ese momento, al modelo de desarrollo cuyos réditos hemos disfrutado como costarricenses, y a ese modelo de convivencia social que nos da la opción permanente de contar con la vía institucional para resolver nuestras diferencias.Imaginémonos nosotros la importancia que replicó esto inclusive en esa transición democrática. Imaginemos nosotros la importancia que tuvo en los 40 las reformas sociales e institucionales que se llevaron a cabo bajo el liderazgo de Calderón Guardia y de Figueres Ferrer, que debían blindarse para garantizar esa transición democrática.Pues, compañeras y compañeros diputados, la abolición del Ejército le dio solidez e impidió que se revirtieran esas decisiones vitales.Sabidos de nuestros problemas económicos y sociales, que tenemos hoy y que se nos recuerdan constantemente, ya lo vimos en el último informe del Estado de la Nación 2019, donde nos habla de esa Costa Rica con una analogía de una caja de cartón, frágil,</td>\n",
              "    </tr>\n",
              "    <tr>\n",
              "      <th>2</th>\n",
              "      <td>totalmente claro, pero en un comunicado que leímos nos dice que esto es con el propósito de apoyar al país en la implementación de reformas fiscales.\\nMenciono todo este espectro porque da la sensación de que nos estamos endeudando a futuro aparte de la emisión de bonos, estamos endeudándonos para cobrar plata. Es interesante esto., un endeudamiento, un fuerte endeudamiento…Un endeudamiento, un fuerte endeudamiento para tener capacidad de cobrar dinero.  Y esto lo que me dice a mí es que queda aquí sujeto a la expertise\\n, a la capacidad de gestión del Ministerio de Hacienda, para que estos préstamos, para que estos recursos no sean gravosos, no sean una carga a futuro, si no hay una capacidad de gestión del Ministerio para que realmente sea eficiente y sea eficaz el cobro.Nos estamos endeudando para cobrar plata.  Interesante. Pero yo además también diría que estamos hipotecando el futuro de</td>\n",
              "      <td>claro, pero en un comunicado que leímos nos dice que esto es con el propósito de apoyar al país en la implementación de reformas fiscales.\\nMenciono todo este espectro porque da la sensación de que nos estamos endeudando a futuro aparte de la emisión de bonos, estamos endeudándonos para cobrar plata. Es interesante esto., un endeudamiento, un fuerte endeudamiento…Un endeudamiento, un fuerte endeudamiento para tener capacidad de cobrar dinero.  Y esto lo que me dice a mí es que queda aquí sujeto a la expertise\\n, a la capacidad de gestión del Ministerio de Hacienda, para que estos préstamos, para que estos recursos no sean gravosos, no sean una carga a futuro, si no hay una capacidad de gestión del Ministerio para que realmente sea eficiente y sea eficaz el cobro.Nos estamos endeudando para cobrar plata.  Interesante. Pero yo además también diría que estamos hipotecando el futuro de Costa</td>\n",
              "    </tr>\n",
              "    <tr>\n",
              "      <th>3</th>\n",
              "      <td>dinero en Costa Rica es inversamente proporcional, se va reduciendo, hasta que ya al final de la legislatura, no se habla del tema?Creo que esas pistas invisibles también hay que destruirlas y creo que esta Asamblea que sea ha…, pues, no voy a decir toda la Asamblea, pero donde a menudo escucho a compañeras diputadas y compañeros diputados vanagloriarse de lo diferente que es esta Asamblea, de los cambios que esta Asamblea está dispuesta a cometer en la legislación de nuestro país, me gustaría ver que esta Asamblea rompa ese ciclo, rompa ese ciclo.\\nNo he terminado de entender por qué de pronto algo que venía con tanto impulso y en esa lucha contra el crimen organizado y el lavado de dinero, de pronto fue metido en el congelador, créanme que tengo mis hipótesis, hipótesis que están bien documentadas, por ejemplo, hay informe reciente del ICD a organismos internacionales donde</td>\n",
              "      <td>en Costa Rica es inversamente proporcional, se va reduciendo, hasta que ya al final de la legislatura, no se habla del tema?Creo que esas pistas invisibles también hay que destruirlas y creo que esta Asamblea que sea ha…, pues, no voy a decir toda la Asamblea, pero donde a menudo escucho a compañeras diputadas y compañeros diputados vanagloriarse de lo diferente que es esta Asamblea, de los cambios que esta Asamblea está dispuesta a cometer en la legislación de nuestro país, me gustaría ver que esta Asamblea rompa ese ciclo, rompa ese ciclo.\\nNo he terminado de entender por qué de pronto algo que venía con tanto impulso y en esa lucha contra el crimen organizado y el lavado de dinero, de pronto fue metido en el congelador, créanme que tengo mis hipótesis, hipótesis que están bien documentadas, por ejemplo, hay informe reciente del ICD a organismos internacionales donde se</td>\n",
              "    </tr>\n",
              "  </tbody>\n",
              "</table>"
            ]
          },
          "metadata": {}
        }
      ]
    },
    {
      "cell_type": "markdown",
      "source": [
        "El modelo HuggingFace retorna una tupla , con las predicciones reales y algunas activaciones adicionales. Para trabajar dentro del ciclo de entrenamiento fastai, necesitaremos eliminar las activaciones con el siguiente método: [Referencia](https://docs.fast.ai/39_tutorial.transformers.html#fine-tuning-the-model)"
      ],
      "metadata": {
        "id": "JJR0o2qBEDA2"
      }
    },
    {
      "cell_type": "code",
      "source": [
        "class DropOutput(Callback):\n",
        "    def after_pred(self): self.learn.pred = self.pred[0]"
      ],
      "metadata": {
        "id": "rmVTh97n6T2l"
      },
      "execution_count": null,
      "outputs": []
    },
    {
      "cell_type": "markdown",
      "source": [
        "Adicionalmente creamos multiples de las capas del modelo, 4 grupos especificamente, siguiendo las recomendaciones y explicaciones dadas en las siguientes referencias:\n",
        "\n",
        "\n",
        "*   [GPorTuguese-2](https://medium.com/@pierre_guillou/faster-than-training-from-scratch-fine-tuning-the-english-gpt-2-in-any-language-with-hugging-f2ec05c98787)\n",
        "*   [The Illustrated GPT-2 (Visualizing Transformer Language Models)](https://jalammar.github.io/illustrated-gpt2/)\n",
        "*   [fastai Splitters, the Layer Groups, and how that relates to Transfer Learning](https://www.youtube.com/watch?v=UFS3FxsfIYA)\n",
        "\n",
        "Estos grupos pueden tener diferentes _learning rates_. Sin embargo en este caso se utilizó solamente un learning rate como se elabora más adelante. Sin embargo el modelo queda listo para experimentos posteriores con estas variaciones.\n",
        "\n",
        "Asimismo la principal razón de utilizar el splitter es para poder guardar progresivamente el modelo conforme se va entrenando en caso que se elimine la máquina de Google Colab."
      ],
      "metadata": {
        "id": "G44OzDqfEojf"
      }
    },
    {
      "cell_type": "code",
      "source": [
        "def splitter(model):\n",
        "    \n",
        "    modules = []\n",
        "    for i in range(4): modules.append(model.transformer.h[i])\n",
        "    groups = [nn.Sequential(*modules)]\n",
        "\n",
        "    modules = []\n",
        "    for i in range(4,8,1): modules.append(model.transformer.h[i])\n",
        "    groups = L(groups + [nn.Sequential(*modules)])\n",
        "\n",
        "    modules = []\n",
        "    for i in range(8,12,1): modules.append(model.transformer.h[i])\n",
        "    groups = L(groups + [nn.Sequential(*modules)])\n",
        "    \n",
        "\n",
        "    groups = L(groups +    [nn.Sequential(model.transformer.wte,model.transformer.wpe,model.transformer.ln_f)])\n",
        "    \n",
        "    return groups.map(params)"
      ],
      "metadata": {
        "id": "pIukpp8Z6Y_U"
      },
      "execution_count": null,
      "outputs": []
    },
    {
      "cell_type": "markdown",
      "source": [
        "Ahora se crea el objeto [Learner](https://docs.fast.ai/learner.html#learner), que un objeto de fastai que agrupa y maneja los datos, el modelo, la función de pérdida y tiene la funcionalidad necesaria para entrenar el modelo. [Referencia](https://docs.fast.ai/39_tutorial.transformers.html#fine-tuning-the-model)\n",
        "\n",
        "Posteriormente revisamos la configuración del learner y los grupos (Creados por el `splitter` anterior)."
      ],
      "metadata": {
        "id": "NjpR7PjyGTs5"
      }
    },
    {
      "cell_type": "code",
      "source": [
        "%%time\n",
        "\n",
        "learn = Learner(dls, model, loss_func=CrossEntropyLossFlat(),\n",
        "                splitter = splitter,\n",
        "                cbs=[DropOutput], \n",
        "                metrics=[accuracy, Perplexity()]).to_fp16()"
      ],
      "metadata": {
        "colab": {
          "base_uri": "https://localhost:8080/"
        },
        "id": "byVenY4R6hhv",
        "outputId": "736720cc-98bd-4c97-f7e0-6141f863faf0"
      },
      "execution_count": null,
      "outputs": [
        {
          "output_type": "stream",
          "name": "stdout",
          "text": [
            "CPU times: user 1.09 ms, sys: 14 µs, total: 1.11 ms\n",
            "Wall time: 1.11 ms\n"
          ]
        }
      ]
    },
    {
      "cell_type": "code",
      "source": [
        "%%time\n",
        "# Check the number of parameters groups and the hyperparameters values\n",
        "learn.create_opt()\n",
        "print(f'number of parameters groups: {len(learn.opt.param_groups)}')\n",
        "\n",
        "for i,h in enumerate(learn.opt.hypers):\n",
        "    print(i,h)"
      ],
      "metadata": {
        "colab": {
          "base_uri": "https://localhost:8080/"
        },
        "id": "zlDi_IU56pIY",
        "outputId": "f71f84b4-9a0c-44bc-94c0-f8cff74f91c6"
      },
      "execution_count": null,
      "outputs": [
        {
          "output_type": "stream",
          "name": "stdout",
          "text": [
            "number of parameters groups: 4\n",
            "0 {'wd': 0.01, 'sqr_mom': 0.99, 'lr': 0.001, 'mom': 0.9, 'eps': 1e-05}\n",
            "1 {'wd': 0.01, 'sqr_mom': 0.99, 'lr': 0.001, 'mom': 0.9, 'eps': 1e-05}\n",
            "2 {'wd': 0.01, 'sqr_mom': 0.99, 'lr': 0.001, 'mom': 0.9, 'eps': 1e-05}\n",
            "3 {'wd': 0.01, 'sqr_mom': 0.99, 'lr': 0.001, 'mom': 0.9, 'eps': 1e-05}\n",
            "CPU times: user 23.1 ms, sys: 4 µs, total: 23.1 ms\n",
            "Wall time: 64.2 ms\n"
          ]
        }
      ]
    },
    {
      "cell_type": "code",
      "source": [
        "%%time\n",
        "learn.validate()\n"
      ],
      "metadata": {
        "colab": {
          "base_uri": "https://localhost:8080/",
          "height": 71
        },
        "id": "K5UxLVC47msN",
        "outputId": "e1951b83-19ca-410b-c940-6da4447834e9"
      },
      "execution_count": null,
      "outputs": [
        {
          "output_type": "display_data",
          "data": {
            "text/plain": [
              "<IPython.core.display.HTML object>"
            ],
            "text/html": [
              "\n",
              "<style>\n",
              "    /* Turns off some styling */\n",
              "    progress {\n",
              "        /* gets rid of default border in Firefox and Opera. */\n",
              "        border: none;\n",
              "        /* Needs to be in here for Safari polyfill so background images work as expected. */\n",
              "        background-size: auto;\n",
              "    }\n",
              "    progress:not([value]), progress:not([value])::-webkit-progress-bar {\n",
              "        background: repeating-linear-gradient(45deg, #7e7e7e, #7e7e7e 10px, #5c5c5c 10px, #5c5c5c 20px);\n",
              "    }\n",
              "    .progress-bar-interrupted, .progress-bar-interrupted::-webkit-progress-bar {\n",
              "        background: #F44336;\n",
              "    }\n",
              "</style>\n"
            ]
          },
          "metadata": {}
        },
        {
          "output_type": "display_data",
          "data": {
            "text/plain": [
              "<IPython.core.display.HTML object>"
            ],
            "text/html": [
              ""
            ]
          },
          "metadata": {}
        },
        {
          "output_type": "stream",
          "name": "stdout",
          "text": [
            "CPU times: user 1min 52s, sys: 4 s, total: 1min 56s\n",
            "Wall time: 2min 1s\n"
          ]
        },
        {
          "output_type": "execute_result",
          "data": {
            "text/plain": [
              "(#3) [11.191086769104004,0.027562391012907028,72481.5078125]"
            ]
          },
          "metadata": {},
          "execution_count": 23
        }
      ]
    },
    {
      "cell_type": "markdown",
      "source": [
        "Con el siguiente comando podemos observar la configuración del modelo, las diferentes capas que lo componen.\n",
        "\n",
        "Algo muy interesante a notar es como la primera capa es la de embeddings. Esto muestra la arquitectura del transformer, donde el primer componente es la matriz de atención, la cual se compone de vectores de embeddings como se puede observar.\n",
        "\n",
        "Posteriormente vienen las demás capas con convoluciones."
      ],
      "metadata": {
        "id": "RQEX831aHBBq"
      }
    },
    {
      "cell_type": "code",
      "source": [
        "%%time \n",
        "\n",
        "learn.freeze()\n",
        "learn.summary()"
      ],
      "metadata": {
        "colab": {
          "base_uri": "https://localhost:8080/",
          "height": 1000
        },
        "id": "W_ew8rs691kt",
        "outputId": "ee626fc0-96d6-4b5c-feb1-6a407ea526c1"
      },
      "execution_count": null,
      "outputs": [
        {
          "output_type": "display_data",
          "data": {
            "text/plain": [
              "<IPython.core.display.HTML object>"
            ],
            "text/html": [
              "\n",
              "<style>\n",
              "    /* Turns off some styling */\n",
              "    progress {\n",
              "        /* gets rid of default border in Firefox and Opera. */\n",
              "        border: none;\n",
              "        /* Needs to be in here for Safari polyfill so background images work as expected. */\n",
              "        background-size: auto;\n",
              "    }\n",
              "    progress:not([value]), progress:not([value])::-webkit-progress-bar {\n",
              "        background: repeating-linear-gradient(45deg, #7e7e7e, #7e7e7e 10px, #5c5c5c 10px, #5c5c5c 20px);\n",
              "    }\n",
              "    .progress-bar-interrupted, .progress-bar-interrupted::-webkit-progress-bar {\n",
              "        background: #F44336;\n",
              "    }\n",
              "</style>\n"
            ]
          },
          "metadata": {}
        },
        {
          "output_type": "display_data",
          "data": {
            "text/plain": [
              "<IPython.core.display.HTML object>"
            ],
            "text/html": [
              ""
            ]
          },
          "metadata": {}
        },
        {
          "output_type": "stream",
          "name": "stdout",
          "text": [
            "CPU times: user 763 ms, sys: 289 ms, total: 1.05 s\n",
            "Wall time: 1.06 s\n"
          ]
        },
        {
          "output_type": "execute_result",
          "data": {
            "text/plain": [
              "GPT2LMHeadModel (Input shape: 4 x 1024)\n",
              "============================================================================\n",
              "Layer (type)         Output Shape         Param #    Trainable \n",
              "============================================================================\n",
              "                     4 x 1024 x 768      \n",
              "Embedding                                 38597376   True      \n",
              "Embedding                                 786432     True      \n",
              "Dropout                                                        \n",
              "LayerNorm                                 1536       True      \n",
              "____________________________________________________________________________\n",
              "                     4 x 1024 x 2304     \n",
              "Conv1D                                    1771776    False     \n",
              "Conv1D                                    590592     False     \n",
              "Dropout                                                        \n",
              "Dropout                                                        \n",
              "LayerNorm                                 1536       True      \n",
              "____________________________________________________________________________\n",
              "                     4 x 1024 x 3072     \n",
              "Conv1D                                    2362368    False     \n",
              "____________________________________________________________________________\n",
              "                     4 x 1024 x 768      \n",
              "Conv1D                                    2360064    False     \n",
              "NewGELUActivation                                              \n",
              "Dropout                                                        \n",
              "LayerNorm                                 1536       True      \n",
              "____________________________________________________________________________\n",
              "                     4 x 1024 x 2304     \n",
              "Conv1D                                    1771776    False     \n",
              "Conv1D                                    590592     False     \n",
              "Dropout                                                        \n",
              "Dropout                                                        \n",
              "LayerNorm                                 1536       True      \n",
              "____________________________________________________________________________\n",
              "                     4 x 1024 x 3072     \n",
              "Conv1D                                    2362368    False     \n",
              "____________________________________________________________________________\n",
              "                     4 x 1024 x 768      \n",
              "Conv1D                                    2360064    False     \n",
              "NewGELUActivation                                              \n",
              "Dropout                                                        \n",
              "LayerNorm                                 1536       True      \n",
              "____________________________________________________________________________\n",
              "                     4 x 1024 x 2304     \n",
              "Conv1D                                    1771776    False     \n",
              "Conv1D                                    590592     False     \n",
              "Dropout                                                        \n",
              "Dropout                                                        \n",
              "LayerNorm                                 1536       True      \n",
              "____________________________________________________________________________\n",
              "                     4 x 1024 x 3072     \n",
              "Conv1D                                    2362368    False     \n",
              "____________________________________________________________________________\n",
              "                     4 x 1024 x 768      \n",
              "Conv1D                                    2360064    False     \n",
              "NewGELUActivation                                              \n",
              "Dropout                                                        \n",
              "LayerNorm                                 1536       True      \n",
              "____________________________________________________________________________\n",
              "                     4 x 1024 x 2304     \n",
              "Conv1D                                    1771776    False     \n",
              "Conv1D                                    590592     False     \n",
              "Dropout                                                        \n",
              "Dropout                                                        \n",
              "LayerNorm                                 1536       True      \n",
              "____________________________________________________________________________\n",
              "                     4 x 1024 x 3072     \n",
              "Conv1D                                    2362368    False     \n",
              "____________________________________________________________________________\n",
              "                     4 x 1024 x 768      \n",
              "Conv1D                                    2360064    False     \n",
              "NewGELUActivation                                              \n",
              "Dropout                                                        \n",
              "LayerNorm                                 1536       True      \n",
              "____________________________________________________________________________\n",
              "                     4 x 1024 x 2304     \n",
              "Conv1D                                    1771776    False     \n",
              "Conv1D                                    590592     False     \n",
              "Dropout                                                        \n",
              "Dropout                                                        \n",
              "LayerNorm                                 1536       True      \n",
              "____________________________________________________________________________\n",
              "                     4 x 1024 x 3072     \n",
              "Conv1D                                    2362368    False     \n",
              "____________________________________________________________________________\n",
              "                     4 x 1024 x 768      \n",
              "Conv1D                                    2360064    False     \n",
              "NewGELUActivation                                              \n",
              "Dropout                                                        \n",
              "LayerNorm                                 1536       True      \n",
              "____________________________________________________________________________\n",
              "                     4 x 1024 x 2304     \n",
              "Conv1D                                    1771776    False     \n",
              "Conv1D                                    590592     False     \n",
              "Dropout                                                        \n",
              "Dropout                                                        \n",
              "LayerNorm                                 1536       True      \n",
              "____________________________________________________________________________\n",
              "                     4 x 1024 x 3072     \n",
              "Conv1D                                    2362368    False     \n",
              "____________________________________________________________________________\n",
              "                     4 x 1024 x 768      \n",
              "Conv1D                                    2360064    False     \n",
              "NewGELUActivation                                              \n",
              "Dropout                                                        \n",
              "LayerNorm                                 1536       True      \n",
              "____________________________________________________________________________\n",
              "                     4 x 1024 x 2304     \n",
              "Conv1D                                    1771776    False     \n",
              "Conv1D                                    590592     False     \n",
              "Dropout                                                        \n",
              "Dropout                                                        \n",
              "LayerNorm                                 1536       True      \n",
              "____________________________________________________________________________\n",
              "                     4 x 1024 x 3072     \n",
              "Conv1D                                    2362368    False     \n",
              "____________________________________________________________________________\n",
              "                     4 x 1024 x 768      \n",
              "Conv1D                                    2360064    False     \n",
              "NewGELUActivation                                              \n",
              "Dropout                                                        \n",
              "LayerNorm                                 1536       True      \n",
              "____________________________________________________________________________\n",
              "                     4 x 1024 x 2304     \n",
              "Conv1D                                    1771776    False     \n",
              "Conv1D                                    590592     False     \n",
              "Dropout                                                        \n",
              "Dropout                                                        \n",
              "LayerNorm                                 1536       True      \n",
              "____________________________________________________________________________\n",
              "                     4 x 1024 x 3072     \n",
              "Conv1D                                    2362368    False     \n",
              "____________________________________________________________________________\n",
              "                     4 x 1024 x 768      \n",
              "Conv1D                                    2360064    False     \n",
              "NewGELUActivation                                              \n",
              "Dropout                                                        \n",
              "LayerNorm                                 1536       True      \n",
              "____________________________________________________________________________\n",
              "                     4 x 1024 x 2304     \n",
              "Conv1D                                    1771776    False     \n",
              "Conv1D                                    590592     False     \n",
              "Dropout                                                        \n",
              "Dropout                                                        \n",
              "LayerNorm                                 1536       True      \n",
              "____________________________________________________________________________\n",
              "                     4 x 1024 x 3072     \n",
              "Conv1D                                    2362368    False     \n",
              "____________________________________________________________________________\n",
              "                     4 x 1024 x 768      \n",
              "Conv1D                                    2360064    False     \n",
              "NewGELUActivation                                              \n",
              "Dropout                                                        \n",
              "LayerNorm                                 1536       True      \n",
              "____________________________________________________________________________\n",
              "                     4 x 1024 x 2304     \n",
              "Conv1D                                    1771776    False     \n",
              "Conv1D                                    590592     False     \n",
              "Dropout                                                        \n",
              "Dropout                                                        \n",
              "LayerNorm                                 1536       True      \n",
              "____________________________________________________________________________\n",
              "                     4 x 1024 x 3072     \n",
              "Conv1D                                    2362368    False     \n",
              "____________________________________________________________________________\n",
              "                     4 x 1024 x 768      \n",
              "Conv1D                                    2360064    False     \n",
              "NewGELUActivation                                              \n",
              "Dropout                                                        \n",
              "LayerNorm                                 1536       True      \n",
              "____________________________________________________________________________\n",
              "                     4 x 1024 x 2304     \n",
              "Conv1D                                    1771776    False     \n",
              "Conv1D                                    590592     False     \n",
              "Dropout                                                        \n",
              "Dropout                                                        \n",
              "LayerNorm                                 1536       True      \n",
              "____________________________________________________________________________\n",
              "                     4 x 1024 x 3072     \n",
              "Conv1D                                    2362368    False     \n",
              "____________________________________________________________________________\n",
              "                     4 x 1024 x 768      \n",
              "Conv1D                                    2360064    False     \n",
              "NewGELUActivation                                              \n",
              "Dropout                                                        \n",
              "LayerNorm                                 1536       True      \n",
              "____________________________________________________________________________\n",
              "                     4 x 1024 x 2304     \n",
              "Conv1D                                    1771776    False     \n",
              "Conv1D                                    590592     False     \n",
              "Dropout                                                        \n",
              "Dropout                                                        \n",
              "LayerNorm                                 1536       True      \n",
              "____________________________________________________________________________\n",
              "                     4 x 1024 x 3072     \n",
              "Conv1D                                    2362368    False     \n",
              "____________________________________________________________________________\n",
              "                     4 x 1024 x 768      \n",
              "Conv1D                                    2360064    False     \n",
              "NewGELUActivation                                              \n",
              "Dropout                                                        \n",
              "LayerNorm                                 1536       True      \n",
              "____________________________________________________________________________\n",
              "                     4 x 1024 x 50257    \n",
              "Linear                                    38597376   True      \n",
              "____________________________________________________________________________\n",
              "\n",
              "Total params: 163,037,184\n",
              "Total trainable params: 78,019,584\n",
              "Total non-trainable params: 85,017,600\n",
              "\n",
              "Optimizer used: <function Adam at 0x7f97a8109c20>\n",
              "Loss function: FlattenedLoss of CrossEntropyLoss()\n",
              "\n",
              "Model frozen up to parameter group #3\n",
              "\n",
              "Callbacks:\n",
              "  - TrainEvalCallback\n",
              "  - DropOutput\n",
              "  - CastToTensor\n",
              "  - MixedPrecision\n",
              "  - Recorder\n",
              "  - ProgressCallback"
            ],
            "application/vnd.google.colaboratory.intrinsic+json": {
              "type": "string"
            }
          },
          "metadata": {},
          "execution_count": 25
        }
      ]
    },
    {
      "cell_type": "markdown",
      "source": [
        "Algo muy útil de las bibliotecas de `fastai` es la posiblidad del modelo de determinar la tasa óptima de entrenamiento. Esto se hace con el método `lr_find()` del `Learner` como se describe en [Using the Learning Rate Finder (Beginner)](https://walkwithfastai.com/lr_finder)"
      ],
      "metadata": {
        "id": "15lmO4c-Hk6Y"
      }
    },
    {
      "cell_type": "code",
      "source": [
        "%%time\n",
        "\n",
        "torch.cuda.empty_cache()\n",
        "learn.lr_find()\n"
      ],
      "metadata": {
        "colab": {
          "base_uri": "https://localhost:8080/",
          "height": 337
        },
        "id": "wz0O0Fut99L2",
        "outputId": "cb6dc4fb-f99c-489f-9fc6-7d43ae6566a3"
      },
      "execution_count": null,
      "outputs": [
        {
          "output_type": "display_data",
          "data": {
            "text/plain": [
              "<IPython.core.display.HTML object>"
            ],
            "text/html": [
              "\n",
              "<style>\n",
              "    /* Turns off some styling */\n",
              "    progress {\n",
              "        /* gets rid of default border in Firefox and Opera. */\n",
              "        border: none;\n",
              "        /* Needs to be in here for Safari polyfill so background images work as expected. */\n",
              "        background-size: auto;\n",
              "    }\n",
              "    progress:not([value]), progress:not([value])::-webkit-progress-bar {\n",
              "        background: repeating-linear-gradient(45deg, #7e7e7e, #7e7e7e 10px, #5c5c5c 10px, #5c5c5c 20px);\n",
              "    }\n",
              "    .progress-bar-interrupted, .progress-bar-interrupted::-webkit-progress-bar {\n",
              "        background: #F44336;\n",
              "    }\n",
              "</style>\n"
            ]
          },
          "metadata": {}
        },
        {
          "output_type": "display_data",
          "data": {
            "text/plain": [
              "<IPython.core.display.HTML object>"
            ],
            "text/html": [
              ""
            ]
          },
          "metadata": {}
        },
        {
          "output_type": "stream",
          "name": "stdout",
          "text": [
            "CPU times: user 1min 27s, sys: 2.67 s, total: 1min 30s\n",
            "Wall time: 1min 33s\n"
          ]
        },
        {
          "output_type": "execute_result",
          "data": {
            "text/plain": [
              "SuggestedLRs(valley=0.0002754228771664202)"
            ]
          },
          "metadata": {},
          "execution_count": 26
        },
        {
          "output_type": "display_data",
          "data": {
            "text/plain": [
              "<Figure size 432x288 with 1 Axes>"
            ],
            "image/png": "[encoded data removed]"
          },
          "metadata": {
            "needs_background": "light"
          }
        }
      ]
    },
    {
      "cell_type": "code",
      "source": [
        "Con esto fijamos la tasa de entrenamiento:"
      ],
      "metadata": {
        "id": "qGwlKhwXIK35"
      },
      "execution_count": null,
      "outputs": []
    },
    {
      "cell_type": "code",
      "source": [
        "learning_rate = 0.0002754228771664202"
      ],
      "metadata": {
        "id": "ApV34hcK9rH1"
      },
      "execution_count": null,
      "outputs": []
    },
    {
      "cell_type": "markdown",
      "source": [
        "Y ejecutamos el entrenamiento.\n",
        "Notese que el entrenamiento es por los grupos anteriormente mencionados.\n",
        "\n",
        "El ciclo de entrenamiento del modelo consiste en congelar las capas de los demás grupos, y ejecutar un ciclo de entrenamiento. En nuestro caso ejecutamos un _epoch_ en cada ciclo."
      ],
      "metadata": {
        "id": "y_1qxu4wIXqf"
      }
    },
    {
      "cell_type": "code",
      "source": [
        "learn.fit_one_cycle(1, learning_rate)"
      ],
      "metadata": {
        "colab": {
          "base_uri": "https://localhost:8080/",
          "height": 81
        },
        "id": "FVSzkvKC_2Jp",
        "outputId": "52dec5d3-90fe-4e21-e21a-bab2d6c32daa"
      },
      "execution_count": null,
      "outputs": [
        {
          "output_type": "display_data",
          "data": {
            "text/plain": [
              "<IPython.core.display.HTML object>"
            ],
            "text/html": [
              "\n",
              "<style>\n",
              "    /* Turns off some styling */\n",
              "    progress {\n",
              "        /* gets rid of default border in Firefox and Opera. */\n",
              "        border: none;\n",
              "        /* Needs to be in here for Safari polyfill so background images work as expected. */\n",
              "        background-size: auto;\n",
              "    }\n",
              "    progress:not([value]), progress:not([value])::-webkit-progress-bar {\n",
              "        background: repeating-linear-gradient(45deg, #7e7e7e, #7e7e7e 10px, #5c5c5c 10px, #5c5c5c 20px);\n",
              "    }\n",
              "    .progress-bar-interrupted, .progress-bar-interrupted::-webkit-progress-bar {\n",
              "        background: #F44336;\n",
              "    }\n",
              "</style>\n"
            ]
          },
          "metadata": {}
        },
        {
          "output_type": "display_data",
          "data": {
            "text/plain": [
              "<IPython.core.display.HTML object>"
            ],
            "text/html": [
              "<table border=\"1\" class=\"dataframe\">\n",
              "  <thead>\n",
              "    <tr style=\"text-align: left;\">\n",
              "      <th>epoch</th>\n",
              "      <th>train_loss</th>\n",
              "      <th>valid_loss</th>\n",
              "      <th>accuracy</th>\n",
              "      <th>perplexity</th>\n",
              "      <th>time</th>\n",
              "    </tr>\n",
              "  </thead>\n",
              "  <tbody>\n",
              "    <tr>\n",
              "      <td>0</td>\n",
              "      <td>4.705489</td>\n",
              "      <td>4.566566</td>\n",
              "      <td>0.244189</td>\n",
              "      <td>96.213142</td>\n",
              "      <td>31:47</td>\n",
              "    </tr>\n",
              "  </tbody>\n",
              "</table>"
            ]
          },
          "metadata": {}
        }
      ]
    },
    {
      "cell_type": "code",
      "source": [
        "%%time\n",
        "\n",
        "learn.recorder.plot_loss()\n"
      ],
      "metadata": {
        "colab": {
          "base_uri": "https://localhost:8080/",
          "height": 301
        },
        "id": "P0TnRgxWDesI",
        "outputId": "b67df6d3-5fb0-41ab-bd7e-529bd7694f30"
      },
      "execution_count": null,
      "outputs": [
        {
          "output_type": "stream",
          "name": "stdout",
          "text": [
            "CPU times: user 84.5 ms, sys: 0 ns, total: 84.5 ms\n",
            "Wall time: 87.8 ms\n"
          ]
        },
        {
          "output_type": "display_data",
          "data": {
            "text/plain": [
              "<Figure size 432x288 with 1 Axes>"
            ],
            "image/png": "[encoded data removed]"
          },
          "metadata": {
            "needs_background": "light"
          }
        }
      ]
    },
    {
      "cell_type": "markdown",
      "source": [
        "Y salvamos el modelo en cada paso para poder recuperarlo en caso que falle o se suspenda la ejecución en Colab en algún momento."
      ],
      "metadata": {
        "id": "_dqa1-T5IksB"
      }
    },
    {
      "cell_type": "code",
      "source": [
        "learn.save('/content/sample_data'+'/GPT2_dp_1epoch')\n",
        "learn = learn.load('/content/sample_data'+'/GPT2_dp_1epoch')"
      ],
      "metadata": {
        "id": "tlSKQu4JDjj7"
      },
      "execution_count": null,
      "outputs": []
    },
    {
      "cell_type": "code",
      "source": [
        "from google.colab import drive\n",
        "drive.mount('/content/drive')\n",
        "\n"
      ],
      "metadata": {
        "colab": {
          "base_uri": "https://localhost:8080/"
        },
        "id": "yIw7DnOCEB8l",
        "outputId": "c3f64b2e-d19c-4249-e567-f8f4d6056d45"
      },
      "execution_count": null,
      "outputs": [
        {
          "output_type": "stream",
          "name": "stdout",
          "text": [
            "Mounted at /content/drive\n",
            "cp: cannot stat '/content/sample_data/GPT2_es_1epoch_lr2e-3': No such file or directory\n"
          ]
        }
      ]
    },
    {
      "cell_type": "code",
      "source": [
        "!cp -v '/content/sample_data/GPT2_dp_1epoch.pth' '/content/drive/MyDrive/data/eswiki/modelo_diputados/'"
      ],
      "metadata": {
        "colab": {
          "base_uri": "https://localhost:8080/"
        },
        "id": "Jyt5y6JcGiX2",
        "outputId": "f2ab6296-a8d4-4661-883a-84e021b689c1"
      },
      "execution_count": null,
      "outputs": [
        {
          "output_type": "stream",
          "name": "stdout",
          "text": [
            "'/content/sample_data/GPT2_dp_1epoch.pth' -> '/content/drive/MyDrive/data/eswiki/modelo_diputados/GPT2_dp_1epoch.pth'\n"
          ]
        }
      ]
    },
    {
      "cell_type": "code",
      "source": [
        "%%time\n",
        "\n",
        "learn.freeze_to(-2)\n",
        "learn.summary()"
      ],
      "metadata": {
        "colab": {
          "base_uri": "https://localhost:8080/",
          "height": 1000
        },
        "id": "46wbqGN5DkNR",
        "outputId": "c0bd8578-a6f7-4b9a-b648-88b3e3966ec7"
      },
      "execution_count": null,
      "outputs": [
        {
          "output_type": "display_data",
          "data": {
            "text/plain": [
              "<IPython.core.display.HTML object>"
            ],
            "text/html": [
              "\n",
              "<style>\n",
              "    /* Turns off some styling */\n",
              "    progress {\n",
              "        /* gets rid of default border in Firefox and Opera. */\n",
              "        border: none;\n",
              "        /* Needs to be in here for Safari polyfill so background images work as expected. */\n",
              "        background-size: auto;\n",
              "    }\n",
              "    progress:not([value]), progress:not([value])::-webkit-progress-bar {\n",
              "        background: repeating-linear-gradient(45deg, #7e7e7e, #7e7e7e 10px, #5c5c5c 10px, #5c5c5c 20px);\n",
              "    }\n",
              "    .progress-bar-interrupted, .progress-bar-interrupted::-webkit-progress-bar {\n",
              "        background: #F44336;\n",
              "    }\n",
              "</style>\n"
            ]
          },
          "metadata": {}
        },
        {
          "output_type": "display_data",
          "data": {
            "text/plain": [
              "<IPython.core.display.HTML object>"
            ],
            "text/html": [
              ""
            ]
          },
          "metadata": {}
        },
        {
          "output_type": "stream",
          "name": "stdout",
          "text": [
            "CPU times: user 652 ms, sys: 52 ms, total: 704 ms\n",
            "Wall time: 749 ms\n"
          ]
        },
        {
          "output_type": "execute_result",
          "data": {
            "text/plain": [
              "GPT2LMHeadModel (Input shape: 4 x 1024)\n",
              "============================================================================\n",
              "Layer (type)         Output Shape         Param #    Trainable \n",
              "============================================================================\n",
              "                     4 x 1024 x 768      \n",
              "Embedding                                 38597376   True      \n",
              "Embedding                                 786432     True      \n",
              "Dropout                                                        \n",
              "LayerNorm                                 1536       True      \n",
              "____________________________________________________________________________\n",
              "                     4 x 1024 x 2304     \n",
              "Conv1D                                    1771776    False     \n",
              "Conv1D                                    590592     False     \n",
              "Dropout                                                        \n",
              "Dropout                                                        \n",
              "LayerNorm                                 1536       True      \n",
              "____________________________________________________________________________\n",
              "                     4 x 1024 x 3072     \n",
              "Conv1D                                    2362368    False     \n",
              "____________________________________________________________________________\n",
              "                     4 x 1024 x 768      \n",
              "Conv1D                                    2360064    False     \n",
              "NewGELUActivation                                              \n",
              "Dropout                                                        \n",
              "LayerNorm                                 1536       True      \n",
              "____________________________________________________________________________\n",
              "                     4 x 1024 x 2304     \n",
              "Conv1D                                    1771776    False     \n",
              "Conv1D                                    590592     False     \n",
              "Dropout                                                        \n",
              "Dropout                                                        \n",
              "LayerNorm                                 1536       True      \n",
              "____________________________________________________________________________\n",
              "                     4 x 1024 x 3072     \n",
              "Conv1D                                    2362368    False     \n",
              "____________________________________________________________________________\n",
              "                     4 x 1024 x 768      \n",
              "Conv1D                                    2360064    False     \n",
              "NewGELUActivation                                              \n",
              "Dropout                                                        \n",
              "LayerNorm                                 1536       True      \n",
              "____________________________________________________________________________\n",
              "                     4 x 1024 x 2304     \n",
              "Conv1D                                    1771776    False     \n",
              "Conv1D                                    590592     False     \n",
              "Dropout                                                        \n",
              "Dropout                                                        \n",
              "LayerNorm                                 1536       True      \n",
              "____________________________________________________________________________\n",
              "                     4 x 1024 x 3072     \n",
              "Conv1D                                    2362368    False     \n",
              "____________________________________________________________________________\n",
              "                     4 x 1024 x 768      \n",
              "Conv1D                                    2360064    False     \n",
              "NewGELUActivation                                              \n",
              "Dropout                                                        \n",
              "LayerNorm                                 1536       True      \n",
              "____________________________________________________________________________\n",
              "                     4 x 1024 x 2304     \n",
              "Conv1D                                    1771776    False     \n",
              "Conv1D                                    590592     False     \n",
              "Dropout                                                        \n",
              "Dropout                                                        \n",
              "LayerNorm                                 1536       True      \n",
              "____________________________________________________________________________\n",
              "                     4 x 1024 x 3072     \n",
              "Conv1D                                    2362368    False     \n",
              "____________________________________________________________________________\n",
              "                     4 x 1024 x 768      \n",
              "Conv1D                                    2360064    False     \n",
              "NewGELUActivation                                              \n",
              "Dropout                                                        \n",
              "LayerNorm                                 1536       True      \n",
              "____________________________________________________________________________\n",
              "                     4 x 1024 x 2304     \n",
              "Conv1D                                    1771776    False     \n",
              "Conv1D                                    590592     False     \n",
              "Dropout                                                        \n",
              "Dropout                                                        \n",
              "LayerNorm                                 1536       True      \n",
              "____________________________________________________________________________\n",
              "                     4 x 1024 x 3072     \n",
              "Conv1D                                    2362368    False     \n",
              "____________________________________________________________________________\n",
              "                     4 x 1024 x 768      \n",
              "Conv1D                                    2360064    False     \n",
              "NewGELUActivation                                              \n",
              "Dropout                                                        \n",
              "LayerNorm                                 1536       True      \n",
              "____________________________________________________________________________\n",
              "                     4 x 1024 x 2304     \n",
              "Conv1D                                    1771776    False     \n",
              "Conv1D                                    590592     False     \n",
              "Dropout                                                        \n",
              "Dropout                                                        \n",
              "LayerNorm                                 1536       True      \n",
              "____________________________________________________________________________\n",
              "                     4 x 1024 x 3072     \n",
              "Conv1D                                    2362368    False     \n",
              "____________________________________________________________________________\n",
              "                     4 x 1024 x 768      \n",
              "Conv1D                                    2360064    False     \n",
              "NewGELUActivation                                              \n",
              "Dropout                                                        \n",
              "LayerNorm                                 1536       True      \n",
              "____________________________________________________________________________\n",
              "                     4 x 1024 x 2304     \n",
              "Conv1D                                    1771776    False     \n",
              "Conv1D                                    590592     False     \n",
              "Dropout                                                        \n",
              "Dropout                                                        \n",
              "LayerNorm                                 1536       True      \n",
              "____________________________________________________________________________\n",
              "                     4 x 1024 x 3072     \n",
              "Conv1D                                    2362368    False     \n",
              "____________________________________________________________________________\n",
              "                     4 x 1024 x 768      \n",
              "Conv1D                                    2360064    False     \n",
              "NewGELUActivation                                              \n",
              "Dropout                                                        \n",
              "LayerNorm                                 1536       True      \n",
              "____________________________________________________________________________\n",
              "                     4 x 1024 x 2304     \n",
              "Conv1D                                    1771776    False     \n",
              "Conv1D                                    590592     False     \n",
              "Dropout                                                        \n",
              "Dropout                                                        \n",
              "LayerNorm                                 1536       True      \n",
              "____________________________________________________________________________\n",
              "                     4 x 1024 x 3072     \n",
              "Conv1D                                    2362368    False     \n",
              "____________________________________________________________________________\n",
              "                     4 x 1024 x 768      \n",
              "Conv1D                                    2360064    False     \n",
              "NewGELUActivation                                              \n",
              "Dropout                                                        \n",
              "LayerNorm                                 1536       True      \n",
              "____________________________________________________________________________\n",
              "                     4 x 1024 x 2304     \n",
              "Conv1D                                    1771776    True      \n",
              "Conv1D                                    590592     True      \n",
              "Dropout                                                        \n",
              "Dropout                                                        \n",
              "LayerNorm                                 1536       True      \n",
              "____________________________________________________________________________\n",
              "                     4 x 1024 x 3072     \n",
              "Conv1D                                    2362368    True      \n",
              "____________________________________________________________________________\n",
              "                     4 x 1024 x 768      \n",
              "Conv1D                                    2360064    True      \n",
              "NewGELUActivation                                              \n",
              "Dropout                                                        \n",
              "LayerNorm                                 1536       True      \n",
              "____________________________________________________________________________\n",
              "                     4 x 1024 x 2304     \n",
              "Conv1D                                    1771776    True      \n",
              "Conv1D                                    590592     True      \n",
              "Dropout                                                        \n",
              "Dropout                                                        \n",
              "LayerNorm                                 1536       True      \n",
              "____________________________________________________________________________\n",
              "                     4 x 1024 x 3072     \n",
              "Conv1D                                    2362368    True      \n",
              "____________________________________________________________________________\n",
              "                     4 x 1024 x 768      \n",
              "Conv1D                                    2360064    True      \n",
              "NewGELUActivation                                              \n",
              "Dropout                                                        \n",
              "LayerNorm                                 1536       True      \n",
              "____________________________________________________________________________\n",
              "                     4 x 1024 x 2304     \n",
              "Conv1D                                    1771776    True      \n",
              "Conv1D                                    590592     True      \n",
              "Dropout                                                        \n",
              "Dropout                                                        \n",
              "LayerNorm                                 1536       True      \n",
              "____________________________________________________________________________\n",
              "                     4 x 1024 x 3072     \n",
              "Conv1D                                    2362368    True      \n",
              "____________________________________________________________________________\n",
              "                     4 x 1024 x 768      \n",
              "Conv1D                                    2360064    True      \n",
              "NewGELUActivation                                              \n",
              "Dropout                                                        \n",
              "LayerNorm                                 1536       True      \n",
              "____________________________________________________________________________\n",
              "                     4 x 1024 x 2304     \n",
              "Conv1D                                    1771776    True      \n",
              "Conv1D                                    590592     True      \n",
              "Dropout                                                        \n",
              "Dropout                                                        \n",
              "LayerNorm                                 1536       True      \n",
              "____________________________________________________________________________\n",
              "                     4 x 1024 x 3072     \n",
              "Conv1D                                    2362368    True      \n",
              "____________________________________________________________________________\n",
              "                     4 x 1024 x 768      \n",
              "Conv1D                                    2360064    True      \n",
              "NewGELUActivation                                              \n",
              "Dropout                                                        \n",
              "LayerNorm                                 1536       True      \n",
              "____________________________________________________________________________\n",
              "                     4 x 1024 x 50257    \n",
              "Linear                                    38597376   True      \n",
              "____________________________________________________________________________\n",
              "\n",
              "Total params: 163,037,184\n",
              "Total trainable params: 106,358,784\n",
              "Total non-trainable params: 56,678,400\n",
              "\n",
              "Optimizer used: <function Adam at 0x7f97a8109c20>\n",
              "Loss function: FlattenedLoss of CrossEntropyLoss()\n",
              "\n",
              "Model frozen up to parameter group #2\n",
              "\n",
              "Callbacks:\n",
              "  - TrainEvalCallback\n",
              "  - DropOutput\n",
              "  - CastToTensor\n",
              "  - MixedPrecision\n",
              "  - Recorder\n",
              "  - ProgressCallback"
            ],
            "application/vnd.google.colaboratory.intrinsic+json": {
              "type": "string"
            }
          },
          "metadata": {},
          "execution_count": 32
        }
      ]
    },
    {
      "cell_type": "code",
      "source": [
        "%%time\n",
        "\n",
        "learn.fit_one_cycle(1, learning_rate)\n"
      ],
      "metadata": {
        "colab": {
          "base_uri": "https://localhost:8080/",
          "height": 116
        },
        "id": "-SOBRzrlD4MP",
        "outputId": "3353131e-e96a-4611-f8bf-24d326e91d3c"
      },
      "execution_count": null,
      "outputs": [
        {
          "output_type": "display_data",
          "data": {
            "text/plain": [
              "<IPython.core.display.HTML object>"
            ],
            "text/html": [
              "\n",
              "<style>\n",
              "    /* Turns off some styling */\n",
              "    progress {\n",
              "        /* gets rid of default border in Firefox and Opera. */\n",
              "        border: none;\n",
              "        /* Needs to be in here for Safari polyfill so background images work as expected. */\n",
              "        background-size: auto;\n",
              "    }\n",
              "    progress:not([value]), progress:not([value])::-webkit-progress-bar {\n",
              "        background: repeating-linear-gradient(45deg, #7e7e7e, #7e7e7e 10px, #5c5c5c 10px, #5c5c5c 20px);\n",
              "    }\n",
              "    .progress-bar-interrupted, .progress-bar-interrupted::-webkit-progress-bar {\n",
              "        background: #F44336;\n",
              "    }\n",
              "</style>\n"
            ]
          },
          "metadata": {}
        },
        {
          "output_type": "display_data",
          "data": {
            "text/plain": [
              "<IPython.core.display.HTML object>"
            ],
            "text/html": [
              "<table border=\"1\" class=\"dataframe\">\n",
              "  <thead>\n",
              "    <tr style=\"text-align: left;\">\n",
              "      <th>epoch</th>\n",
              "      <th>train_loss</th>\n",
              "      <th>valid_loss</th>\n",
              "      <th>accuracy</th>\n",
              "      <th>perplexity</th>\n",
              "      <th>time</th>\n",
              "    </tr>\n",
              "  </thead>\n",
              "  <tbody>\n",
              "    <tr>\n",
              "      <td>0</td>\n",
              "      <td>3.978230</td>\n",
              "      <td>3.883170</td>\n",
              "      <td>0.301234</td>\n",
              "      <td>48.577957</td>\n",
              "      <td>34:04</td>\n",
              "    </tr>\n",
              "  </tbody>\n",
              "</table>"
            ]
          },
          "metadata": {}
        },
        {
          "output_type": "stream",
          "name": "stdout",
          "text": [
            "CPU times: user 31min 47s, sys: 1min 46s, total: 33min 33s\n",
            "Wall time: 34min 4s\n"
          ]
        }
      ]
    },
    {
      "cell_type": "code",
      "source": [
        "%%time\n",
        "\n",
        "learn.recorder.plot_loss()"
      ],
      "metadata": {
        "colab": {
          "base_uri": "https://localhost:8080/",
          "height": 301
        },
        "id": "kOX54g8KE1tA",
        "outputId": "f9ef8012-67f3-43b7-9f59-812685d11df5"
      },
      "execution_count": null,
      "outputs": [
        {
          "output_type": "stream",
          "name": "stdout",
          "text": [
            "CPU times: user 61.1 ms, sys: 961 µs, total: 62.1 ms\n",
            "Wall time: 66.8 ms\n"
          ]
        },
        {
          "output_type": "display_data",
          "data": {
            "text/plain": [
              "<Figure size 432x288 with 1 Axes>"
            ],
            "image/png": "[encoded data removed]"
          },
          "metadata": {
            "needs_background": "light"
          }
        }
      ]
    },
    {
      "cell_type": "code",
      "source": [
        "learn.save('/content/sample_data'+'/GPT2_dp_2epoch')\n",
        "learn = learn.load('/content/sample_data'+'/GPT2_dp_2epoch')\n",
        "!cp -v '/content/sample_data/GPT2_dp_2epoch.pth' '/content/drive/MyDrive/data/eswiki/modelo/'"
      ],
      "metadata": {
        "colab": {
          "base_uri": "https://localhost:8080/"
        },
        "id": "MPNZk4lPE60X",
        "outputId": "a62995ea-95ad-4c72-847b-fdefc17e3146"
      },
      "execution_count": null,
      "outputs": [
        {
          "output_type": "stream",
          "name": "stdout",
          "text": [
            "'/content/sample_data/GPT2_dp_2epoch.pth' -> '/content/drive/MyDrive/data/eswiki/modelo/GPT2_dp_2epoch.pth'\n"
          ]
        }
      ]
    },
    {
      "cell_type": "code",
      "source": [
        "%%time\n",
        "\n",
        "learn.freeze_to(-3)\n",
        "learn.summary()"
      ],
      "metadata": {
        "colab": {
          "base_uri": "https://localhost:8080/",
          "height": 1000
        },
        "id": "LtYTMmeCFLut",
        "outputId": "9d0b9c3a-d3a2-4798-c08e-8e0bac51d0cf"
      },
      "execution_count": null,
      "outputs": [
        {
          "output_type": "display_data",
          "data": {
            "text/plain": [
              "<IPython.core.display.HTML object>"
            ],
            "text/html": [
              "\n",
              "<style>\n",
              "    /* Turns off some styling */\n",
              "    progress {\n",
              "        /* gets rid of default border in Firefox and Opera. */\n",
              "        border: none;\n",
              "        /* Needs to be in here for Safari polyfill so background images work as expected. */\n",
              "        background-size: auto;\n",
              "    }\n",
              "    progress:not([value]), progress:not([value])::-webkit-progress-bar {\n",
              "        background: repeating-linear-gradient(45deg, #7e7e7e, #7e7e7e 10px, #5c5c5c 10px, #5c5c5c 20px);\n",
              "    }\n",
              "    .progress-bar-interrupted, .progress-bar-interrupted::-webkit-progress-bar {\n",
              "        background: #F44336;\n",
              "    }\n",
              "</style>\n"
            ]
          },
          "metadata": {}
        },
        {
          "output_type": "display_data",
          "data": {
            "text/plain": [
              "<IPython.core.display.HTML object>"
            ],
            "text/html": [
              ""
            ]
          },
          "metadata": {}
        },
        {
          "output_type": "stream",
          "name": "stdout",
          "text": [
            "CPU times: user 613 ms, sys: 244 ms, total: 857 ms\n",
            "Wall time: 919 ms\n"
          ]
        },
        {
          "output_type": "execute_result",
          "data": {
            "text/plain": [
              "GPT2LMHeadModel (Input shape: 4 x 1024)\n",
              "============================================================================\n",
              "Layer (type)         Output Shape         Param #    Trainable \n",
              "============================================================================\n",
              "                     4 x 1024 x 768      \n",
              "Embedding                                 38597376   True      \n",
              "Embedding                                 786432     True      \n",
              "Dropout                                                        \n",
              "LayerNorm                                 1536       True      \n",
              "____________________________________________________________________________\n",
              "                     4 x 1024 x 2304     \n",
              "Conv1D                                    1771776    False     \n",
              "Conv1D                                    590592     False     \n",
              "Dropout                                                        \n",
              "Dropout                                                        \n",
              "LayerNorm                                 1536       True      \n",
              "____________________________________________________________________________\n",
              "                     4 x 1024 x 3072     \n",
              "Conv1D                                    2362368    False     \n",
              "____________________________________________________________________________\n",
              "                     4 x 1024 x 768      \n",
              "Conv1D                                    2360064    False     \n",
              "NewGELUActivation                                              \n",
              "Dropout                                                        \n",
              "LayerNorm                                 1536       True      \n",
              "____________________________________________________________________________\n",
              "                     4 x 1024 x 2304     \n",
              "Conv1D                                    1771776    False     \n",
              "Conv1D                                    590592     False     \n",
              "Dropout                                                        \n",
              "Dropout                                                        \n",
              "LayerNorm                                 1536       True      \n",
              "____________________________________________________________________________\n",
              "                     4 x 1024 x 3072     \n",
              "Conv1D                                    2362368    False     \n",
              "____________________________________________________________________________\n",
              "                     4 x 1024 x 768      \n",
              "Conv1D                                    2360064    False     \n",
              "NewGELUActivation                                              \n",
              "Dropout                                                        \n",
              "LayerNorm                                 1536       True      \n",
              "____________________________________________________________________________\n",
              "                     4 x 1024 x 2304     \n",
              "Conv1D                                    1771776    False     \n",
              "Conv1D                                    590592     False     \n",
              "Dropout                                                        \n",
              "Dropout                                                        \n",
              "LayerNorm                                 1536       True      \n",
              "____________________________________________________________________________\n",
              "                     4 x 1024 x 3072     \n",
              "Conv1D                                    2362368    False     \n",
              "____________________________________________________________________________\n",
              "                     4 x 1024 x 768      \n",
              "Conv1D                                    2360064    False     \n",
              "NewGELUActivation                                              \n",
              "Dropout                                                        \n",
              "LayerNorm                                 1536       True      \n",
              "____________________________________________________________________________\n",
              "                     4 x 1024 x 2304     \n",
              "Conv1D                                    1771776    False     \n",
              "Conv1D                                    590592     False     \n",
              "Dropout                                                        \n",
              "Dropout                                                        \n",
              "LayerNorm                                 1536       True      \n",
              "____________________________________________________________________________\n",
              "                     4 x 1024 x 3072     \n",
              "Conv1D                                    2362368    False     \n",
              "____________________________________________________________________________\n",
              "                     4 x 1024 x 768      \n",
              "Conv1D                                    2360064    False     \n",
              "NewGELUActivation                                              \n",
              "Dropout                                                        \n",
              "LayerNorm                                 1536       True      \n",
              "____________________________________________________________________________\n",
              "                     4 x 1024 x 2304     \n",
              "Conv1D                                    1771776    True      \n",
              "Conv1D                                    590592     True      \n",
              "Dropout                                                        \n",
              "Dropout                                                        \n",
              "LayerNorm                                 1536       True      \n",
              "____________________________________________________________________________\n",
              "                     4 x 1024 x 3072     \n",
              "Conv1D                                    2362368    True      \n",
              "____________________________________________________________________________\n",
              "                     4 x 1024 x 768      \n",
              "Conv1D                                    2360064    True      \n",
              "NewGELUActivation                                              \n",
              "Dropout                                                        \n",
              "LayerNorm                                 1536       True      \n",
              "____________________________________________________________________________\n",
              "                     4 x 1024 x 2304     \n",
              "Conv1D                                    1771776    True      \n",
              "Conv1D                                    590592     True      \n",
              "Dropout                                                        \n",
              "Dropout                                                        \n",
              "LayerNorm                                 1536       True      \n",
              "____________________________________________________________________________\n",
              "                     4 x 1024 x 3072     \n",
              "Conv1D                                    2362368    True      \n",
              "____________________________________________________________________________\n",
              "                     4 x 1024 x 768      \n",
              "Conv1D                                    2360064    True      \n",
              "NewGELUActivation                                              \n",
              "Dropout                                                        \n",
              "LayerNorm                                 1536       True      \n",
              "____________________________________________________________________________\n",
              "                     4 x 1024 x 2304     \n",
              "Conv1D                                    1771776    True      \n",
              "Conv1D                                    590592     True      \n",
              "Dropout                                                        \n",
              "Dropout                                                        \n",
              "LayerNorm                                 1536       True      \n",
              "____________________________________________________________________________\n",
              "                     4 x 1024 x 3072     \n",
              "Conv1D                                    2362368    True      \n",
              "____________________________________________________________________________\n",
              "                     4 x 1024 x 768      \n",
              "Conv1D                                    2360064    True      \n",
              "NewGELUActivation                                              \n",
              "Dropout                                                        \n",
              "LayerNorm                                 1536       True      \n",
              "____________________________________________________________________________\n",
              "                     4 x 1024 x 2304     \n",
              "Conv1D                                    1771776    True      \n",
              "Conv1D                                    590592     True      \n",
              "Dropout                                                        \n",
              "Dropout                                                        \n",
              "LayerNorm                                 1536       True      \n",
              "____________________________________________________________________________\n",
              "                     4 x 1024 x 3072     \n",
              "Conv1D                                    2362368    True      \n",
              "____________________________________________________________________________\n",
              "                     4 x 1024 x 768      \n",
              "Conv1D                                    2360064    True      \n",
              "NewGELUActivation                                              \n",
              "Dropout                                                        \n",
              "LayerNorm                                 1536       True      \n",
              "____________________________________________________________________________\n",
              "                     4 x 1024 x 2304     \n",
              "Conv1D                                    1771776    True      \n",
              "Conv1D                                    590592     True      \n",
              "Dropout                                                        \n",
              "Dropout                                                        \n",
              "LayerNorm                                 1536       True      \n",
              "____________________________________________________________________________\n",
              "                     4 x 1024 x 3072     \n",
              "Conv1D                                    2362368    True      \n",
              "____________________________________________________________________________\n",
              "                     4 x 1024 x 768      \n",
              "Conv1D                                    2360064    True      \n",
              "NewGELUActivation                                              \n",
              "Dropout                                                        \n",
              "LayerNorm                                 1536       True      \n",
              "____________________________________________________________________________\n",
              "                     4 x 1024 x 2304     \n",
              "Conv1D                                    1771776    True      \n",
              "Conv1D                                    590592     True      \n",
              "Dropout                                                        \n",
              "Dropout                                                        \n",
              "LayerNorm                                 1536       True      \n",
              "____________________________________________________________________________\n",
              "                     4 x 1024 x 3072     \n",
              "Conv1D                                    2362368    True      \n",
              "____________________________________________________________________________\n",
              "                     4 x 1024 x 768      \n",
              "Conv1D                                    2360064    True      \n",
              "NewGELUActivation                                              \n",
              "Dropout                                                        \n",
              "LayerNorm                                 1536       True      \n",
              "____________________________________________________________________________\n",
              "                     4 x 1024 x 2304     \n",
              "Conv1D                                    1771776    True      \n",
              "Conv1D                                    590592     True      \n",
              "Dropout                                                        \n",
              "Dropout                                                        \n",
              "LayerNorm                                 1536       True      \n",
              "____________________________________________________________________________\n",
              "                     4 x 1024 x 3072     \n",
              "Conv1D                                    2362368    True      \n",
              "____________________________________________________________________________\n",
              "                     4 x 1024 x 768      \n",
              "Conv1D                                    2360064    True      \n",
              "NewGELUActivation                                              \n",
              "Dropout                                                        \n",
              "LayerNorm                                 1536       True      \n",
              "____________________________________________________________________________\n",
              "                     4 x 1024 x 2304     \n",
              "Conv1D                                    1771776    True      \n",
              "Conv1D                                    590592     True      \n",
              "Dropout                                                        \n",
              "Dropout                                                        \n",
              "LayerNorm                                 1536       True      \n",
              "____________________________________________________________________________\n",
              "                     4 x 1024 x 3072     \n",
              "Conv1D                                    2362368    True      \n",
              "____________________________________________________________________________\n",
              "                     4 x 1024 x 768      \n",
              "Conv1D                                    2360064    True      \n",
              "NewGELUActivation                                              \n",
              "Dropout                                                        \n",
              "LayerNorm                                 1536       True      \n",
              "____________________________________________________________________________\n",
              "                     4 x 1024 x 50257    \n",
              "Linear                                    38597376   True      \n",
              "____________________________________________________________________________\n",
              "\n",
              "Total params: 163,037,184\n",
              "Total trainable params: 134,697,984\n",
              "Total non-trainable params: 28,339,200\n",
              "\n",
              "Optimizer used: <function Adam at 0x7f97a8109c20>\n",
              "Loss function: FlattenedLoss of CrossEntropyLoss()\n",
              "\n",
              "Model frozen up to parameter group #1\n",
              "\n",
              "Callbacks:\n",
              "  - TrainEvalCallback\n",
              "  - DropOutput\n",
              "  - CastToTensor\n",
              "  - MixedPrecision\n",
              "  - Recorder\n",
              "  - ProgressCallback"
            ],
            "application/vnd.google.colaboratory.intrinsic+json": {
              "type": "string"
            }
          },
          "metadata": {},
          "execution_count": 37
        }
      ]
    },
    {
      "cell_type": "code",
      "source": [
        "%%time\n",
        "\n",
        "learn.fit_one_cycle(1, learning_rate)\n"
      ],
      "metadata": {
        "colab": {
          "base_uri": "https://localhost:8080/",
          "height": 116
        },
        "id": "mulyfgwAFOav",
        "outputId": "4102e1a5-c6eb-4db4-c30a-75fa2deaebc3"
      },
      "execution_count": null,
      "outputs": [
        {
          "output_type": "display_data",
          "data": {
            "text/plain": [
              "<IPython.core.display.HTML object>"
            ],
            "text/html": [
              "\n",
              "<style>\n",
              "    /* Turns off some styling */\n",
              "    progress {\n",
              "        /* gets rid of default border in Firefox and Opera. */\n",
              "        border: none;\n",
              "        /* Needs to be in here for Safari polyfill so background images work as expected. */\n",
              "        background-size: auto;\n",
              "    }\n",
              "    progress:not([value]), progress:not([value])::-webkit-progress-bar {\n",
              "        background: repeating-linear-gradient(45deg, #7e7e7e, #7e7e7e 10px, #5c5c5c 10px, #5c5c5c 20px);\n",
              "    }\n",
              "    .progress-bar-interrupted, .progress-bar-interrupted::-webkit-progress-bar {\n",
              "        background: #F44336;\n",
              "    }\n",
              "</style>\n"
            ]
          },
          "metadata": {}
        },
        {
          "output_type": "display_data",
          "data": {
            "text/plain": [
              "<IPython.core.display.HTML object>"
            ],
            "text/html": [
              "<table border=\"1\" class=\"dataframe\">\n",
              "  <thead>\n",
              "    <tr style=\"text-align: left;\">\n",
              "      <th>epoch</th>\n",
              "      <th>train_loss</th>\n",
              "      <th>valid_loss</th>\n",
              "      <th>accuracy</th>\n",
              "      <th>perplexity</th>\n",
              "      <th>time</th>\n",
              "    </tr>\n",
              "  </thead>\n",
              "  <tbody>\n",
              "    <tr>\n",
              "      <td>0</td>\n",
              "      <td>3.466196</td>\n",
              "      <td>3.407986</td>\n",
              "      <td>0.344134</td>\n",
              "      <td>30.204357</td>\n",
              "      <td>32:46</td>\n",
              "    </tr>\n",
              "  </tbody>\n",
              "</table>"
            ]
          },
          "metadata": {}
        },
        {
          "output_type": "stream",
          "name": "stdout",
          "text": [
            "CPU times: user 32min 19s, sys: 24.1 s, total: 32min 43s\n",
            "Wall time: 32min 46s\n"
          ]
        }
      ]
    },
    {
      "cell_type": "code",
      "source": [
        "%%time \n",
        "\n",
        "learn.recorder.plot_loss()\n"
      ],
      "metadata": {
        "colab": {
          "base_uri": "https://localhost:8080/",
          "height": 301
        },
        "id": "LytJIp9iFTCA",
        "outputId": "994ad8ed-fd41-495c-e358-bc069365405a"
      },
      "execution_count": null,
      "outputs": [
        {
          "output_type": "stream",
          "name": "stdout",
          "text": [
            "CPU times: user 54.3 ms, sys: 1.01 ms, total: 55.3 ms\n",
            "Wall time: 58.5 ms\n"
          ]
        },
        {
          "output_type": "display_data",
          "data": {
            "text/plain": [
              "<Figure size 432x288 with 1 Axes>"
            ],
            "image/png": "[encoded data removed]"
          },
          "metadata": {
            "needs_background": "light"
          }
        }
      ]
    },
    {
      "cell_type": "code",
      "source": [
        "learn.save('/content/sample_data'+'/GPT2_dp_3epoch')\n",
        "learn = learn.load('/content/sample_data'+'/GPT2_dp_3epoch')\n",
        "!cp -v '/content/sample_data/GPT2_dp_3epoch.pth' '/content/drive/MyDrive/data/eswiki/modelo_diputados/'"
      ],
      "metadata": {
        "id": "ChlHLUF0FX8u"
      },
      "execution_count": null,
      "outputs": []
    },
    {
      "cell_type": "code",
      "source": [
        "%%time\n",
        "learn.unfreeze()\n",
        "learn.summary()"
      ],
      "metadata": {
        "colab": {
          "base_uri": "https://localhost:8080/",
          "height": 1000
        },
        "id": "qkPbR4-bFe6R",
        "outputId": "db17411e-0412-4f9d-e457-c7b108bbafa0"
      },
      "execution_count": null,
      "outputs": [
        {
          "output_type": "display_data",
          "data": {
            "text/plain": [
              "<IPython.core.display.HTML object>"
            ],
            "text/html": [
              "\n",
              "<style>\n",
              "    /* Turns off some styling */\n",
              "    progress {\n",
              "        /* gets rid of default border in Firefox and Opera. */\n",
              "        border: none;\n",
              "        /* Needs to be in here for Safari polyfill so background images work as expected. */\n",
              "        background-size: auto;\n",
              "    }\n",
              "    progress:not([value]), progress:not([value])::-webkit-progress-bar {\n",
              "        background: repeating-linear-gradient(45deg, #7e7e7e, #7e7e7e 10px, #5c5c5c 10px, #5c5c5c 20px);\n",
              "    }\n",
              "    .progress-bar-interrupted, .progress-bar-interrupted::-webkit-progress-bar {\n",
              "        background: #F44336;\n",
              "    }\n",
              "</style>\n"
            ]
          },
          "metadata": {}
        },
        {
          "output_type": "display_data",
          "data": {
            "text/plain": [
              "<IPython.core.display.HTML object>"
            ],
            "text/html": [
              ""
            ]
          },
          "metadata": {}
        },
        {
          "output_type": "stream",
          "name": "stdout",
          "text": [
            "CPU times: user 432 ms, sys: 177 ms, total: 609 ms\n",
            "Wall time: 688 ms\n"
          ]
        },
        {
          "output_type": "execute_result",
          "data": {
            "text/plain": [
              "GPT2LMHeadModel (Input shape: 4 x 1024)\n",
              "============================================================================\n",
              "Layer (type)         Output Shape         Param #    Trainable \n",
              "============================================================================\n",
              "                     4 x 1024 x 768      \n",
              "Embedding                                 38597376   True      \n",
              "Embedding                                 786432     True      \n",
              "Dropout                                                        \n",
              "LayerNorm                                 1536       True      \n",
              "____________________________________________________________________________\n",
              "                     4 x 1024 x 2304     \n",
              "Conv1D                                    1771776    True      \n",
              "Conv1D                                    590592     True      \n",
              "Dropout                                                        \n",
              "Dropout                                                        \n",
              "LayerNorm                                 1536       True      \n",
              "____________________________________________________________________________\n",
              "                     4 x 1024 x 3072     \n",
              "Conv1D                                    2362368    True      \n",
              "____________________________________________________________________________\n",
              "                     4 x 1024 x 768      \n",
              "Conv1D                                    2360064    True      \n",
              "NewGELUActivation                                              \n",
              "Dropout                                                        \n",
              "LayerNorm                                 1536       True      \n",
              "____________________________________________________________________________\n",
              "                     4 x 1024 x 2304     \n",
              "Conv1D                                    1771776    True      \n",
              "Conv1D                                    590592     True      \n",
              "Dropout                                                        \n",
              "Dropout                                                        \n",
              "LayerNorm                                 1536       True      \n",
              "____________________________________________________________________________\n",
              "                     4 x 1024 x 3072     \n",
              "Conv1D                                    2362368    True      \n",
              "____________________________________________________________________________\n",
              "                     4 x 1024 x 768      \n",
              "Conv1D                                    2360064    True      \n",
              "NewGELUActivation                                              \n",
              "Dropout                                                        \n",
              "LayerNorm                                 1536       True      \n",
              "____________________________________________________________________________\n",
              "                     4 x 1024 x 2304     \n",
              "Conv1D                                    1771776    True      \n",
              "Conv1D                                    590592     True      \n",
              "Dropout                                                        \n",
              "Dropout                                                        \n",
              "LayerNorm                                 1536       True      \n",
              "____________________________________________________________________________\n",
              "                     4 x 1024 x 3072     \n",
              "Conv1D                                    2362368    True      \n",
              "____________________________________________________________________________\n",
              "                     4 x 1024 x 768      \n",
              "Conv1D                                    2360064    True      \n",
              "NewGELUActivation                                              \n",
              "Dropout                                                        \n",
              "LayerNorm                                 1536       True      \n",
              "____________________________________________________________________________\n",
              "                     4 x 1024 x 2304     \n",
              "Conv1D                                    1771776    True      \n",
              "Conv1D                                    590592     True      \n",
              "Dropout                                                        \n",
              "Dropout                                                        \n",
              "LayerNorm                                 1536       True      \n",
              "____________________________________________________________________________\n",
              "                     4 x 1024 x 3072     \n",
              "Conv1D                                    2362368    True      \n",
              "____________________________________________________________________________\n",
              "                     4 x 1024 x 768      \n",
              "Conv1D                                    2360064    True      \n",
              "NewGELUActivation                                              \n",
              "Dropout                                                        \n",
              "LayerNorm                                 1536       True      \n",
              "____________________________________________________________________________\n",
              "                     4 x 1024 x 2304     \n",
              "Conv1D                                    1771776    True      \n",
              "Conv1D                                    590592     True      \n",
              "Dropout                                                        \n",
              "Dropout                                                        \n",
              "LayerNorm                                 1536       True      \n",
              "____________________________________________________________________________\n",
              "                     4 x 1024 x 3072     \n",
              "Conv1D                                    2362368    True      \n",
              "____________________________________________________________________________\n",
              "                     4 x 1024 x 768      \n",
              "Conv1D                                    2360064    True      \n",
              "NewGELUActivation                                              \n",
              "Dropout                                                        \n",
              "LayerNorm                                 1536       True      \n",
              "____________________________________________________________________________\n",
              "                     4 x 1024 x 2304     \n",
              "Conv1D                                    1771776    True      \n",
              "Conv1D                                    590592     True      \n",
              "Dropout                                                        \n",
              "Dropout                                                        \n",
              "LayerNorm                                 1536       True      \n",
              "____________________________________________________________________________\n",
              "                     4 x 1024 x 3072     \n",
              "Conv1D                                    2362368    True      \n",
              "____________________________________________________________________________\n",
              "                     4 x 1024 x 768      \n",
              "Conv1D                                    2360064    True      \n",
              "NewGELUActivation                                              \n",
              "Dropout                                                        \n",
              "LayerNorm                                 1536       True      \n",
              "____________________________________________________________________________\n",
              "                     4 x 1024 x 2304     \n",
              "Conv1D                                    1771776    True      \n",
              "Conv1D                                    590592     True      \n",
              "Dropout                                                        \n",
              "Dropout                                                        \n",
              "LayerNorm                                 1536       True      \n",
              "____________________________________________________________________________\n",
              "                     4 x 1024 x 3072     \n",
              "Conv1D                                    2362368    True      \n",
              "____________________________________________________________________________\n",
              "                     4 x 1024 x 768      \n",
              "Conv1D                                    2360064    True      \n",
              "NewGELUActivation                                              \n",
              "Dropout                                                        \n",
              "LayerNorm                                 1536       True      \n",
              "____________________________________________________________________________\n",
              "                     4 x 1024 x 2304     \n",
              "Conv1D                                    1771776    True      \n",
              "Conv1D                                    590592     True      \n",
              "Dropout                                                        \n",
              "Dropout                                                        \n",
              "LayerNorm                                 1536       True      \n",
              "____________________________________________________________________________\n",
              "                     4 x 1024 x 3072     \n",
              "Conv1D                                    2362368    True      \n",
              "____________________________________________________________________________\n",
              "                     4 x 1024 x 768      \n",
              "Conv1D                                    2360064    True      \n",
              "NewGELUActivation                                              \n",
              "Dropout                                                        \n",
              "LayerNorm                                 1536       True      \n",
              "____________________________________________________________________________\n",
              "                     4 x 1024 x 2304     \n",
              "Conv1D                                    1771776    True      \n",
              "Conv1D                                    590592     True      \n",
              "Dropout                                                        \n",
              "Dropout                                                        \n",
              "LayerNorm                                 1536       True      \n",
              "____________________________________________________________________________\n",
              "                     4 x 1024 x 3072     \n",
              "Conv1D                                    2362368    True      \n",
              "____________________________________________________________________________\n",
              "                     4 x 1024 x 768      \n",
              "Conv1D                                    2360064    True      \n",
              "NewGELUActivation                                              \n",
              "Dropout                                                        \n",
              "LayerNorm                                 1536       True      \n",
              "____________________________________________________________________________\n",
              "                     4 x 1024 x 2304     \n",
              "Conv1D                                    1771776    True      \n",
              "Conv1D                                    590592     True      \n",
              "Dropout                                                        \n",
              "Dropout                                                        \n",
              "LayerNorm                                 1536       True      \n",
              "____________________________________________________________________________\n",
              "                     4 x 1024 x 3072     \n",
              "Conv1D                                    2362368    True      \n",
              "____________________________________________________________________________\n",
              "                     4 x 1024 x 768      \n",
              "Conv1D                                    2360064    True      \n",
              "NewGELUActivation                                              \n",
              "Dropout                                                        \n",
              "LayerNorm                                 1536       True      \n",
              "____________________________________________________________________________\n",
              "                     4 x 1024 x 2304     \n",
              "Conv1D                                    1771776    True      \n",
              "Conv1D                                    590592     True      \n",
              "Dropout                                                        \n",
              "Dropout                                                        \n",
              "LayerNorm                                 1536       True      \n",
              "____________________________________________________________________________\n",
              "                     4 x 1024 x 3072     \n",
              "Conv1D                                    2362368    True      \n",
              "____________________________________________________________________________\n",
              "                     4 x 1024 x 768      \n",
              "Conv1D                                    2360064    True      \n",
              "NewGELUActivation                                              \n",
              "Dropout                                                        \n",
              "LayerNorm                                 1536       True      \n",
              "____________________________________________________________________________\n",
              "                     4 x 1024 x 2304     \n",
              "Conv1D                                    1771776    True      \n",
              "Conv1D                                    590592     True      \n",
              "Dropout                                                        \n",
              "Dropout                                                        \n",
              "LayerNorm                                 1536       True      \n",
              "____________________________________________________________________________\n",
              "                     4 x 1024 x 3072     \n",
              "Conv1D                                    2362368    True      \n",
              "____________________________________________________________________________\n",
              "                     4 x 1024 x 768      \n",
              "Conv1D                                    2360064    True      \n",
              "NewGELUActivation                                              \n",
              "Dropout                                                        \n",
              "LayerNorm                                 1536       True      \n",
              "____________________________________________________________________________\n",
              "                     4 x 1024 x 50257    \n",
              "Linear                                    38597376   True      \n",
              "____________________________________________________________________________\n",
              "\n",
              "Total params: 163,037,184\n",
              "Total trainable params: 163,037,184\n",
              "Total non-trainable params: 0\n",
              "\n",
              "Optimizer used: <function Adam at 0x7f1da6c6de60>\n",
              "Loss function: FlattenedLoss of CrossEntropyLoss()\n",
              "\n",
              "Model unfrozen\n",
              "\n",
              "Callbacks:\n",
              "  - TrainEvalCallback\n",
              "  - DropOutput\n",
              "  - CastToTensor\n",
              "  - MixedPrecision\n",
              "  - Recorder\n",
              "  - ProgressCallback"
            ],
            "application/vnd.google.colaboratory.intrinsic+json": {
              "type": "string"
            }
          },
          "metadata": {},
          "execution_count": 25
        }
      ]
    },
    {
      "cell_type": "code",
      "source": [
        "%%time\n",
        "  \n",
        "learn.fit_one_cycle(2, learning_rate)\n"
      ],
      "metadata": {
        "colab": {
          "base_uri": "https://localhost:8080/",
          "height": 148
        },
        "id": "xEcxPHOJFoL7",
        "outputId": "665c7c2f-8cb6-4d3d-c556-86c7d88d995a"
      },
      "execution_count": null,
      "outputs": [
        {
          "output_type": "display_data",
          "data": {
            "text/plain": [
              "<IPython.core.display.HTML object>"
            ],
            "text/html": [
              "\n",
              "<style>\n",
              "    /* Turns off some styling */\n",
              "    progress {\n",
              "        /* gets rid of default border in Firefox and Opera. */\n",
              "        border: none;\n",
              "        /* Needs to be in here for Safari polyfill so background images work as expected. */\n",
              "        background-size: auto;\n",
              "    }\n",
              "    progress:not([value]), progress:not([value])::-webkit-progress-bar {\n",
              "        background: repeating-linear-gradient(45deg, #7e7e7e, #7e7e7e 10px, #5c5c5c 10px, #5c5c5c 20px);\n",
              "    }\n",
              "    .progress-bar-interrupted, .progress-bar-interrupted::-webkit-progress-bar {\n",
              "        background: #F44336;\n",
              "    }\n",
              "</style>\n"
            ]
          },
          "metadata": {}
        },
        {
          "output_type": "display_data",
          "data": {
            "text/plain": [
              "<IPython.core.display.HTML object>"
            ],
            "text/html": [
              "<table border=\"1\" class=\"dataframe\">\n",
              "  <thead>\n",
              "    <tr style=\"text-align: left;\">\n",
              "      <th>epoch</th>\n",
              "      <th>train_loss</th>\n",
              "      <th>valid_loss</th>\n",
              "      <th>accuracy</th>\n",
              "      <th>perplexity</th>\n",
              "      <th>time</th>\n",
              "    </tr>\n",
              "  </thead>\n",
              "  <tbody>\n",
              "    <tr>\n",
              "      <td>0</td>\n",
              "      <td>3.391202</td>\n",
              "      <td>3.255904</td>\n",
              "      <td>0.358088</td>\n",
              "      <td>25.943062</td>\n",
              "      <td>31:09</td>\n",
              "    </tr>\n",
              "    <tr>\n",
              "      <td>1</td>\n",
              "      <td>3.174295</td>\n",
              "      <td>3.069809</td>\n",
              "      <td>0.380279</td>\n",
              "      <td>21.537788</td>\n",
              "      <td>31:35</td>\n",
              "    </tr>\n",
              "  </tbody>\n",
              "</table>"
            ]
          },
          "metadata": {}
        },
        {
          "output_type": "stream",
          "name": "stdout",
          "text": [
            "CPU times: user 1h 49s, sys: 1min 45s, total: 1h 2min 34s\n",
            "Wall time: 1h 2min 45s\n"
          ]
        }
      ]
    },
    {
      "cell_type": "markdown",
      "source": [
        "## Finalización del entrenamiento\n",
        "\n",
        "Uan vez finalizado el entrenamiento podemos obtener varios detalles:\n",
        "\n",
        "* El [_Perplexity_](https://huggingface.co/docs/transformers/perplexity) alcanzado fue de 21.53. Esto bajó de más de 72mil sin entrenamiento. De acuerdo con el [paper de GPT](https://d4mucfpksywv.cloudfront.net/better-language-models/language-models.pdf), el mejor _perplexity_ que pudieron obtener fue de . Por lo que consideramos que es bastante bueno.\n",
        "* Asimismo el modelo tiene una precisión (_accuracy_) de 38%. \n",
        "* Podemos ver como el modelo redujo la perdida de forma significativa - aunque empezo ya bajo dado que el punto de partida fue un modelo ya pre-entrenado en español."
      ],
      "metadata": {
        "id": "awccY9GsIukz"
      }
    },
    {
      "cell_type": "code",
      "source": [
        "%%time \n",
        " \n",
        "learn.recorder.plot_loss() \n"
      ],
      "metadata": {
        "colab": {
          "base_uri": "https://localhost:8080/",
          "height": 301
        },
        "id": "Za_EB06BFu1a",
        "outputId": "f282a89a-e93b-49df-c767-93667539e3b2"
      },
      "execution_count": null,
      "outputs": [
        {
          "output_type": "stream",
          "name": "stdout",
          "text": [
            "CPU times: user 93.6 ms, sys: 1.05 ms, total: 94.7 ms\n",
            "Wall time: 136 ms\n"
          ]
        },
        {
          "output_type": "display_data",
          "data": {
            "text/plain": [
              "<Figure size 432x288 with 1 Axes>"
            ],
            "image/png": "[encoded data removed]"
          },
          "metadata": {
            "needs_background": "light"
          }
        }
      ]
    },
    {
      "cell_type": "code",
      "source": [
        "learn.save('/content/sample_data'+'/GPT2_dp_5epoch')\n",
        "learn = learn.load('/content/sample_data'+'/GPT2_dp_5epoch')\n",
        "!cp -v '/content/sample_data/GPT2_dp_5epoch.pth' '/content/drive/MyDrive/data/eswiki/modelo_diputados/'"
      ],
      "metadata": {
        "colab": {
          "base_uri": "https://localhost:8080/"
        },
        "id": "T18NwJncFxFw",
        "outputId": "d600e20d-60b2-4fdc-e206-2d42e232b93d"
      },
      "execution_count": null,
      "outputs": [
        {
          "output_type": "stream",
          "name": "stdout",
          "text": [
            "'/content/sample_data/GPT2_dp_5epoch.pth' -> '/content/drive/MyDrive/data/eswiki/modelo_diputados/GPT2_dp_5epoch.pth'\n"
          ]
        }
      ]
    },
    {
      "cell_type": "code",
      "source": [
        "learn = learn.load('/content/sample_data/modelo_diputados/GPT2_dp_5epoch')"
      ],
      "metadata": {
        "id": "x_zFdYh69nYo"
      },
      "execution_count": null,
      "outputs": []
    },
    {
      "cell_type": "code",
      "source": [
        "model_diputados = learn.model\n",
        "model_diputados_name = \"gpt2-small-diputados\""
      ],
      "metadata": {
        "id": "fgYsYTbe-srO"
      },
      "execution_count": null,
      "outputs": []
    },
    {
      "cell_type": "code",
      "source": [
        "model_diputados.save_pretrained(model_diputados_name)\n",
        "tokenizer_es.save_pretrained(model_diputados_name)"
      ],
      "metadata": {
        "colab": {
          "base_uri": "https://localhost:8080/"
        },
        "id": "g6Hk4k1j_NFY",
        "outputId": "89843b98-d433-4b1a-968f-c956c225b5af"
      },
      "execution_count": null,
      "outputs": [
        {
          "output_type": "execute_result",
          "data": {
            "text/plain": [
              "('gpt2-small-diputados/tokenizer_config.json',\n",
              " 'gpt2-small-diputados/special_tokens_map.json',\n",
              " 'gpt2-small-diputados/vocab.json',\n",
              " 'gpt2-small-diputados/merges.txt',\n",
              " 'gpt2-small-diputados/added_tokens.json',\n",
              " 'gpt2-small-diputados/tokenizer.json')"
            ]
          },
          "metadata": {},
          "execution_count": 37
        }
      ]
    },
    {
      "cell_type": "code",
      "source": [
        "!cp -rv '/content/gpt-small-diputados/.' '/content/drive/MyDrive/data/eswiki/gpt2-small-diputados/'"
      ],
      "metadata": {
        "colab": {
          "base_uri": "https://localhost:8080/"
        },
        "id": "M_bIm43T_-k1",
        "outputId": "2f6bb28d-adbe-4f42-f4f7-98d6367aae2a"
      },
      "execution_count": null,
      "outputs": [
        {
          "output_type": "stream",
          "name": "stdout",
          "text": [
            "'/content/gpt-small-diputados/./config.json' -> '/content/drive/MyDrive/data/eswiki/gpt2-small-diputados/./config.json'\n",
            "'/content/gpt-small-diputados/./pytorch_model.bin' -> '/content/drive/MyDrive/data/eswiki/gpt2-small-diputados/./pytorch_model.bin'\n",
            "'/content/gpt-small-diputados/./tokenizer_config.json' -> '/content/drive/MyDrive/data/eswiki/gpt2-small-diputados/./tokenizer_config.json'\n",
            "'/content/gpt-small-diputados/./special_tokens_map.json' -> '/content/drive/MyDrive/data/eswiki/gpt2-small-diputados/./special_tokens_map.json'\n",
            "'/content/gpt-small-diputados/./vocab.json' -> '/content/drive/MyDrive/data/eswiki/gpt2-small-diputados/./vocab.json'\n",
            "'/content/gpt-small-diputados/./merges.txt' -> '/content/drive/MyDrive/data/eswiki/gpt2-small-diputados/./merges.txt'\n",
            "'/content/gpt-small-diputados/./tokenizer.json' -> '/content/drive/MyDrive/data/eswiki/gpt2-small-diputados/./tokenizer.json'\n"
          ]
        }
      ]
    },
    {
      "cell_type": "markdown",
      "source": [
        "# Generación de texto\n",
        "\n",
        "Ahora vamos a generar texto.\n",
        "Para generar texto, utilizamos el método llamado _Top-k sampling_, que fue el utilizado en el [paper original de GPT](https://cdn.openai.com/better-language-models/language_models_are_unsupervised_multitask_learners.pdf).\n",
        "\n",
        "Utilizaremos el valor por defecto de 50, pero como una variable para poder cambiarlo más adelante.\n",
        "\n",
        "Este _top k_ lo que hace es que escoge un token como la siguiente palabra de una lista de los _k_ tokens con el mejor puntaje que genera el modelo. Mas información se puede encontrar en [Controlling Generation with top-k & top-p\n",
        "](https://docs.cohere.ai/token-picking/)"
      ],
      "metadata": {
        "id": "gii9zsw8LJr1"
      }
    },
    {
      "cell_type": "code",
      "source": [
        "top_k = 50"
      ],
      "metadata": {
        "id": "XVmMrYm6BKKz"
      },
      "execution_count": null,
      "outputs": []
    },
    {
      "cell_type": "markdown",
      "source": [
        "El siguiente paso es proveer el \"prompt\" que va a utilizar el modelo.\n",
        "\n",
        "Como funciona esto es que el modelo consume este \"prompt\" y genera tokens de acuerdo a la probabilidad que sea el token que sigue al prompt - y asi continuamente hasta alcanzar el numero de tokens que se le solicite (Estamos utilizando 400 tokens en este caso).\n",
        "\n",
        "Para este experimento se utilizaron dos \"prompts\" estos fueron tomados de intervenciones de los diputados Rodrigo Arias y Paola Nájera, obtenidos del mismo sitio de la Asamblea Legislativa:\n",
        "\n",
        "Los prompts son los siguientes:\n",
        "\n",
        "\n",
        "\n",
        "> 'Nos enfrentamos a grandes y graves problemas que impactan nuestra realidad económica y social. Creo que ha llegado el momento de darle espacio a ese diálogo franco y productivo del que les hablé al inicio de este mandato. '\n",
        "- Rodrigo Arias\n",
        "\n",
        "> 'En las últimas semanas hemos visitado varias zonas de Cartago y hemos visto el lamentable, por no decir vergonzoso, estado de las carreteras. Hablo de gente que debe lidiar con presas eternas, agricultores que se juegan la vida para sacar sus productos, de niños que no pueden llegar a tiempo a sus escuelas. Hablo de personas que se sienten olvidadas por sus gobiernos desde hace muchos años atrás.'\n",
        "- Paola Nájera\n",
        "\n"
      ],
      "metadata": {
        "id": "P4Tg-VNUMLfL"
      }
    },
    {
      "cell_type": "code",
      "source": [
        "# text = 'Nos enfrentamos a grandes y graves problemas que impactan nuestra realidad económica y social. Creo que ha llegado el momento de darle espacio a ese diálogo franco y productivo del que les hablé al inicio de este mandato. '\n",
        "text = 'En las últimas semanas hemos visitado varias zonas de Cartago y hemos visto el lamentable, por no decir vergonzoso, estado de las carreteras. Hablo de gente que debe lidiar con presas eternas, agricultores que se juegan la vida para sacar sus productos, de niños que no pueden llegar a tiempo a sus escuelas. Hablo de personas que se sienten olvidadas por sus gobiernos desde hace muchos años atrás.'\n",
        "input_ids = tokenizer_es.encode(text, return_tensors=\"pt\").to('cuda')\n",
        "max_length = input_ids.shape[1]\n",
        "\n",
        "print(max_length)"
      ],
      "metadata": {
        "colab": {
          "base_uri": "https://localhost:8080/"
        },
        "id": "LMWyNMpvBT-e",
        "outputId": "a84322e6-17d0-41d3-817d-f5e75d5bf649"
      },
      "execution_count": null,
      "outputs": [
        {
          "output_type": "stream",
          "name": "stdout",
          "text": [
            "75\n"
          ]
        }
      ]
    },
    {
      "cell_type": "markdown",
      "source": [
        "Lo siguiente es poner el modelo en modo de evaluación en vez de entrenamiento:"
      ],
      "metadata": {
        "id": "3i46O5LUNIVz"
      }
    },
    {
      "cell_type": "code",
      "source": [
        "# put model into eval mode and on GPU\n",
        "model_diputados.eval();\n",
        "model_diputados.to('cuda');"
      ],
      "metadata": {
        "id": "viow4hP1Erlp"
      },
      "execution_count": null,
      "outputs": []
    },
    {
      "cell_type": "markdown",
      "source": [
        "Y generar el texto. En este caso generamos 10 textos"
      ],
      "metadata": {
        "id": "svBYX9q5NNwh"
      }
    },
    {
      "cell_type": "code",
      "source": [
        "%%time\n",
        "textos = model_diputados.generate(input_ids, pad_token_id=50256,\n",
        "                                   do_sample=True, \n",
        "                                   max_length=400, \n",
        "                                   min_length=400,\n",
        "                                   top_k=50,\n",
        "                                   num_return_sequences=10)\n",
        "\n"
      ],
      "metadata": {
        "colab": {
          "base_uri": "https://localhost:8080/"
        },
        "id": "HFbqnqT9E7ln",
        "outputId": "234bf789-b98c-4614-ca23-01ef6e10a2b9"
      },
      "execution_count": null,
      "outputs": [
        {
          "output_type": "stream",
          "name": "stdout",
          "text": [
            "CPU times: user 5.88 s, sys: 15.6 ms, total: 5.89 s\n",
            "Wall time: 6.72 s\n"
          ]
        }
      ]
    },
    {
      "cell_type": "markdown",
      "source": [
        "Una vez generados se salvaron para poder revisarlos posteriormente."
      ],
      "metadata": {
        "id": "xrsiGaDRNTRX"
      }
    },
    {
      "cell_type": "code",
      "source": [
        "!mkdir textos"
      ],
      "metadata": {
        "id": "lpotT5zIGcgn"
      },
      "execution_count": null,
      "outputs": []
    },
    {
      "cell_type": "code",
      "source": [
        "\n",
        "for i, sample_output in enumerate(textos):\n",
        "    salida_texto = tokenizer_es.decode(sample_output.tolist())\n",
        "    print(\">> Generated text {}\\n\\n{}\".format(i+1, salida_texto))\n",
        "    seq = random.randint(0,100000)\n",
        "    with open('/content/textos/ejemplo_diputado_'+str(seq)+'.txt','w') as f:\n",
        "      f.write(salida_texto)\n",
        "    print('\\n---')"
      ],
      "metadata": {
        "colab": {
          "base_uri": "https://localhost:8080/"
        },
        "id": "egQpMFcOFPX_",
        "outputId": "38186fc7-cfcd-4d6d-a2f2-eba63249dc28"
      },
      "execution_count": null,
      "outputs": [
        {
          "output_type": "stream",
          "name": "stdout",
          "text": [
            ">> Generated text 1\n",
            "\n",
            "En las últimas semanas hemos visitado varias zonas de Cartago y hemos visto el lamentable, por no decir vergonzoso, estado de las carreteras. Hablo de gente que debe lidiar con presas eternas, agricultores que se juegan la vida para sacar sus productos, de niños que no pueden llegar a tiempo a sus escuelas. Hablo de personas que se sienten olvidadas por sus gobiernos desde hace muchos años atrás.  Yo voy a ver algunos casos, pero es la gran irresponsabilidad.Quiero también decir hoy que se trata de un hueco fiscal por el manejo de una mala Administración pública. La Administración pública en Costa Rica llegó a este nivel el veintidós por ciento del PIB. Y también, compañeros, yo considero que todos los recursos que ustedes representan son fundamentales para el 2022.¿Quién le está ofreciendo al fisco costarricense de dónde se invierten esas inversiones? Pues resulta que se le saca el dinero a la gente qué, porque ya no la hace…, ahora lo pagamos todas las propiedades. \n",
            "Y ahí dice que no se necesita que esta Administración no se dé, entonces que no se dé y las cosas están dentro de un presupuesto que se saqueó por ahí. ¿Qué es lo que pasa con esto? Que el veintidós por ciento de la facturación…\n",
            "EXPEDIENTE N.° 21.309, LEY PARA RESGUARDAR EL DERECHO DEL TRABAJADOR A RETIRAR LOS RECURSOS DE LA PENSIÓN COMPLEMENTARIA\n",
            "Diputado Wálter Muñoz Céspedes:Gracias, señor presidente.Voy a seguir haciendo mi disertación porque me lleva el tiempo, y es que me gustaría hacer una intervención sobre este proyecto de ley en virtud de este tipo de cosas en este proyecto de ley, en virtud de que este tipo de mociones lo que se busca es corregir y corregir las huelgas contra huelgas contra huelgas.Y creo que es uno de esos problemas que debe llevarnos a una mejora de dos vías fundamentales a la hora de dar un paso significativo para el país.Gracias, señor presidente.\n",
            "Sesión plenaria ordinaria N.º 72 del martes 30 de setiembre de 2019\n",
            "EXPEDIENTE N.° 21.309, LEY PARA RESGUARDAR EL DERECHO DEL TRA\n",
            "\n",
            "---\n",
            ">> Generated text 2\n",
            "\n",
            "En las últimas semanas hemos visitado varias zonas de Cartago y hemos visto el lamentable, por no decir vergonzoso, estado de las carreteras. Hablo de gente que debe lidiar con presas eternas, agricultores que se juegan la vida para sacar sus productos, de niños que no pueden llegar a tiempo a sus escuelas. Hablo de personas que se sienten olvidadas por sus gobiernos desde hace muchos años atrás. La tormenta Nate no se ha dejado pasar fuera de un puente, es un puente cerrado que hace aguas por el río San Juan del Pacífico, no se ha dejado pasar por un puente en la finca.El río Naranjo se ha ganado por muchas playas en el país una zona de Los Santos, donde hay muchos otros cantones y lugares que se ven beneficiadas.El río Santa Cruz se está ganado en el país donde hay muchas costas más allá del río Puerto, pero cuando hay una buena riqueza más fuerte es donde los más pobres de este país no están dando esos frutos. Y el río Naranjo no lo está haciendo, el río \n",
            "AyA\n",
            " y el río La Unión, no es posible el río Naranjo.Si no les llega más solamente el río Naranjo, este tipo de investigación y la falta de agua, pero por supuesto que tenemos este problema, que es poco más grave que una carga, una carga que está saliendo a la luz esta carga en la comunidad de occidente de Alajuela y en la Zona Sur, que de por sí ha sido reconocida como la que se está pasando ahí a la luz la cantidad y, por supuesto, el tiempo es apenas ocho meses, un mes, porque la verdad es que si no les queda treinta y ocho meses que les da la oportunidad para poder sobrevivir sus cosechas y ver cómo vamos a caminar cada recurso más importante en este país.Bueno, me parece que este proyecto, pero que a algunos se está dando, por ejemplo, la concesión, y no se está generando en una nueva terminal, y es por eso que en este caso la concesión de un puente al río Naranjo tiene que haber un puente\n",
            "\n",
            "---\n",
            ">> Generated text 3\n",
            "\n",
            "En las últimas semanas hemos visitado varias zonas de Cartago y hemos visto el lamentable, por no decir vergonzoso, estado de las carreteras. Hablo de gente que debe lidiar con presas eternas, agricultores que se juegan la vida para sacar sus productos, de niños que no pueden llegar a tiempo a sus escuelas. Hablo de personas que se sienten olvidadas por sus gobiernos desde hace muchos años atrás.\n",
            "No me quedan muchos días a nadie los más vulnerables a la zona que hoy está sur \n",
            "poco\n",
            ".\n",
            "No me quedan estos días los niños, los muchachos, las personas estudiantes de Upala, que han brindado mucho tiempo para poder ser atendidos por nuestros agricultores y sus zonas.\n",
            "Compañeros y compañeras, no estoy feliz. Por noches.Acta de la sesión plenaria ordinaria N\n",
            ".º\n",
            " 94\n",
            "Miércoles 12 de noviembre de 2018\n",
            "Segundo período de sesiones ordinarias\n",
            "Primera legislatura\n",
            "Diputada Paola Vega Rodríguez:Gracias, presidenta.Yo quiero llamar la atención con lo que decía el diputado Villalta Flórez-Estrada que no comparto los derechos de las dos personas diputadas y diputados que fueron afectados por sus derechos en el marco de la legislación \n",
            "es \n",
            "su impunidad electoral y \n",
            "si\n",
            " en una de ellas.  Esto es muy grave la violencia y estamos en contra de estas personas.Lo otro es, y le pregunto a don Carlos Alvarado que las mujeres de este Parlamento también son las mujeres, las mujeres en este Parlamento son las mujeres de este Parlamento.  Una vez más, la palabra ‘la’ puede permanecer’ \n",
            "si\n",
            " en forma política y una palabra ‘la’ puede hacer’, pero por favor, ¿en qué fue lo que ocurre acá?, ¿en qué no, una mujer?  No estamos a favor o si no se atiende por las mujeres.  Tenemos mucho que poner atención por esas mujeres.  \n",
            "Estamos hablando de mujeres, estamos hablando de mujeres, por ejemplo, por ejemplo.  \n",
            "Tenemos también en una agenda a la larga jornada para ver de hombres de este parlamento,\n",
            "\n",
            "---\n",
            ">> Generated text 4\n",
            "\n",
            "En las últimas semanas hemos visitado varias zonas de Cartago y hemos visto el lamentable, por no decir vergonzoso, estado de las carreteras. Hablo de gente que debe lidiar con presas eternas, agricultores que se juegan la vida para sacar sus productos, de niños que no pueden llegar a tiempo a sus escuelas. Hablo de personas que se sienten olvidadas por sus gobiernos desde hace muchos años atrás.He visto una inversión que no ha servido ni cabeza en un discurso de parte de las autoridades de turno, ni de parte de cómo están haciendo los oficiales de las carreteras para darle oportunidad en algo de salud. He escuchado a los padres de familia de San Pedro, hemos escuchado con mucho ímpetu la seguridad de estos vecinos y hemos visto ese tipo de cosas.He visto también la seguridad de estos vecinos, el hecho de que las instituciones como el de la seguridad de las carreteras deben verse beneficiados con esa seguridad de las que no se están generando, y ahora nos queda debiendo.Y cuando hablo de la infraestructura vial, hablo de empresas del Estado en todas las playas se quedaron viendo y el Gobierno sigue demostrando una gran necesidad de que la seguridad de los vecinos de la empresa tenga un impacto negativo en las emergencias, cuando el Estado no esté en ejecución para nada.Y a las autoridades de la Caja Costarricense de Seguro Social nos ha llamado la atención de que la Caja Costarricense de Seguro Social pueda atender los verdaderos intereses de los costarricenses para poder tomar la decisión de no tomar medidas adecuadas dentro del desarrollo de nuestra región.A todos los costarricenses, pues, me duele escuchar, yo, por el temor de que en los gobiernos de turno siempre va a estar la realidad de todos los costarricenses y al futuro es fundamental entender porque en tiempos de crisis, en tiempos donde los ciudadanos estamos inmersos, porque el dinero que hay que hacer los costarricenses es más impuestos.Estamos en un momento en donde estamos inmersos y estamos en un momento en donde debemos seguir siendo la principal crisis sin tocar la discusión y sin tocar la posibilidad de resolver la problemática que viven todos esos problemas y más\n",
            "\n",
            "---\n",
            ">> Generated text 5\n",
            "\n",
            "En las últimas semanas hemos visitado varias zonas de Cartago y hemos visto el lamentable, por no decir vergonzoso, estado de las carreteras. Hablo de gente que debe lidiar con presas eternas, agricultores que se juegan la vida para sacar sus productos, de niños que no pueden llegar a tiempo a sus escuelas. Hablo de personas que se sienten olvidadas por sus gobiernos desde hace muchos años atrás. De nuevo, compañeros, les estamos escuchando aquí, los servicios que están ubicados en zonas marginales, en donde se les ha abierto la oportunidad de hablar de eso.Muchas gracias.Intervención por el ordenDiputado Melvin Ángel Núñez Piña:\n",
            "No señor, señor diputado.\n",
            "Quiero, de antemano, hacer un llamado a usted y a este servidor, para que se corrija el problema que tenemos que tener en este país.\n",
            "Pero, señor presidente, muchas gracias por darle respuesta a este problema que usted debe darle.\n",
            "Diputada Laura Guido Pérez:\n",
            "Gracias, señor presidente, y muy buenas tardes.\n",
            "Quiero también hacer un llamado a la diputada Shirley Díaz porque si nosotros, en realidad estamos totalmente con esos proyectos que estamos convocados, estamos con los proyectos que se discuten y que están presentados por este Plenario, pues, en el caso concreto el cual yo lo voy a ceder en los segundos debates.\n",
            "Acta de la sesión plenaria ordinaria N\n",
            ".º\n",
            " 4\n",
            "Lunes 7 de mayo de 2018\n",
            "Primer período de sesiones ordinarias\n",
            "Primera legislatura\n",
            "Diputada Laura Guido Pérez:\n",
            "Gracias, presidenta, y muy buenas tardes a todos los compañeros y compañeras.Hoy tenemos la oportunidad de hablar de defender esta democracia y de defender a la ciudadanía, y de traer este proyecto de ley al cual de alguna forma se ha preocupado por razones ideológicas y que hay en el entendido de que nuestro país ha sido un país muy difícil, y que los partidos políticos, nosotros representamos como partidos políticos, que es un país que ha estado por encima con la democracia.Y entonces, quiero hacer una llamada al Estado a hacer ese llamado para que sigamos buscando nosotros que la democracia\n",
            "\n",
            "---\n",
            ">> Generated text 6\n",
            "\n",
            "En las últimas semanas hemos visitado varias zonas de Cartago y hemos visto el lamentable, por no decir vergonzoso, estado de las carreteras. Hablo de gente que debe lidiar con presas eternas, agricultores que se juegan la vida para sacar sus productos, de niños que no pueden llegar a tiempo a sus escuelas. Hablo de personas que se sienten olvidadas por sus gobiernos desde hace muchos años atrás.  Y si les cuento, por qué yo siento, por qué por qué no, ustedes me han precedido, es el caso de la Zona Norte, es la Zona Norte donde no solo hay un solo proyecto de ley, sino también el cantón también está viendo cómo llegan agua, porque solo se maneja este cantón. Y ese proyecto de ley ya lo sabemos para el día de hoy.Hay un área de seguridad para poder hacer las obras porque el cantón está viendo cómo llegan el pueblo de Costa Rica, o se usa el MOPT, cómo llegan el MOPT.Así que necesitamos que se revisen ese proyecto y que, por favor, apoyen con este proyecto, no pongamos excusas para dar su voto a las Obras del Espíritu Santo, porque la ruta que se está haciendo para reactivar la economía se está haciendo.Muchas gracias, señor presidente.Sesión plenaria ordinaria N.º 35 del lunes 11 de agosto de 2021\n",
            "Por el Orden\n",
            "Diputado Erwen Masís Castro:Muchas gracias, señor presidente, señores diputados y diputadas.En este año, lo voy a votar al primer debate en primer debate y también a este segundo debate, porque yo hoy quiero comentarles que el diputado Víctor Morales hizo una intervención en la Comisión de Emergencia. Y quiero recordar que por ese informe, el informe de mayoría, nos presenta un primer informe sobre estos temas que hemos recibido en este Plenario.Quiero aclarar este informe, porque hay un punto importante para este Plenario legislativo de la Comisión Especial para el Control de Ingreso y Gasto Público.  ¿Qué pasa si esta comisión quiere abrir este Plenario?, ¿por qué es que esta comisión quiere abrir el Plenario a comisión general?  Entonces, en\n",
            "\n",
            "---\n",
            ">> Generated text 7\n",
            "\n",
            "En las últimas semanas hemos visitado varias zonas de Cartago y hemos visto el lamentable, por no decir vergonzoso, estado de las carreteras. Hablo de gente que debe lidiar con presas eternas, agricultores que se juegan la vida para sacar sus productos, de niños que no pueden llegar a tiempo a sus escuelas. Hablo de personas que se sienten olvidadas por sus gobiernos desde hace muchos años atrás. Hablo de personas que se sienten olvidadas y que ya el Estado va a tomar decisiones. Hablo de los costarricenses que están en esa dirección han venido trabajando. Hablo de personas que se sienten excluidos y que no están denunciando los gastos de vivienda que puedan dar contenido a la hora a revisar sus necesidades, porque no terminan recortando nada.  Y por supuesto que tenemos que trabajar desde el día de hoy.No nos quedemos solo unos, algunos pocos, pero yo no soy de esa de las que me escucharon.No, no, son las que quiero compartir con ustedes mis compañeros de la Comisión que estamos trabajando en esta Asamblea Legislativa.  Tratantas y un trabajo muy duro.  El trabajo que se está haciendo no termina es culpa de las municipalidades, sino que sigue siendo culpa de su comunidad desde aquí.Pero aquí solo basta de hablar por hacer los estudios técnicos técnicos, no por hacer los estudios técnicos. No es que el tema municipal está pasando mal.  Hay un lobby muy pronto posible; por ejemplo, con la Municipalidad que hace veinte años es la única vez de tener más y mejores condiciones para no poder hacer negocios locales.  Se anunció ese lobby con más de seiscientos cinco casos, sin fines de semana.  Se anunció una nueva municipalidad para evitar las actividades de alquiler y que la gente se ha perdido en esas casas.   ¿Por qué?, porque el problema de los centros penitenciarios en general es la que tienen que trabajar.  Bueno, esto es un desastre ambiental sostenible que se tiene en otras provincias del país.  Necesitamos entender que este país está dando clases y los más vulnerables para que puedan disfrutar y puedan recibir clases.\n",
            "\n",
            "---\n",
            ">> Generated text 8\n",
            "\n",
            "En las últimas semanas hemos visitado varias zonas de Cartago y hemos visto el lamentable, por no decir vergonzoso, estado de las carreteras. Hablo de gente que debe lidiar con presas eternas, agricultores que se juegan la vida para sacar sus productos, de niños que no pueden llegar a tiempo a sus escuelas. Hablo de personas que se sienten olvidadas por sus gobiernos desde hace muchos años atrás.Quiero contarles un poquito de silencio de quienes hacen estas obras en el país cuando hay familias que se están viendo no solamente sus casas, sino que también les preocupa.  Y hoy les digo, compañeras y compañeros, que hoy estamos viviendo diariamente en el territorio nacional, no solamente sus casas, sino muy especialmente sus familias, aunque por la crisis sanitaria, en el caso del huracán Otto, en el caso de Naranjo, también la crisis de infraestructura educativa con más de setenta años de este país se lo llevan a cabo con más cerca de veintiséis días.Esta infraestructura educativa se lo llevan a cabo con veintiséis días.  Por eso, yo creo que es importante decirlo, los invito a todos los diputados y diputadas y al presidente de la República, de todas las fracciones en este Parlamento también, para que demos esta aprobación, porque si bien esta infraestructura no se puede solucionar, si la vía es la próxima del día pasado, son recursos que están destinados a obra más cara, pues ciertamente hay más de treinta y seis mil kilómetros cuadrados que están iniciando.  Por eso quiero que quede ese espacio, quiero que quede claro que no es fácil de resolver, es que se va a quedar el mismo problema como el río San Juan, para que tengamos agua, para que tengamos agua, para que tengamos servicios en sus casas.  No hay ninguna necesidad y ningún tipo de solución.Y a esta reflexión he escuchado con atención, porque he escuchado con atención también la necesidad de que no haya podido aprobar este proyecto que viene de una manera integral a los que estamos llevando la ejecución de las aguas residuales y que, efectivamente, a toda costa, tienen más de treinta\n",
            "\n",
            "---\n",
            ">> Generated text 9\n",
            "\n",
            "En las últimas semanas hemos visitado varias zonas de Cartago y hemos visto el lamentable, por no decir vergonzoso, estado de las carreteras. Hablo de gente que debe lidiar con presas eternas, agricultores que se juegan la vida para sacar sus productos, de niños que no pueden llegar a tiempo a sus escuelas. Hablo de personas que se sienten olvidadas por sus gobiernos desde hace muchos años atrás. Hablo de las zonas costeras, de las zonas más pobres de nuestro país, de la Zona Sur que más que lo merecen.Necesitamos realmente darles el apoyo\n",
            " en el Poder Ejecutivo a las autoridades de Gobierno a dar la cara.Yo quiero aprovechar estos minutos para decirles que el trabajo se encargó al ministro y al ministro de Educación, don Edgar Mora, a la ministra de Educación Pública. Yo quiero aprovechar la oportunidad para poder sacar a nuestros jóvenes costarricenses. No solamente lo pude ver en la casa de los estudiantes de Cartago, ya que muchos estudiantes, que muchos estudiantes están en escuela, los estudiantes de la Escuela de San Mateo y también los jóvenes estudiantes de todo el país.Necesitamos de un nuevo Estado para que nos puedan llevar adelante sus necesidades de su familia.Muchísimas gracias.\n",
            "Sesión plenaria extraordinaria N.º 38 del j\n",
            "ueves 18 de febrero de 2021Intervención por el orden\n",
            "Diputada Ivonne Acuña Cabrera:\n",
            "Muchas gracias, señora presidenta.\n",
            "Quiero unirme a las palabras de la diputada Shirley Díaz y a la compañera Zoila \n",
            "Volio\n",
            ".\n",
            "La intervención que me queda es que este fin es un fin a los derechos humanos, es un fin de los derechos laborales. Primero, es un fin de conciencia.\n",
            "El fin de conciencia fue una iniciativa valiente, una iniciativa que nace de los principios y principios constitucionales, que nace de la Ley de Protección de Datos y el proyecto de Ley de los Pueblos Indígenas de Costa Rica. \n",
            "Y, aunque, además, fue muy importante hacer referencia al procedimiento; o bien, el fin de conciencia en este Plenario, se empezó a establecer para que los convenios, los tratados entre\n",
            "\n",
            "---\n",
            ">> Generated text 10\n",
            "\n",
            "En las últimas semanas hemos visitado varias zonas de Cartago y hemos visto el lamentable, por no decir vergonzoso, estado de las carreteras. Hablo de gente que debe lidiar con presas eternas, agricultores que se juegan la vida para sacar sus productos, de niños que no pueden llegar a tiempo a sus escuelas. Hablo de personas que se sienten olvidadas por sus gobiernos desde hace muchos años atrás.  ¿Cómo es posible que en Costa Rica vuelva a ver y darles más espacio a una empresa que es, que de pronto vamos a tener sus casas, que de pronto vamos a tener sus carreteras, que de pronto vamos a tener sus carreteras?,  ¿cómo es posible que en Costa Rica vuelva a ver?  Tenemos las comunidades que tienen grandes posibilidades de poder desarrollar las carreteras, eso no es sencillo.\n",
            "Entonces, se requiere también ese trabajo, se requiere realmente el trabajo adecuado que tienen las zonas para poder hacer estas cosas, y eso viene a solventar la situación social, pero no podemos perder el camino de poder generar empleo para nuestros habitantes.\n",
            "Hoy, hoy, en la Comisión de Asuntos Municipales hemos trabajado proyectos de ley que nos hemos comprometido, que lo que venimos a hacer es reactivar la economía, ayudar a reducir la brecha digital, a que podamos ser más productivos y no más en tiempos que lo que tenemos.\n",
            "En lugar de hablar de este proyecto de ley, yo estuve en la Comisión, y creo que a pesar de eso, lo que es, desde la comisión, de tener todas las discusiones para poder ayudar a impulsar otras iniciativas, y así debe quedar claro.\n",
            "Sin que también ya mis compañeros han presentado la incorporación, como en otros proyectos, de los cuales yo no sé cómo se va a quedar como si nada estuviera fuera, o si nada estuviera fuera que esto es de levantar la bandera a través de tantos proyectos, y si nada estuviera fuera que esto es de levantar la bandera, porque es una comisión que va a estar totalmente fuera de esa forma.\n",
            "Así debe quedar claro, no lo estoy diciendo\n",
            "\n",
            "---\n"
          ]
        }
      ]
    },
    {
      "cell_type": "markdown",
      "source": [],
      "metadata": {
        "id": "t-oIYXWZjsOL"
      }
    },
    {
      "cell_type": "code",
      "source": [
        "!cp -rifv '/content/textos/.' '/content/drive/MyDrive/data/eswiki/textos_generados/'"
      ],
      "metadata": {
        "colab": {
          "base_uri": "https://localhost:8080/"
        },
        "id": "VMUH5b3bH2oO",
        "outputId": "a650c8d2-1d31-4fbc-f85d-647a20f9be11"
      },
      "execution_count": null,
      "outputs": [
        {
          "output_type": "stream",
          "name": "stdout",
          "text": [
            "cp: overwrite '/content/drive/MyDrive/data/eswiki/textos_generados/./ejemplo_diputado_7822.txt'? n\n",
            "cp: overwrite '/content/drive/MyDrive/data/eswiki/textos_generados/./ejemplo_diputado_314.txt'? n\n",
            "cp: overwrite '/content/drive/MyDrive/data/eswiki/textos_generados/./ejemplo_diputado_8281.txt'? n\n",
            "cp: overwrite '/content/drive/MyDrive/data/eswiki/textos_generados/./ejemplo_diputado_61301.txt'? n\n",
            "cp: overwrite '/content/drive/MyDrive/data/eswiki/textos_generados/./ejemplo_diputado_16143.txt'? n\n",
            "cp: overwrite '/content/drive/MyDrive/data/eswiki/textos_generados/./ejemplo_diputado_53372.txt'? n\n",
            "cp: overwrite '/content/drive/MyDrive/data/eswiki/textos_generados/./ejemplo_diputado_69640.txt'? n\n",
            "cp: overwrite '/content/drive/MyDrive/data/eswiki/textos_generados/./ejemplo_diputado_22599.txt'? n\n",
            "cp: overwrite '/content/drive/MyDrive/data/eswiki/textos_generados/./ejemplo_diputado_12126.txt'? n\n",
            "cp: overwrite '/content/drive/MyDrive/data/eswiki/textos_generados/./ejemplo_diputado_89443.txt'? n\n",
            "cp: overwrite '/content/drive/MyDrive/data/eswiki/textos_generados/./ejemplo_diputado_99381.txt'? n\n",
            "cp: overwrite '/content/drive/MyDrive/data/eswiki/textos_generados/./ejemplo_diputado_54501.txt'? n\n",
            "cp: overwrite '/content/drive/MyDrive/data/eswiki/textos_generados/./ejemplo_diputado_44673.txt'? n\n",
            "cp: overwrite '/content/drive/MyDrive/data/eswiki/textos_generados/./ejemplo_diputado_63145.txt'? n\n",
            "cp: overwrite '/content/drive/MyDrive/data/eswiki/textos_generados/./ejemplo_diputado_76018.txt'? n\n",
            "cp: overwrite '/content/drive/MyDrive/data/eswiki/textos_generados/./ejemplo_diputado_54092.txt'? n\n",
            "cp: overwrite '/content/drive/MyDrive/data/eswiki/textos_generados/./ejemplo_diputado_59941.txt'? n\n",
            "cp: overwrite '/content/drive/MyDrive/data/eswiki/textos_generados/./ejemplo_diputado_21005.txt'? n\n",
            "cp: overwrite '/content/drive/MyDrive/data/eswiki/textos_generados/./ejemplo_diputado_52463.txt'? n\n",
            "cp: overwrite '/content/drive/MyDrive/data/eswiki/textos_generados/./ejemplo_diputado_93199.txt'? n\n",
            "cp: overwrite '/content/drive/MyDrive/data/eswiki/textos_generados/./ejemplo_diputado_3445.txt'? n\n",
            "cp: overwrite '/content/drive/MyDrive/data/eswiki/textos_generados/./ejemplo_diputado_72744.txt'? n\n",
            "cp: overwrite '/content/drive/MyDrive/data/eswiki/textos_generados/./ejemplo_diputado_92928.txt'? n\n",
            "cp: overwrite '/content/drive/MyDrive/data/eswiki/textos_generados/./ejemplo_diputado_10737.txt'? n\n",
            "cp: overwrite '/content/drive/MyDrive/data/eswiki/textos_generados/./ejemplo_diputado_70105.txt'? n\n",
            "cp: overwrite '/content/drive/MyDrive/data/eswiki/textos_generados/./ejemplo_diputado_52465.txt'? n\n",
            "cp: overwrite '/content/drive/MyDrive/data/eswiki/textos_generados/./ejemplo_diputado_60301.txt'? n\n",
            "cp: overwrite '/content/drive/MyDrive/data/eswiki/textos_generados/./ejemplo_diputado_79937.txt'? n\n",
            "'/content/textos/./ejemplo_diputado_35122.txt' -> '/content/drive/MyDrive/data/eswiki/textos_generados/./ejemplo_diputado_35122.txt'\n",
            "'/content/textos/./ejemplo_diputado_1618.txt' -> '/content/drive/MyDrive/data/eswiki/textos_generados/./ejemplo_diputado_1618.txt'\n",
            "'/content/textos/./ejemplo_diputado_95319.txt' -> '/content/drive/MyDrive/data/eswiki/textos_generados/./ejemplo_diputado_95319.txt'\n",
            "'/content/textos/./ejemplo_diputado_71472.txt' -> '/content/drive/MyDrive/data/eswiki/textos_generados/./ejemplo_diputado_71472.txt'\n",
            "'/content/textos/./ejemplo_diputado_57398.txt' -> '/content/drive/MyDrive/data/eswiki/textos_generados/./ejemplo_diputado_57398.txt'\n",
            "'/content/textos/./ejemplo_diputado_5752.txt' -> '/content/drive/MyDrive/data/eswiki/textos_generados/./ejemplo_diputado_5752.txt'\n",
            "'/content/textos/./ejemplo_diputado_94039.txt' -> '/content/drive/MyDrive/data/eswiki/textos_generados/./ejemplo_diputado_94039.txt'\n",
            "'/content/textos/./ejemplo_diputado_79581.txt' -> '/content/drive/MyDrive/data/eswiki/textos_generados/./ejemplo_diputado_79581.txt'\n",
            "'/content/textos/./ejemplo_diputado_56602.txt' -> '/content/drive/MyDrive/data/eswiki/textos_generados/./ejemplo_diputado_56602.txt'\n",
            "'/content/textos/./ejemplo_diputado_38711.txt' -> '/content/drive/MyDrive/data/eswiki/textos_generados/./ejemplo_diputado_38711.txt'\n"
          ]
        }
      ]
    },
    {
      "cell_type": "markdown",
      "source": [
        "# Textos Generados Seleccionados\n",
        "\n",
        "Los siguientes son textos escogidos de los generados por el modelo luego de su entrenamiento.\n",
        "\n",
        "## Texto seleccionado 1\n",
        "\n",
        "> Nos enfrentamos a grandes y graves problemas que impactan nuestra realidad económica y social. Creo que ha llegado el momento de darle espacio a ese diálogo franco y productivo del que les hablé al inicio de este mandato.  Pero es que el presidente don Carlos Alvarado tuvo un plan de recuperación económica fuerte de los diversos sectores golpeados, y el país tuvo que hablar de empleos, empleo y oportunidades de inversión pública.En este discurso del presidente dice que más de mil seiscientos veinticinco trabajadores de la zona más humilde, no le dice a todo el país que la mayor parte de las zonas francas en cuanto al fortalecimiento del sector privado no son pobres.  Eso no está así, eso no está tomando aquí.¿Por qué tenemos que hablar de aumentar el desempleo, a nivel de la baja de la zona a nivel mundial, a nivel interno de los distintos sectores?  Es un programa de radio que el ministro de Trabajo, por ejemplo, nos habla del plan de recuperación económica, de que el sector privado vaya a pagar más impuestos; por ejemplo, no tiene ni dónde producir y a veces la gente se mueve en un mercado regional.  Estamos hablando del sector privado y está hablando de la inversión pública.  Me preocupa que este último año que estamos de la misma Comisión de Asuntos Hacendarios y que hemos estado de acuerdo en que este país es una provincia ineficiente y que, de una u otra manera, nos llena de esperanza y sentimos de absoluta incertidumbre, por lo menos a lo largo de nuestro tiempo que hemos hecho. Pero realmente, no podemos pensar que el problema económico que se está viviendo cuando se toman decisiones por parte del Gobierno, y en realidad se está afectando al sector privado, y el Gobierno más responsable que el Gobierno no le permitió, y la Contraloría también, se sigue incumpliendo con las metas importantes.  En resumen, este plan de reactivación económica que viene haciendo a través de un Gobierno que prefiere generar crecimiento económico, que le permita tener recursos que no le pertenecen y que le permita que se atienda el desempleo, el desempleo de los sectores\n",
        "\n",
        "## Texto seleccionado 2\n",
        "\n",
        "> En las últimas semanas hemos visitado varias zonas de Cartago y hemos visto el lamentable, por no decir vergonzoso, estado de las carreteras. Hablo de gente que debe lidiar con presas eternas, agricultores que se juegan la vida para sacar sus productos, de niños que no pueden llegar a tiempo a sus escuelas. Hablo de personas que se sienten olvidadas por sus gobiernos desde hace muchos años atrás.  Y si les cuento, por qué yo siento, por qué por qué no, ustedes me han precedido, es el caso de la Zona Norte, es la Zona Norte donde no solo hay un solo proyecto de ley, sino también el cantón también está viendo cómo llegan agua, porque solo se maneja este cantón. Y ese proyecto de ley ya lo sabemos para el día de hoy.Hay un área de seguridad para poder hacer las obras porque el cantón está viendo cómo llegan el pueblo de Costa Rica, o se usa el MOPT, cómo llegan el MOPT.Así que necesitamos que se revisen ese proyecto y que, por favor, apoyen con este proyecto, no pongamos excusas para dar su voto a las Obras del Espíritu Santo, porque la ruta que se está haciendo para reactivar la economía se está haciendo.Muchas gracias, señor presidente.Sesión plenaria ordinaria N.º 35 del lunes 11 de agosto de 2021\n",
        "Por el Orden\n",
        "Diputado Erwen Masís Castro:Muchas gracias, señor presidente, señores diputados y diputadas.En este año, lo voy a votar al primer debate en primer debate y también a este segundo debate, porque yo hoy quiero comentarles que el diputado Víctor Morales hizo una intervención en la Comisión de Emergencia. Y quiero recordar que por ese informe, el informe de mayoría, nos presenta un primer informe sobre estos temas que hemos recibido en este Plenario.Quiero aclarar este informe, porque hay un punto importante para este Plenario legislativo de la Comisión Especial para el Control de Ingreso y Gasto Público.  ¿Qué pasa si esta comisión quiere abrir este Plenario?, ¿por qué es que esta comisión quiere abrir el Plenario a comisión general?\n",
        "\n",
        "## Texto seleccionado 3\n",
        "\n",
        "> En las últimas semanas hemos visitado varias zonas de Cartago y hemos visto el lamentable, por no decir vergonzoso, estado de las carreteras. Hablo de gente que debe lidiar con presas eternas, agricultores que se juegan la vida para sacar sus productos, de niños que no pueden llegar a tiempo a sus escuelas. Hablo de personas que se sienten olvidadas por sus gobiernos desde hace muchos años atrás.  Yo voy a ver algunos casos, pero es la gran irresponsabilidad.Quiero también decir hoy que se trata de un hueco fiscal por el manejo de una mala Administración pública. La Administración pública en Costa Rica llegó a este nivel el veintidós por ciento del PIB. Y también, compañeros, yo considero que todos los recursos que ustedes representan son fundamentales para el 2022.¿Quién le está ofreciendo al fisco costarricense de dónde se invierten esas inversiones? Pues resulta que se le saca el dinero a la gente qué, porque ya no la hace…, ahora lo pagamos todas las propiedades. \n",
        "Y ahí dice que no se necesita que esta Administración no se dé, entonces que no se dé y las cosas están dentro de un presupuesto que se saqueó por ahí. ¿Qué es lo que pasa con esto?\n",
        "\n",
        "## Texto seleccionado 4\n",
        "\n",
        "> Nos enfrentamos a grandes y graves problemas que impactan nuestra realidad económica y social. Creo que ha llegado el momento de darle espacio a ese diálogo franco y productivo del que les hablé al inicio de este mandato.  Hay que reconocer, hay que reconocer las ventajas del desarrollo económico y del empleo. Los invito a que nos unamos en conjunto, pero bueno, ahora que hacemos un esfuerzo con el presidente lo mejor.  De ser parte de esa agenda en donde se empieza el camino de poder seguir avanzando y que no necesariamente sea el resultado favorable de esa agenda con los diferentes sectores que se han manifestado y que puedan avanzar.  Esa es la realidad de este país.Por supuesto que he presentado dos mociones: no podemos, no solamente dejar de votar el proyecto, sino resolver la práctica parlamentaria y que podamos avanzar en una agenda de desarrollo económico, social y con la participación de las fracciones políticas representadas de cada uno de las fracciones representadas en este Plenario.\n",
        "ACTA DE LA SESIÓN PLENARIA ORDINARIA N.º 50 Miércoles 06 de marzo de 2020\n",
        "Control Político\n",
        "Diputada María José Corrales Chacón:Gracias, presidente.Muy buenas tardes; buenas tardes, compañeras y compañeros; personas que nos están empujando este año con la aprobación de este proyecto, y en medio de una pandemia, con el fin de garantizar las condiciones de vida de su gente y así llevar su actividad económica a las personas, tanto también en la reactivación económica en medio de la crisis fiscal.Sin embargo, a pesar de que esto iba a hablar de un endeudamiento del Estado de un ocho por ciento, y de un monto superior a tres punto cuatro billones, el cual viene a afectar la deuda pública en este país, tanto en la que en su mayoría de costarricenses ya no hemos tenido ningún servicio permanente.Por lo tanto, si no me equivoco, creo que no solo el resultado de una aprobación de este proyecto, o la necesidad de un informe con el fin de garantizar más recursos, creo que sí hemos avanzado, hemos avanzado, pero cuando nos tocó a nosotros estar\n",
        "\n"
      ],
      "metadata": {
        "id": "Hw32NBaiNYAx"
      }
    },
    {
      "cell_type": "markdown",
      "source": [
        "# Mejoras a futuro\n",
        "\n",
        "Al finalizar el proyecto podemos hacer las siguientes recomendaciones sobre mejoras para el modelo:\n",
        "\n",
        "1. Utilizar el tokenizer del model _gpt2-small-spanish_ en vez del genérico _gpt_. Evaluar si esto afecta en algo la generación de texto\n",
        "2. Realizar una limpieza de datos mas exhaustiva. Si bien en la limpieza de datos se eliminaron términos que correspondian a caracteres de control, asi como se procesó el texto para generar text plano, quedaron algunos detalles específicos de las intervenciones que consideramos podrían eliminarse de los texto para que el modelo solamente aprenda sobre las intervenciones de los diputados y no sobre la estructura del documento de intervenciones.\n",
        "3. Utilizar diferentes _learning rates_ durante el entrenamiento como lo recomienda el tutorial de fastai y otra documentación consultada."
      ],
      "metadata": {
        "id": "RheonI0M9a_D"
      }
    }
  ]
}