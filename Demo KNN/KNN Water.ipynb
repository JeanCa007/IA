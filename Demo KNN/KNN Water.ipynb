{
 "cells": [
  {
   "cell_type": "markdown",
   "id": "7a3be2c3",
   "metadata": {},
   "source": [
    "Librerias"
   ]
  },
  {
   "cell_type": "code",
   "execution_count": 4,
   "id": "73239443",
   "metadata": {},
   "outputs": [],
   "source": [
    "import pandas as pd\n",
    "import numpy as np\n",
    "import matplotlib.pyplot as plt\n",
    "from sklearn import preprocessing\n",
    "from sklearn.neighbors import KNeighborsClassifier"
   ]
  },
  {
   "cell_type": "markdown",
   "id": "2fef67a4",
   "metadata": {},
   "source": [
    "Cargo Datos"
   ]
  },
  {
   "cell_type": "code",
   "execution_count": 20,
   "id": "1a5eab4f",
   "metadata": {},
   "outputs": [
    {
     "data": {
      "text/html": [
       "<div>\n",
       "<style scoped>\n",
       "    .dataframe tbody tr th:only-of-type {\n",
       "        vertical-align: middle;\n",
       "    }\n",
       "\n",
       "    .dataframe tbody tr th {\n",
       "        vertical-align: top;\n",
       "    }\n",
       "\n",
       "    .dataframe thead th {\n",
       "        text-align: right;\n",
       "    }\n",
       "</style>\n",
       "<table border=\"1\" class=\"dataframe\">\n",
       "  <thead>\n",
       "    <tr style=\"text-align: right;\">\n",
       "      <th></th>\n",
       "      <th>ph</th>\n",
       "      <th>Hardness</th>\n",
       "      <th>Solids</th>\n",
       "      <th>Chloramines</th>\n",
       "      <th>Sulfate</th>\n",
       "      <th>Conductivity</th>\n",
       "      <th>Organic_carbon</th>\n",
       "      <th>Trihalomethanes</th>\n",
       "      <th>Turbidity</th>\n",
       "      <th>Potability</th>\n",
       "    </tr>\n",
       "  </thead>\n",
       "  <tbody>\n",
       "    <tr>\n",
       "      <th>1241</th>\n",
       "      <td>5.574117</td>\n",
       "      <td>193.158076</td>\n",
       "      <td>17546.403256</td>\n",
       "      <td>9.219973</td>\n",
       "      <td>366.197418</td>\n",
       "      <td>538.532518</td>\n",
       "      <td>13.951332</td>\n",
       "      <td>67.142033</td>\n",
       "      <td>5.152528</td>\n",
       "      <td>0</td>\n",
       "    </tr>\n",
       "    <tr>\n",
       "      <th>2925</th>\n",
       "      <td>11.563169</td>\n",
       "      <td>174.942862</td>\n",
       "      <td>19359.428816</td>\n",
       "      <td>6.495619</td>\n",
       "      <td>332.446490</td>\n",
       "      <td>366.312672</td>\n",
       "      <td>17.529526</td>\n",
       "      <td>38.431200</td>\n",
       "      <td>5.107236</td>\n",
       "      <td>0</td>\n",
       "    </tr>\n",
       "    <tr>\n",
       "      <th>2328</th>\n",
       "      <td>6.071839</td>\n",
       "      <td>217.826531</td>\n",
       "      <td>17162.753927</td>\n",
       "      <td>3.521125</td>\n",
       "      <td>319.037346</td>\n",
       "      <td>612.094926</td>\n",
       "      <td>16.542239</td>\n",
       "      <td>64.826308</td>\n",
       "      <td>2.691610</td>\n",
       "      <td>1</td>\n",
       "    </tr>\n",
       "    <tr>\n",
       "      <th>2986</th>\n",
       "      <td>3.832917</td>\n",
       "      <td>218.723840</td>\n",
       "      <td>23535.028901</td>\n",
       "      <td>6.475402</td>\n",
       "      <td>352.505898</td>\n",
       "      <td>421.183478</td>\n",
       "      <td>19.273561</td>\n",
       "      <td>58.903698</td>\n",
       "      <td>4.768660</td>\n",
       "      <td>0</td>\n",
       "    </tr>\n",
       "    <tr>\n",
       "      <th>3212</th>\n",
       "      <td>5.913755</td>\n",
       "      <td>175.326062</td>\n",
       "      <td>12044.624691</td>\n",
       "      <td>8.368785</td>\n",
       "      <td>347.880372</td>\n",
       "      <td>380.967166</td>\n",
       "      <td>12.530827</td>\n",
       "      <td>65.194053</td>\n",
       "      <td>4.023776</td>\n",
       "      <td>1</td>\n",
       "    </tr>\n",
       "    <tr>\n",
       "      <th>2561</th>\n",
       "      <td>6.069364</td>\n",
       "      <td>200.916263</td>\n",
       "      <td>9323.218290</td>\n",
       "      <td>9.387522</td>\n",
       "      <td>325.466983</td>\n",
       "      <td>450.441352</td>\n",
       "      <td>12.423380</td>\n",
       "      <td>73.914026</td>\n",
       "      <td>4.914809</td>\n",
       "      <td>0</td>\n",
       "    </tr>\n",
       "    <tr>\n",
       "      <th>240</th>\n",
       "      <td>9.380658</td>\n",
       "      <td>265.061216</td>\n",
       "      <td>15156.789834</td>\n",
       "      <td>4.271545</td>\n",
       "      <td>333.334469</td>\n",
       "      <td>503.170615</td>\n",
       "      <td>11.286410</td>\n",
       "      <td>99.016003</td>\n",
       "      <td>4.034349</td>\n",
       "      <td>0</td>\n",
       "    </tr>\n",
       "    <tr>\n",
       "      <th>3114</th>\n",
       "      <td>6.971577</td>\n",
       "      <td>185.906938</td>\n",
       "      <td>27959.987873</td>\n",
       "      <td>7.214510</td>\n",
       "      <td>349.743879</td>\n",
       "      <td>414.067354</td>\n",
       "      <td>19.882917</td>\n",
       "      <td>36.179003</td>\n",
       "      <td>3.226349</td>\n",
       "      <td>0</td>\n",
       "    </tr>\n",
       "    <tr>\n",
       "      <th>3128</th>\n",
       "      <td>4.959853</td>\n",
       "      <td>215.854869</td>\n",
       "      <td>9887.830755</td>\n",
       "      <td>6.954231</td>\n",
       "      <td>379.504731</td>\n",
       "      <td>527.479694</td>\n",
       "      <td>14.326638</td>\n",
       "      <td>52.388849</td>\n",
       "      <td>3.455045</td>\n",
       "      <td>1</td>\n",
       "    </tr>\n",
       "    <tr>\n",
       "      <th>1318</th>\n",
       "      <td>6.724639</td>\n",
       "      <td>223.175415</td>\n",
       "      <td>41552.019664</td>\n",
       "      <td>7.744700</td>\n",
       "      <td>271.157120</td>\n",
       "      <td>463.885216</td>\n",
       "      <td>13.165035</td>\n",
       "      <td>61.058796</td>\n",
       "      <td>2.921415</td>\n",
       "      <td>0</td>\n",
       "    </tr>\n",
       "  </tbody>\n",
       "</table>\n",
       "</div>"
      ],
      "text/plain": [
       "             ph    Hardness        Solids  Chloramines     Sulfate  \\\n",
       "1241   5.574117  193.158076  17546.403256     9.219973  366.197418   \n",
       "2925  11.563169  174.942862  19359.428816     6.495619  332.446490   \n",
       "2328   6.071839  217.826531  17162.753927     3.521125  319.037346   \n",
       "2986   3.832917  218.723840  23535.028901     6.475402  352.505898   \n",
       "3212   5.913755  175.326062  12044.624691     8.368785  347.880372   \n",
       "2561   6.069364  200.916263   9323.218290     9.387522  325.466983   \n",
       "240    9.380658  265.061216  15156.789834     4.271545  333.334469   \n",
       "3114   6.971577  185.906938  27959.987873     7.214510  349.743879   \n",
       "3128   4.959853  215.854869   9887.830755     6.954231  379.504731   \n",
       "1318   6.724639  223.175415  41552.019664     7.744700  271.157120   \n",
       "\n",
       "      Conductivity  Organic_carbon  Trihalomethanes  Turbidity  Potability  \n",
       "1241    538.532518       13.951332        67.142033   5.152528           0  \n",
       "2925    366.312672       17.529526        38.431200   5.107236           0  \n",
       "2328    612.094926       16.542239        64.826308   2.691610           1  \n",
       "2986    421.183478       19.273561        58.903698   4.768660           0  \n",
       "3212    380.967166       12.530827        65.194053   4.023776           1  \n",
       "2561    450.441352       12.423380        73.914026   4.914809           0  \n",
       "240     503.170615       11.286410        99.016003   4.034349           0  \n",
       "3114    414.067354       19.882917        36.179003   3.226349           0  \n",
       "3128    527.479694       14.326638        52.388849   3.455045           1  \n",
       "1318    463.885216       13.165035        61.058796   2.921415           0  "
      ]
     },
     "execution_count": 20,
     "metadata": {},
     "output_type": "execute_result"
    }
   ],
   "source": [
    "df = df = pd.read_csv('./water_potability.csv')\n",
    "df=df.dropna()\n",
    "df.sample(10)"
   ]
  },
  {
   "cell_type": "markdown",
   "id": "f54590dc",
   "metadata": {},
   "source": [
    "Divido entre agua potable o no potable"
   ]
  },
  {
   "cell_type": "code",
   "execution_count": 21,
   "id": "37dd1d8d",
   "metadata": {},
   "outputs": [],
   "source": [
    "potable = df[df['Potability']==1]\n",
    "No_potable= df[df['Potability']==0]"
   ]
  },
  {
   "cell_type": "markdown",
   "id": "62dba76f",
   "metadata": {},
   "source": [
    "Grafico Potable vs No Potable"
   ]
  },
  {
   "cell_type": "code",
   "execution_count": 22,
   "id": "45745094",
   "metadata": {},
   "outputs": [
    {
     "data": {
      "image/png": "[encoded data removed]",
      "text/plain": [
       "<Figure size 432x288 with 1 Axes>"
      ]
     },
     "metadata": {
      "needs_background": "light"
     },
     "output_type": "display_data"
    }
   ],
   "source": [
    "plt.scatter(potable[\"Sulfate\"],potable[\"ph\"],marker=\"*\",s=150,color=\"blue\",label=\"Agua Potable\")\n",
    "plt.scatter(No_potable[\"Sulfate\"],No_potable[\"ph\"],marker=\"*\",s=150,color=\"red\",label=\"Agua NO Potable\")\n",
    "plt.ylabel(\"ph\")\n",
    "plt.xlabel(\"Sulfate\")\n",
    "plt.legend(bbox_to_anchor=(1,0.2))\n",
    "plt.show()\n"
   ]
  },
  {
   "cell_type": "markdown",
   "id": "de3c8955",
   "metadata": {},
   "source": [
    "Preparo los datos"
   ]
  },
  {
   "cell_type": "code",
   "execution_count": 24,
   "id": "24cd51ba",
   "metadata": {},
   "outputs": [],
   "source": [
    "df = pd.get_dummies(data=df, drop_first=True)"
   ]
  },
  {
   "cell_type": "code",
   "execution_count": 115,
   "id": "e1ab40b6",
   "metadata": {},
   "outputs": [],
   "source": [
    "parametros = df.drop(columns='Potability')\n",
    "clase = df.Potability"
   ]
  },
  {
   "cell_type": "markdown",
   "id": "e73a6530",
   "metadata": {},
   "source": [
    "Creacion del Modelo KNN"
   ]
  },
  {
   "cell_type": "code",
   "execution_count": 116,
   "id": "d17dd432",
   "metadata": {},
   "outputs": [],
   "source": [
    "model = KNeighborsClassifier(n_neighbors=10)"
   ]
  },
  {
   "cell_type": "code",
   "execution_count": 117,
   "id": "22c06fb2",
   "metadata": {},
   "outputs": [
    {
     "data": {
      "text/plain": [
       "KNeighborsClassifier(n_neighbors=10)"
      ]
     },
     "execution_count": 117,
     "metadata": {},
     "output_type": "execute_result"
    }
   ],
   "source": [
    "model.fit(parametros,clase)"
   ]
  },
  {
   "cell_type": "markdown",
   "id": "043bd028",
   "metadata": {},
   "source": [
    "Prediccion Test"
   ]
  },
  {
   "cell_type": "code",
   "execution_count": 118,
   "id": "7105caa4",
   "metadata": {},
   "outputs": [],
   "source": [
    "a = parametros.sample()"
   ]
  },
  {
   "cell_type": "code",
   "execution_count": 119,
   "id": "8a18bf9f",
   "metadata": {},
   "outputs": [
    {
     "data": {
      "text/html": [
       "<div>\n",
       "<style scoped>\n",
       "    .dataframe tbody tr th:only-of-type {\n",
       "        vertical-align: middle;\n",
       "    }\n",
       "\n",
       "    .dataframe tbody tr th {\n",
       "        vertical-align: top;\n",
       "    }\n",
       "\n",
       "    .dataframe thead th {\n",
       "        text-align: right;\n",
       "    }\n",
       "</style>\n",
       "<table border=\"1\" class=\"dataframe\">\n",
       "  <thead>\n",
       "    <tr style=\"text-align: right;\">\n",
       "      <th></th>\n",
       "      <th>ph</th>\n",
       "      <th>Hardness</th>\n",
       "      <th>Solids</th>\n",
       "      <th>Chloramines</th>\n",
       "      <th>Sulfate</th>\n",
       "      <th>Conductivity</th>\n",
       "      <th>Organic_carbon</th>\n",
       "      <th>Trihalomethanes</th>\n",
       "      <th>Turbidity</th>\n",
       "      <th>pred</th>\n",
       "    </tr>\n",
       "  </thead>\n",
       "  <tbody>\n",
       "    <tr>\n",
       "      <th>990</th>\n",
       "      <td>5.477283</td>\n",
       "      <td>165.436093</td>\n",
       "      <td>29046.083515</td>\n",
       "      <td>5.523011</td>\n",
       "      <td>370.893085</td>\n",
       "      <td>488.774595</td>\n",
       "      <td>17.265186</td>\n",
       "      <td>80.234797</td>\n",
       "      <td>6.357439</td>\n",
       "      <td>0</td>\n",
       "    </tr>\n",
       "  </tbody>\n",
       "</table>\n",
       "</div>"
      ],
      "text/plain": [
       "           ph    Hardness        Solids  Chloramines     Sulfate  \\\n",
       "990  5.477283  165.436093  29046.083515     5.523011  370.893085   \n",
       "\n",
       "     Conductivity  Organic_carbon  Trihalomethanes  Turbidity  pred  \n",
       "990    488.774595       17.265186        80.234797   6.357439     0  "
      ]
     },
     "execution_count": 119,
     "metadata": {},
     "output_type": "execute_result"
    }
   ],
   "source": [
    "a"
   ]
  },
  {
   "cell_type": "markdown",
   "id": "0ae85578",
   "metadata": {},
   "source": [
    "Prediccion"
   ]
  },
  {
   "cell_type": "code",
   "execution_count": 120,
   "id": "8634221e",
   "metadata": {},
   "outputs": [
    {
     "name": "stdout",
     "output_type": "stream",
     "text": [
      "Es Potable [0]\n"
     ]
    }
   ],
   "source": [
    "y_pred = model.predict(a)\n",
    "print(\"Es Potable\",(y_pred))"
   ]
  },
  {
   "cell_type": "markdown",
   "id": "5b17b9b0",
   "metadata": {},
   "source": [
    "Probabilidad de que sea Potable"
   ]
  },
  {
   "cell_type": "code",
   "execution_count": 121,
   "id": "b76f1bfa",
   "metadata": {},
   "outputs": [
    {
     "name": "stdout",
     "output_type": "stream",
     "text": [
      "Probabilidad de ser potable:  [[0.9 0.1]]\n"
     ]
    }
   ],
   "source": [
    "print(\"Probabilidad de ser potable: \",(model.predict_proba(a)))"
   ]
  },
  {
   "cell_type": "markdown",
   "id": "07ecdf99",
   "metadata": {},
   "source": [
    "Comparacion del Modelo con los hechos"
   ]
  },
  {
   "cell_type": "code",
   "execution_count": 122,
   "id": "95de8b39",
   "metadata": {},
   "outputs": [
    {
     "data": {
      "text/html": [
       "<div>\n",
       "<style scoped>\n",
       "    .dataframe tbody tr th:only-of-type {\n",
       "        vertical-align: middle;\n",
       "    }\n",
       "\n",
       "    .dataframe tbody tr th {\n",
       "        vertical-align: top;\n",
       "    }\n",
       "\n",
       "    .dataframe thead th {\n",
       "        text-align: right;\n",
       "    }\n",
       "</style>\n",
       "<table border=\"1\" class=\"dataframe\">\n",
       "  <thead>\n",
       "    <tr style=\"text-align: right;\">\n",
       "      <th></th>\n",
       "      <th>Potability</th>\n",
       "      <th>pred</th>\n",
       "    </tr>\n",
       "  </thead>\n",
       "  <tbody>\n",
       "    <tr>\n",
       "      <th>94</th>\n",
       "      <td>0</td>\n",
       "      <td>0</td>\n",
       "    </tr>\n",
       "    <tr>\n",
       "      <th>348</th>\n",
       "      <td>1</td>\n",
       "      <td>0</td>\n",
       "    </tr>\n",
       "    <tr>\n",
       "      <th>470</th>\n",
       "      <td>0</td>\n",
       "      <td>0</td>\n",
       "    </tr>\n",
       "    <tr>\n",
       "      <th>1791</th>\n",
       "      <td>0</td>\n",
       "      <td>0</td>\n",
       "    </tr>\n",
       "    <tr>\n",
       "      <th>854</th>\n",
       "      <td>0</td>\n",
       "      <td>0</td>\n",
       "    </tr>\n",
       "    <tr>\n",
       "      <th>1835</th>\n",
       "      <td>0</td>\n",
       "      <td>0</td>\n",
       "    </tr>\n",
       "    <tr>\n",
       "      <th>793</th>\n",
       "      <td>1</td>\n",
       "      <td>0</td>\n",
       "    </tr>\n",
       "    <tr>\n",
       "      <th>2343</th>\n",
       "      <td>1</td>\n",
       "      <td>0</td>\n",
       "    </tr>\n",
       "    <tr>\n",
       "      <th>1380</th>\n",
       "      <td>0</td>\n",
       "      <td>0</td>\n",
       "    </tr>\n",
       "    <tr>\n",
       "      <th>1474</th>\n",
       "      <td>0</td>\n",
       "      <td>0</td>\n",
       "    </tr>\n",
       "  </tbody>\n",
       "</table>\n",
       "</div>"
      ],
      "text/plain": [
       "      Potability  pred\n",
       "94             0     0\n",
       "348            1     0\n",
       "470            0     0\n",
       "1791           0     0\n",
       "854            0     0\n",
       "1835           0     0\n",
       "793            1     0\n",
       "2343           1     0\n",
       "1380           0     0\n",
       "1474           0     0"
      ]
     },
     "execution_count": 122,
     "metadata": {},
     "output_type": "execute_result"
    }
   ],
   "source": [
    "df['pred']= y_pred[0]\n",
    "df.sample(10)[['Potability','pred']]"
   ]
  },
  {
   "cell_type": "code",
   "execution_count": null,
   "id": "23ab456e",
   "metadata": {},
   "outputs": [],
   "source": []
  }
 ],
 "metadata": {
  "kernelspec": {
   "display_name": "Python 3 (ipykernel)",
   "language": "python",
   "name": "python3"
  },
  "language_info": {
   "codemirror_mode": {
    "name": "ipython",
    "version": 3
   },
   "file_extension": ".py",
   "mimetype": "text/x-python",
   "name": "python",
   "nbconvert_exporter": "python",
   "pygments_lexer": "ipython3",
   "version": "3.9.12"
  }
 },
 "nbformat": 4,
 "nbformat_minor": 5
}
