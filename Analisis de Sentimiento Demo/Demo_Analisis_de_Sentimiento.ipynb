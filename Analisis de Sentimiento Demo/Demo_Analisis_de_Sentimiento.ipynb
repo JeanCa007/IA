{
  "nbformat": 4,
  "nbformat_minor": 0,
  "metadata": {
    "colab": {
      "provenance": []
    },
    "kernelspec": {
      "name": "python3",
      "display_name": "Python 3"
    },
    "language_info": {
      "name": "python"
    }
  },
  "cells": [
    {
      "cell_type": "markdown",
      "source": [
        "# Análisis de Sentimiento avanzado con Transformers\n",
        "\n",
        "Se analiza un texto extenso (por ejemplo, una reseña o comentario compuesto de varios párrafos) dividiéndolo en oraciones\n",
        "\n",
        "Se procesa cada oración con un pipeline de análisis de sentimiento\n",
        "\n",
        "Se agrupan y visualizan los resultados (por ejemplo, contando las etiquetas de sentimiento) mediante un gráfico de barras\n",
        "\n",
        "**By Jean Carlo Alvarez**"
      ],
      "metadata": {
        "id": "Auwsk9gBH6U1"
      }
    },
    {
      "cell_type": "markdown",
      "source": [
        "# Instalcion de Librerias"
      ],
      "metadata": {
        "id": "I4POHuxmIDVF"
      }
    },
    {
      "cell_type": "code",
      "source": [
        "!pip install -q spacy transformers\n",
        "!python -m spacy download en_core_web_sm"
      ],
      "metadata": {
        "colab": {
          "base_uri": "https://localhost:8080/"
        },
        "id": "cUKCPJsfIGVO",
        "outputId": "78aa7095-b216-4d69-dd73-62fa721c7f16"
      },
      "execution_count": 6,
      "outputs": [
        {
          "output_type": "stream",
          "name": "stdout",
          "text": [
            "Collecting en-core-web-sm==3.7.1\n",
            "  Downloading https://github.com/explosion/spacy-models/releases/download/en_core_web_sm-3.7.1/en_core_web_sm-3.7.1-py3-none-any.whl (12.8 MB)\n",
            "\u001b[2K     \u001b[90m━━━━━━━━━━━━━━━━━━━━━━━━━━━━━━━━━━━━━━━━\u001b[0m \u001b[32m12.8/12.8 MB\u001b[0m \u001b[31m58.3 MB/s\u001b[0m eta \u001b[36m0:00:00\u001b[0m\n",
            "\u001b[?25hRequirement already satisfied: spacy<3.8.0,>=3.7.2 in /usr/local/lib/python3.11/dist-packages (from en-core-web-sm==3.7.1) (3.7.5)\n",
            "Requirement already satisfied: spacy-legacy<3.1.0,>=3.0.11 in /usr/local/lib/python3.11/dist-packages (from spacy<3.8.0,>=3.7.2->en-core-web-sm==3.7.1) (3.0.12)\n",
            "Requirement already satisfied: spacy-loggers<2.0.0,>=1.0.0 in /usr/local/lib/python3.11/dist-packages (from spacy<3.8.0,>=3.7.2->en-core-web-sm==3.7.1) (1.0.5)\n",
            "Requirement already satisfied: murmurhash<1.1.0,>=0.28.0 in /usr/local/lib/python3.11/dist-packages (from spacy<3.8.0,>=3.7.2->en-core-web-sm==3.7.1) (1.0.12)\n",
            "Requirement already satisfied: cymem<2.1.0,>=2.0.2 in /usr/local/lib/python3.11/dist-packages (from spacy<3.8.0,>=3.7.2->en-core-web-sm==3.7.1) (2.0.11)\n",
            "Requirement already satisfied: preshed<3.1.0,>=3.0.2 in /usr/local/lib/python3.11/dist-packages (from spacy<3.8.0,>=3.7.2->en-core-web-sm==3.7.1) (3.0.9)\n",
            "Requirement already satisfied: thinc<8.3.0,>=8.2.2 in /usr/local/lib/python3.11/dist-packages (from spacy<3.8.0,>=3.7.2->en-core-web-sm==3.7.1) (8.2.5)\n",
            "Requirement already satisfied: wasabi<1.2.0,>=0.9.1 in /usr/local/lib/python3.11/dist-packages (from spacy<3.8.0,>=3.7.2->en-core-web-sm==3.7.1) (1.1.3)\n",
            "Requirement already satisfied: srsly<3.0.0,>=2.4.3 in /usr/local/lib/python3.11/dist-packages (from spacy<3.8.0,>=3.7.2->en-core-web-sm==3.7.1) (2.5.1)\n",
            "Requirement already satisfied: catalogue<2.1.0,>=2.0.6 in /usr/local/lib/python3.11/dist-packages (from spacy<3.8.0,>=3.7.2->en-core-web-sm==3.7.1) (2.0.10)\n",
            "Requirement already satisfied: weasel<0.5.0,>=0.1.0 in /usr/local/lib/python3.11/dist-packages (from spacy<3.8.0,>=3.7.2->en-core-web-sm==3.7.1) (0.4.1)\n",
            "Requirement already satisfied: typer<1.0.0,>=0.3.0 in /usr/local/lib/python3.11/dist-packages (from spacy<3.8.0,>=3.7.2->en-core-web-sm==3.7.1) (0.15.2)\n",
            "Requirement already satisfied: tqdm<5.0.0,>=4.38.0 in /usr/local/lib/python3.11/dist-packages (from spacy<3.8.0,>=3.7.2->en-core-web-sm==3.7.1) (4.67.1)\n",
            "Requirement already satisfied: requests<3.0.0,>=2.13.0 in /usr/local/lib/python3.11/dist-packages (from spacy<3.8.0,>=3.7.2->en-core-web-sm==3.7.1) (2.32.3)\n",
            "Requirement already satisfied: pydantic!=1.8,!=1.8.1,<3.0.0,>=1.7.4 in /usr/local/lib/python3.11/dist-packages (from spacy<3.8.0,>=3.7.2->en-core-web-sm==3.7.1) (2.10.6)\n",
            "Requirement already satisfied: jinja2 in /usr/local/lib/python3.11/dist-packages (from spacy<3.8.0,>=3.7.2->en-core-web-sm==3.7.1) (3.1.6)\n",
            "Requirement already satisfied: setuptools in /usr/local/lib/python3.11/dist-packages (from spacy<3.8.0,>=3.7.2->en-core-web-sm==3.7.1) (75.1.0)\n",
            "Requirement already satisfied: packaging>=20.0 in /usr/local/lib/python3.11/dist-packages (from spacy<3.8.0,>=3.7.2->en-core-web-sm==3.7.1) (24.2)\n",
            "Requirement already satisfied: langcodes<4.0.0,>=3.2.0 in /usr/local/lib/python3.11/dist-packages (from spacy<3.8.0,>=3.7.2->en-core-web-sm==3.7.1) (3.5.0)\n",
            "Requirement already satisfied: numpy>=1.19.0 in /usr/local/lib/python3.11/dist-packages (from spacy<3.8.0,>=3.7.2->en-core-web-sm==3.7.1) (1.26.4)\n",
            "Requirement already satisfied: language-data>=1.2 in /usr/local/lib/python3.11/dist-packages (from langcodes<4.0.0,>=3.2.0->spacy<3.8.0,>=3.7.2->en-core-web-sm==3.7.1) (1.3.0)\n",
            "Requirement already satisfied: annotated-types>=0.6.0 in /usr/local/lib/python3.11/dist-packages (from pydantic!=1.8,!=1.8.1,<3.0.0,>=1.7.4->spacy<3.8.0,>=3.7.2->en-core-web-sm==3.7.1) (0.7.0)\n",
            "Requirement already satisfied: pydantic-core==2.27.2 in /usr/local/lib/python3.11/dist-packages (from pydantic!=1.8,!=1.8.1,<3.0.0,>=1.7.4->spacy<3.8.0,>=3.7.2->en-core-web-sm==3.7.1) (2.27.2)\n",
            "Requirement already satisfied: typing-extensions>=4.12.2 in /usr/local/lib/python3.11/dist-packages (from pydantic!=1.8,!=1.8.1,<3.0.0,>=1.7.4->spacy<3.8.0,>=3.7.2->en-core-web-sm==3.7.1) (4.12.2)\n",
            "Requirement already satisfied: charset-normalizer<4,>=2 in /usr/local/lib/python3.11/dist-packages (from requests<3.0.0,>=2.13.0->spacy<3.8.0,>=3.7.2->en-core-web-sm==3.7.1) (3.4.1)\n",
            "Requirement already satisfied: idna<4,>=2.5 in /usr/local/lib/python3.11/dist-packages (from requests<3.0.0,>=2.13.0->spacy<3.8.0,>=3.7.2->en-core-web-sm==3.7.1) (3.10)\n",
            "Requirement already satisfied: urllib3<3,>=1.21.1 in /usr/local/lib/python3.11/dist-packages (from requests<3.0.0,>=2.13.0->spacy<3.8.0,>=3.7.2->en-core-web-sm==3.7.1) (2.3.0)\n",
            "Requirement already satisfied: certifi>=2017.4.17 in /usr/local/lib/python3.11/dist-packages (from requests<3.0.0,>=2.13.0->spacy<3.8.0,>=3.7.2->en-core-web-sm==3.7.1) (2025.1.31)\n",
            "Requirement already satisfied: blis<0.8.0,>=0.7.8 in /usr/local/lib/python3.11/dist-packages (from thinc<8.3.0,>=8.2.2->spacy<3.8.0,>=3.7.2->en-core-web-sm==3.7.1) (0.7.11)\n",
            "Requirement already satisfied: confection<1.0.0,>=0.0.1 in /usr/local/lib/python3.11/dist-packages (from thinc<8.3.0,>=8.2.2->spacy<3.8.0,>=3.7.2->en-core-web-sm==3.7.1) (0.1.5)\n",
            "Requirement already satisfied: click>=8.0.0 in /usr/local/lib/python3.11/dist-packages (from typer<1.0.0,>=0.3.0->spacy<3.8.0,>=3.7.2->en-core-web-sm==3.7.1) (8.1.8)\n",
            "Requirement already satisfied: shellingham>=1.3.0 in /usr/local/lib/python3.11/dist-packages (from typer<1.0.0,>=0.3.0->spacy<3.8.0,>=3.7.2->en-core-web-sm==3.7.1) (1.5.4)\n",
            "Requirement already satisfied: rich>=10.11.0 in /usr/local/lib/python3.11/dist-packages (from typer<1.0.0,>=0.3.0->spacy<3.8.0,>=3.7.2->en-core-web-sm==3.7.1) (13.9.4)\n",
            "Requirement already satisfied: cloudpathlib<1.0.0,>=0.7.0 in /usr/local/lib/python3.11/dist-packages (from weasel<0.5.0,>=0.1.0->spacy<3.8.0,>=3.7.2->en-core-web-sm==3.7.1) (0.21.0)\n",
            "Requirement already satisfied: smart-open<8.0.0,>=5.2.1 in /usr/local/lib/python3.11/dist-packages (from weasel<0.5.0,>=0.1.0->spacy<3.8.0,>=3.7.2->en-core-web-sm==3.7.1) (7.1.0)\n",
            "Requirement already satisfied: MarkupSafe>=2.0 in /usr/local/lib/python3.11/dist-packages (from jinja2->spacy<3.8.0,>=3.7.2->en-core-web-sm==3.7.1) (3.0.2)\n",
            "Requirement already satisfied: marisa-trie>=1.1.0 in /usr/local/lib/python3.11/dist-packages (from language-data>=1.2->langcodes<4.0.0,>=3.2.0->spacy<3.8.0,>=3.7.2->en-core-web-sm==3.7.1) (1.2.1)\n",
            "Requirement already satisfied: markdown-it-py>=2.2.0 in /usr/local/lib/python3.11/dist-packages (from rich>=10.11.0->typer<1.0.0,>=0.3.0->spacy<3.8.0,>=3.7.2->en-core-web-sm==3.7.1) (3.0.0)\n",
            "Requirement already satisfied: pygments<3.0.0,>=2.13.0 in /usr/local/lib/python3.11/dist-packages (from rich>=10.11.0->typer<1.0.0,>=0.3.0->spacy<3.8.0,>=3.7.2->en-core-web-sm==3.7.1) (2.18.0)\n",
            "Requirement already satisfied: wrapt in /usr/local/lib/python3.11/dist-packages (from smart-open<8.0.0,>=5.2.1->weasel<0.5.0,>=0.1.0->spacy<3.8.0,>=3.7.2->en-core-web-sm==3.7.1) (1.17.2)\n",
            "Requirement already satisfied: mdurl~=0.1 in /usr/local/lib/python3.11/dist-packages (from markdown-it-py>=2.2.0->rich>=10.11.0->typer<1.0.0,>=0.3.0->spacy<3.8.0,>=3.7.2->en-core-web-sm==3.7.1) (0.1.2)\n",
            "\u001b[38;5;2m✔ Download and installation successful\u001b[0m\n",
            "You can now load the package via spacy.load('en_core_web_sm')\n",
            "\u001b[38;5;3m⚠ Restart to reload dependencies\u001b[0m\n",
            "If you are in a Jupyter or Colab notebook, you may need to restart Python in\n",
            "order to load all the package's dependencies. You can do this by selecting the\n",
            "'Restart kernel' or 'Restart runtime' option.\n"
          ]
        }
      ]
    },
    {
      "cell_type": "markdown",
      "source": [
        "**!pip install:** Usa el gestor de paquetes pip para instalar bibliotecas en el entorno de Python\n",
        "\n",
        "**spacy**: Biblioteca para procesamiento de lenguaje natural (NLP)\n",
        "\n",
        "**transformers**: Biblioteca de Hugging Face que permite usar modelos avanzados de NLP, como BERT, GPT, etc\n",
        "\n",
        "**spacy download: **Comando de spaCy para descargar modelos preentrenados de lenguaje\n",
        "\n",
        "**en_core_web_sm**: Modelo en inglés de spaCy\n",
        "- en o es → Inglés/Español\n",
        "- core → Modelo principal de spaCy\n",
        "- web → Entrenado en textos de la web\n",
        "- sm (small) → Modelo pequeño (más rápido, pero menos preciso)\n",
        "\n",
        "**Otros modelos disponibles:**\n",
        "\n",
        "- en_core_web_md (Medium) → Modelo mediano, más preciso que sm\n",
        "- en_core_web_lg (Large) → Modelo grande, mejor precisión pero más pesado\n",
        "- en_core_web_trf (Transformer) → Modelo basado en Transformers de Hugging Face, el más preciso pero más lento\n",
        "\n",
        "**Qué pasa si cambias el modelo?**\n",
        "\n",
        "Modelos más grandes mejoran la precisión en el análisis de texto (tokenización, lematización, entidades, etc.)\n",
        "\n",
        "Modelos más pequeños son más rápidos pero pueden cometer más errores\n"
      ],
      "metadata": {
        "id": "z6LAjBa2IJUc"
      }
    },
    {
      "cell_type": "markdown",
      "source": [
        "# Importamos Librerias"
      ],
      "metadata": {
        "id": "Z3Qp6cyoIJq8"
      }
    },
    {
      "cell_type": "code",
      "execution_count": 7,
      "metadata": {
        "id": "ycZeN0EtH38z"
      },
      "outputs": [],
      "source": [
        "from transformers import pipeline\n",
        "import matplotlib.pyplot as plt\n",
        "import spacy\n",
        "import pandas as pd"
      ]
    },
    {
      "cell_type": "markdown",
      "source": [
        "**transformers** es una biblioteca de Hugging Face que permite usar modelos avanzados de inteligencia artificial para NLP\n",
        "\n",
        "**pipeline** es una función de alto nivel que permite cargar modelos preentrenados fácilmente sin necesidad de configurar todo manualmente\n",
        "\n",
        "**Ejemplo de uso de pipeline:**\n",
        "\n",
        "    classifier = pipeline(\"sentiment-analysis\")  # Cargar modelo de análisis de sentimientos\n",
        "\n",
        "  - \"sentiment-analysis\" → Carga un modelo para clasificar emociones en texto\n",
        "\n",
        "**Otros modelos disponibles:**\n",
        "\n",
        "- \"text-generation\" → Generación de texto (GPT-2, Llama, etc.)\n",
        "- \"translation_en_to_fr\" → Traducción de inglés a francés\n",
        "- \"ner\" → Reconocimiento de entidades nombradas\n",
        "- \"question-answering\" → Responde preguntas con base en un contexto\n",
        "\n",
        "**matplotlib.pyplot** es una biblioteca para crear gráficos y visualizaciones en Python\n",
        "\n",
        "**spacy** es una biblioteca de procesamiento de lenguaje natural (NLP)\n",
        "\n",
        "Se usa para tareas como tokenización, lematización, análisis sintáctico y reconocimiento de entidades\n",
        "\n",
        "**pandas** es una biblioteca para manejo y análisis de datos en formato tabular\n",
        "\n",
        "**Por qué importar pandas aquí?**\n",
        "Si se trabaja con texto en archivos como CSV o bases de datos, pandas ayuda a manipular los datos antes de pasarlos a spaCy"
      ],
      "metadata": {
        "id": "T8aNWRJ0ISTe"
      }
    },
    {
      "cell_type": "markdown",
      "source": [
        "# Cargar el modelo pre-entrenado"
      ],
      "metadata": {
        "id": "_BAKiPWSKVxv"
      }
    },
    {
      "cell_type": "code",
      "source": [
        "nlp = spacy.load(\"en_core_web_sm\")"
      ],
      "metadata": {
        "id": "JbnhRLGRKYK9"
      },
      "execution_count": 8,
      "outputs": []
    },
    {
      "cell_type": "markdown",
      "source": [
        "**spacy.load()** Función de spaCy que carga un modelo preentrenado de procesamiento de lenguaje natural (NLP)\n",
        "\n",
        "- \"en_core_web_sm\" → Modelo específico de inglés, que es:\n",
        "- en → Inglés\n",
        "- core → Modelo principal de spaCy\n",
        "- web → Entrenado con datos de texto web\n",
        "- sm (small) → Versión pequeña del modelo, rápida pero con menor precisión\n",
        "\n",
        "**Modelos en inglés**\n",
        "\n",
        "- \"en_core_web_sm\"\tModelo pequeño, rápido, menor precisión\n",
        "- \"en_core_web_md\"\tModelo mediano, equilibrio entre velocidad y precisión\n",
        "- \"en_core_web_lg\"\tModelo grande, más preciso pero más lento\n",
        "- \"en_core_web_trf\"\tModelo con Transformers, el más preciso pero muy pesado\n",
        "\n",
        "**Modelos en español**\n",
        "- \"es_core_news_sm\"  Pequeño\n",
        "- \"es_core_news_md\"  Mediano\n",
        "- \"es_core_news_lg\"  Grande\n",
        "- \"es_core_news_trf\"  Basado en Transformers\n",
        "\n",
        "**Qué pasa si cambias el modelo?**\n",
        "Si usas un modelo más grande (md o lg), el análisis será más preciso, pero tomará más memoria y será más lento\n",
        "\n",
        "Si usas un modelo más pequeño (sm), el análisis será más rápido, pero podría ser menos preciso en tareas complejas\n",
        "\n",
        "**nlp**  Objeto que contiene el modelo cargado y puede analizar texto"
      ],
      "metadata": {
        "id": "yHes2KAwKf31"
      }
    },
    {
      "cell_type": "markdown",
      "source": [
        "# Configurar el pipeline de análisis de sentimiento"
      ],
      "metadata": {
        "id": "PalVW5-hISk2"
      }
    },
    {
      "cell_type": "code",
      "source": [
        "sentiment_pipeline = pipeline(\n",
        "    \"sentiment-analysis\",\n",
        "    model=\"distilbert-base-uncased-finetuned-sst-2-english\"\n",
        ")"
      ],
      "metadata": {
        "colab": {
          "base_uri": "https://localhost:8080/"
        },
        "id": "XLBPvsrcIU4P",
        "outputId": "6cfb2cec-f42b-4f5b-f478-fd411e2d63c6"
      },
      "execution_count": 9,
      "outputs": [
        {
          "output_type": "stream",
          "name": "stderr",
          "text": [
            "Device set to use cpu\n"
          ]
        }
      ]
    },
    {
      "cell_type": "markdown",
      "source": [
        "Se utiliza el modelo **\"distilbert-base-uncased-finetuned-sst-2-english\"**, que retorna etiquetas \"POSITIVE\" o \"NEGATIVE\"\n",
        "\n",
        "**pipeline()**  Es una función de transformers (biblioteca de Hugging Face) que carga un modelo preentrenado y facilita su uso sin necesidad de configuraciones avanzadas\n",
        "\n",
        "**\"sentiment-analysis\"**  Especifica que se usará análisis de sentimientos, es decir, clasificar texto como positivo o negativo\n",
        "\n",
        "**model=\"distilbert-base-uncased-finetuned-sst-2-english\"**  Indica qué modelo específico se usará\n",
        "\n",
        "**\"distilbert-base-uncased**\"  Modelo basado en DistilBERT, una versión más ligera y rápida de BERT\n",
        "\n",
        "**\"finetuned-sst-2-english\"**  Entrenado con el Stanford Sentiment Treebank (SST-2), un dataset de análisis de sentimientos en inglés\n",
        "\n",
        "**sentiment_pipeline**  Almacena el modelo para poder usarlo después\n",
        "\n",
        "**Qué pasa si cambiamos el modelo?**\n",
        "Hugging Face tiene muchos modelos disponibles. Algunos ejemplos alternativos:\n",
        "\n",
        "**Para inglés:**\n",
        "- \"bert-base-uncased\" → Modelo estándar de BERT sin distinción de mayúsculas/minúsculas\n",
        "\n",
        "- \"roberta-large-sentiment\" → Basado en RoBERTa, más preciso pero más pesado\n",
        "\n",
        "**Para español:**\n",
        "\n",
        "**pipeline(\"sentiment-analysis\", model=\"nlptown/bert-base-multilingual-uncased-sentiment\")**\tModelo multilingüe para español\n",
        "\n",
        "**Cuál modelo elegir?**\n",
        "\n",
        "- Análisis de sentimientos\tdistilbert-base-uncased-finetuned-sst-2-english (BERT) o twitter-roberta-base-sentiment (RoBERTa)\n",
        "\n",
        "- Generación de texto\tgpt2, gpt-neo, gpt-4 (API)\n",
        "\n",
        "- Traducción\tt5-small, m2m100_418M\n",
        "\n",
        "- Resumen de texto\tfacebook/bart-large-cnn, t5-small\n",
        "\n",
        "- Modelo multilingüe\txlm-roberta-base, bert-base-multilingual-cased\n"
      ],
      "metadata": {
        "id": "rBz86cg3IWD9"
      }
    },
    {
      "cell_type": "markdown",
      "source": [
        "# Texto de ejemplo(simula una reseña)"
      ],
      "metadata": {
        "id": "Ss3JgiOvIadY"
      }
    },
    {
      "cell_type": "code",
      "source": [
        "texto_resena = (\n",
        "    \"I recently purchased the new SmartHome Hub and I must say, the experience has been quite transformative. \"\n",
        "    \"The device integrates seamlessly with various smart appliances, offering a user-friendly interface that is both intuitive and reliable. \"\n",
        "    \"However, during the initial setup, I encountered several technical difficulties which were frustrating at first. \"\n",
        "    \"The customer support team was prompt in addressing my concerns, although the resolution process took longer than expected. \\n\\n\"\n",
        "    \"On the positive side, the overall performance of the SmartHome Hub has exceeded my expectations. \"\n",
        "    \"Its robust connectivity and advanced features allow for a highly personalized experience. \"\n",
        "    \"I especially appreciate the regular software updates that continuously enhance its capabilities. \\n\\n\"\n",
        "    \"In conclusion, while there were some setbacks at the start, the product ultimately delivers significant value. \"\n",
        "    \"I would recommend it to anyone looking to upgrade their smart home ecosystem, though I advise potential buyers to be patient during the setup phase.\"\n",
        ")"
      ],
      "metadata": {
        "id": "YvEDkbwCIgll"
      },
      "execution_count": 10,
      "outputs": []
    },
    {
      "cell_type": "markdown",
      "source": [
        "La variable texto_resena contiene el texto de varias reseñas de simulacion."
      ],
      "metadata": {
        "id": "uzwuIAuUIitN"
      }
    },
    {
      "cell_type": "markdown",
      "source": [
        "# Usar spaCy para segmentar el texto en oraciones"
      ],
      "metadata": {
        "id": "RmSWUJ7yIjSy"
      }
    },
    {
      "cell_type": "code",
      "source": [
        "doc_sent = nlp(texto_resena)\n",
        "oraciones = [sent.text.strip() for sent in doc_sent.sents if sent.text.strip() != \"\"]"
      ],
      "metadata": {
        "id": "HsGdxfK3Ilqm"
      },
      "execution_count": 11,
      "outputs": []
    },
    {
      "cell_type": "markdown",
      "source": [
        "**nlp(texto_resena)**  Analiza el texto texto_resena usando el modelo spaCy\n",
        "\n",
        "**doc_sent**  Almacena el resultado del análisis en un objeto Doc, que permite acceder a oraciones, palabras, entidades y más\n",
        "\n",
        "**[sent.text.strip() for sent in doc_sent.sents if sent.text.strip() != \"\"]**\n",
        "- **doc_sent.sents**  Extrae las oraciones del texto procesado\n",
        "\n",
        "- **sent.text.strip(**)  Obtiene el texto de cada oración y elimina espacios extra al inicio y final\n",
        "\n",
        "- **if sent.text.strip() != \"\"**  Evita oraciones vacías\n",
        "\n",
        "**Como funciona spaCy para dividir oraciones?**\n",
        "\n",
        "spaCy usa puntos (.), signos de exclamación (!), interrogación (?) y reglas lingüísticas para identificar oraciones\n",
        "\n",
        "Si el texto tiene errores gramaticales o puntuación incorrecta, spaCy podría fallar en la segmentación\n",
        "\n",
        "\n"
      ],
      "metadata": {
        "id": "mu6TvvdEIn2W"
      }
    },
    {
      "cell_type": "markdown",
      "source": [
        "# Aplicar el análisis de sentimiento a cada oración"
      ],
      "metadata": {
        "id": "9LqC8nISIoFU"
      }
    },
    {
      "cell_type": "code",
      "source": [
        "resultados = []\n",
        "for idx, oracion in enumerate(oraciones):\n",
        "    # Cada resultado es una lista con un diccionario, extraemos el primero\n",
        "    res = sentiment_pipeline(oracion)[0]\n",
        "    res[\"Oracion\"] = oracion\n",
        "    res[\"Indice\"] = idx\n",
        "    resultados.append(res)"
      ],
      "metadata": {
        "id": "Gbs2jc-LIqCy"
      },
      "execution_count": 12,
      "outputs": []
    },
    {
      "cell_type": "markdown",
      "source": [
        "**resultados = []** Se crea una lista vacía resultados donde se guardarán los análisis de sentimiento de cada oración\n",
        "\n",
        "**for idx, oracion in enumerate(oraciones):**\n",
        "- **enumerate(oraciones)**  Recorre la lista oraciones, proporcionando:\n",
        "  - **idx**  Índice de la oración en la lista (0, 1, 2...)\n",
        "  - **oracion**  Texto de la oración en la iteración actual\n",
        "\n",
        "**res = sentiment_pipeline(oracion)[0]**\n",
        "\n",
        "- **sentiment_pipeline(oracion)** Usa un modelo de Hugging Face (pipeline(\"sentiment-analysis\")) para analizar el sentimiento de la oración\n",
        "\n",
        "- **[0]** sentiment_pipeline() devuelve una lista de diccionarios, por lo que tomamos el primer (y único) resultado\n",
        "\n",
        "**Ejemplo de salida de sentiment_pipeline(oracion)[0]**\n",
        "\n",
        "    {\n",
        "      \"label\": \"POSITIVE\",\n",
        "      \"score\": 0.98\n",
        "    }\n",
        "\n",
        "**res[\"Oracion\"] = oracion**\n",
        "\n",
        "**res[\"Indice\"]  = idx**\n",
        "\n",
        "\"Oracion\" Se añade el texto de la oración dentro del diccionario res\n",
        "\n",
        "\"Indice\"  Se almacena el índice de la oración\n",
        "\n",
        "**Ejemplo de cómo queda res después de añadir información extra**\n",
        "\n",
        "      {\n",
        "        \"label\": \"POSITIVE\",\n",
        "        \"score\": 0.98,\n",
        "        \"Oracion\": \"Este restaurante es increíble.\",\n",
        "        \"Indice\": 0\n",
        "      }\n",
        "\n",
        "**resultados.append(res)**\n",
        "\n",
        "Cada resultado de sentimiento se guarda en resultados\n",
        "\n"
      ],
      "metadata": {
        "id": "Jf7s1muhItY8"
      }
    },
    {
      "cell_type": "markdown",
      "source": [
        "# Convertir en un DataFrame para visualizar y analizar"
      ],
      "metadata": {
        "id": "-hTuyRnOIt7u"
      }
    },
    {
      "cell_type": "code",
      "source": [
        "df_sentimientos = pd.DataFrame(resultados)\n",
        "print(\"\\nResultados del análisis de sentimiento por oración:\")\n",
        "display(df_sentimientos)"
      ],
      "metadata": {
        "colab": {
          "base_uri": "https://localhost:8080/",
          "height": 368
        },
        "id": "SVugIrEVIwzG",
        "outputId": "95b96b2d-838d-440f-dcd1-18615f6301a8"
      },
      "execution_count": 13,
      "outputs": [
        {
          "output_type": "stream",
          "name": "stdout",
          "text": [
            "\n",
            "Resultados del análisis de sentimiento por oración:\n"
          ]
        },
        {
          "output_type": "display_data",
          "data": {
            "text/plain": [
              "      label     score                                            Oracion  \\\n",
              "0  POSITIVE  0.999371  I recently purchased the new SmartHome Hub and...   \n",
              "1  POSITIVE  0.999335  The device integrates seamlessly with various ...   \n",
              "2  NEGATIVE  0.998995  However, during the initial setup, I encounter...   \n",
              "3  POSITIVE  0.954690  The customer support team was prompt in addres...   \n",
              "4  POSITIVE  0.999441  On the positive side, the overall performance ...   \n",
              "5  POSITIVE  0.999799  Its robust connectivity and advanced features ...   \n",
              "6  POSITIVE  0.999776  I especially appreciate the regular software u...   \n",
              "7  POSITIVE  0.999809  In conclusion, while there were some setbacks ...   \n",
              "8  POSITIVE  0.799062  I would recommend it to anyone looking to upgr...   \n",
              "\n",
              "   Indice  \n",
              "0       0  \n",
              "1       1  \n",
              "2       2  \n",
              "3       3  \n",
              "4       4  \n",
              "5       5  \n",
              "6       6  \n",
              "7       7  \n",
              "8       8  "
            ],
            "text/html": [
              "\n",
              "  <div id=\"df-e4629ca9-b452-4e27-ae81-cee847fe78e4\" class=\"colab-df-container\">\n",
              "    <div>\n",
              "<style scoped>\n",
              "    .dataframe tbody tr th:only-of-type {\n",
              "        vertical-align: middle;\n",
              "    }\n",
              "\n",
              "    .dataframe tbody tr th {\n",
              "        vertical-align: top;\n",
              "    }\n",
              "\n",
              "    .dataframe thead th {\n",
              "        text-align: right;\n",
              "    }\n",
              "</style>\n",
              "<table border=\"1\" class=\"dataframe\">\n",
              "  <thead>\n",
              "    <tr style=\"text-align: right;\">\n",
              "      <th></th>\n",
              "      <th>label</th>\n",
              "      <th>score</th>\n",
              "      <th>Oracion</th>\n",
              "      <th>Indice</th>\n",
              "    </tr>\n",
              "  </thead>\n",
              "  <tbody>\n",
              "    <tr>\n",
              "      <th>0</th>\n",
              "      <td>POSITIVE</td>\n",
              "      <td>0.999371</td>\n",
              "      <td>I recently purchased the new SmartHome Hub and...</td>\n",
              "      <td>0</td>\n",
              "    </tr>\n",
              "    <tr>\n",
              "      <th>1</th>\n",
              "      <td>POSITIVE</td>\n",
              "      <td>0.999335</td>\n",
              "      <td>The device integrates seamlessly with various ...</td>\n",
              "      <td>1</td>\n",
              "    </tr>\n",
              "    <tr>\n",
              "      <th>2</th>\n",
              "      <td>NEGATIVE</td>\n",
              "      <td>0.998995</td>\n",
              "      <td>However, during the initial setup, I encounter...</td>\n",
              "      <td>2</td>\n",
              "    </tr>\n",
              "    <tr>\n",
              "      <th>3</th>\n",
              "      <td>POSITIVE</td>\n",
              "      <td>0.954690</td>\n",
              "      <td>The customer support team was prompt in addres...</td>\n",
              "      <td>3</td>\n",
              "    </tr>\n",
              "    <tr>\n",
              "      <th>4</th>\n",
              "      <td>POSITIVE</td>\n",
              "      <td>0.999441</td>\n",
              "      <td>On the positive side, the overall performance ...</td>\n",
              "      <td>4</td>\n",
              "    </tr>\n",
              "    <tr>\n",
              "      <th>5</th>\n",
              "      <td>POSITIVE</td>\n",
              "      <td>0.999799</td>\n",
              "      <td>Its robust connectivity and advanced features ...</td>\n",
              "      <td>5</td>\n",
              "    </tr>\n",
              "    <tr>\n",
              "      <th>6</th>\n",
              "      <td>POSITIVE</td>\n",
              "      <td>0.999776</td>\n",
              "      <td>I especially appreciate the regular software u...</td>\n",
              "      <td>6</td>\n",
              "    </tr>\n",
              "    <tr>\n",
              "      <th>7</th>\n",
              "      <td>POSITIVE</td>\n",
              "      <td>0.999809</td>\n",
              "      <td>In conclusion, while there were some setbacks ...</td>\n",
              "      <td>7</td>\n",
              "    </tr>\n",
              "    <tr>\n",
              "      <th>8</th>\n",
              "      <td>POSITIVE</td>\n",
              "      <td>0.799062</td>\n",
              "      <td>I would recommend it to anyone looking to upgr...</td>\n",
              "      <td>8</td>\n",
              "    </tr>\n",
              "  </tbody>\n",
              "</table>\n",
              "</div>\n",
              "    <div class=\"colab-df-buttons\">\n",
              "\n",
              "  <div class=\"colab-df-container\">\n",
              "    <button class=\"colab-df-convert\" onclick=\"convertToInteractive('df-e4629ca9-b452-4e27-ae81-cee847fe78e4')\"\n",
              "            title=\"Convert this dataframe to an interactive table.\"\n",
              "            style=\"display:none;\">\n",
              "\n",
              "  <svg xmlns=\"http://www.w3.org/2000/svg\" height=\"24px\" viewBox=\"0 -960 960 960\">\n",
              "    <path d=\"M120-120v-720h720v720H120Zm60-500h600v-160H180v160Zm220 220h160v-160H400v160Zm0 220h160v-160H400v160ZM180-400h160v-160H180v160Zm440 0h160v-160H620v160ZM180-180h160v-160H180v160Zm440 0h160v-160H620v160Z\"/>\n",
              "  </svg>\n",
              "    </button>\n",
              "\n",
              "  <style>\n",
              "    .colab-df-container {\n",
              "      display:flex;\n",
              "      gap: 12px;\n",
              "    }\n",
              "\n",
              "    .colab-df-convert {\n",
              "      background-color: #E8F0FE;\n",
              "      border: none;\n",
              "      border-radius: 50%;\n",
              "      cursor: pointer;\n",
              "      display: none;\n",
              "      fill: #1967D2;\n",
              "      height: 32px;\n",
              "      padding: 0 0 0 0;\n",
              "      width: 32px;\n",
              "    }\n",
              "\n",
              "    .colab-df-convert:hover {\n",
              "      background-color: #E2EBFA;\n",
              "      box-shadow: 0px 1px 2px rgba(60, 64, 67, 0.3), 0px 1px 3px 1px rgba(60, 64, 67, 0.15);\n",
              "      fill: #174EA6;\n",
              "    }\n",
              "\n",
              "    .colab-df-buttons div {\n",
              "      margin-bottom: 4px;\n",
              "    }\n",
              "\n",
              "    [theme=dark] .colab-df-convert {\n",
              "      background-color: #3B4455;\n",
              "      fill: #D2E3FC;\n",
              "    }\n",
              "\n",
              "    [theme=dark] .colab-df-convert:hover {\n",
              "      background-color: #434B5C;\n",
              "      box-shadow: 0px 1px 3px 1px rgba(0, 0, 0, 0.15);\n",
              "      filter: drop-shadow(0px 1px 2px rgba(0, 0, 0, 0.3));\n",
              "      fill: #FFFFFF;\n",
              "    }\n",
              "  </style>\n",
              "\n",
              "    <script>\n",
              "      const buttonEl =\n",
              "        document.querySelector('#df-e4629ca9-b452-4e27-ae81-cee847fe78e4 button.colab-df-convert');\n",
              "      buttonEl.style.display =\n",
              "        google.colab.kernel.accessAllowed ? 'block' : 'none';\n",
              "\n",
              "      async function convertToInteractive(key) {\n",
              "        const element = document.querySelector('#df-e4629ca9-b452-4e27-ae81-cee847fe78e4');\n",
              "        const dataTable =\n",
              "          await google.colab.kernel.invokeFunction('convertToInteractive',\n",
              "                                                    [key], {});\n",
              "        if (!dataTable) return;\n",
              "\n",
              "        const docLinkHtml = 'Like what you see? Visit the ' +\n",
              "          '<a target=\"_blank\" href=https://colab.research.google.com/notebooks/data_table.ipynb>data table notebook</a>'\n",
              "          + ' to learn more about interactive tables.';\n",
              "        element.innerHTML = '';\n",
              "        dataTable['output_type'] = 'display_data';\n",
              "        await google.colab.output.renderOutput(dataTable, element);\n",
              "        const docLink = document.createElement('div');\n",
              "        docLink.innerHTML = docLinkHtml;\n",
              "        element.appendChild(docLink);\n",
              "      }\n",
              "    </script>\n",
              "  </div>\n",
              "\n",
              "\n",
              "<div id=\"df-74c5f307-bb07-4ebe-b029-d7417fe59c51\">\n",
              "  <button class=\"colab-df-quickchart\" onclick=\"quickchart('df-74c5f307-bb07-4ebe-b029-d7417fe59c51')\"\n",
              "            title=\"Suggest charts\"\n",
              "            style=\"display:none;\">\n",
              "\n",
              "<svg xmlns=\"http://www.w3.org/2000/svg\" height=\"24px\"viewBox=\"0 0 24 24\"\n",
              "     width=\"24px\">\n",
              "    <g>\n",
              "        <path d=\"M19 3H5c-1.1 0-2 .9-2 2v14c0 1.1.9 2 2 2h14c1.1 0 2-.9 2-2V5c0-1.1-.9-2-2-2zM9 17H7v-7h2v7zm4 0h-2V7h2v10zm4 0h-2v-4h2v4z\"/>\n",
              "    </g>\n",
              "</svg>\n",
              "  </button>\n",
              "\n",
              "<style>\n",
              "  .colab-df-quickchart {\n",
              "      --bg-color: #E8F0FE;\n",
              "      --fill-color: #1967D2;\n",
              "      --hover-bg-color: #E2EBFA;\n",
              "      --hover-fill-color: #174EA6;\n",
              "      --disabled-fill-color: #AAA;\n",
              "      --disabled-bg-color: #DDD;\n",
              "  }\n",
              "\n",
              "  [theme=dark] .colab-df-quickchart {\n",
              "      --bg-color: #3B4455;\n",
              "      --fill-color: #D2E3FC;\n",
              "      --hover-bg-color: #434B5C;\n",
              "      --hover-fill-color: #FFFFFF;\n",
              "      --disabled-bg-color: #3B4455;\n",
              "      --disabled-fill-color: #666;\n",
              "  }\n",
              "\n",
              "  .colab-df-quickchart {\n",
              "    background-color: var(--bg-color);\n",
              "    border: none;\n",
              "    border-radius: 50%;\n",
              "    cursor: pointer;\n",
              "    display: none;\n",
              "    fill: var(--fill-color);\n",
              "    height: 32px;\n",
              "    padding: 0;\n",
              "    width: 32px;\n",
              "  }\n",
              "\n",
              "  .colab-df-quickchart:hover {\n",
              "    background-color: var(--hover-bg-color);\n",
              "    box-shadow: 0 1px 2px rgba(60, 64, 67, 0.3), 0 1px 3px 1px rgba(60, 64, 67, 0.15);\n",
              "    fill: var(--button-hover-fill-color);\n",
              "  }\n",
              "\n",
              "  .colab-df-quickchart-complete:disabled,\n",
              "  .colab-df-quickchart-complete:disabled:hover {\n",
              "    background-color: var(--disabled-bg-color);\n",
              "    fill: var(--disabled-fill-color);\n",
              "    box-shadow: none;\n",
              "  }\n",
              "\n",
              "  .colab-df-spinner {\n",
              "    border: 2px solid var(--fill-color);\n",
              "    border-color: transparent;\n",
              "    border-bottom-color: var(--fill-color);\n",
              "    animation:\n",
              "      spin 1s steps(1) infinite;\n",
              "  }\n",
              "\n",
              "  @keyframes spin {\n",
              "    0% {\n",
              "      border-color: transparent;\n",
              "      border-bottom-color: var(--fill-color);\n",
              "      border-left-color: var(--fill-color);\n",
              "    }\n",
              "    20% {\n",
              "      border-color: transparent;\n",
              "      border-left-color: var(--fill-color);\n",
              "      border-top-color: var(--fill-color);\n",
              "    }\n",
              "    30% {\n",
              "      border-color: transparent;\n",
              "      border-left-color: var(--fill-color);\n",
              "      border-top-color: var(--fill-color);\n",
              "      border-right-color: var(--fill-color);\n",
              "    }\n",
              "    40% {\n",
              "      border-color: transparent;\n",
              "      border-right-color: var(--fill-color);\n",
              "      border-top-color: var(--fill-color);\n",
              "    }\n",
              "    60% {\n",
              "      border-color: transparent;\n",
              "      border-right-color: var(--fill-color);\n",
              "    }\n",
              "    80% {\n",
              "      border-color: transparent;\n",
              "      border-right-color: var(--fill-color);\n",
              "      border-bottom-color: var(--fill-color);\n",
              "    }\n",
              "    90% {\n",
              "      border-color: transparent;\n",
              "      border-bottom-color: var(--fill-color);\n",
              "    }\n",
              "  }\n",
              "</style>\n",
              "\n",
              "  <script>\n",
              "    async function quickchart(key) {\n",
              "      const quickchartButtonEl =\n",
              "        document.querySelector('#' + key + ' button');\n",
              "      quickchartButtonEl.disabled = true;  // To prevent multiple clicks.\n",
              "      quickchartButtonEl.classList.add('colab-df-spinner');\n",
              "      try {\n",
              "        const charts = await google.colab.kernel.invokeFunction(\n",
              "            'suggestCharts', [key], {});\n",
              "      } catch (error) {\n",
              "        console.error('Error during call to suggestCharts:', error);\n",
              "      }\n",
              "      quickchartButtonEl.classList.remove('colab-df-spinner');\n",
              "      quickchartButtonEl.classList.add('colab-df-quickchart-complete');\n",
              "    }\n",
              "    (() => {\n",
              "      let quickchartButtonEl =\n",
              "        document.querySelector('#df-74c5f307-bb07-4ebe-b029-d7417fe59c51 button');\n",
              "      quickchartButtonEl.style.display =\n",
              "        google.colab.kernel.accessAllowed ? 'block' : 'none';\n",
              "    })();\n",
              "  </script>\n",
              "</div>\n",
              "\n",
              "  <div id=\"id_4ca2597f-0e76-404a-b4b9-5adc86585fda\">\n",
              "    <style>\n",
              "      .colab-df-generate {\n",
              "        background-color: #E8F0FE;\n",
              "        border: none;\n",
              "        border-radius: 50%;\n",
              "        cursor: pointer;\n",
              "        display: none;\n",
              "        fill: #1967D2;\n",
              "        height: 32px;\n",
              "        padding: 0 0 0 0;\n",
              "        width: 32px;\n",
              "      }\n",
              "\n",
              "      .colab-df-generate:hover {\n",
              "        background-color: #E2EBFA;\n",
              "        box-shadow: 0px 1px 2px rgba(60, 64, 67, 0.3), 0px 1px 3px 1px rgba(60, 64, 67, 0.15);\n",
              "        fill: #174EA6;\n",
              "      }\n",
              "\n",
              "      [theme=dark] .colab-df-generate {\n",
              "        background-color: #3B4455;\n",
              "        fill: #D2E3FC;\n",
              "      }\n",
              "\n",
              "      [theme=dark] .colab-df-generate:hover {\n",
              "        background-color: #434B5C;\n",
              "        box-shadow: 0px 1px 3px 1px rgba(0, 0, 0, 0.15);\n",
              "        filter: drop-shadow(0px 1px 2px rgba(0, 0, 0, 0.3));\n",
              "        fill: #FFFFFF;\n",
              "      }\n",
              "    </style>\n",
              "    <button class=\"colab-df-generate\" onclick=\"generateWithVariable('df_sentimientos')\"\n",
              "            title=\"Generate code using this dataframe.\"\n",
              "            style=\"display:none;\">\n",
              "\n",
              "  <svg xmlns=\"http://www.w3.org/2000/svg\" height=\"24px\"viewBox=\"0 0 24 24\"\n",
              "       width=\"24px\">\n",
              "    <path d=\"M7,19H8.4L18.45,9,17,7.55,7,17.6ZM5,21V16.75L18.45,3.32a2,2,0,0,1,2.83,0l1.4,1.43a1.91,1.91,0,0,1,.58,1.4,1.91,1.91,0,0,1-.58,1.4L9.25,21ZM18.45,9,17,7.55Zm-12,3A5.31,5.31,0,0,0,4.9,8.1,5.31,5.31,0,0,0,1,6.5,5.31,5.31,0,0,0,4.9,4.9,5.31,5.31,0,0,0,6.5,1,5.31,5.31,0,0,0,8.1,4.9,5.31,5.31,0,0,0,12,6.5,5.46,5.46,0,0,0,6.5,12Z\"/>\n",
              "  </svg>\n",
              "    </button>\n",
              "    <script>\n",
              "      (() => {\n",
              "      const buttonEl =\n",
              "        document.querySelector('#id_4ca2597f-0e76-404a-b4b9-5adc86585fda button.colab-df-generate');\n",
              "      buttonEl.style.display =\n",
              "        google.colab.kernel.accessAllowed ? 'block' : 'none';\n",
              "\n",
              "      buttonEl.onclick = () => {\n",
              "        google.colab.notebook.generateWithVariable('df_sentimientos');\n",
              "      }\n",
              "      })();\n",
              "    </script>\n",
              "  </div>\n",
              "\n",
              "    </div>\n",
              "  </div>\n"
            ],
            "application/vnd.google.colaboratory.intrinsic+json": {
              "type": "dataframe",
              "variable_name": "df_sentimientos",
              "summary": "{\n  \"name\": \"df_sentimientos\",\n  \"rows\": 9,\n  \"fields\": [\n    {\n      \"column\": \"label\",\n      \"properties\": {\n        \"dtype\": \"category\",\n        \"num_unique_values\": 2,\n        \"samples\": [\n          \"NEGATIVE\",\n          \"POSITIVE\"\n        ],\n        \"semantic_type\": \"\",\n        \"description\": \"\"\n      }\n    },\n    {\n      \"column\": \"score\",\n      \"properties\": {\n        \"dtype\": \"number\",\n        \"std\": 0.06661663180373,\n        \"min\": 0.7990623712539673,\n        \"max\": 0.999809205532074,\n        \"num_unique_values\": 9,\n        \"samples\": [\n          0.999809205532074,\n          0.9993351101875305\n        ],\n        \"semantic_type\": \"\",\n        \"description\": \"\"\n      }\n    },\n    {\n      \"column\": \"Oracion\",\n      \"properties\": {\n        \"dtype\": \"string\",\n        \"num_unique_values\": 9,\n        \"samples\": [\n          \"In conclusion, while there were some setbacks at the start, the product ultimately delivers significant value.\",\n          \"The device integrates seamlessly with various smart appliances, offering a user-friendly interface that is both intuitive and reliable.\"\n        ],\n        \"semantic_type\": \"\",\n        \"description\": \"\"\n      }\n    },\n    {\n      \"column\": \"Indice\",\n      \"properties\": {\n        \"dtype\": \"number\",\n        \"std\": 2,\n        \"min\": 0,\n        \"max\": 8,\n        \"num_unique_values\": 9,\n        \"samples\": [\n          7,\n          1\n        ],\n        \"semantic_type\": \"\",\n        \"description\": \"\"\n      }\n    }\n  ]\n}"
            }
          },
          "metadata": {}
        }
      ]
    },
    {
      "cell_type": "markdown",
      "source": [
        "**pd.DataFrame(resultados)** Convierte la lista de diccionarios resultados en una tabla estructurada con pandas\n",
        "\n",
        "**df_sentimientos**  Contiene la información del análisis de sentimiento para cada oración\n",
        "\n",
        "**display(df_sentimientos)**  Muestra la tabla de una forma más legible e interactiva (especialmente en Jupyter Notebook y Google Colab)\n",
        "\n"
      ],
      "metadata": {
        "id": "QCqcceZdIxzR"
      }
    },
    {
      "cell_type": "markdown",
      "source": [
        "# Agrupar y contar la cantidad de oraciones por etiqueta de sentimiento"
      ],
      "metadata": {
        "id": "01EXKpiyIyI9"
      }
    },
    {
      "cell_type": "code",
      "source": [
        "conteo_sentimientos = df_sentimientos[\"label\"].value_counts()\n",
        "print(\"\\nConteo de etiquetas de sentimiento:\")\n",
        "print(conteo_sentimientos)"
      ],
      "metadata": {
        "colab": {
          "base_uri": "https://localhost:8080/"
        },
        "id": "bOaxQod-I0fJ",
        "outputId": "e32d09cf-daf4-4c78-e529-18e1a1b2603b"
      },
      "execution_count": 14,
      "outputs": [
        {
          "output_type": "stream",
          "name": "stdout",
          "text": [
            "\n",
            "Conteo de etiquetas de sentimiento:\n",
            "label\n",
            "POSITIVE    8\n",
            "NEGATIVE    1\n",
            "Name: count, dtype: int64\n"
          ]
        }
      ]
    },
    {
      "cell_type": "markdown",
      "source": [
        "**df_sentimientos[\"label\"]**  Selecciona la columna \"label\" del DataFrame, que contiene las etiquetas de sentimiento (POSITIVE, NEGATIVE, etc.)\n",
        "\n",
        "**.value_counts()**  Cuenta cuántas veces aparece cada etiqueta y devuelve un conteo de frecuencias en un nuevo objeto tipo Series\n",
        "\n"
      ],
      "metadata": {
        "id": "STS32PphI2s_"
      }
    },
    {
      "cell_type": "markdown",
      "source": [
        "# Visualizar el conteo con un gráfico de barras"
      ],
      "metadata": {
        "id": "WxFCXljKI28K"
      }
    },
    {
      "cell_type": "code",
      "source": [
        "plt.figure(figsize=(6,4))\n",
        "conteo_sentimientos.plot(kind=\"bar\", color=\"skyblue\", edgecolor=\"black\")\n",
        "plt.title(\"Distribución de Sentimientos en las Oraciones\")\n",
        "plt.xlabel(\"Etiqueta de Sentimiento\")\n",
        "plt.ylabel(\"Número de Oraciones\")\n",
        "plt.xticks(rotation=0)\n",
        "plt.show()"
      ],
      "metadata": {
        "colab": {
          "base_uri": "https://localhost:8080/",
          "height": 410
        },
        "id": "l4Vjj8-6I4ro",
        "outputId": "f7c12957-f5bb-4b33-d1c3-528a04fc4b37"
      },
      "execution_count": 15,
      "outputs": [
        {
          "output_type": "display_data",
          "data": {
            "text/plain": [
              "<Figure size 600x400 with 1 Axes>"
            ],
            "image/png": "[encoded data removed]"
          },
          "metadata": {}
        }
      ]
    },
    {
      "cell_type": "markdown",
      "source": [],
      "metadata": {
        "id": "319f-t2nI-Ho"
      }
    }
  ]
}