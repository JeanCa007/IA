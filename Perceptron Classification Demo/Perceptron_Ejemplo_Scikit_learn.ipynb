{
  "nbformat": 4,
  "nbformat_minor": 0,
  "metadata": {
    "colab": {
      "provenance": []
    },
    "kernelspec": {
      "name": "python3",
      "display_name": "Python 3"
    },
    "language_info": {
      "name": "python"
    }
  },
  "cells": [
    {
      "cell_type": "markdown",
      "source": [
        "Perceptron Clasificacion Binaria\n",
        "Este modelo está inspirado en el funcionamiento de las neuronas biológicas que forman las redes neuronales de nuestros cerebros, recibiendo una serie de señales de entrada y devolviendo un resultado a la salida, calculando una suma ponderada de todos los inputs y aplicando una función de activación. Para realizar el ejemplo se necesita un conjunto de datos formado por un número determinado de elementos con varias características acompañados de sus correspondiente clase. Se va a utilizar un dataset muy utilizado en el ámbito académico muy útil para aprender a desarrollar modelos de clasificación: El dataset Iris. Este dataset contiene ejemplos de flores que tendremos que clasificar en 3 grupos diferentes a partir del ancho y longitud de sus pétalos y sépalos (en total 4 características). Este dataset está disponible a través de la librería Scikit Learn.\n",
        "\n",
        "Se buscara determinar si un flor es de un tipo o de otra.\n",
        "\n",
        "By Jean Carlo Alvarez\n"
      ],
      "metadata": {
        "id": "agZn1ffgKnWl"
      }
    },
    {
      "cell_type": "markdown",
      "source": [
        "# Importar librerías"
      ],
      "metadata": {
        "id": "JemjW834K5of"
      }
    },
    {
      "cell_type": "code",
      "execution_count": null,
      "metadata": {
        "id": "qFRdG47bKdZD"
      },
      "outputs": [],
      "source": [
        "import numpy as np\n",
        "import matplotlib.pyplot as plt\n",
        "from sklearn.datasets import load_iris\n",
        "from sklearn.linear_model import Perceptron\n",
        "from sklearn.metrics import (confusion_matrix, ConfusionMatrixDisplay,\n",
        "                             accuracy_score, precision_score, recall_score,\n",
        "                             f1_score, classification_report)\n",
        "from sklearn.preprocessing import StandardScaler\n",
        "import joblib"
      ]
    },
    {
      "cell_type": "markdown",
      "source": [
        "**import numpy as np** es una biblioteca fundamental para realizar calculos numericos y trabajar con arreglos/matrices.Se usa para manejar y transformar datos numéricos, especialmente en forma de arrays\n",
        "\n",
        " **import matplotlib.pyplot as plt** matplotlib.pyplot es una biblioteca para crear gráficos y visualizaciones\n",
        "\n",
        "**from sklearn.datasets import load_iris** load_iris es una función que carga el conjunto de datos Iris, muy utilizado para ejemplos en clasificacion\n",
        "\n",
        "**from sklearn.linear_model import Perceptron** Perceptron es un clasificador lineal simple inspirado en las redes neuronales se usa para crear un modelo que clasifica datos basándose en una combinación lineal de las caracteristicas\n",
        "\n",
        "**from sklearn.metrics import (confusion_matrix, ConfusionMatrixDisplay, accuracy_score, precision_score, recall_score, f1_score, classification_report)**\n",
        "\n",
        "Estas funciones miden el rendimiento del modelo\n",
        "\n",
        "**confusion_matrix**: Muestra el número de predicciones correctas e incorrectas para cada clase\n",
        "\n",
        "**ConfusionMatrixDisplay**: Visualiza la matriz de confusión como un gráfico\n",
        "\n",
        "**accuracy_score**: Mide la precisión (proporción de predicciones correctas)\n",
        "\n",
        "**precision_score**: Evalúa la precisión (qué tan bien el modelo predice correctamente las clases positivas)\n",
        "\n",
        "**recall_score**: Evalúa la recuperación o sensibilidad (qué tan bien el modelo identifica todas las instancias positivas)\n",
        "\n",
        "**f1_score**: Combina precisión y recuperación en una sola métrica\n",
        "\n",
        "**classification_report**: Muestra un resumen de todas las métricas mencionadas por clase\n",
        "\n",
        "**from sklearn.preprocessing import StandardScaler** StandardScaler estandariza las caracteristicas transformandolas para que tengan una media de 0 y una desviación estándar de 1 Ayuda a mejorar el rendimiento del modelo al asegurarse de que todas las caracteristicas están en la misma escala\n",
        "\n",
        "**import joblib** es una herramienta para guardar y cargar objetos de Python de manera eficiente Permite guardar el modelo entrenado y cargarlo después sin necesidad de volver a entrenarlo"
      ],
      "metadata": {
        "id": "kPj1UCo0Qte1"
      }
    },
    {
      "cell_type": "markdown",
      "source": [
        "**Cargar el dataset Iris**"
      ],
      "metadata": {
        "id": "JAYnjiSpLABh"
      }
    },
    {
      "cell_type": "code",
      "source": [
        "iris = load_iris()\n",
        "# Seleccionamos las columnas 2 y 3: longitud y ancho del pétalo\n",
        "X = iris.data[:, (2, 3)]\n",
        "\n",
        "# Etiquetas originales (0: Setosa, 1: Versicolor, 2: Virginica)\n",
        "y_multi = iris.target"
      ],
      "metadata": {
        "id": "qNz1xkPiLFiR"
      },
      "execution_count": null,
      "outputs": []
    },
    {
      "cell_type": "markdown",
      "source": [
        "**iris = load_iris()**\n",
        "Carga el famoso conjunto de datos Iris desde scikit-learn.\n",
        "Tiene:\n",
        "\n",
        "- **iris.data**: Un arreglo NumPy con las características (mediciones de las flores)\n",
        "\n",
        "- **iris.target**: Un arreglo con las etiquetas de las clases (tipo de flor)\n",
        "\n",
        "- **iris.feature_names**: Nombres de las características\n",
        "\n",
        "- **iris.target_names**: Nombres de las clases de flores\n",
        "\n",
        "**X = iris.data[:, (2, 3)]**\n",
        "Selecciono dos características especificas de las flores:\n",
        "\n",
        "- Columna 2: Longitud del pétalo (petal length)\n",
        "\n",
        "- Columna 3: Ancho del pétalo (petal width)\n",
        "\n",
        "**Por que se eligen estas columnas?**\n",
        "Estas características son muy efectivas para distinguir entre las especies de flores. Por ejemplo:\n",
        "\n",
        "Setosa suele tener pétalos mucho mas pequeños\n",
        "Versicolor y Virginica tienen tamaños mas grandes pero con diferencias en el ancho\n",
        "\n",
        "**y_multi = iris.target**\n",
        "\n",
        "Asigna las etiquetas de las flores a la variable y_multi Estas etiquetas son números enteros que representan las especies:\n",
        "\n",
        "- 0: Setosa\n",
        "- 1: Versicolor\n",
        "- 2: Virginica"
      ],
      "metadata": {
        "id": "PQwmfa4JLMn1"
      }
    },
    {
      "cell_type": "markdown",
      "source": [
        "# Visualizar el dataset"
      ],
      "metadata": {
        "id": "yD3PLLuJLQ5K"
      }
    },
    {
      "cell_type": "code",
      "source": [
        "plt.figure(figsize=(8, 6))\n",
        "plt.plot(X[y_multi == 0, 0], X[y_multi == 0, 1], 's', label=\"Iris Setosa\")\n",
        "plt.plot(X[y_multi == 1, 0], X[y_multi == 1, 1], 'x', label=\"Iris Versicolor\")\n",
        "plt.plot(X[y_multi == 2, 0], X[y_multi == 2, 1], 'o', label=\"Iris Virginica\")\n",
        "plt.grid(True)\n",
        "plt.legend()\n",
        "plt.xlabel('Longitud del pétalo')\n",
        "plt.ylabel('Ancho del pétalo')\n",
        "plt.title(\"Dataset Iris - Distribución de las especies\")\n",
        "plt.show()"
      ],
      "metadata": {
        "colab": {
          "base_uri": "https://localhost:8080/",
          "height": 565
        },
        "id": "REM1rBwCLNMY",
        "outputId": "1c1b4f8e-1f28-4083-e834-b0cbd236479b"
      },
      "execution_count": null,
      "outputs": [
        {
          "output_type": "display_data",
          "data": {
            "text/plain": [
              "<Figure size 800x600 with 1 Axes>"
            ],
            "image/png": "[encoded data removed]"
          },
          "metadata": {}
        }
      ]
    },
    {
      "cell_type": "markdown",
      "source": [
        "**plt.figure(figsize=(8, 6))**\n",
        "Crea una nueva figura con un tamaño especifco de 8x6. Esto hace que el grafico sea mas grande y facil de visualizar\n",
        "\n",
        "**plt.plot(X[y_multi == 0, 0], X[y_multi == 0, 1], 's', label=\"Iris Setosa\")**\n",
        "\n",
        "- X[y_multi == 0, 0]: Filtra los valores de la longitud del petalo para la especie Iris Setosa (etiqueta 0)\n",
        "\n",
        "- X[y_multi == 0, 1]: Filtra los valores del ancho del pétalo para Iris Setosa\n",
        "\n",
        "- 's': Usa un marcador en forma de cuadrado para esta especie\n",
        "\n",
        "- label=\"Iris Setosa\": Etiqueta que se ve en la leyenda\n",
        "\n",
        "**plt.plot(X[y_multi == 1, 0], X[y_multi == 1, 1], 'x', label=\"Iris Versicolor\")**\n",
        "\n",
        "- Filtra los datos para la especie Iris Versicolor (etiqueta 1)\n",
        "\n",
        "- 'x': Usa un marcador en forma de cruz\n",
        "\n",
        "- Etiqueta en la leyenda como Iris Versicolor\n",
        "\n",
        "**plt.plot(X[y_multi == 2, 0], X[y_multi == 2, 1], 'o', label=\"Iris Virginica\")**\n",
        "\n",
        "\n",
        "- Filtra los datos para la especie Iris Virginica (etiqueta 2)\n",
        "\n",
        "- 'o': Usa un marcador en forma de círculo\n",
        "\n",
        "- Etiqueta en la leyenda como Iris Virginica\n",
        "\n",
        "**Opciones de Estilo y Visualizacion**\n",
        "\n",
        "**plt.grid(True):**\n",
        "Activa la rejilla para facilitar la visualización de los puntos en el grafico\n",
        "\n",
        "**plt.legend():**\n",
        "Muestra la leyenda que identifica cada especie segun su marcador\n",
        "\n",
        "\n",
        "**plt.xlabel('Longitud del pétalo') y plt.ylabel('Ancho del pétalo'):**\n",
        "\n",
        "Etiquetas de los ejes X y Y para que se entienda qué representa cada uno.\n",
        "\n",
        "**plt.title(\"Dataset Iris - Distribución de las especies\"):**\n",
        "\n",
        "Agrega un título descriptivo al gráfico.\n",
        "\n",
        "**plt.show()**\n",
        "Muestra el grafco"
      ],
      "metadata": {
        "id": "y19sCfcuLUZu"
      }
    },
    {
      "cell_type": "markdown",
      "source": [
        "# Definir la clase a clasificar: Iris Setosa vs No Iris Setosa"
      ],
      "metadata": {
        "id": "0kCH3v0MLVAs"
      }
    },
    {
      "cell_type": "code",
      "source": [
        "# Convertimos las etiquetas a un problema binario:\n",
        "# 1 si la especie es Iris Setosa, 0 para las demás\n",
        "y = (iris.target == 0).astype(np.int64)"
      ],
      "metadata": {
        "id": "wjyIvK5JLYR-"
      },
      "execution_count": null,
      "outputs": []
    },
    {
      "cell_type": "markdown",
      "source": [
        "**(iris.target == 0)**\n",
        "crea un arreglo booleano donde True corresponde a las instancias de Iris Setosa (etiqueta 0) y False a las demás especies\n",
        "\n",
        "**.astype(np.int64)**\n",
        " transforma esos valores booleanos en enteros: 1 para Iris Setosa y 0 para las otras dos especies (Versicolor y Virginica)\n",
        "\n",
        " Este tipo de conversion es util cuando se quiere simplificar un problema multiclase o cuando el algoritmo de clasificacion elegido esta diseñado para trabajar con problemas binarios"
      ],
      "metadata": {
        "id": "uyYA8BR_LbK2"
      }
    },
    {
      "cell_type": "markdown",
      "source": [
        "# Visualizar la clasificación binaria"
      ],
      "metadata": {
        "id": "FDAs6nhwLbjT"
      }
    },
    {
      "cell_type": "code",
      "source": [
        "plt.figure(figsize=(8, 6))\n",
        "plt.plot(X[y == 1, 0], X[y == 1, 1], 's', label=\"Iris Setosa\")\n",
        "plt.plot(X[y == 0, 0], X[y == 0, 1], 'x', label=\"No Iris Setosa\")\n",
        "plt.grid(True)\n",
        "plt.legend()\n",
        "plt.xlabel('Longitud del pétalo')\n",
        "plt.ylabel('Ancho del pétalo')\n",
        "plt.title(\"Clasificación binaria: Iris Setosa vs No Iris Setosa\")\n",
        "plt.show()"
      ],
      "metadata": {
        "colab": {
          "base_uri": "https://localhost:8080/",
          "height": 565
        },
        "id": "lf24ZhUyLgd_",
        "outputId": "bac54a6f-b31e-4dc4-aa3c-e9a5f96f8a9c"
      },
      "execution_count": null,
      "outputs": [
        {
          "output_type": "display_data",
          "data": {
            "text/plain": [
              "<Figure size 800x600 with 1 Axes>"
            ],
            "image/png": "[encoded data removed]"
          },
          "metadata": {}
        }
      ]
    },
    {
      "cell_type": "markdown",
      "source": [
        "**plt.figure(figsize=(8, 6))**\n",
        "Damos el tamaño del grafico  8x6 , lo que mejora la visualizacion\n",
        "\n",
        " **plt.plot(X[y == 1, 0], X[y == 1, 1], 's', label=\"Iris Setosa\")**\n",
        "\n",
        " grafica los datos donde y == 1, es decir, las instancias de Iris Setosa, utilizando marcadores en forma de cuadrado ('s')\n",
        "\n",
        " ** plt.plot(X[y == 0, 0], X[y == 0, 1], 'x', label=\"No Iris Setosa\")**\n",
        "\n",
        " grafica las otras especies con marcadores en forma de cruz ('x')\n",
        "\n",
        "**plt.grid(True)**\n",
        "\n",
        "activa la cuadrícula para facilitar la interpretación del gráfico\n",
        "\n",
        "**plt.legend()**\n",
        "muestra la leyenda que diferencia las dos clases\n",
        "\n",
        "**plt.xlabel('Longitud del pétalo') y plt.ylabel('Ancho del pétalo')**\n",
        "\n",
        " etiquetan los ejes X e Y con las características seleccionadas\n",
        "\n",
        "**plt.title(\"Clasificación binaria: Iris Setosa vs No Iris Setosa\")**\n",
        "\n",
        "añade un título que describe la gráfica\n",
        "\n",
        "**plt.show()**\n",
        "\n",
        "muestra el gráfico"
      ],
      "metadata": {
        "id": "BDwjgh-jLiya"
      }
    },
    {
      "cell_type": "markdown",
      "source": [
        "# Normalizar los datos"
      ],
      "metadata": {
        "id": "SH-laWxtLjpk"
      }
    },
    {
      "cell_type": "code",
      "source": [
        "scaler = StandardScaler()\n",
        "X_norm = scaler.fit_transform(X)"
      ],
      "metadata": {
        "id": "MsTdB9GpLnHz"
      },
      "execution_count": null,
      "outputs": []
    },
    {
      "cell_type": "markdown",
      "source": [
        "**scaler = StandardScaler()**\n",
        "\n",
        "Crea una instancia de StandardScaler, una herramienta de scikit-learn que estandariza los datos. Esto significa que transforma las características para que tengan una media de 0 y una desviación estándar de 1\n",
        "\n",
        "**Variantes:** En lugar de StandardScaler se puede llegar a usar:\n",
        "\n",
        "- MinMaxScaler: Escala los datos a un rango definido, por defecto entre 0 y 1\n",
        "- RobustScaler: Utiliza la mediana y el rango intercuartílico util si los datos tienen outliers\n",
        "\n",
        "**X_norm = scaler.fit_transform(X)**\n",
        "\n",
        "Aplica la estandarización a X\n",
        "\n",
        "**fit_transform()**\n",
        "primero ajusta (fit) el escalador calculando la media y la desviación estándar de las características, y luego transforma (transform) los datos usando esos valores\n",
        "\n",
        "X_norm es la versión estandarizada de X, lo que facilita el entrenamiento de modelos que son sensibles a la escala de los datos\n"
      ],
      "metadata": {
        "id": "emMjkawoLtXH"
      }
    },
    {
      "cell_type": "markdown",
      "source": [
        "# Modelo del Perceptron"
      ],
      "metadata": {
        "id": "oqpkr1VQLtuR"
      }
    },
    {
      "cell_type": "code",
      "source": [
        "model = Perceptron(max_iter=50, eta0=0.1, random_state=42, tol=None)\n",
        "model.fit(X_norm, y)"
      ],
      "metadata": {
        "colab": {
          "base_uri": "https://localhost:8080/",
          "height": 80
        },
        "id": "3yMR4Wu8Lws4",
        "outputId": "08ecbef8-81b3-4c38-84ca-624ff015557d"
      },
      "execution_count": null,
      "outputs": [
        {
          "output_type": "execute_result",
          "data": {
            "text/plain": [
              "Perceptron(eta0=0.1, max_iter=50, random_state=42, tol=None)"
            ],
            "text/html": [
              "<style>#sk-container-id-1 {\n",
              "  /* Definition of color scheme common for light and dark mode */\n",
              "  --sklearn-color-text: #000;\n",
              "  --sklearn-color-text-muted: #666;\n",
              "  --sklearn-color-line: gray;\n",
              "  /* Definition of color scheme for unfitted estimators */\n",
              "  --sklearn-color-unfitted-level-0: #fff5e6;\n",
              "  --sklearn-color-unfitted-level-1: #f6e4d2;\n",
              "  --sklearn-color-unfitted-level-2: #ffe0b3;\n",
              "  --sklearn-color-unfitted-level-3: chocolate;\n",
              "  /* Definition of color scheme for fitted estimators */\n",
              "  --sklearn-color-fitted-level-0: #f0f8ff;\n",
              "  --sklearn-color-fitted-level-1: #d4ebff;\n",
              "  --sklearn-color-fitted-level-2: #b3dbfd;\n",
              "  --sklearn-color-fitted-level-3: cornflowerblue;\n",
              "\n",
              "  /* Specific color for light theme */\n",
              "  --sklearn-color-text-on-default-background: var(--sg-text-color, var(--theme-code-foreground, var(--jp-content-font-color1, black)));\n",
              "  --sklearn-color-background: var(--sg-background-color, var(--theme-background, var(--jp-layout-color0, white)));\n",
              "  --sklearn-color-border-box: var(--sg-text-color, var(--theme-code-foreground, var(--jp-content-font-color1, black)));\n",
              "  --sklearn-color-icon: #696969;\n",
              "\n",
              "  @media (prefers-color-scheme: dark) {\n",
              "    /* Redefinition of color scheme for dark theme */\n",
              "    --sklearn-color-text-on-default-background: var(--sg-text-color, var(--theme-code-foreground, var(--jp-content-font-color1, white)));\n",
              "    --sklearn-color-background: var(--sg-background-color, var(--theme-background, var(--jp-layout-color0, #111)));\n",
              "    --sklearn-color-border-box: var(--sg-text-color, var(--theme-code-foreground, var(--jp-content-font-color1, white)));\n",
              "    --sklearn-color-icon: #878787;\n",
              "  }\n",
              "}\n",
              "\n",
              "#sk-container-id-1 {\n",
              "  color: var(--sklearn-color-text);\n",
              "}\n",
              "\n",
              "#sk-container-id-1 pre {\n",
              "  padding: 0;\n",
              "}\n",
              "\n",
              "#sk-container-id-1 input.sk-hidden--visually {\n",
              "  border: 0;\n",
              "  clip: rect(1px 1px 1px 1px);\n",
              "  clip: rect(1px, 1px, 1px, 1px);\n",
              "  height: 1px;\n",
              "  margin: -1px;\n",
              "  overflow: hidden;\n",
              "  padding: 0;\n",
              "  position: absolute;\n",
              "  width: 1px;\n",
              "}\n",
              "\n",
              "#sk-container-id-1 div.sk-dashed-wrapped {\n",
              "  border: 1px dashed var(--sklearn-color-line);\n",
              "  margin: 0 0.4em 0.5em 0.4em;\n",
              "  box-sizing: border-box;\n",
              "  padding-bottom: 0.4em;\n",
              "  background-color: var(--sklearn-color-background);\n",
              "}\n",
              "\n",
              "#sk-container-id-1 div.sk-container {\n",
              "  /* jupyter's `normalize.less` sets `[hidden] { display: none; }`\n",
              "     but bootstrap.min.css set `[hidden] { display: none !important; }`\n",
              "     so we also need the `!important` here to be able to override the\n",
              "     default hidden behavior on the sphinx rendered scikit-learn.org.\n",
              "     See: https://github.com/scikit-learn/scikit-learn/issues/21755 */\n",
              "  display: inline-block !important;\n",
              "  position: relative;\n",
              "}\n",
              "\n",
              "#sk-container-id-1 div.sk-text-repr-fallback {\n",
              "  display: none;\n",
              "}\n",
              "\n",
              "div.sk-parallel-item,\n",
              "div.sk-serial,\n",
              "div.sk-item {\n",
              "  /* draw centered vertical line to link estimators */\n",
              "  background-image: linear-gradient(var(--sklearn-color-text-on-default-background), var(--sklearn-color-text-on-default-background));\n",
              "  background-size: 2px 100%;\n",
              "  background-repeat: no-repeat;\n",
              "  background-position: center center;\n",
              "}\n",
              "\n",
              "/* Parallel-specific style estimator block */\n",
              "\n",
              "#sk-container-id-1 div.sk-parallel-item::after {\n",
              "  content: \"\";\n",
              "  width: 100%;\n",
              "  border-bottom: 2px solid var(--sklearn-color-text-on-default-background);\n",
              "  flex-grow: 1;\n",
              "}\n",
              "\n",
              "#sk-container-id-1 div.sk-parallel {\n",
              "  display: flex;\n",
              "  align-items: stretch;\n",
              "  justify-content: center;\n",
              "  background-color: var(--sklearn-color-background);\n",
              "  position: relative;\n",
              "}\n",
              "\n",
              "#sk-container-id-1 div.sk-parallel-item {\n",
              "  display: flex;\n",
              "  flex-direction: column;\n",
              "}\n",
              "\n",
              "#sk-container-id-1 div.sk-parallel-item:first-child::after {\n",
              "  align-self: flex-end;\n",
              "  width: 50%;\n",
              "}\n",
              "\n",
              "#sk-container-id-1 div.sk-parallel-item:last-child::after {\n",
              "  align-self: flex-start;\n",
              "  width: 50%;\n",
              "}\n",
              "\n",
              "#sk-container-id-1 div.sk-parallel-item:only-child::after {\n",
              "  width: 0;\n",
              "}\n",
              "\n",
              "/* Serial-specific style estimator block */\n",
              "\n",
              "#sk-container-id-1 div.sk-serial {\n",
              "  display: flex;\n",
              "  flex-direction: column;\n",
              "  align-items: center;\n",
              "  background-color: var(--sklearn-color-background);\n",
              "  padding-right: 1em;\n",
              "  padding-left: 1em;\n",
              "}\n",
              "\n",
              "\n",
              "/* Toggleable style: style used for estimator/Pipeline/ColumnTransformer box that is\n",
              "clickable and can be expanded/collapsed.\n",
              "- Pipeline and ColumnTransformer use this feature and define the default style\n",
              "- Estimators will overwrite some part of the style using the `sk-estimator` class\n",
              "*/\n",
              "\n",
              "/* Pipeline and ColumnTransformer style (default) */\n",
              "\n",
              "#sk-container-id-1 div.sk-toggleable {\n",
              "  /* Default theme specific background. It is overwritten whether we have a\n",
              "  specific estimator or a Pipeline/ColumnTransformer */\n",
              "  background-color: var(--sklearn-color-background);\n",
              "}\n",
              "\n",
              "/* Toggleable label */\n",
              "#sk-container-id-1 label.sk-toggleable__label {\n",
              "  cursor: pointer;\n",
              "  display: flex;\n",
              "  width: 100%;\n",
              "  margin-bottom: 0;\n",
              "  padding: 0.5em;\n",
              "  box-sizing: border-box;\n",
              "  text-align: center;\n",
              "  align-items: start;\n",
              "  justify-content: space-between;\n",
              "  gap: 0.5em;\n",
              "}\n",
              "\n",
              "#sk-container-id-1 label.sk-toggleable__label .caption {\n",
              "  font-size: 0.6rem;\n",
              "  font-weight: lighter;\n",
              "  color: var(--sklearn-color-text-muted);\n",
              "}\n",
              "\n",
              "#sk-container-id-1 label.sk-toggleable__label-arrow:before {\n",
              "  /* Arrow on the left of the label */\n",
              "  content: \"▸\";\n",
              "  float: left;\n",
              "  margin-right: 0.25em;\n",
              "  color: var(--sklearn-color-icon);\n",
              "}\n",
              "\n",
              "#sk-container-id-1 label.sk-toggleable__label-arrow:hover:before {\n",
              "  color: var(--sklearn-color-text);\n",
              "}\n",
              "\n",
              "/* Toggleable content - dropdown */\n",
              "\n",
              "#sk-container-id-1 div.sk-toggleable__content {\n",
              "  max-height: 0;\n",
              "  max-width: 0;\n",
              "  overflow: hidden;\n",
              "  text-align: left;\n",
              "  /* unfitted */\n",
              "  background-color: var(--sklearn-color-unfitted-level-0);\n",
              "}\n",
              "\n",
              "#sk-container-id-1 div.sk-toggleable__content.fitted {\n",
              "  /* fitted */\n",
              "  background-color: var(--sklearn-color-fitted-level-0);\n",
              "}\n",
              "\n",
              "#sk-container-id-1 div.sk-toggleable__content pre {\n",
              "  margin: 0.2em;\n",
              "  border-radius: 0.25em;\n",
              "  color: var(--sklearn-color-text);\n",
              "  /* unfitted */\n",
              "  background-color: var(--sklearn-color-unfitted-level-0);\n",
              "}\n",
              "\n",
              "#sk-container-id-1 div.sk-toggleable__content.fitted pre {\n",
              "  /* unfitted */\n",
              "  background-color: var(--sklearn-color-fitted-level-0);\n",
              "}\n",
              "\n",
              "#sk-container-id-1 input.sk-toggleable__control:checked~div.sk-toggleable__content {\n",
              "  /* Expand drop-down */\n",
              "  max-height: 200px;\n",
              "  max-width: 100%;\n",
              "  overflow: auto;\n",
              "}\n",
              "\n",
              "#sk-container-id-1 input.sk-toggleable__control:checked~label.sk-toggleable__label-arrow:before {\n",
              "  content: \"▾\";\n",
              "}\n",
              "\n",
              "/* Pipeline/ColumnTransformer-specific style */\n",
              "\n",
              "#sk-container-id-1 div.sk-label input.sk-toggleable__control:checked~label.sk-toggleable__label {\n",
              "  color: var(--sklearn-color-text);\n",
              "  background-color: var(--sklearn-color-unfitted-level-2);\n",
              "}\n",
              "\n",
              "#sk-container-id-1 div.sk-label.fitted input.sk-toggleable__control:checked~label.sk-toggleable__label {\n",
              "  background-color: var(--sklearn-color-fitted-level-2);\n",
              "}\n",
              "\n",
              "/* Estimator-specific style */\n",
              "\n",
              "/* Colorize estimator box */\n",
              "#sk-container-id-1 div.sk-estimator input.sk-toggleable__control:checked~label.sk-toggleable__label {\n",
              "  /* unfitted */\n",
              "  background-color: var(--sklearn-color-unfitted-level-2);\n",
              "}\n",
              "\n",
              "#sk-container-id-1 div.sk-estimator.fitted input.sk-toggleable__control:checked~label.sk-toggleable__label {\n",
              "  /* fitted */\n",
              "  background-color: var(--sklearn-color-fitted-level-2);\n",
              "}\n",
              "\n",
              "#sk-container-id-1 div.sk-label label.sk-toggleable__label,\n",
              "#sk-container-id-1 div.sk-label label {\n",
              "  /* The background is the default theme color */\n",
              "  color: var(--sklearn-color-text-on-default-background);\n",
              "}\n",
              "\n",
              "/* On hover, darken the color of the background */\n",
              "#sk-container-id-1 div.sk-label:hover label.sk-toggleable__label {\n",
              "  color: var(--sklearn-color-text);\n",
              "  background-color: var(--sklearn-color-unfitted-level-2);\n",
              "}\n",
              "\n",
              "/* Label box, darken color on hover, fitted */\n",
              "#sk-container-id-1 div.sk-label.fitted:hover label.sk-toggleable__label.fitted {\n",
              "  color: var(--sklearn-color-text);\n",
              "  background-color: var(--sklearn-color-fitted-level-2);\n",
              "}\n",
              "\n",
              "/* Estimator label */\n",
              "\n",
              "#sk-container-id-1 div.sk-label label {\n",
              "  font-family: monospace;\n",
              "  font-weight: bold;\n",
              "  display: inline-block;\n",
              "  line-height: 1.2em;\n",
              "}\n",
              "\n",
              "#sk-container-id-1 div.sk-label-container {\n",
              "  text-align: center;\n",
              "}\n",
              "\n",
              "/* Estimator-specific */\n",
              "#sk-container-id-1 div.sk-estimator {\n",
              "  font-family: monospace;\n",
              "  border: 1px dotted var(--sklearn-color-border-box);\n",
              "  border-radius: 0.25em;\n",
              "  box-sizing: border-box;\n",
              "  margin-bottom: 0.5em;\n",
              "  /* unfitted */\n",
              "  background-color: var(--sklearn-color-unfitted-level-0);\n",
              "}\n",
              "\n",
              "#sk-container-id-1 div.sk-estimator.fitted {\n",
              "  /* fitted */\n",
              "  background-color: var(--sklearn-color-fitted-level-0);\n",
              "}\n",
              "\n",
              "/* on hover */\n",
              "#sk-container-id-1 div.sk-estimator:hover {\n",
              "  /* unfitted */\n",
              "  background-color: var(--sklearn-color-unfitted-level-2);\n",
              "}\n",
              "\n",
              "#sk-container-id-1 div.sk-estimator.fitted:hover {\n",
              "  /* fitted */\n",
              "  background-color: var(--sklearn-color-fitted-level-2);\n",
              "}\n",
              "\n",
              "/* Specification for estimator info (e.g. \"i\" and \"?\") */\n",
              "\n",
              "/* Common style for \"i\" and \"?\" */\n",
              "\n",
              ".sk-estimator-doc-link,\n",
              "a:link.sk-estimator-doc-link,\n",
              "a:visited.sk-estimator-doc-link {\n",
              "  float: right;\n",
              "  font-size: smaller;\n",
              "  line-height: 1em;\n",
              "  font-family: monospace;\n",
              "  background-color: var(--sklearn-color-background);\n",
              "  border-radius: 1em;\n",
              "  height: 1em;\n",
              "  width: 1em;\n",
              "  text-decoration: none !important;\n",
              "  margin-left: 0.5em;\n",
              "  text-align: center;\n",
              "  /* unfitted */\n",
              "  border: var(--sklearn-color-unfitted-level-1) 1pt solid;\n",
              "  color: var(--sklearn-color-unfitted-level-1);\n",
              "}\n",
              "\n",
              ".sk-estimator-doc-link.fitted,\n",
              "a:link.sk-estimator-doc-link.fitted,\n",
              "a:visited.sk-estimator-doc-link.fitted {\n",
              "  /* fitted */\n",
              "  border: var(--sklearn-color-fitted-level-1) 1pt solid;\n",
              "  color: var(--sklearn-color-fitted-level-1);\n",
              "}\n",
              "\n",
              "/* On hover */\n",
              "div.sk-estimator:hover .sk-estimator-doc-link:hover,\n",
              ".sk-estimator-doc-link:hover,\n",
              "div.sk-label-container:hover .sk-estimator-doc-link:hover,\n",
              ".sk-estimator-doc-link:hover {\n",
              "  /* unfitted */\n",
              "  background-color: var(--sklearn-color-unfitted-level-3);\n",
              "  color: var(--sklearn-color-background);\n",
              "  text-decoration: none;\n",
              "}\n",
              "\n",
              "div.sk-estimator.fitted:hover .sk-estimator-doc-link.fitted:hover,\n",
              ".sk-estimator-doc-link.fitted:hover,\n",
              "div.sk-label-container:hover .sk-estimator-doc-link.fitted:hover,\n",
              ".sk-estimator-doc-link.fitted:hover {\n",
              "  /* fitted */\n",
              "  background-color: var(--sklearn-color-fitted-level-3);\n",
              "  color: var(--sklearn-color-background);\n",
              "  text-decoration: none;\n",
              "}\n",
              "\n",
              "/* Span, style for the box shown on hovering the info icon */\n",
              ".sk-estimator-doc-link span {\n",
              "  display: none;\n",
              "  z-index: 9999;\n",
              "  position: relative;\n",
              "  font-weight: normal;\n",
              "  right: .2ex;\n",
              "  padding: .5ex;\n",
              "  margin: .5ex;\n",
              "  width: min-content;\n",
              "  min-width: 20ex;\n",
              "  max-width: 50ex;\n",
              "  color: var(--sklearn-color-text);\n",
              "  box-shadow: 2pt 2pt 4pt #999;\n",
              "  /* unfitted */\n",
              "  background: var(--sklearn-color-unfitted-level-0);\n",
              "  border: .5pt solid var(--sklearn-color-unfitted-level-3);\n",
              "}\n",
              "\n",
              ".sk-estimator-doc-link.fitted span {\n",
              "  /* fitted */\n",
              "  background: var(--sklearn-color-fitted-level-0);\n",
              "  border: var(--sklearn-color-fitted-level-3);\n",
              "}\n",
              "\n",
              ".sk-estimator-doc-link:hover span {\n",
              "  display: block;\n",
              "}\n",
              "\n",
              "/* \"?\"-specific style due to the `<a>` HTML tag */\n",
              "\n",
              "#sk-container-id-1 a.estimator_doc_link {\n",
              "  float: right;\n",
              "  font-size: 1rem;\n",
              "  line-height: 1em;\n",
              "  font-family: monospace;\n",
              "  background-color: var(--sklearn-color-background);\n",
              "  border-radius: 1rem;\n",
              "  height: 1rem;\n",
              "  width: 1rem;\n",
              "  text-decoration: none;\n",
              "  /* unfitted */\n",
              "  color: var(--sklearn-color-unfitted-level-1);\n",
              "  border: var(--sklearn-color-unfitted-level-1) 1pt solid;\n",
              "}\n",
              "\n",
              "#sk-container-id-1 a.estimator_doc_link.fitted {\n",
              "  /* fitted */\n",
              "  border: var(--sklearn-color-fitted-level-1) 1pt solid;\n",
              "  color: var(--sklearn-color-fitted-level-1);\n",
              "}\n",
              "\n",
              "/* On hover */\n",
              "#sk-container-id-1 a.estimator_doc_link:hover {\n",
              "  /* unfitted */\n",
              "  background-color: var(--sklearn-color-unfitted-level-3);\n",
              "  color: var(--sklearn-color-background);\n",
              "  text-decoration: none;\n",
              "}\n",
              "\n",
              "#sk-container-id-1 a.estimator_doc_link.fitted:hover {\n",
              "  /* fitted */\n",
              "  background-color: var(--sklearn-color-fitted-level-3);\n",
              "}\n",
              "</style><div id=\"sk-container-id-1\" class=\"sk-top-container\"><div class=\"sk-text-repr-fallback\"><pre>Perceptron(eta0=0.1, max_iter=50, random_state=42, tol=None)</pre><b>In a Jupyter environment, please rerun this cell to show the HTML representation or trust the notebook. <br />On GitHub, the HTML representation is unable to render, please try loading this page with nbviewer.org.</b></div><div class=\"sk-container\" hidden><div class=\"sk-item\"><div class=\"sk-estimator fitted sk-toggleable\"><input class=\"sk-toggleable__control sk-hidden--visually\" id=\"sk-estimator-id-1\" type=\"checkbox\" checked><label for=\"sk-estimator-id-1\" class=\"sk-toggleable__label fitted sk-toggleable__label-arrow\"><div><div>Perceptron</div></div><div><a class=\"sk-estimator-doc-link fitted\" rel=\"noreferrer\" target=\"_blank\" href=\"https://scikit-learn.org/1.6/modules/generated/sklearn.linear_model.Perceptron.html\">?<span>Documentation for Perceptron</span></a><span class=\"sk-estimator-doc-link fitted\">i<span>Fitted</span></span></div></label><div class=\"sk-toggleable__content fitted\"><pre>Perceptron(eta0=0.1, max_iter=50, random_state=42, tol=None)</pre></div> </div></div></div></div>"
            ]
          },
          "metadata": {},
          "execution_count": 7
        }
      ]
    },
    {
      "cell_type": "markdown",
      "source": [
        "**model = Perceptron(max_iter=50, eta0=0.1, random_state=42, tol=None)**\n",
        "\n",
        "Modelo de Perceptron un clasificador lineal que ajusta pesos para separar clases mediante una combinación lineal de caracteristicas\n",
        "\n",
        "**Parametros:**\n",
        "\n",
        "- max_iter=50: Numero maximo de iteraciones (epocas) sobre los datos en este caso el modelo realizará hasta 50 pasadas por el conjunto de datos para ajustar los pesos\n",
        "\n",
        "Nota: Puedes aumentar este número si el modelo no converge o reducirlo para acelerar el entrenamiento\n",
        "\n",
        "- eta0=0.1: Tasa de aprendizaje inicial. Controla el tamaño de los pasos que da el modelo para ajustar los pesos\n",
        "\n",
        "Nota: Valores mas pequeños hacen el aprendizaje mas lento pero pueden mejorar la precision o valores mas grandes aceleran el aprendizaje pero pueden causar inestabilidad\n",
        "\n",
        "- random_state=42: Semilla para generar resultados reproducibles. Garantiza que el modelo se inicialice de la misma manera cada vez que se ejecuta el codigo\n",
        "\n",
        "Nota: Cambiar el valor dara diferentes resultados debido a la aleatoriedad en la inicialización de pesos\n",
        "\n",
        "- tol=None: Tolerancia para la parada anticipada. Al establecerlo en None, el modelo no se detiene antes de completar todas las iteraciones, incluso si ya ha convergido\n",
        "\n",
        "Nota: si le das un valor como tol=1e-3, el modelo se detendra si la mejora entre iteraciones es menor a ese umbral\n",
        "\n",
        "**model.fit(X_norm, y)**\n",
        "\n",
        "Entrena el modelo de perceptron usando los datos estandarizados X_norm y las etiquetas binarias y\n",
        "\n",
        "Ajusta los pesos internos del modelo para encontrar una línea que separe las clases (Iris Setosa y No Iris Setosa)"
      ],
      "metadata": {
        "id": "9pSYQYvuL88I"
      }
    },
    {
      "cell_type": "markdown",
      "source": [
        "# Parametros finales del modelo"
      ],
      "metadata": {
        "id": "whDMEq7QL9aL"
      }
    },
    {
      "cell_type": "code",
      "source": [
        "print(\"Coeficientes del modelo:\", model.coef_)\n",
        "print(\"Intercepto del modelo:\", model.intercept_)"
      ],
      "metadata": {
        "colab": {
          "base_uri": "https://localhost:8080/"
        },
        "id": "zwfLn6ptMFrr",
        "outputId": "06a865a7-0233-4c39-fb5d-6c6952b17c4a"
      },
      "execution_count": null,
      "outputs": [
        {
          "output_type": "stream",
          "name": "stdout",
          "text": [
            "Coeficientes del modelo: [[-0.13311325 -0.11855672]]\n",
            "Intercepto del modelo: [-0.1]\n"
          ]
        }
      ]
    },
    {
      "cell_type": "markdown",
      "source": [
        "**print(\"Coeficientes del modelo:\", model.coef_)**\n",
        "\n",
        "Muestra los coeficientes del modelo, que representan los pesos asignados a cada característica tras el entrenamiento\n",
        "\n",
        "Estos coeficientes indican la influencia de cada característica (longitud y ancho del pétalo) en la prediccion. Un valor positivo o negativo muestra si la característica contribuye a clasificar como Iris Setosa o No Iris Setosa\n",
        "\n",
        "Nota:\n",
        "Si el modelo tiene más de una clase (en problemas multiclase), model.coef_ devuelve un arreglo 2D donde cada fila corresponde a una clase\n",
        "\n",
        "**print(\"Intercepto del modelo:\", model.intercept_)**\n",
        "\n",
        "Muestra el intercepto del modelo, que es el término independiente en la ecuación de la recta de decision\n",
        "\n",
        " El intercepto ajusta la posición de la línea de separación en el espacio de características. Sin este interceot la línea siempre pasaría por el origen (0,0) lo que no siempre es adecuado para separar las clases correctamente\n",
        "\n",
        "Nota:\n",
        "En problemas multiclase, model.intercept_ tendrá un valor para cada clase.\n",
        "```\n",
        "\n"
      ],
      "metadata": {
        "id": "3ITwB2K8MGjn"
      }
    },
    {
      "cell_type": "markdown",
      "source": [
        "# Graficar"
      ],
      "metadata": {
        "id": "8QHL6ID_MHAn"
      }
    },
    {
      "cell_type": "code",
      "source": [
        "# Se crea una malla en el espacio de las características normalizadas para visualizar la frontera de decision\n",
        "x_min, x_max = X_norm[:, 0].min() - 1, X_norm[:, 0].max() + 1\n",
        "y_min, y_max = X_norm[:, 1].min() - 1, X_norm[:, 1].max() + 1\n",
        "xx, yy = np.meshgrid(np.linspace(x_min, x_max, 500),\n",
        "                     np.linspace(y_min, y_max, 500))\n",
        "\n",
        "# Se predice la clase en cada punto de la malla\n",
        "Z = model.predict(np.c_[xx.ravel(), yy.ravel()])\n",
        "Z = Z.reshape(xx.shape)\n",
        "\n",
        "plt.figure(figsize=(8, 6))\n",
        "plt.contourf(xx, yy, Z, alpha=0.3, cmap=plt.cm.Paired)\n",
        "\n",
        "# Se grafican los datos de entrenamiento\n",
        "plt.scatter(X_norm[y == 1, 0], X_norm[y == 1, 1], marker='s', color='blue', label=\"Iris Setosa\")\n",
        "plt.scatter(X_norm[y == 0, 0], X_norm[y == 0, 1], marker='x', color='red', label=\"No Iris Setosa\")\n",
        "plt.xlabel('Longitud del pétalo (normalizada)')\n",
        "plt.ylabel('Ancho del pétalo (normalizada)')\n",
        "plt.title(\"Frontera de decisión del Perceptron\")\n",
        "plt.legend()\n",
        "plt.show()"
      ],
      "metadata": {
        "colab": {
          "base_uri": "https://localhost:8080/",
          "height": 565
        },
        "id": "fczLtvc_MLdy",
        "outputId": "fd5e16bb-d192-43da-c949-cbd3da444836"
      },
      "execution_count": null,
      "outputs": [
        {
          "output_type": "display_data",
          "data": {
            "text/plain": [
              "<Figure size 800x600 with 1 Axes>"
            ],
            "image/png": "[encoded data removed]"
          },
          "metadata": {}
        }
      ]
    },
    {
      "cell_type": "markdown",
      "source": [
        "**x_min, x_max = X_norm[:, 0].min() - 1, X_norm[:, 0].max() + 1**\n",
        "\n",
        "Calcula el rango minimo y maximo de la primera caracteristica (longitud del pétalo normalizada) añadiendo un margen de 1 unidad a ambos extremos para asegurar que la gráfica no quede recortada\n",
        "\n",
        "**y_min, y_max = X_norm[:, 1].min() - 1, X_norm[:, 1].max() + 1**\n",
        "Hace lo mismo para la segunda caracteristica (ancho del pétalo normalizado),creando un margen que permite visualizar claramente los datos y la frontera de decision\n",
        "\n",
        "\n",
        "**xx, yy = np.meshgrid(np.linspace(x_min, x_max, 500), np.linspace(y_min, y_max, 500))**\n",
        "\n",
        "Crea una malla de puntos en el espacio de las caracteristicas\n",
        "\n",
        "- np.linspace(x_min, x_max, 500) genera 500 puntos equidistantes entre x_min y x_max\n",
        "\n",
        "- np.meshgrid toma estos puntos y crea una cuadricula que cubre todo el espacio de caracteristicas\n",
        "\n",
        "Esta malla permite evaluar el modelo en cada punto del espacio para visualizar cómo separa las clases\n",
        "\n",
        "**Z = model.predict(np.c_[xx.ravel(), yy.ravel()])**\n",
        "\n",
        "Predice la clase para cada punto en la malla\n",
        "\n",
        "- xx.ravel() y yy.ravel() aplastan las matrices en vectores de una dimensión\n",
        "\n",
        "- np.c_[] concatena estos vectores para crear un arreglo de coordenadas (pares de puntos) que se pasan al modelo para hacer predicciones\n",
        "\n",
        "Determina a qué clase pertenece cada punto de la malla, lo que ayudará a dibujar la frontera de decision\n",
        "\n",
        "**Z = Z.reshape(xx.shape)**\n",
        "\n",
        "Convierte el vector de predicciones de nuevo a la forma original de la malla (xx.shape) para poder graficar correctamente la frontera de decision\n",
        "\n",
        "**plt.figure(figsize=(8, 6))**\n",
        "Crea el grafico de de 8x6\n",
        "\n",
        "**plt.contourf(xx, yy, Z, alpha=0.3, cmap=plt.cm.Paired)**\n",
        "\n",
        "Dibuja la frontera de decisión usando los resultados de Z\n",
        "\n",
        "- contourf crea un gráfico de contorno relleno donde cada región de color representa una clase\n",
        "\n",
        "- alpha=0.3 ajusta la transparencia de las regiones para que los puntos de datos sean visibles\n",
        "\n",
        "- cmap=plt.cm.Paired utiliza una paleta de colores que diferencia visualmente las clases\n",
        "\n",
        "**plt.scatter(X_norm[y == 1, 0], X_norm[y == 1, 1], marker='s', color='blue', label=\"Iris Setosa\")**\n",
        "\n",
        "Grafica los puntos de Iris Setosa usando marcadores cuadrados ('s') en color azul\n",
        "\n",
        "**plt.scatter(X_norm[y == 0, 0], X_norm[y == 0, 1], marker='x', color='red', label=\"No Iris Setosa\")**\n",
        "\n",
        "Grafica los puntos de las otras especies (Versicolor y Virginica)\n",
        "\n",
        "usando marcadores en forma de cruz ('x') en color rojo\n",
        "\n",
        "\n",
        "**plt.xlabel('Longitud del pétalo (normalizada)')**\n",
        "Etiqueta el eje X indicando que los valores están normalizados.\n",
        "\n",
        "**plt.ylabel('Ancho del pétalo (normalizada)')**\n",
        "\n",
        "Etiqueta el eje Y también indicando la normalizacion\n",
        "\n",
        "\n",
        "**plt.title(\"Frontera de decisión del Perceptron\")**\n",
        "\n",
        "Añade un titulo que describe que se está visualizando la frontera de decisión generada por el modelo Perceptron\n",
        "\n",
        "\n",
        "**plt.legend()**\n",
        "\n",
        "Muestra la leyenda que identifica las clases representadas en el grafico\n",
        "\n",
        "**plt.show()**\n",
        "\n",
        "Muestra el grafico"
      ],
      "metadata": {
        "id": "_EzQZCpEMVeI"
      }
    },
    {
      "cell_type": "markdown",
      "source": [
        "# Evaluacion del modelo"
      ],
      "metadata": {
        "id": "jAgB2ZKeMVxx"
      }
    },
    {
      "cell_type": "code",
      "source": [
        "y_pred = model.predict(X_norm)"
      ],
      "metadata": {
        "id": "Bwu_qPhsMZCK"
      },
      "execution_count": null,
      "outputs": []
    },
    {
      "cell_type": "markdown",
      "source": [
        "**y_pred = model.predict(X_norm)**\n",
        "\n",
        "Utiliza el modelo entrenado para hacer predicciones sobre los datos normalizados X_norm\n",
        "\n",
        "\n",
        "**model.predict()**\n",
        "\n",
        "toma las características de entrada y devuelve un arreglo con las predicciones. En este caso, como el problema es binario (Iris Setosa vs No Iris Setosa), el resultado será un arreglo de 0 y 1\n",
        "\n",
        " Permite comparar las predicciones con las etiquetas reales (y) para evaluar el rendimiento del modelo"
      ],
      "metadata": {
        "id": "9xVEKdCUNMRB"
      }
    },
    {
      "cell_type": "markdown",
      "source": [
        "# Matriz de confusión"
      ],
      "metadata": {
        "id": "tss1U8-GNL8S"
      }
    },
    {
      "cell_type": "code",
      "source": [
        "cm = confusion_matrix(y, y_pred)\n",
        "disp = ConfusionMatrixDisplay(confusion_matrix=cm, display_labels=['No Iris Setosa', 'Iris Setosa'])\n",
        "disp.plot(cmap=plt.cm.Blues)\n",
        "plt.title(\"Matriz de Confusión\")\n",
        "plt.show()"
      ],
      "metadata": {
        "colab": {
          "base_uri": "https://localhost:8080/",
          "height": 472
        },
        "id": "8JWASQaYNOMW",
        "outputId": "e108803b-3235-4029-957a-343e09eedc18"
      },
      "execution_count": null,
      "outputs": [
        {
          "output_type": "display_data",
          "data": {
            "text/plain": [
              "<Figure size 640x480 with 2 Axes>"
            ],
            "image/png": "[encoded data removed]"
          },
          "metadata": {}
        }
      ]
    },
    {
      "cell_type": "markdown",
      "source": [
        "**cm = confusion_matrix(y, y_pred)**\n",
        "\n",
        "Calcula la matriz de confusion comparando las etiquetas reales y con las predicciones y_pred\n",
        "\n",
        "La matriz de confusión muestra el número de predicciones correctas e incorrectas para cada clase:\n",
        "\n",
        "- Verdaderos Positivos (VP): Predicciones correctas de Iris Setosa\n",
        "\n",
        "- Verdaderos Negativos (VN): Predicciones correctas de No Iris Setosa\n",
        "\n",
        "- Falsos Positivos (FP): Predicciones incorrectas donde se clasificó como Iris Setosa siendo otra especie\n",
        "\n",
        "- Falsos Negativos (FN): Predicciones incorrectas donde se clasificó como No Iris Setosa siendo Setosa\n",
        "\n",
        "**disp = ConfusionMatrixDisplay(confusion_matrix=cm, display_labels=['No Iris Setosa', 'Iris Setosa'])**\n",
        "\n",
        "Crea un objeto ConfusionMatrixDisplay para visualizar la matriz de confusión\n",
        "\n",
        "\n",
        "confusion_matrix=cm indica la matriz que se va a visualizar\n",
        "\n",
        "- display_labels=['No Iris Setosa', 'Iris Setosa'] define las etiquetas que aparecerán en el gráfico para cada clase\n",
        "\n",
        "- disp.plot(cmap=plt.cm.Blues)\n",
        "Dibuja la matriz de confusión usando una escala de colores azules (cmap=plt.cm.Blues)\n",
        "\n",
        "Los cuadros de la matriz se colorean en diferentes tonos de azul según la cantidad de predicciones en cada celda, lo que facilita identificar rápidamente dónde el modelo acierta o falla\n",
        "\n",
        "**plt.title(\"Matriz de Confusión\")**\n",
        "\n",
        "Añade un titulo al grafico para indicar que se esta mostrando la matriz de confusion\n",
        "\n",
        "**plt.show()**\n",
        "Mostrar grafico"
      ],
      "metadata": {
        "id": "bPVFOayANQ12"
      }
    },
    {
      "cell_type": "markdown",
      "source": [
        "# Metricas de rendimiento"
      ],
      "metadata": {
        "id": "sy2SQTXKNRSG"
      }
    },
    {
      "cell_type": "code",
      "source": [
        "accuracy = accuracy_score(y, y_pred)\n",
        "precision = precision_score(y, y_pred)\n",
        "recall = recall_score(y, y_pred)\n",
        "f1 = f1_score(y, y_pred)\n",
        "\n",
        "print(f'Accuracy: {accuracy:.2f}')\n",
        "print(f'Precision: {precision:.2f}')\n",
        "print(f'Recall: {recall:.2f}')\n",
        "print(f'F1 Score: {f1:.2f}')"
      ],
      "metadata": {
        "colab": {
          "base_uri": "https://localhost:8080/"
        },
        "id": "FjieK8WNNVyq",
        "outputId": "b028799b-7f22-48d2-e581-d987c7674b63"
      },
      "execution_count": null,
      "outputs": [
        {
          "output_type": "stream",
          "name": "stdout",
          "text": [
            "Accuracy: 1.00\n",
            "Precision: 1.00\n",
            "Recall: 1.00\n",
            "F1 Score: 1.00\n"
          ]
        }
      ]
    },
    {
      "cell_type": "markdown",
      "source": [
        "**accuracy = accuracy_score(y, y_pred)**\n",
        "\n",
        "Calcula la exactitud del modelo, que es la proporción de predicciones correctas sobre el total de predicciones\n",
        "\n",
        "**precision = precision_score(y, y_pred)**\n",
        "\n",
        "Calcula la precisión, que mide la proporción de predicciones positivas correctas entre todas las predicciones positivas\n",
        "\n",
        "**recall = recall_score(y, y_pred)**\n",
        "\n",
        "Calcula el recall o sensibilidad, que mide la proporción de verdaderos positivos correctamente identificados entre todos los casos positivos reales\n",
        "\n",
        "**f1 = f1_score(y, y_pred)**\n",
        "\n",
        "Calcula el F1 Score, que es la media armónica entre la precisión y el recall\n",
        "\n",
        "**print(f'Accuracy: {accuracy:.2f}')**\n",
        "\n",
        "Muestra la exactitud con dos decimales\n",
        "\n",
        "**print(f'Precision: {precision:.2f}')**\n",
        "\n",
        "Muestra la precisión con dos decimales\n",
        "\n",
        "**print(f'Recall: {recall:.2f}')**\n",
        "\n",
        "Muestra el recall con dos decimales\n",
        "\n",
        "**print(f'F1 Score: {f1:.2f}')**\n",
        "\n",
        "Muestra el F1 Score con dos decimales"
      ],
      "metadata": {
        "id": "pyhho-WJNYzY"
      }
    },
    {
      "cell_type": "markdown",
      "source": [
        "# Informe completo de clasificacion"
      ],
      "metadata": {
        "id": "ImUpx-qKNZJ4"
      }
    },
    {
      "cell_type": "code",
      "source": [
        "print(\"\\nInforme de Clasificación:\")\n",
        "print(classification_report(y, y_pred, target_names=['No Iris Setosa', 'Iris Setosa']))"
      ],
      "metadata": {
        "colab": {
          "base_uri": "https://localhost:8080/"
        },
        "id": "FoE9wdX2NcKE",
        "outputId": "21228eed-f95f-4aa4-cda2-8cb13d5e73eb"
      },
      "execution_count": null,
      "outputs": [
        {
          "output_type": "stream",
          "name": "stdout",
          "text": [
            "\n",
            "Informe de Clasificación:\n",
            "                precision    recall  f1-score   support\n",
            "\n",
            "No Iris Setosa       1.00      1.00      1.00       100\n",
            "   Iris Setosa       1.00      1.00      1.00        50\n",
            "\n",
            "      accuracy                           1.00       150\n",
            "     macro avg       1.00      1.00      1.00       150\n",
            "  weighted avg       1.00      1.00      1.00       150\n",
            "\n"
          ]
        }
      ]
    },
    {
      "cell_type": "markdown",
      "source": [
        "**print(\"\\nInforme de Clasificación:\")**\n",
        "\n",
        "Imprime un encabezado para el informe de clasificacion. El agrega una línea en blanco antes del texto para mayor claridad en la salida\n",
        "\n",
        "**print(classification_report(y, y_pred, target_names=['No Iris Setosa', 'Iris Setosa']))**\n",
        "\n",
        "Muestra un informe detallado de métricas de clasificación generado por classification_report\n",
        "\n",
        "Resume las principales métricas de evaluación para cada clase:\n",
        "\n",
        "- Precision: Proporción de predicciones positivas correctas\n",
        "\n",
        "- Recall: Proporción de verdaderos positivos correctamente identificados\n",
        "\n",
        "- F1-score: Media armónica entre precisión y recall\n",
        "\n",
        "- Support: Número de muestras reales de cada clase\n",
        "\n",
        "Parámetros:\n",
        "\n",
        "- y: Etiquetas verdaderas del conjunto de datos\n",
        "\n",
        "- y_pred: Predicciones realizadas por el modelo\n",
        "\n",
        "- target_names=['No Iris Setosa', 'Iris Setosa']: Etiquetas personalizadas para las clases en lugar de usar 0 y 1\n",
        "\n",
        "\n",
        "Proporciona una visión completa del rendimiento del modelo por clase, lo cual es útil para identificar si el modelo está funcionando mejor en una clase que en otra"
      ],
      "metadata": {
        "id": "GArfoMyiNelk"
      }
    },
    {
      "cell_type": "markdown",
      "source": [
        "# Exportar el modelo para produccion"
      ],
      "metadata": {
        "id": "RHWVRWCKNfBm"
      }
    },
    {
      "cell_type": "code",
      "source": [
        "model_filename = 'perceptron_model.pkl'\n",
        "joblib.dump({'model': model, 'scaler': scaler}, model_filename)\n",
        "print(f\"Modelo exportado a {model_filename}\")"
      ],
      "metadata": {
        "colab": {
          "base_uri": "https://localhost:8080/"
        },
        "id": "IHJPF_MiNhYm",
        "outputId": "63b8b40b-7f3e-4cfc-b116-316433833442"
      },
      "execution_count": null,
      "outputs": [
        {
          "output_type": "stream",
          "name": "stdout",
          "text": [
            "Modelo exportado a perceptron_model.pkl\n"
          ]
        }
      ]
    },
    {
      "cell_type": "markdown",
      "source": [
        "**model_filename = 'perceptron_model.pkl'**\n",
        "\n",
        "Define el nombre del archivo donde se guardará el modelo entrenado\n",
        "\n",
        ".pkl es la extensión común para archivos serializados en Python usando el formato pickle, que permite almacenar objetos de Python para su uso posterior\n",
        "\n",
        "**joblib.dump({'model': model, 'scaler': scaler}, model_filename)**\n",
        "\n",
        "Guarda el modelo y el escalador en un archivo utilizando joblib\n",
        "\n",
        "**Que hace?:**\n",
        "Serializa un diccionario que contiene el modelo (model) y el escalador (scaler) en el archivo 'perceptron_model.pkl'\n",
        "\n",
        "**Para que sirve?:**\n",
        "Permite reutilizar el modelo y el escalador más adelante sin necesidad de volver a entrenar ni normalizar desde cero\n",
        "\n",
        "**print(f\"Modelo exportado a {model_filename}\")**\n",
        "\n",
        "Imprime un mensaje confirmando que el modelo ha sido exportado exitosamente al archivo especificado (perceptron_model.pkl)"
      ],
      "metadata": {
        "id": "Q31BgebfNpNP"
      }
    },
    {
      "cell_type": "markdown",
      "source": [
        "# Codigo para cargar el modelo y utilizarlo en produccion"
      ],
      "metadata": {
        "id": "C0u2eiAqNpi4"
      }
    },
    {
      "cell_type": "code",
      "source": [
        "def load_model(model_path):\n",
        "    data = joblib.load(model_path)\n",
        "    return data"
      ],
      "metadata": {
        "id": "Ro_liV_9NsfD"
      },
      "execution_count": null,
      "outputs": []
    },
    {
      "cell_type": "markdown",
      "source": [
        "**def load_model(model_path):**\n",
        "\n",
        "Definimos una función llamada load_model que toma un parámetro model_path\n",
        "\n",
        "**Que hace?:**\n",
        "Esta función está diseñada para cargar un modelo previamente guardado desde el archivo especificado en model_path\n",
        "\n",
        "**Parámetros:**\n",
        "\n",
        "- model_path: Ruta del archivo donde se encuentra el modelo serializado. Puede ser un archivo .pkl o cualquier otro formato compatible con joblib\n",
        "\n",
        "**Para que sirve?:**\n",
        "\n",
        "Simplifica el proceso de recuperación del modelo guardado facilitando su reutilización sin necesidad de reescribir el código para cargarlo\n",
        "\n",
        "**data = joblib.load(model_path)**\n",
        "\n",
        "Utiliza joblib.load() para deserializar el archivo y cargar el contenido en la variable data\n",
        "\n",
        "**Que hace?:**\n",
        "\n",
        "Recupera el diccionario que contiene el modelo (model) y el escalador (scaler) desde el archivo guardado\n",
        "\n",
        "Nota:\n",
        "Si solo guardaste un objeto (como el modelo), data contendrá directamente el modelo en lugar de un diccionario\n",
        "\n",
        "**return data**\n",
        "Devuelve el contenido cargado que en este caso es un diccionario con el modelo y el escalador"
      ],
      "metadata": {
        "id": "1iECQqAuN39O"
      }
    },
    {
      "cell_type": "markdown",
      "source": [
        "# Ejemplo de uso en produccion\n",
        "\n",
        "Supongamos que en producción se reciben nuevos datos (con las características originales) y se desea predecir la clase"
      ],
      "metadata": {
        "id": "fqwYxb0oN4T5"
      }
    },
    {
      "cell_type": "markdown",
      "source": [
        "# Cargar el modelo exportado"
      ],
      "metadata": {
        "id": "eslRGVyRODdd"
      }
    },
    {
      "cell_type": "code",
      "source": [
        "loaded_data = load_model(model_filename)\n",
        "loaded_model = loaded_data['model']\n",
        "loaded_scaler = loaded_data['scaler']"
      ],
      "metadata": {
        "id": "R-XZB7NUOFJv"
      },
      "execution_count": null,
      "outputs": []
    },
    {
      "cell_type": "markdown",
      "source": [
        "**loaded_data = load_model(model_filename)**\n",
        "\n",
        "Llama a la función load_model pasando como argumento model_filename (que contiene 'perceptron_model.pkl')\n",
        "\n",
        "**Que hace?:**\n",
        "\n",
        "Carga el archivo que contiene el modelo y el escalador previamente guardados y los almacena en la variable loaded_data\n",
        "\n",
        "**Para que sirve?:**\n",
        "\n",
        "Recupera el modelo y el escalador para poder utilizarlos sin necesidad de reentrenar o reescalar los datos\n",
        "\n",
        "**loaded_model = loaded_data['model']**\n",
        "\n",
        "Extrae el modelo Perceptrón del diccionario loaded_data y lo asigna a la variable loaded_model\n",
        "\n",
        "**Para que sirve?:**\n",
        "\n",
        "Permite utilizar el modelo cargado para hacer predicciones, como si fuera el modelo original entrenado\n",
        "\n",
        "**loaded_scaler = loaded_data['scaler']**\n",
        "\n",
        "Extrae el escalador (StandardScaler) del diccionario loaded_data y lo asigna a la variable loaded_scaler\n",
        "\n",
        "**Para que sirve?:**\n",
        "Permite transformar nuevos datos de la misma manera que se transformaron los datos originales antes de hacer predicciones con el modelo cargado"
      ],
      "metadata": {
        "id": "psUGl30POMe_"
      }
    },
    {
      "cell_type": "markdown",
      "source": [
        "# Nuevos datos a clasificar (sin normalizar)"
      ],
      "metadata": {
        "id": "pc0uNxfrOMyB"
      }
    },
    {
      "cell_type": "code",
      "source": [
        "X_new = np.array([\n",
        "    [4.5, 1.5],  # Ejemplo que podría pertenecer a Iris Setosa\n",
        "    [3.0, 0.8]   # Ejemplo que probablemente no es Iris Setosa\n",
        "])"
      ],
      "metadata": {
        "id": "FTZgUfdvOPis"
      },
      "execution_count": null,
      "outputs": []
    },
    {
      "cell_type": "markdown",
      "source": [
        "**X_new = np.array([[4.5, 1.5], [3.0, 0.8]])**\n",
        "\n",
        "Crea un arreglo NumPy con dos nuevos ejemplos para realizar predicciones\n",
        "\n",
        "**Primer ejemplo [4.5, 1.5]:**\n",
        "\n",
        "Representa un caso que podría pertenecer a Iris Setosa, ya que tiene un pétalo relativamente corto y ancho moderado\n",
        "\n",
        "**Segundo ejemplo [3.0, 0.8]:**\n",
        "\n",
        "Representa un caso que probablemente no es Iris Setosa, debido al menor ancho y longitud del pétalo que podrían acercarse más a las otras especies (Versicolor o Virginica)\n",
        "\n",
        "Cada fila del arreglo corresponde a una flor, y las columnas representan:\n",
        "\n",
        "- Columna 0: Longitud del pétalo\n",
        "- Columna 1: Ancho del pétalo"
      ],
      "metadata": {
        "id": "zVezMw2uOSDf"
      }
    },
    {
      "cell_type": "markdown",
      "source": [
        "# Normalizamos los nuevos datos utilizando el mismo scaler"
      ],
      "metadata": {
        "id": "3PWckRx4OScg"
      }
    },
    {
      "cell_type": "code",
      "source": [
        "X_new_norm = loaded_scaler.transform(X_new)"
      ],
      "metadata": {
        "id": "kdOjdejcOVRE"
      },
      "execution_count": null,
      "outputs": []
    },
    {
      "cell_type": "markdown",
      "source": [
        "**X_new_norm = loaded_scaler.transform(X_new)**\n",
        "\n",
        "Aplica la normalización a los nuevos datos X_new usando el escalador loaded_scaler que fue guardado y cargado previamente\n",
        "\n",
        "\n",
        "**Que hace?:**\n",
        "\n",
        "Transforma las características (longitud y ancho del pétalo) para que tengan la misma escala que los datos de entrenamiento. Esto asegura que el modelo interprete los nuevos datos correctamente\n",
        "\n",
        "**Para que sirve?:**\n",
        "\n",
        "El modelo Perceptrón fue entrenado con datos normalizados. Si intentas predecir sin normalizar, los resultados podrían ser incorrectos porque el modelo espera que los datos tengan una media de 0 y una desviación estándar de 1\n"
      ],
      "metadata": {
        "id": "63mty41JOXe-"
      }
    },
    {
      "cell_type": "markdown",
      "source": [
        "# Se hace la prediccion"
      ],
      "metadata": {
        "id": "kKPVpsc1OX0-"
      }
    },
    {
      "cell_type": "code",
      "source": [
        "  y_new_pred = loaded_model.predict(X_new_norm)\n",
        "  print(\"Predicciones para nuevos datos:\", y_new_pred)"
      ],
      "metadata": {
        "colab": {
          "base_uri": "https://localhost:8080/"
        },
        "id": "CuOYfVy8Ockl",
        "outputId": "f4cbea9c-6c3e-48f3-bdd4-695f5061b89e"
      },
      "execution_count": null,
      "outputs": [
        {
          "output_type": "stream",
          "name": "stdout",
          "text": [
            "Predicciones para nuevos datos: [0 1]\n"
          ]
        }
      ]
    },
    {
      "cell_type": "markdown",
      "source": [
        "**y_new_pred = loaded_model.predict(X_new_norm)**\n",
        "\n",
        "Utiliza el modelo Perceptrón cargado (loaded_model) para predecir las clases de los nuevos datos normalizados (X_new_norm)\n",
        "\n",
        "**Que hace?:**\n",
        "\n",
        "Genera un arreglo con las predicciones para cada uno de los nuevos ejemplos:\n",
        "\n",
        "\n",
        "- 1 indica que el modelo clasifica el ejemplo como Iris Setosa\n",
        "- 0 indica que el modelo clasifica el ejemplo como No Iris Setosa\n",
        "\n",
        "**print(\"Predicciones para nuevos datos:\", y_new_pred)**\n",
        "\n",
        "Muestra las predicciones generadas por el modelo en la consola\n",
        "\n",
        "En este caso:\n",
        "- El primer ejemplo [4.5, 1.5] fue clasificado como Iris Setosa (1)\n",
        "- El segundo ejemplo [3.0, 0.8] fue clasificado como No Iris Setosa (0)"
      ],
      "metadata": {
        "id": "4-gJ2AoDOe-v"
      }
    }
  ]
}