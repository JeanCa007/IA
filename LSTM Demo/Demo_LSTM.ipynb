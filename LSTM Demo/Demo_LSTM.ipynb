{
  "nbformat": 4,
  "nbformat_minor": 0,
  "metadata": {
    "colab": {
      "name": "Demo LSTM.ipynb",
      "provenance": []
    },
    "kernelspec": {
      "name": "python3",
      "display_name": "Python 3"
    },
    "language_info": {
      "name": "python"
    }
  },
  "cells": [
    {
      "cell_type": "markdown",
      "source": [
        "# Ejemplo para predecir el valor del mercado del Bitcoin\n",
        "\n",
        "**Utilizando LSTM de una red recurrente**\n",
        "\n",
        "La idea es que la Red LSTM aprenda a predecir los valores del BTC en los proximos dias o meses.\n",
        "\n",
        "**Importar Librerias**"
      ],
      "metadata": {
        "id": "Dl8EuXGCz9LY"
      }
    },
    {
      "cell_type": "code",
      "source": [
        "import numpy as np\n",
        "import matplotlib.pyplot as plt\n",
        "import pandas as pd\n",
        "import keras\n",
        "from keras.models import Sequential\n",
        "from keras.layers import LSTM, Dense\n",
        "from datetime import datetime\n",
        "from sklearn.preprocessing import MinMaxScaler\n",
        "import warnings\n",
        "warnings.filterwarnings('ignore')\n",
        "import tensorflow as tf"
      ],
      "metadata": {
        "id": "yvzVToJR0Kaw"
      },
      "execution_count": 88,
      "outputs": []
    },
    {
      "cell_type": "markdown",
      "source": [
        "**Cargar Data**"
      ],
      "metadata": {
        "id": "z_RO54o-DX53"
      }
    },
    {
      "cell_type": "code",
      "source": [
        "dataset = pd.read_csv('historicoBTC.csv', index_col='Date', parse_dates=['Date'])\n",
        "dataset.head()"
      ],
      "metadata": {
        "colab": {
          "base_uri": "https://localhost:8080/",
          "height": 238
        },
        "id": "dZ8c1P8oDaZT",
        "outputId": "ddffdb63-c669-4e0c-9f0d-d4e6796911e0"
      },
      "execution_count": 21,
      "outputs": [
        {
          "output_type": "execute_result",
          "data": {
            "text/plain": [
              "               Price      Open      High       Low   Vol. Change %\n",
              "Date                                                              \n",
              "2022-07-31  23,294.0  23,639.0  24,211.0  23,233.0  3.15K   -1.46%\n",
              "2022-07-30  23,639.0  23,764.0  24,641.0  23,520.0  4.30K   -0.53%\n",
              "2022-07-29  23,764.0  23,851.6  24,426.0  23,456.0  5.03K   -0.37%\n",
              "2022-07-28  23,851.6  22,951.0  24,172.0  22,601.0  6.63K    3.92%\n",
              "2022-07-27  22,951.0  21,271.0  23,098.0  21,056.0  7.47K    7.90%"
            ],
            "text/html": [
              "\n",
              "  <div id=\"df-2cd797dd-b4b3-4fb3-b303-201ee5965aee\">\n",
              "    <div class=\"colab-df-container\">\n",
              "      <div>\n",
              "<style scoped>\n",
              "    .dataframe tbody tr th:only-of-type {\n",
              "        vertical-align: middle;\n",
              "    }\n",
              "\n",
              "    .dataframe tbody tr th {\n",
              "        vertical-align: top;\n",
              "    }\n",
              "\n",
              "    .dataframe thead th {\n",
              "        text-align: right;\n",
              "    }\n",
              "</style>\n",
              "<table border=\"1\" class=\"dataframe\">\n",
              "  <thead>\n",
              "    <tr style=\"text-align: right;\">\n",
              "      <th></th>\n",
              "      <th>Price</th>\n",
              "      <th>Open</th>\n",
              "      <th>High</th>\n",
              "      <th>Low</th>\n",
              "      <th>Vol.</th>\n",
              "      <th>Change %</th>\n",
              "    </tr>\n",
              "    <tr>\n",
              "      <th>Date</th>\n",
              "      <th></th>\n",
              "      <th></th>\n",
              "      <th></th>\n",
              "      <th></th>\n",
              "      <th></th>\n",
              "      <th></th>\n",
              "    </tr>\n",
              "  </thead>\n",
              "  <tbody>\n",
              "    <tr>\n",
              "      <th>2022-07-31</th>\n",
              "      <td>23,294.0</td>\n",
              "      <td>23,639.0</td>\n",
              "      <td>24,211.0</td>\n",
              "      <td>23,233.0</td>\n",
              "      <td>3.15K</td>\n",
              "      <td>-1.46%</td>\n",
              "    </tr>\n",
              "    <tr>\n",
              "      <th>2022-07-30</th>\n",
              "      <td>23,639.0</td>\n",
              "      <td>23,764.0</td>\n",
              "      <td>24,641.0</td>\n",
              "      <td>23,520.0</td>\n",
              "      <td>4.30K</td>\n",
              "      <td>-0.53%</td>\n",
              "    </tr>\n",
              "    <tr>\n",
              "      <th>2022-07-29</th>\n",
              "      <td>23,764.0</td>\n",
              "      <td>23,851.6</td>\n",
              "      <td>24,426.0</td>\n",
              "      <td>23,456.0</td>\n",
              "      <td>5.03K</td>\n",
              "      <td>-0.37%</td>\n",
              "    </tr>\n",
              "    <tr>\n",
              "      <th>2022-07-28</th>\n",
              "      <td>23,851.6</td>\n",
              "      <td>22,951.0</td>\n",
              "      <td>24,172.0</td>\n",
              "      <td>22,601.0</td>\n",
              "      <td>6.63K</td>\n",
              "      <td>3.92%</td>\n",
              "    </tr>\n",
              "    <tr>\n",
              "      <th>2022-07-27</th>\n",
              "      <td>22,951.0</td>\n",
              "      <td>21,271.0</td>\n",
              "      <td>23,098.0</td>\n",
              "      <td>21,056.0</td>\n",
              "      <td>7.47K</td>\n",
              "      <td>7.90%</td>\n",
              "    </tr>\n",
              "  </tbody>\n",
              "</table>\n",
              "</div>\n",
              "      <button class=\"colab-df-convert\" onclick=\"convertToInteractive('df-2cd797dd-b4b3-4fb3-b303-201ee5965aee')\"\n",
              "              title=\"Convert this dataframe to an interactive table.\"\n",
              "              style=\"display:none;\">\n",
              "        \n",
              "  <svg xmlns=\"http://www.w3.org/2000/svg\" height=\"24px\"viewBox=\"0 0 24 24\"\n",
              "       width=\"24px\">\n",
              "    <path d=\"M0 0h24v24H0V0z\" fill=\"none\"/>\n",
              "    <path d=\"M18.56 5.44l.94 2.06.94-2.06 2.06-.94-2.06-.94-.94-2.06-.94 2.06-2.06.94zm-11 1L8.5 8.5l.94-2.06 2.06-.94-2.06-.94L8.5 2.5l-.94 2.06-2.06.94zm10 10l.94 2.06.94-2.06 2.06-.94-2.06-.94-.94-2.06-.94 2.06-2.06.94z\"/><path d=\"M17.41 7.96l-1.37-1.37c-.4-.4-.92-.59-1.43-.59-.52 0-1.04.2-1.43.59L10.3 9.45l-7.72 7.72c-.78.78-.78 2.05 0 2.83L4 21.41c.39.39.9.59 1.41.59.51 0 1.02-.2 1.41-.59l7.78-7.78 2.81-2.81c.8-.78.8-2.07 0-2.86zM5.41 20L4 18.59l7.72-7.72 1.47 1.35L5.41 20z\"/>\n",
              "  </svg>\n",
              "      </button>\n",
              "      \n",
              "  <style>\n",
              "    .colab-df-container {\n",
              "      display:flex;\n",
              "      flex-wrap:wrap;\n",
              "      gap: 12px;\n",
              "    }\n",
              "\n",
              "    .colab-df-convert {\n",
              "      background-color: #E8F0FE;\n",
              "      border: none;\n",
              "      border-radius: 50%;\n",
              "      cursor: pointer;\n",
              "      display: none;\n",
              "      fill: #1967D2;\n",
              "      height: 32px;\n",
              "      padding: 0 0 0 0;\n",
              "      width: 32px;\n",
              "    }\n",
              "\n",
              "    .colab-df-convert:hover {\n",
              "      background-color: #E2EBFA;\n",
              "      box-shadow: 0px 1px 2px rgba(60, 64, 67, 0.3), 0px 1px 3px 1px rgba(60, 64, 67, 0.15);\n",
              "      fill: #174EA6;\n",
              "    }\n",
              "\n",
              "    [theme=dark] .colab-df-convert {\n",
              "      background-color: #3B4455;\n",
              "      fill: #D2E3FC;\n",
              "    }\n",
              "\n",
              "    [theme=dark] .colab-df-convert:hover {\n",
              "      background-color: #434B5C;\n",
              "      box-shadow: 0px 1px 3px 1px rgba(0, 0, 0, 0.15);\n",
              "      filter: drop-shadow(0px 1px 2px rgba(0, 0, 0, 0.3));\n",
              "      fill: #FFFFFF;\n",
              "    }\n",
              "  </style>\n",
              "\n",
              "      <script>\n",
              "        const buttonEl =\n",
              "          document.querySelector('#df-2cd797dd-b4b3-4fb3-b303-201ee5965aee button.colab-df-convert');\n",
              "        buttonEl.style.display =\n",
              "          google.colab.kernel.accessAllowed ? 'block' : 'none';\n",
              "\n",
              "        async function convertToInteractive(key) {\n",
              "          const element = document.querySelector('#df-2cd797dd-b4b3-4fb3-b303-201ee5965aee');\n",
              "          const dataTable =\n",
              "            await google.colab.kernel.invokeFunction('convertToInteractive',\n",
              "                                                     [key], {});\n",
              "          if (!dataTable) return;\n",
              "\n",
              "          const docLinkHtml = 'Like what you see? Visit the ' +\n",
              "            '<a target=\"_blank\" href=https://colab.research.google.com/notebooks/data_table.ipynb>data table notebook</a>'\n",
              "            + ' to learn more about interactive tables.';\n",
              "          element.innerHTML = '';\n",
              "          dataTable['output_type'] = 'display_data';\n",
              "          await google.colab.output.renderOutput(dataTable, element);\n",
              "          const docLink = document.createElement('div');\n",
              "          docLink.innerHTML = docLinkHtml;\n",
              "          element.appendChild(docLink);\n",
              "        }\n",
              "      </script>\n",
              "    </div>\n",
              "  </div>\n",
              "  "
            ]
          },
          "metadata": {},
          "execution_count": 21
        }
      ]
    },
    {
      "cell_type": "markdown",
      "source": [
        "Grafico del valor del BTC hasta Julio del 2022"
      ],
      "metadata": {
        "id": "6HSSKRp8MHpm"
      }
    },
    {
      "cell_type": "markdown",
      "source": [
        "**Pre procesamiento de los Datos**\n",
        "\n",
        "Vamos a  crear los datos de entrenamiento y los datos de validacion\n",
        "Para los datos de entramiento voy a usar los datos de Enero a Myo y para los de validacion los datos de Junio y Julio\n",
        "\n"
      ],
      "metadata": {
        "id": "eJIJDtB3DmpS"
      }
    },
    {
      "cell_type": "code",
      "source": [
        "dataset = pd.DataFrame(dataset)\n",
        "\n",
        "dataset['Price'] =[float(str(i).replace(\",\", \"\")) for i in dataset['Price'] ]\n",
        "\n",
        "set_entrenamiento= dataset.loc['2022-01-01':'2022-04-30'].iloc[:,0:1]\n",
        "set_validacion = dataset.loc['2022-05-01':'2022-07-31'].iloc[:,0:1]\n",
        "\n",
        "set_entrenamiento['Price'].plot(legend=True)\n",
        "set_validacion['Price'].plot(legend=True)\n",
        "plt.legend(['Entrenamiento (Enero-Mayo)', 'Validación (Junio-Julio)'])\n",
        "plt.show()"
      ],
      "metadata": {
        "colab": {
          "base_uri": "https://localhost:8080/",
          "height": 291
        },
        "id": "rQ7BgaekEDqm",
        "outputId": "fcd27521-d128-4eab-db70-6d251551ff7c"
      },
      "execution_count": 120,
      "outputs": [
        {
          "output_type": "display_data",
          "data": {
            "text/plain": [
              "<Figure size 432x288 with 1 Axes>"
            ],
            "image/png": "[encoded data removed]"
          },
          "metadata": {
            "needs_background": "light"
          }
        }
      ]
    },
    {
      "cell_type": "markdown",
      "source": [
        "**Normalizamos los datos**\n",
        "\n",
        "Para que la Red LSTM pueda ser entrenada que los valores de la acción se encuentran en un rango definido. Así que vamos a normalizar estos valores en el rango de 0 a 1, usando la función MinMaxScaler"
      ],
      "metadata": {
        "id": "OghkuWcBLKKU"
      }
    },
    {
      "cell_type": "code",
      "source": [
        "sc = MinMaxScaler(feature_range=(0,1))\n",
        "set_entrenamiento_escalado = sc.fit_transform(set_entrenamiento)"
      ],
      "metadata": {
        "id": "pdynsW9-LxNN"
      },
      "execution_count": 121,
      "outputs": []
    },
    {
      "cell_type": "markdown",
      "source": [
        "Para entrenar la Red LSTM tomaremos bloques de 20 datos consecutivos, y la idea es que cada uno de estos permita predecir el siguiente valor\n",
        "\n",
        "Los bloques de 20 datos serán almacenados en la variable X, mientras que el dato que se debe predecir (el dato 61 dentro de cada secuencia) se almacenará en la variable Y y será usado como la salida de la Red LSTM"
      ],
      "metadata": {
        "id": "qds2mbf6Uv1c"
      }
    },
    {
      "cell_type": "code",
      "source": [
        "time_step = 20\n",
        "X_train = []\n",
        "Y_train = []\n",
        "m = len(set_entrenamiento_escalado)\n",
        "\n",
        "for i in range(time_step,m):\n",
        "    # X: bloques de \"time_step\" datos\n",
        "    X_train.append(set_entrenamiento_escalado[i-time_step:i,0])\n",
        "\n",
        "    # Y: el siguiente dato\n",
        "    Y_train.append(set_entrenamiento_escalado[i,0])\n",
        "X_train, Y_train = np.array(X_train), np.array(Y_train)"
      ],
      "metadata": {
        "id": "N46hHc3RVAhJ"
      },
      "execution_count": 122,
      "outputs": []
    },
    {
      "cell_type": "markdown",
      "source": [
        "Este codigo permite dividir el set de entrenamiento en bloques de 20 datos y almacenar los bloques correspondientes en diferentes posiciones de las variables X_train y Y_train.\n",
        "\n",
        "Antes de crear la Red LSTM debemos reajustar los sets que acabamos de obtener, para indicar que cada ejemplo de entrenamiento a la entrada del modelo será un vector de 20x1. Para eso se usa la función reshape de Numpy"
      ],
      "metadata": {
        "id": "bLw0soHsVOvR"
      }
    },
    {
      "cell_type": "code",
      "source": [
        "X_train = np.reshape(X_train, (X_train.shape[0], X_train.shape[1], 1))"
      ],
      "metadata": {
        "id": "3OA18BwYVecw"
      },
      "execution_count": 123,
      "outputs": []
    },
    {
      "cell_type": "markdown",
      "source": [
        "**Creo el Modelo**\n",
        "\n",
        "Para crear la red debemos primero definir el tamaño de los datos de entrada y del dato de salida, así como el número total de neuronas (50)\n",
        "\n",
        "HiperParametos"
      ],
      "metadata": {
        "id": "Epx7pO1gVhrP"
      }
    },
    {
      "cell_type": "code",
      "source": [
        "dim_entrada = (X_train.shape[1],1)\n",
        "dim_salida = 1\n",
        "neuronas = 50"
      ],
      "metadata": {
        "id": "fe-Gz823Vkvj"
      },
      "execution_count": 124,
      "outputs": []
    },
    {
      "cell_type": "markdown",
      "source": [
        "**Definir el modelo**"
      ],
      "metadata": {
        "id": "vCmvKnb0V8FI"
      }
    },
    {
      "cell_type": "code",
      "source": [
        "modelo = Sequential()\n",
        "modelo.add(LSTM(units=neuronas, input_shape=dim_entrada))\n",
        "modelo.add(Dense(units=dim_salida))"
      ],
      "metadata": {
        "id": "yusrgP_7V569"
      },
      "execution_count": 125,
      "outputs": []
    },
    {
      "cell_type": "markdown",
      "source": [
        "Se crea la Red LSTM usando el módulo Sequential\n",
        "Luego se añade a la Red LSTM usando la función add, especificando el número de neuronas a usar (parámetro units) y el tamaño de cada dato de entrada (parámetro input_shape)\n",
        "\n",
        "Para la capa de salida usamos la función Dense y especificamos que el dato de salida tendrá un tamaño igual a 1 (parámetro units)\n",
        "\n",
        "**Compilamos**"
      ],
      "metadata": {
        "id": "vJyh06LOWLl6"
      }
    },
    {
      "cell_type": "code",
      "source": [
        "modelo.compile(optimizer='sgd', loss='mse')"
      ],
      "metadata": {
        "id": "oxkOvHs_Woux"
      },
      "execution_count": 126,
      "outputs": []
    },
    {
      "cell_type": "markdown",
      "source": [
        "Ahora se compila el modelo, definiendo así la función de error (parámetro loss) así como el método que se usará para minimizarla (parámetro optimizer)\n",
        "\n",
        "El optimizador seleccionado (rmsprop) funciona de manera similar al algoritmo del Gradiente Descendente, mientras que la función de error es el error cuadrático medio\n",
        "\n",
        "**Entreno el Modelo**\n",
        "\n",
        " En este caso usaremos un total de 20 iteraciones (parámetro epochs) y presentaremos a la Red LSTM lotes de 32 datos (parámetro batch_size).\n"
      ],
      "metadata": {
        "id": "Zh8N-61zWrZV"
      }
    },
    {
      "cell_type": "code",
      "source": [
        "modelo.fit(X_train,Y_train,epochs=50,batch_size=32)"
      ],
      "metadata": {
        "colab": {
          "base_uri": "https://localhost:8080/"
        },
        "id": "Vd7g2VJCXGdt",
        "outputId": "20fa59eb-abc4-4e3c-89f3-e3c8161af4fc"
      },
      "execution_count": 127,
      "outputs": [
        {
          "output_type": "stream",
          "name": "stdout",
          "text": [
            "Epoch 1/50\n",
            "4/4 [==============================] - 2s 11ms/step - loss: 0.2072\n",
            "Epoch 2/50\n",
            "4/4 [==============================] - 0s 12ms/step - loss: 0.1133\n",
            "Epoch 3/50\n",
            "4/4 [==============================] - 0s 12ms/step - loss: 0.0749\n",
            "Epoch 4/50\n",
            "4/4 [==============================] - 0s 12ms/step - loss: 0.0601\n",
            "Epoch 5/50\n",
            "4/4 [==============================] - 0s 14ms/step - loss: 0.0523\n",
            "Epoch 6/50\n",
            "4/4 [==============================] - 0s 13ms/step - loss: 0.0494\n",
            "Epoch 7/50\n",
            "4/4 [==============================] - 0s 12ms/step - loss: 0.0478\n",
            "Epoch 8/50\n",
            "4/4 [==============================] - 0s 12ms/step - loss: 0.0468\n",
            "Epoch 9/50\n",
            "4/4 [==============================] - 0s 12ms/step - loss: 0.0470\n",
            "Epoch 10/50\n",
            "4/4 [==============================] - 0s 11ms/step - loss: 0.0460\n",
            "Epoch 11/50\n",
            "4/4 [==============================] - 0s 12ms/step - loss: 0.0458\n",
            "Epoch 12/50\n",
            "4/4 [==============================] - 0s 12ms/step - loss: 0.0464\n",
            "Epoch 13/50\n",
            "4/4 [==============================] - 0s 15ms/step - loss: 0.0463\n",
            "Epoch 14/50\n",
            "4/4 [==============================] - 0s 13ms/step - loss: 0.0454\n",
            "Epoch 15/50\n",
            "4/4 [==============================] - 0s 15ms/step - loss: 0.0459\n",
            "Epoch 16/50\n",
            "4/4 [==============================] - 0s 13ms/step - loss: 0.0452\n",
            "Epoch 17/50\n",
            "4/4 [==============================] - 0s 12ms/step - loss: 0.0452\n",
            "Epoch 18/50\n",
            "4/4 [==============================] - 0s 13ms/step - loss: 0.0447\n",
            "Epoch 19/50\n",
            "4/4 [==============================] - 0s 13ms/step - loss: 0.0447\n",
            "Epoch 20/50\n",
            "4/4 [==============================] - 0s 11ms/step - loss: 0.0445\n",
            "Epoch 21/50\n",
            "4/4 [==============================] - 0s 11ms/step - loss: 0.0445\n",
            "Epoch 22/50\n",
            "4/4 [==============================] - 0s 12ms/step - loss: 0.0446\n",
            "Epoch 23/50\n",
            "4/4 [==============================] - 0s 13ms/step - loss: 0.0443\n",
            "Epoch 24/50\n",
            "4/4 [==============================] - 0s 13ms/step - loss: 0.0441\n",
            "Epoch 25/50\n",
            "4/4 [==============================] - 0s 11ms/step - loss: 0.0437\n",
            "Epoch 26/50\n",
            "4/4 [==============================] - 0s 14ms/step - loss: 0.0434\n",
            "Epoch 27/50\n",
            "4/4 [==============================] - 0s 13ms/step - loss: 0.0433\n",
            "Epoch 28/50\n",
            "4/4 [==============================] - 0s 12ms/step - loss: 0.0433\n",
            "Epoch 29/50\n",
            "4/4 [==============================] - 0s 13ms/step - loss: 0.0441\n",
            "Epoch 30/50\n",
            "4/4 [==============================] - 0s 14ms/step - loss: 0.0433\n",
            "Epoch 31/50\n",
            "4/4 [==============================] - 0s 11ms/step - loss: 0.0437\n",
            "Epoch 32/50\n",
            "4/4 [==============================] - 0s 11ms/step - loss: 0.0442\n",
            "Epoch 33/50\n",
            "4/4 [==============================] - 0s 12ms/step - loss: 0.0437\n",
            "Epoch 34/50\n",
            "4/4 [==============================] - 0s 11ms/step - loss: 0.0425\n",
            "Epoch 35/50\n",
            "4/4 [==============================] - 0s 10ms/step - loss: 0.0421\n",
            "Epoch 36/50\n",
            "4/4 [==============================] - 0s 12ms/step - loss: 0.0421\n",
            "Epoch 37/50\n",
            "4/4 [==============================] - 0s 12ms/step - loss: 0.0422\n",
            "Epoch 38/50\n",
            "4/4 [==============================] - 0s 10ms/step - loss: 0.0417\n",
            "Epoch 39/50\n",
            "4/4 [==============================] - 0s 10ms/step - loss: 0.0415\n",
            "Epoch 40/50\n",
            "4/4 [==============================] - 0s 10ms/step - loss: 0.0417\n",
            "Epoch 41/50\n",
            "4/4 [==============================] - 0s 10ms/step - loss: 0.0418\n",
            "Epoch 42/50\n",
            "4/4 [==============================] - 0s 10ms/step - loss: 0.0411\n",
            "Epoch 43/50\n",
            "4/4 [==============================] - 0s 11ms/step - loss: 0.0411\n",
            "Epoch 44/50\n",
            "4/4 [==============================] - 0s 11ms/step - loss: 0.0412\n",
            "Epoch 45/50\n",
            "4/4 [==============================] - 0s 10ms/step - loss: 0.0412\n",
            "Epoch 46/50\n",
            "4/4 [==============================] - 0s 11ms/step - loss: 0.0411\n",
            "Epoch 47/50\n",
            "4/4 [==============================] - 0s 10ms/step - loss: 0.0404\n",
            "Epoch 48/50\n",
            "4/4 [==============================] - 0s 12ms/step - loss: 0.0404\n",
            "Epoch 49/50\n",
            "4/4 [==============================] - 0s 10ms/step - loss: 0.0402\n",
            "Epoch 50/50\n",
            "4/4 [==============================] - 0s 13ms/step - loss: 0.0403\n"
          ]
        },
        {
          "output_type": "execute_result",
          "data": {
            "text/plain": [
              "<keras.callbacks.History at 0x7efe0f1fb310>"
            ]
          },
          "metadata": {},
          "execution_count": 127
        }
      ]
    },
    {
      "cell_type": "markdown",
      "source": [
        "**Evaluamos el modelo (Predicciones)**\n",
        "\n",
        "Debemos preparar el set de validación, normalizando inicialmente los datos, en el rango de 0 a 1.\n",
        "\n",
        "Este modelo fue entrenado para tomar 20 y generar un dato como predicción. Así que debemos reorganizar el set de validación (x_test) para que tenga bloques de 20 datos"
      ],
      "metadata": {
        "id": "rE5-D80SXahE"
      }
    },
    {
      "cell_type": "code",
      "source": [
        "x_test = set_validacion.values\n",
        "x_test = sc.transform(x_test)\n",
        "\n",
        "X_test = []\n",
        "for i in range(time_step,len(x_test)):\n",
        "    X_test.append(x_test[i-time_step:i,0])\n",
        "X_test = np.array(X_test)\n",
        "X_test = np.reshape(X_test, (X_test.shape[0],X_test.shape[1],1))"
      ],
      "metadata": {
        "id": "CUWhsSw2XkpI"
      },
      "execution_count": 128,
      "outputs": []
    },
    {
      "cell_type": "markdown",
      "source": [
        "**Predicciones**\n"
      ],
      "metadata": {
        "id": "bQ5kB4rBYG1G"
      }
    },
    {
      "cell_type": "code",
      "source": [
        "prediccion = modelo.predict(X_test)\n",
        "prediccion = sc.inverse_transform(prediccion)"
      ],
      "metadata": {
        "id": "CESy08nyYO09"
      },
      "execution_count": 134,
      "outputs": []
    },
    {
      "cell_type": "markdown",
      "source": [
        "**Graficamos**\n"
      ],
      "metadata": {
        "id": "CDQlOqBVYW8m"
      }
    },
    {
      "cell_type": "code",
      "source": [
        "plt.plot(set_validacion.values[0:len(prediccion)],color='red', label='Valor real del BTC')\n",
        "plt.plot(prediccion, color='blue', label='Predicción del BTC')\n",
        "plt.ylim(1.1 * np.min(prediccion)/2, 1.1 * np.max(prediccion))\n",
        "plt.xlabel('Fechas')\n",
        "plt.ylabel('Valor del BTC')\n",
        "plt.legend()\n",
        "plt.show()"
      ],
      "metadata": {
        "colab": {
          "base_uri": "https://localhost:8080/",
          "height": 279
        },
        "id": "MT1WBS1JYZKO",
        "outputId": "e82651b1-c538-4323-b70d-1ecb33ba04cf"
      },
      "execution_count": 130,
      "outputs": [
        {
          "output_type": "display_data",
          "data": {
            "text/plain": [
              "<Figure size 432x288 with 1 Axes>"
            ],
            "image/png": "[encoded data removed]"
          },
          "metadata": {
            "needs_background": "light"
          }
        }
      ]
    }
  ]
}