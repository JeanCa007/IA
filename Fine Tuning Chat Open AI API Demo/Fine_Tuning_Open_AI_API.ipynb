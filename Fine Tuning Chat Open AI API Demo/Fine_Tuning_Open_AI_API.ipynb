{
  "nbformat": 4,
  "nbformat_minor": 0,
  "metadata": {
    "colab": {
      "provenance": []
    },
    "kernelspec": {
      "name": "python3",
      "display_name": "Python 3"
    },
    "language_info": {
      "name": "python"
    },
    "widgets": {
      "application/vnd.jupyter.widget-state+json": {
        "f783cd7510034c15a971c94092c8c739": {
          "model_module": "@jupyter-widgets/controls",
          "model_name": "TextareaModel",
          "model_module_version": "1.5.0",
          "state": {
            "_dom_classes": [],
            "_model_module": "@jupyter-widgets/controls",
            "_model_module_version": "1.5.0",
            "_model_name": "TextareaModel",
            "_view_count": null,
            "_view_module": "@jupyter-widgets/controls",
            "_view_module_version": "1.5.0",
            "_view_name": "TextareaView",
            "continuous_update": true,
            "description": "Prompt:",
            "description_tooltip": null,
            "disabled": false,
            "layout": "IPY_MODEL_8634457585a648f28722aeaf023d7506",
            "placeholder": "Escribe tu pregunta aquí...",
            "rows": null,
            "style": "IPY_MODEL_fb3a9be9fdb649f29823c47ea5f6d957",
            "value": ""
          }
        },
        "8634457585a648f28722aeaf023d7506": {
          "model_module": "@jupyter-widgets/base",
          "model_name": "LayoutModel",
          "model_module_version": "1.2.0",
          "state": {
            "_model_module": "@jupyter-widgets/base",
            "_model_module_version": "1.2.0",
            "_model_name": "LayoutModel",
            "_view_count": null,
            "_view_module": "@jupyter-widgets/base",
            "_view_module_version": "1.2.0",
            "_view_name": "LayoutView",
            "align_content": null,
            "align_items": null,
            "align_self": null,
            "border": null,
            "bottom": null,
            "display": null,
            "flex": null,
            "flex_flow": null,
            "grid_area": null,
            "grid_auto_columns": null,
            "grid_auto_flow": null,
            "grid_auto_rows": null,
            "grid_column": null,
            "grid_gap": null,
            "grid_row": null,
            "grid_template_areas": null,
            "grid_template_columns": null,
            "grid_template_rows": null,
            "height": "100px",
            "justify_content": null,
            "justify_items": null,
            "left": null,
            "margin": null,
            "max_height": null,
            "max_width": null,
            "min_height": null,
            "min_width": null,
            "object_fit": null,
            "object_position": null,
            "order": null,
            "overflow": null,
            "overflow_x": null,
            "overflow_y": null,
            "padding": null,
            "right": null,
            "top": null,
            "visibility": null,
            "width": "90%"
          }
        },
        "fb3a9be9fdb649f29823c47ea5f6d957": {
          "model_module": "@jupyter-widgets/controls",
          "model_name": "DescriptionStyleModel",
          "model_module_version": "1.5.0",
          "state": {
            "_model_module": "@jupyter-widgets/controls",
            "_model_module_version": "1.5.0",
            "_model_name": "DescriptionStyleModel",
            "_view_count": null,
            "_view_module": "@jupyter-widgets/base",
            "_view_module_version": "1.2.0",
            "_view_name": "StyleView",
            "description_width": ""
          }
        },
        "aca8de6b80174e4ba701fce55fe68fe4": {
          "model_module": "@jupyter-widgets/controls",
          "model_name": "ButtonModel",
          "model_module_version": "1.5.0",
          "state": {
            "_dom_classes": [],
            "_model_module": "@jupyter-widgets/controls",
            "_model_module_version": "1.5.0",
            "_model_name": "ButtonModel",
            "_view_count": null,
            "_view_module": "@jupyter-widgets/controls",
            "_view_module_version": "1.5.0",
            "_view_name": "ButtonView",
            "button_style": "primary",
            "description": "Generar Respuesta",
            "disabled": false,
            "icon": "",
            "layout": "IPY_MODEL_43af31e3be824f1a9fa8b5f498271939",
            "style": "IPY_MODEL_9b66f273febd4b4992bc8301e4b63b4a",
            "tooltip": ""
          }
        },
        "43af31e3be824f1a9fa8b5f498271939": {
          "model_module": "@jupyter-widgets/base",
          "model_name": "LayoutModel",
          "model_module_version": "1.2.0",
          "state": {
            "_model_module": "@jupyter-widgets/base",
            "_model_module_version": "1.2.0",
            "_model_name": "LayoutModel",
            "_view_count": null,
            "_view_module": "@jupyter-widgets/base",
            "_view_module_version": "1.2.0",
            "_view_name": "LayoutView",
            "align_content": null,
            "align_items": null,
            "align_self": null,
            "border": null,
            "bottom": null,
            "display": null,
            "flex": null,
            "flex_flow": null,
            "grid_area": null,
            "grid_auto_columns": null,
            "grid_auto_flow": null,
            "grid_auto_rows": null,
            "grid_column": null,
            "grid_gap": null,
            "grid_row": null,
            "grid_template_areas": null,
            "grid_template_columns": null,
            "grid_template_rows": null,
            "height": null,
            "justify_content": null,
            "justify_items": null,
            "left": null,
            "margin": null,
            "max_height": null,
            "max_width": null,
            "min_height": null,
            "min_width": null,
            "object_fit": null,
            "object_position": null,
            "order": null,
            "overflow": null,
            "overflow_x": null,
            "overflow_y": null,
            "padding": null,
            "right": null,
            "top": null,
            "visibility": null,
            "width": null
          }
        },
        "9b66f273febd4b4992bc8301e4b63b4a": {
          "model_module": "@jupyter-widgets/controls",
          "model_name": "ButtonStyleModel",
          "model_module_version": "1.5.0",
          "state": {
            "_model_module": "@jupyter-widgets/controls",
            "_model_module_version": "1.5.0",
            "_model_name": "ButtonStyleModel",
            "_view_count": null,
            "_view_module": "@jupyter-widgets/base",
            "_view_module_version": "1.2.0",
            "_view_name": "StyleView",
            "button_color": null,
            "font_weight": ""
          }
        },
        "fd147ded8a8d4d0faa251c38e78fa2b8": {
          "model_module": "@jupyter-widgets/output",
          "model_name": "OutputModel",
          "model_module_version": "1.0.0",
          "state": {
            "_dom_classes": [],
            "_model_module": "@jupyter-widgets/output",
            "_model_module_version": "1.0.0",
            "_model_name": "OutputModel",
            "_view_count": null,
            "_view_module": "@jupyter-widgets/output",
            "_view_module_version": "1.0.0",
            "_view_name": "OutputView",
            "layout": "IPY_MODEL_97b769c1038a48438082d2f5e0f5b61f",
            "msg_id": "",
            "outputs": []
          }
        },
        "97b769c1038a48438082d2f5e0f5b61f": {
          "model_module": "@jupyter-widgets/base",
          "model_name": "LayoutModel",
          "model_module_version": "1.2.0",
          "state": {
            "_model_module": "@jupyter-widgets/base",
            "_model_module_version": "1.2.0",
            "_model_name": "LayoutModel",
            "_view_count": null,
            "_view_module": "@jupyter-widgets/base",
            "_view_module_version": "1.2.0",
            "_view_name": "LayoutView",
            "align_content": null,
            "align_items": null,
            "align_self": null,
            "border": null,
            "bottom": null,
            "display": null,
            "flex": null,
            "flex_flow": null,
            "grid_area": null,
            "grid_auto_columns": null,
            "grid_auto_flow": null,
            "grid_auto_rows": null,
            "grid_column": null,
            "grid_gap": null,
            "grid_row": null,
            "grid_template_areas": null,
            "grid_template_columns": null,
            "grid_template_rows": null,
            "height": null,
            "justify_content": null,
            "justify_items": null,
            "left": null,
            "margin": null,
            "max_height": null,
            "max_width": null,
            "min_height": null,
            "min_width": null,
            "object_fit": null,
            "object_position": null,
            "order": null,
            "overflow": null,
            "overflow_x": null,
            "overflow_y": null,
            "padding": null,
            "right": null,
            "top": null,
            "visibility": null,
            "width": null
          }
        }
      }
    }
  },
  "cells": [
    {
      "cell_type": "markdown",
      "source": [
        "# Creación de un Chatbot Básico usando **Fine-Tuning** de OpenAI en Google Colab"
      ],
      "metadata": {
        "id": "HtaD6E93nhiV"
      }
    },
    {
      "cell_type": "markdown",
      "source": [
        "## Configuración del Entorno"
      ],
      "metadata": {
        "id": "q01LZjQ3nvy9"
      }
    },
    {
      "cell_type": "code",
      "execution_count": 1,
      "metadata": {
        "colab": {
          "base_uri": "https://localhost:8080/"
        },
        "id": "OL2q4eiJngq3",
        "outputId": "1c04bcb8-46de-4caf-d882-dac8a6a4926a"
      },
      "outputs": [
        {
          "output_type": "stream",
          "name": "stdout",
          "text": [
            "Collecting openai\n",
            "  Downloading openai-1.52.1-py3-none-any.whl.metadata (24 kB)\n",
            "Requirement already satisfied: anyio<5,>=3.5.0 in /usr/local/lib/python3.10/dist-packages (from openai) (3.7.1)\n",
            "Requirement already satisfied: distro<2,>=1.7.0 in /usr/lib/python3/dist-packages (from openai) (1.7.0)\n",
            "Collecting httpx<1,>=0.23.0 (from openai)\n",
            "  Downloading httpx-0.27.2-py3-none-any.whl.metadata (7.1 kB)\n",
            "Collecting jiter<1,>=0.4.0 (from openai)\n",
            "  Downloading jiter-0.6.1-cp310-cp310-manylinux_2_17_x86_64.manylinux2014_x86_64.whl.metadata (5.2 kB)\n",
            "Requirement already satisfied: pydantic<3,>=1.9.0 in /usr/local/lib/python3.10/dist-packages (from openai) (2.9.2)\n",
            "Requirement already satisfied: sniffio in /usr/local/lib/python3.10/dist-packages (from openai) (1.3.1)\n",
            "Requirement already satisfied: tqdm>4 in /usr/local/lib/python3.10/dist-packages (from openai) (4.66.5)\n",
            "Requirement already satisfied: typing-extensions<5,>=4.11 in /usr/local/lib/python3.10/dist-packages (from openai) (4.12.2)\n",
            "Requirement already satisfied: idna>=2.8 in /usr/local/lib/python3.10/dist-packages (from anyio<5,>=3.5.0->openai) (3.10)\n",
            "Requirement already satisfied: exceptiongroup in /usr/local/lib/python3.10/dist-packages (from anyio<5,>=3.5.0->openai) (1.2.2)\n",
            "Requirement already satisfied: certifi in /usr/local/lib/python3.10/dist-packages (from httpx<1,>=0.23.0->openai) (2024.8.30)\n",
            "Collecting httpcore==1.* (from httpx<1,>=0.23.0->openai)\n",
            "  Downloading httpcore-1.0.6-py3-none-any.whl.metadata (21 kB)\n",
            "Collecting h11<0.15,>=0.13 (from httpcore==1.*->httpx<1,>=0.23.0->openai)\n",
            "  Downloading h11-0.14.0-py3-none-any.whl.metadata (8.2 kB)\n",
            "Requirement already satisfied: annotated-types>=0.6.0 in /usr/local/lib/python3.10/dist-packages (from pydantic<3,>=1.9.0->openai) (0.7.0)\n",
            "Requirement already satisfied: pydantic-core==2.23.4 in /usr/local/lib/python3.10/dist-packages (from pydantic<3,>=1.9.0->openai) (2.23.4)\n",
            "Downloading openai-1.52.1-py3-none-any.whl (386 kB)\n",
            "\u001b[2K   \u001b[90m━━━━━━━━━━━━━━━━━━━━━━━━━━━━━━━━━━━━━━━━\u001b[0m \u001b[32m386.9/386.9 kB\u001b[0m \u001b[31m7.2 MB/s\u001b[0m eta \u001b[36m0:00:00\u001b[0m\n",
            "\u001b[?25hDownloading httpx-0.27.2-py3-none-any.whl (76 kB)\n",
            "\u001b[2K   \u001b[90m━━━━━━━━━━━━━━━━━━━━━━━━━━━━━━━━━━━━━━━━\u001b[0m \u001b[32m76.4/76.4 kB\u001b[0m \u001b[31m2.9 MB/s\u001b[0m eta \u001b[36m0:00:00\u001b[0m\n",
            "\u001b[?25hDownloading httpcore-1.0.6-py3-none-any.whl (78 kB)\n",
            "\u001b[2K   \u001b[90m━━━━━━━━━━━━━━━━━━━━━━━━━━━━━━━━━━━━━━━━\u001b[0m \u001b[32m78.0/78.0 kB\u001b[0m \u001b[31m4.2 MB/s\u001b[0m eta \u001b[36m0:00:00\u001b[0m\n",
            "\u001b[?25hDownloading jiter-0.6.1-cp310-cp310-manylinux_2_17_x86_64.manylinux2014_x86_64.whl (325 kB)\n",
            "\u001b[2K   \u001b[90m━━━━━━━━━━━━━━━━━━━━━━━━━━━━━━━━━━━━━━━━\u001b[0m \u001b[32m325.2/325.2 kB\u001b[0m \u001b[31m11.6 MB/s\u001b[0m eta \u001b[36m0:00:00\u001b[0m\n",
            "\u001b[?25hDownloading h11-0.14.0-py3-none-any.whl (58 kB)\n",
            "\u001b[2K   \u001b[90m━━━━━━━━━━━━━━━━━━━━━━━━━━━━━━━━━━━━━━━━\u001b[0m \u001b[32m58.3/58.3 kB\u001b[0m \u001b[31m2.1 MB/s\u001b[0m eta \u001b[36m0:00:00\u001b[0m\n",
            "\u001b[?25hInstalling collected packages: jiter, h11, httpcore, httpx, openai\n",
            "Successfully installed h11-0.14.0 httpcore-1.0.6 httpx-0.27.2 jiter-0.6.1 openai-1.52.1\n"
          ]
        }
      ],
      "source": [
        "!pip install openai"
      ]
    },
    {
      "cell_type": "markdown",
      "source": [
        "## Importar las Bibliotecas Necesarias"
      ],
      "metadata": {
        "id": "iJH1c-98n2Ey"
      }
    },
    {
      "cell_type": "code",
      "source": [
        "import openai\n",
        "import json\n",
        "import ipywidgets as widgets\n",
        "from IPython.display import display"
      ],
      "metadata": {
        "id": "8TNHWvDNn8cj"
      },
      "execution_count": 2,
      "outputs": []
    },
    {
      "cell_type": "markdown",
      "source": [
        "openai: Permite interactuar con los servicios de OpenAI (como GPT-3 o GPT-4)\n",
        "\n",
        "json: Se usa para trabajar con datos en formato JSON, útil para procesar las respuestas de la API\n",
        "\n",
        "ipywidgets: Crea elementos interactivos en notebooks Jupyter (botones, campos de texto, etc.)\n",
        "\n",
        "display: Función para mostrar contenido en notebooks"
      ],
      "metadata": {
        "id": "eCQItCuwoC3p"
      }
    },
    {
      "cell_type": "markdown",
      "source": [
        "## Configurar la API Key"
      ],
      "metadata": {
        "id": "52iyy23koXaI"
      }
    },
    {
      "cell_type": "code",
      "source": [
        "import os\n",
        "\n",
        "os.environ['OPENAI_API_KEY'] = 'sk-svcacct-jW7aj1jhhhM4NWeNN1FYmeaGC1qW9WEGx61Pb3W9CxvvteAbD8qqkuqsYtrN-2jcmT3BlbkFJMQeSXMGT5PX_o_hmW_dn4iJCL-MApQKDxWdssSSQNMjYXWkAD6SX3V-KSdyuQ97SwA'\n"
      ],
      "metadata": {
        "id": "MM_t2LqUoann"
      },
      "execution_count": 3,
      "outputs": []
    },
    {
      "cell_type": "markdown",
      "source": [
        "**Explicación:**\n",
        "\n",
        "import os: Importa el módulo para interactuar con el sistema operativo. os.environ['OPENAI_API_KEY']: Establece una variable de entorno para almacenar la clave API."
      ],
      "metadata": {
        "id": "cibzACGvojcl"
      }
    },
    {
      "cell_type": "markdown",
      "source": [
        "## Verificar la Configuración"
      ],
      "metadata": {
        "id": "UMjD1yE7om86"
      }
    },
    {
      "cell_type": "code",
      "source": [
        "import os\n",
        "from openai import OpenAI\n",
        "\n",
        "# Configura el cliente de OpenAI\n",
        "client = OpenAI(api_key=os.getenv('OPENAI_API_KEY'))\n",
        "\n",
        "# Verificar la conexión realizando una solicitud simple\n",
        "try:\n",
        "    response = client.models.list()\n",
        "    print(\"Conexión exitosa a la API de OpenAI.\")\n",
        "    print(response)\n",
        "except Exception as e:\n",
        "    print(f\"Error al conectar con la API: {e}\")"
      ],
      "metadata": {
        "colab": {
          "base_uri": "https://localhost:8080/"
        },
        "id": "AJRkcXlfosf-",
        "outputId": "8e1e6489-a09a-4da4-bf84-b231cbb476ec"
      },
      "execution_count": 4,
      "outputs": [
        {
          "output_type": "stream",
          "name": "stdout",
          "text": [
            "Conexión exitosa a la API de OpenAI.\n",
            "SyncPage[Model](data=[Model(id='gpt-4-turbo', created=1712361441, object='model', owned_by='system'), Model(id='gpt-4-turbo-2024-04-09', created=1712601677, object='model', owned_by='system'), Model(id='tts-1', created=1681940951, object='model', owned_by='openai-internal'), Model(id='tts-1-1106', created=1699053241, object='model', owned_by='system'), Model(id='chatgpt-4o-latest', created=1723515131, object='model', owned_by='system'), Model(id='dall-e-2', created=1698798177, object='model', owned_by='system'), Model(id='whisper-1', created=1677532384, object='model', owned_by='openai-internal'), Model(id='gpt-4-turbo-preview', created=1706037777, object='model', owned_by='system'), Model(id='gpt-4o-2024-08-06', created=1722814719, object='model', owned_by='system'), Model(id='gpt-4o', created=1715367049, object='model', owned_by='system'), Model(id='gpt-3.5-turbo-instruct', created=1692901427, object='model', owned_by='system'), Model(id='gpt-4-0125-preview', created=1706037612, object='model', owned_by='system'), Model(id='gpt-3.5-turbo', created=1677610602, object='model', owned_by='openai'), Model(id='gpt-3.5-turbo-0125', created=1706048358, object='model', owned_by='system'), Model(id='babbage-002', created=1692634615, object='model', owned_by='system'), Model(id='davinci-002', created=1692634301, object='model', owned_by='system'), Model(id='gpt-4o-realtime-preview-2024-10-01', created=1727131766, object='model', owned_by='system'), Model(id='dall-e-3', created=1698785189, object='model', owned_by='system'), Model(id='gpt-4o-realtime-preview', created=1727659998, object='model', owned_by='system'), Model(id='gpt-4o-mini', created=1721172741, object='model', owned_by='system'), Model(id='gpt-4o-2024-05-13', created=1715368132, object='model', owned_by='system'), Model(id='gpt-4o-mini-2024-07-18', created=1721172717, object='model', owned_by='system'), Model(id='gpt-4o-audio-preview-2024-10-01', created=1727389042, object='model', owned_by='system'), Model(id='gpt-4o-audio-preview', created=1727460443, object='model', owned_by='system'), Model(id='tts-1-hd', created=1699046015, object='model', owned_by='system'), Model(id='tts-1-hd-1106', created=1699053533, object='model', owned_by='system'), Model(id='gpt-4-1106-preview', created=1698957206, object='model', owned_by='system'), Model(id='text-embedding-ada-002', created=1671217299, object='model', owned_by='openai-internal'), Model(id='gpt-3.5-turbo-16k', created=1683758102, object='model', owned_by='openai-internal'), Model(id='text-embedding-3-small', created=1705948997, object='model', owned_by='system'), Model(id='text-embedding-3-large', created=1705953180, object='model', owned_by='system'), Model(id='gpt-3.5-turbo-1106', created=1698959748, object='model', owned_by='system'), Model(id='gpt-4-0613', created=1686588896, object='model', owned_by='openai'), Model(id='gpt-4', created=1687882411, object='model', owned_by='openai'), Model(id='gpt-3.5-turbo-instruct-0914', created=1694122472, object='model', owned_by='system'), Model(id='ft:gpt-3.5-turbo-0125:personal::AKxiv11U:ckpt-step-60', created=1729559501, object='model', owned_by='user-edqtd2vvine5ysrbuj1ztsqj'), Model(id='ft:gpt-3.5-turbo-0125:personal::AKxivOyL:ckpt-step-75', created=1729559501, object='model', owned_by='user-edqtd2vvine5ysrbuj1ztsqj'), Model(id='ft:gpt-3.5-turbo-0125:personal::AKxiv3c4', created=1729559502, object='model', owned_by='user-edqtd2vvine5ysrbuj1ztsqj')], object='list')\n"
          ]
        }
      ]
    },
    {
      "cell_type": "markdown",
      "source": [
        "**Explicación:**\n",
        "\n",
        "openai.Engine.list(): Lista los motores disponibles para verificar la conexión."
      ],
      "metadata": {
        "id": "y_Ef8zewouzG"
      }
    },
    {
      "cell_type": "markdown",
      "source": [
        "## Preparar los Datos para el Fine-Tuning\n",
        "\n",
        "Vamos a crear un conjunto de datos más amplio en formato .jsonl. En este formato, cada línea representa un ejemplo de entrenamiento y debe tener las claves prompt y completion.\n",
        "\n",
        "Ejemplo de Datos en JSONL:\n",
        "Supongamos que estás creando un chatbot educativo y deseas entrenarlo para responder preguntas de manera informativa y educada."
      ],
      "metadata": {
        "id": "iUdD4iqvow8D"
      }
    },
    {
      "cell_type": "code",
      "source": [
        "data = [\n",
        "    {\n",
        "        \"messages\": [\n",
        "            {\n",
        "                \"role\": \"system\",\n",
        "                \"content\": \"Eres un asistente experto en programación especializado en explicar conceptos de manera clara y concisa.\"\n",
        "            },\n",
        "            {\n",
        "                \"role\": \"user\",\n",
        "                \"content\": \"¿Qué es un algoritmo?\"\n",
        "            },\n",
        "            {\n",
        "                \"role\": \"assistant\",\n",
        "                \"content\": \"Un algoritmo es un conjunto de instrucciones paso a paso diseñadas para realizar una tarea específica o resolver un problema. Puede ser implementado en un programa para automatizar procesos.\"\n",
        "            }\n",
        "        ]\n",
        "    },\n",
        "    {\n",
        "        \"messages\": [\n",
        "            {\n",
        "                \"role\": \"system\",\n",
        "                \"content\": \"Eres un asistente experto en programación especializado en explicar conceptos de manera clara y concisa.\"\n",
        "            },\n",
        "            {\n",
        "                \"role\": \"user\",\n",
        "                \"content\": \"¿Qué significa 'front-end' en desarrollo web?\"\n",
        "            },\n",
        "            {\n",
        "                \"role\": \"assistant\",\n",
        "                \"content\": \"El 'front-end' se refiere a la parte visible de una aplicación web con la que los usuarios interactúan. Incluye tecnologías como HTML, CSS y JavaScript para construir interfaces de usuario.\"\n",
        "            }\n",
        "        ]\n",
        "    },\n",
        "    {\n",
        "        \"messages\": [\n",
        "            {\n",
        "                \"role\": \"system\",\n",
        "                \"content\": \"Eres un asistente experto en programación especializado en explicar conceptos de manera clara y concisa.\"\n",
        "            },\n",
        "            {\n",
        "                \"role\": \"user\",\n",
        "                \"content\": \"¿Para qué se utiliza Python?\"\n",
        "            },\n",
        "            {\n",
        "                \"role\": \"assistant\",\n",
        "                \"content\": \"Python es un lenguaje de programación versátil utilizado para desarrollo web, análisis de datos, inteligencia artificial, automatización de tareas y más. Es conocido por su sintaxis simple y legible.\"\n",
        "            }\n",
        "        ]\n",
        "    },\n",
        "    {\n",
        "        \"messages\": [\n",
        "            {\n",
        "                \"role\": \"system\",\n",
        "                \"content\": \"Eres un asistente experto en programación especializado en explicar conceptos de manera clara y concisa.\"\n",
        "            },\n",
        "            {\n",
        "                \"role\": \"user\",\n",
        "                \"content\": \"¿Qué es SQL?\"\n",
        "            },\n",
        "            {\n",
        "                \"role\": \"assistant\",\n",
        "                \"content\": \"SQL (Structured Query Language) es un lenguaje utilizado para gestionar y manipular bases de datos. Permite realizar consultas, insertar, actualizar y eliminar datos de las tablas de una base de datos.\"\n",
        "            }\n",
        "        ]\n",
        "    },\n",
        "    {\n",
        "        \"messages\": [\n",
        "            {\n",
        "                \"role\": \"system\",\n",
        "                \"content\": \"Eres un asistente experto en programación especializado en explicar conceptos de manera clara y concisa.\"\n",
        "            },\n",
        "            {\n",
        "                \"role\": \"user\",\n",
        "                \"content\": \"¿Qué es un framework en desarrollo de software?\"\n",
        "            },\n",
        "            {\n",
        "                \"role\": \"assistant\",\n",
        "                \"content\": \"Un framework es una estructura predefinida que facilita el desarrollo de software. Proporciona herramientas, bibliotecas y buenas prácticas para construir aplicaciones de manera más rápida y organizada.\"\n",
        "            }\n",
        "        ]\n",
        "    },\n",
        "    {\n",
        "        \"messages\": [\n",
        "            {\n",
        "                \"role\": \"system\",\n",
        "                \"content\": \"Eres un asistente experto en programación especializado en explicar conceptos de manera clara y concisa.\"\n",
        "            },\n",
        "            {\n",
        "                \"role\": \"user\",\n",
        "                \"content\": \"¿Cuál es la diferencia entre una clase y un objeto?\"\n",
        "            },\n",
        "            {\n",
        "                \"role\": \"assistant\",\n",
        "                \"content\": \"Una clase es un molde o plantilla que define las propiedades y comportamientos que tendrán los objetos. Un objeto es una instancia de una clase, es decir, un ejemplar que tiene los atributos y métodos definidos por la clase.\"\n",
        "            }\n",
        "        ]\n",
        "    },\n",
        "    {\n",
        "        \"messages\": [\n",
        "            {\n",
        "                \"role\": \"system\",\n",
        "                \"content\": \"Eres un asistente experto en programación especializado en explicar conceptos de manera clara y concisa.\"\n",
        "            },\n",
        "            {\n",
        "                \"role\": \"user\",\n",
        "                \"content\": \"¿Qué es JavaScript?\"\n",
        "            },\n",
        "            {\n",
        "                \"role\": \"assistant\",\n",
        "                \"content\": \"JavaScript es un lenguaje de programación utilizado principalmente para el desarrollo web. Permite añadir interactividad a las páginas web, como animaciones, formularios dinámicos y efectos visuales.\"\n",
        "            }\n",
        "        ]\n",
        "    },\n",
        "    {\n",
        "        \"messages\": [\n",
        "            {\n",
        "                \"role\": \"system\",\n",
        "                \"content\": \"Eres un asistente experto en programación especializado en explicar conceptos de manera clara y concisa.\"\n",
        "            },\n",
        "            {\n",
        "                \"role\": \"user\",\n",
        "                \"content\": \"¿Qué es el desarrollo 'back-end'?\"\n",
        "            },\n",
        "            {\n",
        "                \"role\": \"assistant\",\n",
        "                \"content\": \"El 'back-end' se refiere a la parte del desarrollo web que gestiona la lógica del servidor, bases de datos y las interacciones que no son visibles para el usuario. Incluye la creación de APIs y el manejo de datos.\"\n",
        "            }\n",
        "        ]\n",
        "    },\n",
        "    {\n",
        "        \"messages\": [\n",
        "            {\n",
        "                \"role\": \"system\",\n",
        "                \"content\": \"Eres un asistente experto en programación especializado en explicar conceptos de manera clara y concisa.\"\n",
        "            },\n",
        "            {\n",
        "                \"role\": \"user\",\n",
        "                \"content\": \"¿Qué es una base de datos?\"\n",
        "            },\n",
        "            {\n",
        "                \"role\": \"assistant\",\n",
        "                \"content\": \"Una base de datos es una colección organizada de datos que se almacena y gestiona electrónicamente. Las bases de datos permiten almacenar grandes cantidades de información de forma estructurada para facilitar su consulta y manipulación.\"\n",
        "            }\n",
        "        ]\n",
        "    },\n",
        "    {\n",
        "        \"messages\": [\n",
        "            {\n",
        "                \"role\": \"system\",\n",
        "                \"content\": \"Eres un asistente experto en programación especializado en explicar conceptos de manera clara y concisa.\"\n",
        "            },\n",
        "            {\n",
        "                \"role\": \"user\",\n",
        "                \"content\": \"¿Qué es una variable en programación?\"\n",
        "            },\n",
        "            {\n",
        "                \"role\": \"assistant\",\n",
        "                \"content\": \"Una variable es un espacio en la memoria de un programa que se utiliza para almacenar datos. Las variables pueden cambiar de valor a lo largo de la ejecución del programa.\"\n",
        "            }\n",
        "        ]\n",
        "    },\n",
        "    {\n",
        "        \"messages\": [\n",
        "            {\n",
        "                \"role\": \"system\",\n",
        "                \"content\": \"Eres un asistente experto en programación especializado en explicar conceptos de manera clara y concisa.\"\n",
        "            },\n",
        "            {\n",
        "                \"role\": \"user\",\n",
        "                \"content\": \"¿Qué es el lenguaje HTML?\"\n",
        "            },\n",
        "            {\n",
        "                \"role\": \"assistant\",\n",
        "                \"content\": \"HTML (HyperText Markup Language) es el lenguaje de marcado estándar para crear páginas web. Define la estructura del contenido, usando etiquetas para elementos como texto, imágenes y enlaces.\"\n",
        "            }\n",
        "        ]\n",
        "    },\n",
        "    {\n",
        "        \"messages\": [\n",
        "            {\n",
        "                \"role\": \"system\",\n",
        "                \"content\": \"Eres un asistente experto en programación especializado en explicar conceptos de manera clara y concisa.\"\n",
        "            },\n",
        "            {\n",
        "                \"role\": \"user\",\n",
        "                \"content\": \"¿Qué es el protocolo HTTP?\"\n",
        "            },\n",
        "            {\n",
        "                \"role\": \"assistant\",\n",
        "                \"content\": \"HTTP (HyperText Transfer Protocol) es un protocolo que permite la comunicación entre clientes (como navegadores web) y servidores. Es la base de la transferencia de datos en la web, permitiendo solicitar y recibir recursos como páginas HTML.\"\n",
        "            }\n",
        "        ]\n",
        "    },\n",
        "    {\n",
        "        \"messages\": [\n",
        "            {\n",
        "                \"role\": \"system\",\n",
        "                \"content\": \"Eres un asistente experto en programación especializado en explicar conceptos de manera clara y concisa.\"\n",
        "            },\n",
        "            {\n",
        "                \"role\": \"user\",\n",
        "                \"content\": \"¿Qué es la herencia en POO?\"\n",
        "            },\n",
        "            {\n",
        "                \"role\": \"assistant\",\n",
        "                \"content\": \"La herencia es un concepto de la programación orientada a objetos que permite que una clase (llamada subclase) herede propiedades y métodos de otra clase (llamada superclase). Esto facilita la reutilización de código.\"\n",
        "            }\n",
        "        ]\n",
        "    },\n",
        "    {\n",
        "        \"messages\": [\n",
        "            {\n",
        "                \"role\": \"system\",\n",
        "                \"content\": \"Eres un asistente experto en programación especializado en explicar conceptos de manera clara y concisa.\"\n",
        "            },\n",
        "            {\n",
        "                \"role\": \"user\",\n",
        "                \"content\": \"¿Qué es Git?\"\n",
        "            },\n",
        "            {\n",
        "                \"role\": \"assistant\",\n",
        "                \"content\": \"Git es un sistema de control de versiones que permite a los desarrolladores rastrear cambios en el código fuente, colaborar en proyectos y revertir a versiones anteriores si es necesario. Es ampliamente utilizado en desarrollo de software.\"\n",
        "            }\n",
        "        ]\n",
        "    },\n",
        "    {\n",
        "        \"messages\": [\n",
        "            {\n",
        "                \"role\": \"system\",\n",
        "                \"content\": \"Eres un asistente experto en programación especializado en explicar conceptos de manera clara y concisa.\"\n",
        "            },\n",
        "            {\n",
        "                \"role\": \"user\",\n",
        "                \"content\": \"¿Qué significa depurar un programa?\"\n",
        "            },\n",
        "            {\n",
        "                \"role\": \"assistant\",\n",
        "                \"content\": \"Depurar un programa significa encontrar y corregir errores o fallos en el código. Es un proceso importante para garantizar que el software funcione correctamente y sin problemas inesperados.\"\n",
        "            }\n",
        "        ]\n",
        "    }\n",
        "]\n",
        "\n",
        "\n",
        "# Guardar los datos en un archivo JSONL\n",
        "with open(\"fine_tune_data.jsonl\", \"w\") as f:\n",
        "    for item in data:\n",
        "        f.write(json.dumps(item) + \"\\n\")"
      ],
      "metadata": {
        "id": "QSUfSZZWo8cf"
      },
      "execution_count": 5,
      "outputs": []
    },
    {
      "cell_type": "markdown",
      "source": [
        "**Explicación:**\n",
        "\n",
        "Estructura general:\n",
        "\n",
        "**data** es un array que contiene varios objetos.\n",
        "Cada objeto en el array representa una conversación completa.\n",
        "messages:\n",
        "\n",
        "Es una lista de mensajes que forman una interacción.\n",
        "\n",
        "Cada mensaje tiene:\n",
        "\n",
        "**role:** Define el rol de quien envía el mensaje (system, user, o assistant).\n",
        "content: Contiene el texto del mensaje.\n",
        "Roles:\n",
        "\n",
        "**\"system\":** Describe el contexto o las reglas bajo las cuales el asistente debe operar. Aquí, se especifica que el asistente es un experto en programación que explica conceptos de manera clara y concisa.\n",
        "\n",
        "**\"user\":** Representa al usuario haciendo preguntas.\n",
        "\n",
        "**\"assistant\":** Contiene las respuestas del asistente.\n",
        "\n",
        "Ejemplos de conversaciones:\n",
        "\n",
        "Primera conversación: El usuario pregunta qué es una API REST, y el asistente responde explicando el concepto.\n",
        "\n",
        "Segunda conversación: El usuario pregunta sobre la programación orientada a objetos (POO), y el asistente explica los conceptos clave de este paradigma.\n",
        "\n",
        "**with open(\"fine_tune_data.jsonl\", \"w\") as f:**\n",
        "\n",
        "Abre un archivo llamado \"fine_tune_data.jsonl\" en modo escritura (\"w\")\n",
        "El formato .jsonl es para \"JSON Lines\", donde cada línea es un objeto JSON válido\n",
        "\n",
        "Usa with para manejar el archivo de forma segura (se cerrará automáticamente)\n",
        "\n",
        "\n",
        "**for item in data:**\n",
        "\n",
        "Itera sobre una lista llamada data que contiene los elementos a guardar\n",
        "\n",
        "Cada item probablemente es un diccionario con los datos a guardar\n",
        "\n",
        "\n",
        "**f.write(json.dumps(item) + \"\\n\")**\n",
        "\n",
        "**json.dumps(item):**\n",
        "\n",
        "Convierte cada elemento (diccionario) a una cadena JSON\n",
        "\n",
        "**+ \"\\n\":** Añade un salto de línea después de cada elemento\n",
        "\n",
        "**f.write():** Escribe la línea en el archivo\n",
        "\n",
        "\n",
        "\n",
        "La idea de este codigo es\n",
        "\n",
        "Preparar datos para fine-tuning de modelos de IA\n",
        "\n",
        "Guardar datos estructurados de manera que cada línea sea un registro independiente\n",
        "\n",
        "Crear archivos que puedan ser procesados línea por línea"
      ],
      "metadata": {
        "id": "Q0hCOotnpCgh"
      }
    },
    {
      "cell_type": "markdown",
      "source": [
        "## Subir el Archivo a OpenAI"
      ],
      "metadata": {
        "id": "xxa7lRd2pkmg"
      }
    },
    {
      "cell_type": "code",
      "source": [
        "from openai import OpenAIError\n",
        "\n",
        "try:\n",
        "    # Abrir el archivo usando with para asegurar que se cierre correctamente\n",
        "    with open(\"fine_tune_data.jsonl\", \"rb\") as file:\n",
        "        file_response = client.files.create(\n",
        "            file=file,\n",
        "            purpose='fine-tune'\n",
        "        )\n",
        "\n",
        "        # Obtener el ID del archivo\n",
        "        file_id = file_response.id\n",
        "        print(f\"File ID: {file_id}\")\n",
        "\n",
        "except FileNotFoundError:\n",
        "    print(\"Error: No se encontró el archivo fine_tune_data.jsonl\")\n",
        "except OpenAIError as e:\n",
        "    print(f\"Error de OpenAI: {str(e)}\")\n",
        "except Exception as e:\n",
        "    print(f\"Error inesperado: {str(e)}\")"
      ],
      "metadata": {
        "colab": {
          "base_uri": "https://localhost:8080/"
        },
        "id": "sTRHsvompncV",
        "outputId": "a5d09e0c-d92c-4a04-abaf-90d174ccd6d0"
      },
      "execution_count": 6,
      "outputs": [
        {
          "output_type": "stream",
          "name": "stdout",
          "text": [
            "File ID: file-2gwD7tZLj4eVWH9pPc2oZbyk\n"
          ]
        }
      ]
    },
    {
      "cell_type": "markdown",
      "source": [
        "**Explicacion:**\n",
        "\n",
        "OpenAIError: Clase para manejar errores específicos de OpenAI\n",
        "\n",
        "open(\"fine_tune_data.jsonl\", \"rb\"): Abre el archivo en modo lectura binaria\n",
        "\n",
        "client.files.create(): Sube el archivo a OpenAI\n",
        "\n",
        "purpose='fine-tune': Indica que el archivo se usará para fine-tuning\n",
        "\n",
        "**file_id = file_response.id**\n",
        "\n",
        "**print(f\"File ID: {file_id}\")**\n",
        "\n",
        "openai.File.create: Sube el archivo de datos a OpenAI y lo etiqueta para el propósito de fine-tuning.\n",
        "\n",
        "file_id: Se necesita este ID para referenciar el archivo al iniciar el fine-tuning."
      ],
      "metadata": {
        "id": "PME4jOdUqp4A"
      }
    },
    {
      "cell_type": "markdown",
      "source": [
        "## Iniciar el Fine-Tuning\n",
        "\n",
        "Usa el ID del archivo para iniciar el proceso de fine-tuning:\n"
      ],
      "metadata": {
        "id": "2B7Npa-srJPW"
      }
    },
    {
      "cell_type": "code",
      "source": [
        "try:\n",
        "    # Crear el trabajo de fine-tuning\n",
        "    fine_tune_response = client.fine_tuning.jobs.create(\n",
        "        training_file=file_id,\n",
        "        model=\"gpt-3.5-turbo\"\n",
        "    )\n",
        "\n",
        "    # Obtener el ID del proceso de fine-tuning\n",
        "    fine_tune_id = fine_tune_response.id\n",
        "    print(f\"Fine-tune ID: {fine_tune_id}\")\n",
        "\n",
        "except OpenAIError as e:\n",
        "    print(f\"Error de OpenAI: {str(e)}\")\n",
        "except Exception as e:\n",
        "    print(f\"Error inesperado: {str(e)}\")"
      ],
      "metadata": {
        "colab": {
          "base_uri": "https://localhost:8080/"
        },
        "id": "oPlZgY8prNp2",
        "outputId": "606d7a80-b068-4a2c-bb71-c52fc8a8dac8"
      },
      "execution_count": 7,
      "outputs": [
        {
          "output_type": "stream",
          "name": "stdout",
          "text": [
            "Fine-tune ID: ftjob-f3nOT3sKvMzojUifg1jiFupk\n"
          ]
        }
      ]
    },
    {
      "cell_type": "markdown",
      "source": [
        "Explicacion:\n",
        "\n",
        "**client.fine_tuning.jobs.create():** Crea un nuevo trabajo de fine-tuning\n",
        "\n",
        "**training_file:** El ID del archivo que subimos previamente\n",
        "\n",
        "**model:** El modelo base a utilizar (en este caso gpt-3.5-turbo)\n",
        "\n",
        "**fine_tune_id = fine_tune_response.id**\n",
        "**print(f\"Fine-tune ID: {fine_tune_id}\")**\n",
        "\n",
        "Guarda el ID del proceso de fine-tuning\n",
        "\n",
        "Lo muestramos en pantalla"
      ],
      "metadata": {
        "id": "opgLyUXxr3Qu"
      }
    },
    {
      "cell_type": "markdown",
      "source": [
        "## Verificar el Estado del Fine-Tuning\n",
        "\n",
        "El proceso de entrenamiento puede tomar tiempo, así que puedes verificar el estado usando:"
      ],
      "metadata": {
        "id": "uQm6tse7sMI7"
      }
    },
    {
      "cell_type": "code",
      "source": [
        "try:\n",
        "\n",
        "    failed_job = client.fine_tuning.jobs.retrieve(fine_tune_id)\n",
        "\n",
        "    # Obtener los errores y detalles\n",
        "    print(\"\\nDetalles del error:\")\n",
        "    print(f\"Estado: {failed_job.status}\")\n",
        "    print(f\"Mensaje de error: {failed_job.error}\")\n",
        "\n",
        "    # Obtener los logs para más detalles\n",
        "    logs = client.fine_tuning.jobs.list_events(fine_tune_id)\n",
        "    print(\"\\nRegistro de eventos:\")\n",
        "    for event in logs.data:\n",
        "        print(f\"{event.created_at}: {event.message}\")\n",
        "\n",
        "except OpenAIError as e:\n",
        "    print(f\"Error de OpenAI: {str(e)}\")\n",
        "except Exception as e:\n",
        "    print(f\"Error inesperado: {str(e)}\")"
      ],
      "metadata": {
        "colab": {
          "base_uri": "https://localhost:8080/"
        },
        "id": "NCUzfUwosPfb",
        "outputId": "dda24ef2-b082-40ec-a13a-312dfb06af0b"
      },
      "execution_count": 8,
      "outputs": [
        {
          "output_type": "stream",
          "name": "stdout",
          "text": [
            "\n",
            "Detalles del error:\n",
            "Estado: validating_files\n",
            "Mensaje de error: Error(code=None, message=None, param=None)\n",
            "\n",
            "Registro de eventos:\n",
            "1729651843: Validating training file: file-2gwD7tZLj4eVWH9pPc2oZbyk\n",
            "1729651843: Created fine-tuning job: ftjob-f3nOT3sKvMzojUifg1jiFupk\n"
          ]
        }
      ]
    },
    {
      "cell_type": "markdown",
      "source": [
        "**Explciacion:**\n",
        "\n",
        "**client.fine_tuning.jobs.retrieve():** Obtiene información sobre el trabajo de fine-tuning\n",
        "\n",
        "**fine_tune_id**: El ID del trabajo que queremos consultar\n",
        "\n",
        "**print(f\"Estado: {failed_job.status}\")**\n",
        "\n",
        "\n",
        "Accede al estado actual del proceso\n",
        "Los estados posibles incluyen:\n",
        "\n",
        "\"validating\"\n",
        "\n",
        "\"queued\"\n",
        "\n",
        "\"running\"\n",
        "\n",
        "\"succeeded\"\n",
        "\n",
        "\"failed\"\n",
        "\n",
        "\"cancelled\"\n",
        "\n",
        "**print(f\"\\nDetalles del trabajo:\")**\n",
        "**print(f\"Modelo base: {status_response.model}\")**\n",
        "**print(f\"Tiempo de creación: {status_response.created_at}\")**\n",
        "**print(f\"Estado final: {status_response.finished_at if status_response.finished_at else 'En proceso'}\")**\n",
        "\n",
        "Muestra información adicional útil\n",
        "\n",
        "Incluye el modelo base usado\n",
        "\n",
        "Muestra timestamps de creación y finalización"
      ],
      "metadata": {
        "id": "fHteTSMMsjVv"
      }
    },
    {
      "cell_type": "markdown",
      "source": [
        "## Usar el Modelo Fine-Tuneado\n",
        "\n",
        "Una vez que el modelo esté listo, puedes probarlo realizando peticiones:"
      ],
      "metadata": {
        "id": "EfaYOCbPx-ek"
      }
    },
    {
      "cell_type": "code",
      "source": [
        "models = client.models.list()\n",
        "for model in models.data:\n",
        "    print(model.id)\n",
        "\n",
        "# Crear la caja de texto para el prompt\n",
        "prompt_input = widgets.Textarea(\n",
        "    placeholder='Escribe tu pregunta aquí...',\n",
        "    description='Prompt:',\n",
        "    layout=widgets.Layout(width='90%', height='100px')\n",
        ")\n",
        "\n",
        "# Crear el botón para enviar la pregunta\n",
        "submit_button = widgets.Button(\n",
        "    description='Generar Respuesta',\n",
        "    button_style='primary'\n",
        ")\n",
        "\n",
        "# Crear el área de texto para mostrar la respuesta\n",
        "response_output = widgets.Output()\n",
        "\n",
        "#Modelo con Fine tuning\n",
        "model_fine_tuning =\"ft:gpt-3.5-turbo-0125:personal::AKxiv3c4\"\n",
        "\n",
        "print(model_fine_tuning)\n",
        "\n",
        "# Función para manejar el evento del botón\n",
        "def generate_response(b):\n",
        "    with response_output:\n",
        "        response_output.clear_output()\n",
        "        try:\n",
        "            # Llamar a la API de OpenAI para obtener la respuesta\n",
        "            response = client.chat.completions.create(\n",
        "                model=model_fine_tuning,\n",
        "                messages=[\n",
        "                     {\"role\": \"user\", \"content\": prompt_input.value}\n",
        "               ],\n",
        "              max_tokens=100,\n",
        "              temperature=0.7\n",
        "            )\n",
        "\n",
        "            # Mostrar la respuesta\n",
        "            print(\"Respuesta:\", response.choices[0].message.content.strip())\n",
        "        except Exception as e:\n",
        "            print(\"Error:\", e)\n",
        "\n",
        "# Asignar la función al botón\n",
        "submit_button.on_click(generate_response)\n",
        "\n",
        "# Mostrar los elementos de la GUI\n",
        "display(prompt_input, submit_button, response_output)"
      ],
      "metadata": {
        "colab": {
          "base_uri": "https://localhost:8080/",
          "height": 830,
          "referenced_widgets": [
            "f783cd7510034c15a971c94092c8c739",
            "8634457585a648f28722aeaf023d7506",
            "fb3a9be9fdb649f29823c47ea5f6d957",
            "aca8de6b80174e4ba701fce55fe68fe4",
            "43af31e3be824f1a9fa8b5f498271939",
            "9b66f273febd4b4992bc8301e4b63b4a",
            "fd147ded8a8d4d0faa251c38e78fa2b8",
            "97b769c1038a48438082d2f5e0f5b61f"
          ]
        },
        "id": "lkXuJlnHyEWh",
        "outputId": "89795836-9178-49f7-ab64-2e0ef271afea"
      },
      "execution_count": 9,
      "outputs": [
        {
          "output_type": "stream",
          "name": "stdout",
          "text": [
            "gpt-4-turbo\n",
            "gpt-4-turbo-2024-04-09\n",
            "tts-1\n",
            "tts-1-1106\n",
            "chatgpt-4o-latest\n",
            "dall-e-2\n",
            "whisper-1\n",
            "gpt-4-turbo-preview\n",
            "gpt-4o-2024-08-06\n",
            "gpt-4o\n",
            "gpt-3.5-turbo-instruct\n",
            "gpt-4-0125-preview\n",
            "gpt-3.5-turbo\n",
            "gpt-3.5-turbo-0125\n",
            "babbage-002\n",
            "davinci-002\n",
            "gpt-4o-realtime-preview-2024-10-01\n",
            "dall-e-3\n",
            "gpt-4o-realtime-preview\n",
            "gpt-4o-mini\n",
            "gpt-4o-2024-05-13\n",
            "gpt-4o-mini-2024-07-18\n",
            "gpt-4o-audio-preview-2024-10-01\n",
            "gpt-4o-audio-preview\n",
            "tts-1-hd\n",
            "tts-1-hd-1106\n",
            "gpt-4-1106-preview\n",
            "text-embedding-ada-002\n",
            "gpt-3.5-turbo-16k\n",
            "text-embedding-3-small\n",
            "text-embedding-3-large\n",
            "gpt-3.5-turbo-1106\n",
            "gpt-4-0613\n",
            "gpt-4\n",
            "gpt-3.5-turbo-instruct-0914\n",
            "ft:gpt-3.5-turbo-0125:personal::AKxiv11U:ckpt-step-60\n",
            "ft:gpt-3.5-turbo-0125:personal::AKxivOyL:ckpt-step-75\n",
            "ft:gpt-3.5-turbo-0125:personal::AKxiv3c4\n",
            "ft:gpt-3.5-turbo-0125:personal::AKxiv3c4\n"
          ]
        },
        {
          "output_type": "display_data",
          "data": {
            "text/plain": [
              "Textarea(value='', description='Prompt:', layout=Layout(height='100px', width='90%'), placeholder='Escribe tu …"
            ],
            "application/vnd.jupyter.widget-view+json": {
              "version_major": 2,
              "version_minor": 0,
              "model_id": "f783cd7510034c15a971c94092c8c739"
            }
          },
          "metadata": {}
        },
        {
          "output_type": "display_data",
          "data": {
            "text/plain": [
              "Button(button_style='primary', description='Generar Respuesta', style=ButtonStyle())"
            ],
            "application/vnd.jupyter.widget-view+json": {
              "version_major": 2,
              "version_minor": 0,
              "model_id": "aca8de6b80174e4ba701fce55fe68fe4"
            }
          },
          "metadata": {}
        },
        {
          "output_type": "display_data",
          "data": {
            "text/plain": [
              "Output()"
            ],
            "application/vnd.jupyter.widget-view+json": {
              "version_major": 2,
              "version_minor": 0,
              "model_id": "fd147ded8a8d4d0faa251c38e78fa2b8"
            }
          },
          "metadata": {}
        }
      ]
    }
  ]
}