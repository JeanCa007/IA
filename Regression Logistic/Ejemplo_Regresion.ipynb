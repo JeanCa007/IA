{
 "cells": [
  {
   "cell_type": "markdown",
   "metadata": {
    "id": "9GsZTu7zINTp"
   },
   "source": [
    "**Regresion Logistica**"
   ]
  },
  {
   "cell_type": "markdown",
   "metadata": {
    "id": "HnhtGdkSHUt1"
   },
   "source": [
    "**Cargar librerias**"
   ]
  },
  {
   "cell_type": "code",
   "execution_count": 14,
   "metadata": {
    "id": "GOnxH_GiHQJd"
   },
   "outputs": [],
   "source": [
    "import pandas as pd\n",
    "from sklearn.model_selection import train_test_split\n",
    "from  sklearn.preprocessing import StandardScaler\n",
    "from sklearn.linear_model import LogisticRegression\n",
    "from sklearn.metrics import confusion_matrix\n",
    "from sklearn.metrics import precision_score\n",
    "from sklearn.metrics import accuracy_score"
   ]
  },
  {
   "cell_type": "code",
   "execution_count": 15,
   "metadata": {
    "colab": {
     "base_uri": "https://localhost:8080/",
     "height": 363
    },
    "id": "zHwnReglHgWU",
    "outputId": "20f4d5fb-adf2-4d02-c8e3-0738c09e6130"
   },
   "outputs": [
    {
     "data": {
      "text/html": [
       "<div>\n",
       "<style scoped>\n",
       "    .dataframe tbody tr th:only-of-type {\n",
       "        vertical-align: middle;\n",
       "    }\n",
       "\n",
       "    .dataframe tbody tr th {\n",
       "        vertical-align: top;\n",
       "    }\n",
       "\n",
       "    .dataframe thead th {\n",
       "        text-align: right;\n",
       "    }\n",
       "</style>\n",
       "<table border=\"1\" class=\"dataframe\">\n",
       "  <thead>\n",
       "    <tr style=\"text-align: right;\">\n",
       "      <th></th>\n",
       "      <th>ph</th>\n",
       "      <th>Hardness</th>\n",
       "      <th>Solids</th>\n",
       "      <th>Chloramines</th>\n",
       "      <th>Sulfate</th>\n",
       "      <th>Conductivity</th>\n",
       "      <th>Organic_carbon</th>\n",
       "      <th>Trihalomethanes</th>\n",
       "      <th>Turbidity</th>\n",
       "      <th>Potability</th>\n",
       "    </tr>\n",
       "  </thead>\n",
       "  <tbody>\n",
       "    <tr>\n",
       "      <th>2737</th>\n",
       "      <td>6.602540</td>\n",
       "      <td>174.632977</td>\n",
       "      <td>21607.483238</td>\n",
       "      <td>6.581327</td>\n",
       "      <td>308.931421</td>\n",
       "      <td>657.570422</td>\n",
       "      <td>9.064445</td>\n",
       "      <td>68.827047</td>\n",
       "      <td>3.592496</td>\n",
       "      <td>1</td>\n",
       "    </tr>\n",
       "    <tr>\n",
       "      <th>212</th>\n",
       "      <td>5.304143</td>\n",
       "      <td>160.968358</td>\n",
       "      <td>25299.511557</td>\n",
       "      <td>6.286043</td>\n",
       "      <td>300.500689</td>\n",
       "      <td>497.790391</td>\n",
       "      <td>15.013030</td>\n",
       "      <td>61.115513</td>\n",
       "      <td>4.165724</td>\n",
       "      <td>0</td>\n",
       "    </tr>\n",
       "    <tr>\n",
       "      <th>1812</th>\n",
       "      <td>5.716756</td>\n",
       "      <td>197.104210</td>\n",
       "      <td>12641.527809</td>\n",
       "      <td>8.702061</td>\n",
       "      <td>287.012564</td>\n",
       "      <td>345.083936</td>\n",
       "      <td>17.273966</td>\n",
       "      <td>58.411515</td>\n",
       "      <td>4.080675</td>\n",
       "      <td>0</td>\n",
       "    </tr>\n",
       "    <tr>\n",
       "      <th>611</th>\n",
       "      <td>7.386838</td>\n",
       "      <td>189.595814</td>\n",
       "      <td>29122.696997</td>\n",
       "      <td>8.420763</td>\n",
       "      <td>321.567764</td>\n",
       "      <td>458.044171</td>\n",
       "      <td>17.196943</td>\n",
       "      <td>56.769915</td>\n",
       "      <td>4.816705</td>\n",
       "      <td>0</td>\n",
       "    </tr>\n",
       "    <tr>\n",
       "      <th>2134</th>\n",
       "      <td>5.632041</td>\n",
       "      <td>203.730481</td>\n",
       "      <td>19345.922475</td>\n",
       "      <td>8.047798</td>\n",
       "      <td>265.347111</td>\n",
       "      <td>708.226364</td>\n",
       "      <td>15.752252</td>\n",
       "      <td>69.195926</td>\n",
       "      <td>3.511985</td>\n",
       "      <td>0</td>\n",
       "    </tr>\n",
       "    <tr>\n",
       "      <th>2867</th>\n",
       "      <td>7.125211</td>\n",
       "      <td>209.746771</td>\n",
       "      <td>16701.565975</td>\n",
       "      <td>7.458741</td>\n",
       "      <td>320.500945</td>\n",
       "      <td>404.704596</td>\n",
       "      <td>18.952797</td>\n",
       "      <td>92.347375</td>\n",
       "      <td>3.908075</td>\n",
       "      <td>1</td>\n",
       "    </tr>\n",
       "    <tr>\n",
       "      <th>2196</th>\n",
       "      <td>8.616824</td>\n",
       "      <td>228.762945</td>\n",
       "      <td>19126.298537</td>\n",
       "      <td>7.017578</td>\n",
       "      <td>327.894821</td>\n",
       "      <td>383.527023</td>\n",
       "      <td>14.759257</td>\n",
       "      <td>41.275927</td>\n",
       "      <td>4.584566</td>\n",
       "      <td>0</td>\n",
       "    </tr>\n",
       "    <tr>\n",
       "      <th>914</th>\n",
       "      <td>5.791154</td>\n",
       "      <td>190.431679</td>\n",
       "      <td>20288.235569</td>\n",
       "      <td>6.298366</td>\n",
       "      <td>347.041020</td>\n",
       "      <td>544.857481</td>\n",
       "      <td>17.706838</td>\n",
       "      <td>84.388191</td>\n",
       "      <td>4.104835</td>\n",
       "      <td>0</td>\n",
       "    </tr>\n",
       "    <tr>\n",
       "      <th>2116</th>\n",
       "      <td>4.300029</td>\n",
       "      <td>218.319886</td>\n",
       "      <td>17639.857940</td>\n",
       "      <td>7.527317</td>\n",
       "      <td>331.834632</td>\n",
       "      <td>424.209400</td>\n",
       "      <td>15.005737</td>\n",
       "      <td>70.050831</td>\n",
       "      <td>4.586448</td>\n",
       "      <td>0</td>\n",
       "    </tr>\n",
       "    <tr>\n",
       "      <th>2887</th>\n",
       "      <td>6.934311</td>\n",
       "      <td>228.194475</td>\n",
       "      <td>13901.644681</td>\n",
       "      <td>6.045503</td>\n",
       "      <td>281.552116</td>\n",
       "      <td>403.215091</td>\n",
       "      <td>17.811900</td>\n",
       "      <td>66.779338</td>\n",
       "      <td>4.210975</td>\n",
       "      <td>0</td>\n",
       "    </tr>\n",
       "  </tbody>\n",
       "</table>\n",
       "</div>"
      ],
      "text/plain": [
       "            ph    Hardness        Solids  Chloramines     Sulfate  \\\n",
       "2737  6.602540  174.632977  21607.483238     6.581327  308.931421   \n",
       "212   5.304143  160.968358  25299.511557     6.286043  300.500689   \n",
       "1812  5.716756  197.104210  12641.527809     8.702061  287.012564   \n",
       "611   7.386838  189.595814  29122.696997     8.420763  321.567764   \n",
       "2134  5.632041  203.730481  19345.922475     8.047798  265.347111   \n",
       "2867  7.125211  209.746771  16701.565975     7.458741  320.500945   \n",
       "2196  8.616824  228.762945  19126.298537     7.017578  327.894821   \n",
       "914   5.791154  190.431679  20288.235569     6.298366  347.041020   \n",
       "2116  4.300029  218.319886  17639.857940     7.527317  331.834632   \n",
       "2887  6.934311  228.194475  13901.644681     6.045503  281.552116   \n",
       "\n",
       "      Conductivity  Organic_carbon  Trihalomethanes  Turbidity  Potability  \n",
       "2737    657.570422        9.064445        68.827047   3.592496           1  \n",
       "212     497.790391       15.013030        61.115513   4.165724           0  \n",
       "1812    345.083936       17.273966        58.411515   4.080675           0  \n",
       "611     458.044171       17.196943        56.769915   4.816705           0  \n",
       "2134    708.226364       15.752252        69.195926   3.511985           0  \n",
       "2867    404.704596       18.952797        92.347375   3.908075           1  \n",
       "2196    383.527023       14.759257        41.275927   4.584566           0  \n",
       "914     544.857481       17.706838        84.388191   4.104835           0  \n",
       "2116    424.209400       15.005737        70.050831   4.586448           0  \n",
       "2887    403.215091       17.811900        66.779338   4.210975           0  "
      ]
     },
     "execution_count": 15,
     "metadata": {},
     "output_type": "execute_result"
    }
   ],
   "source": [
    "df = pd.read_csv('./water_potability.csv')\n",
    "df=df.dropna()\n",
    "df.sample(10)"
   ]
  },
  {
   "cell_type": "code",
   "execution_count": 3,
   "metadata": {
    "id": "51I2WtVBHi3d"
   },
   "outputs": [],
   "source": [
    "parametros = df.drop(columns=\"Potability\")\n",
    "objetivo = df.Potability"
   ]
  },
  {
   "cell_type": "code",
   "execution_count": 4,
   "metadata": {
    "id": "zOAtF00vHlCm"
   },
   "outputs": [],
   "source": [
    "X_train, X_test, y_train,y_test =train_test_split(parametros,objetivo,test_size=0.5)"
   ]
  },
  {
   "cell_type": "markdown",
   "metadata": {
    "id": "_Amfzb9XHm6s"
   },
   "source": [
    "**Escalamos los datos**"
   ]
  },
  {
   "cell_type": "code",
   "execution_count": 5,
   "metadata": {
    "id": "Dr2amQ-1Hp6I"
   },
   "outputs": [],
   "source": [
    "escalar = StandardScaler()"
   ]
  },
  {
   "cell_type": "code",
   "execution_count": 7,
   "metadata": {
    "id": "EyZqomcrHtau"
   },
   "outputs": [],
   "source": [
    "X_train = escalar.fit_transform(X_train)\n",
    "X_test = escalar.transform(X_test)"
   ]
  },
  {
   "cell_type": "markdown",
   "metadata": {
    "id": "PvqbqT_CHuOU"
   },
   "source": [
    "**Defino el modelo**"
   ]
  },
  {
   "cell_type": "code",
   "execution_count": 8,
   "metadata": {
    "id": "YiaSNu_RHugF"
   },
   "outputs": [],
   "source": [
    "model = LogisticRegression()"
   ]
  },
  {
   "cell_type": "markdown",
   "metadata": {
    "id": "q9NY-7LwHzW9"
   },
   "source": [
    "**Entreno el modelo**"
   ]
  },
  {
   "cell_type": "code",
   "execution_count": 9,
   "metadata": {
    "colab": {
     "base_uri": "https://localhost:8080/",
     "height": 57
    },
    "id": "Qk9MjdwmH6kc",
    "outputId": "e4a58a66-8c0f-4c6a-f210-e65f52319814"
   },
   "outputs": [
    {
     "data": {
      "text/html": [
       "<style>#sk-container-id-1 {color: black;background-color: white;}#sk-container-id-1 pre{padding: 0;}#sk-container-id-1 div.sk-toggleable {background-color: white;}#sk-container-id-1 label.sk-toggleable__label {cursor: pointer;display: block;width: 100%;margin-bottom: 0;padding: 0.3em;box-sizing: border-box;text-align: center;}#sk-container-id-1 label.sk-toggleable__label-arrow:before {content: \"▸\";float: left;margin-right: 0.25em;color: #696969;}#sk-container-id-1 label.sk-toggleable__label-arrow:hover:before {color: black;}#sk-container-id-1 div.sk-estimator:hover label.sk-toggleable__label-arrow:before {color: black;}#sk-container-id-1 div.sk-toggleable__content {max-height: 0;max-width: 0;overflow: hidden;text-align: left;background-color: #f0f8ff;}#sk-container-id-1 div.sk-toggleable__content pre {margin: 0.2em;color: black;border-radius: 0.25em;background-color: #f0f8ff;}#sk-container-id-1 input.sk-toggleable__control:checked~div.sk-toggleable__content {max-height: 200px;max-width: 100%;overflow: auto;}#sk-container-id-1 input.sk-toggleable__control:checked~label.sk-toggleable__label-arrow:before {content: \"▾\";}#sk-container-id-1 div.sk-estimator input.sk-toggleable__control:checked~label.sk-toggleable__label {background-color: #d4ebff;}#sk-container-id-1 div.sk-label input.sk-toggleable__control:checked~label.sk-toggleable__label {background-color: #d4ebff;}#sk-container-id-1 input.sk-hidden--visually {border: 0;clip: rect(1px 1px 1px 1px);clip: rect(1px, 1px, 1px, 1px);height: 1px;margin: -1px;overflow: hidden;padding: 0;position: absolute;width: 1px;}#sk-container-id-1 div.sk-estimator {font-family: monospace;background-color: #f0f8ff;border: 1px dotted black;border-radius: 0.25em;box-sizing: border-box;margin-bottom: 0.5em;}#sk-container-id-1 div.sk-estimator:hover {background-color: #d4ebff;}#sk-container-id-1 div.sk-parallel-item::after {content: \"\";width: 100%;border-bottom: 1px solid gray;flex-grow: 1;}#sk-container-id-1 div.sk-label:hover label.sk-toggleable__label {background-color: #d4ebff;}#sk-container-id-1 div.sk-serial::before {content: \"\";position: absolute;border-left: 1px solid gray;box-sizing: border-box;top: 0;bottom: 0;left: 50%;z-index: 0;}#sk-container-id-1 div.sk-serial {display: flex;flex-direction: column;align-items: center;background-color: white;padding-right: 0.2em;padding-left: 0.2em;position: relative;}#sk-container-id-1 div.sk-item {position: relative;z-index: 1;}#sk-container-id-1 div.sk-parallel {display: flex;align-items: stretch;justify-content: center;background-color: white;position: relative;}#sk-container-id-1 div.sk-item::before, #sk-container-id-1 div.sk-parallel-item::before {content: \"\";position: absolute;border-left: 1px solid gray;box-sizing: border-box;top: 0;bottom: 0;left: 50%;z-index: -1;}#sk-container-id-1 div.sk-parallel-item {display: flex;flex-direction: column;z-index: 1;position: relative;background-color: white;}#sk-container-id-1 div.sk-parallel-item:first-child::after {align-self: flex-end;width: 50%;}#sk-container-id-1 div.sk-parallel-item:last-child::after {align-self: flex-start;width: 50%;}#sk-container-id-1 div.sk-parallel-item:only-child::after {width: 0;}#sk-container-id-1 div.sk-dashed-wrapped {border: 1px dashed gray;margin: 0 0.4em 0.5em 0.4em;box-sizing: border-box;padding-bottom: 0.4em;background-color: white;}#sk-container-id-1 div.sk-label label {font-family: monospace;font-weight: bold;display: inline-block;line-height: 1.2em;}#sk-container-id-1 div.sk-label-container {text-align: center;}#sk-container-id-1 div.sk-container {/* jupyter's `normalize.less` sets `[hidden] { display: none; }` but bootstrap.min.css set `[hidden] { display: none !important; }` so we also need the `!important` here to be able to override the default hidden behavior on the sphinx rendered scikit-learn.org. See: https://github.com/scikit-learn/scikit-learn/issues/21755 */display: inline-block !important;position: relative;}#sk-container-id-1 div.sk-text-repr-fallback {display: none;}</style><div id=\"sk-container-id-1\" class=\"sk-top-container\"><div class=\"sk-text-repr-fallback\"><pre>LogisticRegression()</pre><b>In a Jupyter environment, please rerun this cell to show the HTML representation or trust the notebook. <br />On GitHub, the HTML representation is unable to render, please try loading this page with nbviewer.org.</b></div><div class=\"sk-container\" hidden><div class=\"sk-item\"><div class=\"sk-estimator sk-toggleable\"><input class=\"sk-toggleable__control sk-hidden--visually\" id=\"sk-estimator-id-1\" type=\"checkbox\" checked><label for=\"sk-estimator-id-1\" class=\"sk-toggleable__label sk-toggleable__label-arrow\">LogisticRegression</label><div class=\"sk-toggleable__content\"><pre>LogisticRegression()</pre></div></div></div></div></div>"
      ],
      "text/plain": [
       "LogisticRegression()"
      ]
     },
     "execution_count": 9,
     "metadata": {},
     "output_type": "execute_result"
    }
   ],
   "source": [
    "model.fit(X_train,y_train)"
   ]
  },
  {
   "cell_type": "markdown",
   "metadata": {
    "id": "cHJBcdgCH8ua"
   },
   "source": [
    "**Realizo predicciones**"
   ]
  },
  {
   "cell_type": "code",
   "execution_count": 10,
   "metadata": {
    "id": "AamfQ32lH_dS"
   },
   "outputs": [],
   "source": [
    "y_pred = model.predict(X_test)"
   ]
  },
  {
   "cell_type": "markdown",
   "metadata": {
    "id": "aGeoHZnwIBHI"
   },
   "source": [
    "**Verifico las predicciones**"
   ]
  },
  {
   "cell_type": "code",
   "execution_count": 11,
   "metadata": {
    "colab": {
     "base_uri": "https://localhost:8080/"
    },
    "id": "cO7cmsMhIDS5",
    "outputId": "5d584a76-69c3-4dc4-c1ae-c6702e709277"
   },
   "outputs": [
    {
     "name": "stdout",
     "output_type": "stream",
     "text": [
      "Matriz de Confusion [[581  20]\n",
      " [388  17]]\n"
     ]
    }
   ],
   "source": [
    "matriz = confusion_matrix(y_test,y_pred)\n",
    "print(\"Matriz de Confusion\",matriz)"
   ]
  },
  {
   "cell_type": "markdown",
   "metadata": {
    "id": "he8qHeKsID-M"
   },
   "source": [
    "**Precision**"
   ]
  },
  {
   "cell_type": "code",
   "execution_count": 12,
   "metadata": {
    "colab": {
     "base_uri": "https://localhost:8080/"
    },
    "id": "Hp3nPNV-IGkT",
    "outputId": "eb46fd77-1a31-4f5e-c312-752aea7be24f"
   },
   "outputs": [
    {
     "name": "stdout",
     "output_type": "stream",
     "text": [
      "Precision del modelo 0.4594594594594595\n"
     ]
    }
   ],
   "source": [
    "precision = precision_score(y_test,y_pred)\n",
    "print(\"Precision del modelo\",precision)"
   ]
  },
  {
   "cell_type": "markdown",
   "metadata": {
    "id": "jSWGL2bTIHp_"
   },
   "source": [
    "**Exactitud**"
   ]
  },
  {
   "cell_type": "code",
   "execution_count": 13,
   "metadata": {
    "colab": {
     "base_uri": "https://localhost:8080/"
    },
    "id": "hwPB6bOPIKpB",
    "outputId": "da26760b-f12c-4930-f3ac-af1ec733b5e4"
   },
   "outputs": [
    {
     "name": "stdout",
     "output_type": "stream",
     "text": [
      "Exactitud del modelo:  0.5944333996023857\n"
     ]
    }
   ],
   "source": [
    "exactitud = accuracy_score(y_test,y_pred)\n",
    "print(\"Exactitud del modelo: \",exactitud)"
   ]
  }
 ],
 "metadata": {
  "colab": {
   "provenance": []
  },
  "kernelspec": {
   "display_name": "base",
   "language": "python",
   "name": "python3"
  },
  "language_info": {
   "codemirror_mode": {
    "name": "ipython",
    "version": 3
   },
   "file_extension": ".py",
   "mimetype": "text/x-python",
   "name": "python",
   "nbconvert_exporter": "python",
   "pygments_lexer": "ipython3",
   "version": "3.10.9"
  }
 },
 "nbformat": 4,
 "nbformat_minor": 0
}
