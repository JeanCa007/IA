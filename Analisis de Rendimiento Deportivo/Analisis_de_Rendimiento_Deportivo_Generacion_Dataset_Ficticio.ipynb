{
  "nbformat": 4,
  "nbformat_minor": 0,
  "metadata": {
    "colab": {
      "provenance": []
    },
    "kernelspec": {
      "name": "python3",
      "display_name": "Python 3"
    },
    "language_info": {
      "name": "python"
    }
  },
  "cells": [
    {
      "cell_type": "markdown",
      "source": [
        "# Descripción del Dataset\n",
        "El dataset contiene 500 registros y 5 variables que representan aspectos clave del rendimiento deportivo:\n",
        "\n",
        "Edad: Edad del deportista (en años)\n",
        "\n",
        "HorasEntrenamiento: Horas de entrenamiento semanales\n",
        "\n",
        "Experiencia: Años de experiencia en el deporte\n",
        "\n",
        "Lesiones: Número de lesiones sufridas durante la temporada\n",
        "\n",
        "Rendimiento: Índice de rendimiento deportivo (valor numérico), calculado como función de las otras variables\n",
        "\n",
        "La variable Rendimiento se simuló considerando que un mayor número de horas de entrenamiento y experiencia contribuye positivamente, mientras que un mayor número de lesiones y una edad elevada pueden afectar negativamente el rendimiento\n",
        "\n"
      ],
      "metadata": {
        "id": "_eRq0glP_PyK"
      }
    },
    {
      "cell_type": "code",
      "execution_count": null,
      "metadata": {
        "id": "bJ0kkAS6_Gmp"
      },
      "outputs": [],
      "source": [
        "import pandas as pd\n",
        "import numpy as np\n"
      ]
    },
    {
      "cell_type": "code",
      "source": [
        "# Fijar semilla para reproducibilidad\n",
        "np.random.seed(42)\n",
        "n = 500\n",
        "\n"
      ],
      "metadata": {
        "id": "kvXyqiry_bpO"
      },
      "execution_count": null,
      "outputs": []
    },
    {
      "cell_type": "code",
      "source": [
        "# Generación de variables\n",
        "edad = np.random.randint(18, 35, size=n)\n",
        "horas_entrenamiento = np.random.uniform(5, 20, size=n).round(1)\n",
        "experiencia = np.random.randint(1, 15, size=n)\n",
        "lesiones = np.random.poisson(lam=1, size=n)\n"
      ],
      "metadata": {
        "id": "AqVmSlrl_ih1"
      },
      "execution_count": null,
      "outputs": []
    },
    {
      "cell_type": "code",
      "source": [
        "\n",
        "# Simulación del rendimiento: mejora con horas y experiencia; se reduce con lesiones y edad\n",
        "rendimiento = (0.3 * horas_entrenamiento + 0.5 * experiencia - 0.2 * lesiones - 0.1 * edad + np.random.normal(0, 1, n)).round(2)\n",
        "\n"
      ],
      "metadata": {
        "id": "m18RZ3LK_kPK"
      },
      "execution_count": null,
      "outputs": []
    },
    {
      "cell_type": "code",
      "source": [
        "# Creación del DataFrame\n",
        "df = pd.DataFrame({\n",
        "    'Edad': edad,\n",
        "    'HorasEntrenamiento': horas_entrenamiento,\n",
        "    'Experiencia': experiencia,\n",
        "    'Lesiones': lesiones,\n",
        "    'Rendimiento': rendimiento\n",
        "})\n",
        "\n",
        "# Exportar el dataset a CSV\n",
        "df.to_csv('dataset_deportivo.csv', index=False)"
      ],
      "metadata": {
        "id": "1Tqh9WhR_n4e"
      },
      "execution_count": null,
      "outputs": []
    }
  ]
}