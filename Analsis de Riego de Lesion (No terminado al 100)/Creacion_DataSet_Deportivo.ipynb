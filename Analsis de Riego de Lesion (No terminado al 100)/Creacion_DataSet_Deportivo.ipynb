{
  "nbformat": 4,
  "nbformat_minor": 0,
  "metadata": {
    "colab": {
      "provenance": []
    },
    "kernelspec": {
      "name": "python3",
      "display_name": "Python 3"
    },
    "language_info": {
      "name": "python"
    }
  },
  "cells": [
    {
      "cell_type": "code",
      "execution_count": null,
      "metadata": {
        "id": "GbQT2deZFjoe"
      },
      "outputs": [],
      "source": [
        "import random\n",
        "import pandas as pd"
      ]
    },
    {
      "cell_type": "code",
      "source": [
        "# Generar dataset ficticio con 500 registros\n",
        "players = [\"Jugador 1\", \"Jugador 2\", \"Jugador 3\", \"Jugador 4\", \"Jugador 5\"]\n",
        "data_extended = {\n",
        "    \"Jugador\": [],\n",
        "    \"Frecuencia Promedio (bpm)\": [],\n",
        "    \"Velocidad Máxima (km/h)\": [],\n",
        "    \"Distancia Recorrida (km)\": [],\n",
        "    \"Horas Entrenamiento (semanal)\": [],\n",
        "    \"Historial de Lesiones\": [],\n",
        "}"
      ],
      "metadata": {
        "id": "cFEP7h9JFoe-"
      },
      "execution_count": null,
      "outputs": []
    },
    {
      "cell_type": "code",
      "source": [
        "# Generar registros aleatorios para cada jugador\n",
        "for player in players:\n",
        "    num_records = random.randint(90, 110)  # Aproximadamente 100 registros por jugador\n",
        "    for _ in range(num_records):\n",
        "        data_extended[\"Jugador\"].append(player)\n",
        "        data_extended[\"Frecuencia Promedio (bpm)\"].append(random.randint(120, 180))\n",
        "        data_extended[\"Velocidad Máxima (km/h)\"].append(round(random.uniform(20, 35), 1))\n",
        "        data_extended[\"Distancia Recorrida (km)\"].append(round(random.uniform(8, 15), 1))\n",
        "        data_extended[\"Horas Entrenamiento (semanal)\"].append(random.randint(5, 10))\n",
        "        data_extended[\"Historial de Lesiones\"].append(random.randint(0, 3))"
      ],
      "metadata": {
        "id": "P3F3JlpkFq0m"
      },
      "execution_count": null,
      "outputs": []
    },
    {
      "cell_type": "code",
      "source": [
        "# Crear DataFrame\n",
        "df_extended = pd.DataFrame(data_extended)"
      ],
      "metadata": {
        "id": "jOqfym_ZFsrR"
      },
      "execution_count": null,
      "outputs": []
    },
    {
      "cell_type": "code",
      "source": [
        "# Guardar en un archivo para el usuario\n",
        "file_path_extended = \"./dataset_ficticio_500_registros.csv\"\n",
        "df_extended.to_csv(file_path_extended, index=False)"
      ],
      "metadata": {
        "id": "7QHw6gsbFxMB"
      },
      "execution_count": null,
      "outputs": []
    }
  ]
}