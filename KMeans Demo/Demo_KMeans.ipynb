{
  "nbformat": 4,
  "nbformat_minor": 0,
  "metadata": {
    "colab": {
      "provenance": []
    },
    "kernelspec": {
      "name": "python3",
      "display_name": "Python 3"
    },
    "language_info": {
      "name": "python"
    }
  },
  "cells": [
    {
      "cell_type": "markdown",
      "source": [
        "# Demo KMeasns\n",
        "\n",
        "By Jean Carlo Alvarez"
      ],
      "metadata": {
        "id": "9O0wjZXp4g8d"
      }
    },
    {
      "cell_type": "markdown",
      "source": [
        "# Importar librerias"
      ],
      "metadata": {
        "id": "GLlXyUPX4mJy"
      }
    },
    {
      "cell_type": "code",
      "execution_count": null,
      "metadata": {
        "id": "0OFYKKu74eqi"
      },
      "outputs": [],
      "source": [
        "import pandas as pd\n",
        "import numpy as np\n",
        "import matplotlib.pyplot as plt\n",
        "from sklearn import preprocessing\n",
        "from sklearn.cluster import KMeans\n",
        "import warnings\n",
        "warnings.filterwarnings('ignore')\n",
        "from sklearn.decomposition import PCA"
      ]
    },
    {
      "cell_type": "markdown",
      "source": [
        "**pandas:**\n",
        " Biblioteca para manipulación y análisis de datos estructurados como leer y escribir datos, limpiar, filtrar, agregar y transformar conjuntos de datos\n",
        "\n",
        "\n",
        "**numpy:**\n",
        "\n",
        "Biblioteca para realizar operaciones matemáticas y manipulación de matrices y arreglos multidimensionales\n",
        "\n",
        "**matplotlib.pyplot:**\n",
        "\n",
        "Biblioteca para visualización de datos mediante gráficos\n",
        "\n",
        "**sklearn.preprocessing:**\n",
        "\n",
        "Módulo de scikit-learn para preprocesar datos antes de modelarlos\n",
        "\n",
        "**sklearn.cluster.KMeans:**\n",
        "Algoritmo de clustering basado en particiones para agrupar datos\n",
        "\n",
        "Parámetros que pueden ser importantes:\n",
        "- n_clusters: Número de grupos que deseas formar\n",
        "- random_state: Asegura reproducibilidad de los resultados\n",
        "\n",
        "**warnings.filterwarnings('ignore'):**\n",
        "Instrucción para ignorar ciertos mensajes de advertencia\n",
        "\n",
        "**sklearn.decomposition.PCA:**\n",
        "\n",
        "Algoritmo para reducción de dimensionalidad utilizando la técnica de Análisis de Componentes Principales\n",
        "\n",
        "Parámetro importante:\n",
        "\n",
        "- n_components: Número de componentes principales a conservar"
      ],
      "metadata": {
        "id": "eqrYobyJ4o9A"
      }
    },
    {
      "cell_type": "markdown",
      "source": [
        "# Cargar Datos"
      ],
      "metadata": {
        "id": "8AmL5ejI4opH"
      }
    },
    {
      "cell_type": "code",
      "source": [
        "df = df = pd.read_csv('./Wholesale_customers_data.csv')\n",
        "df=df.dropna()\n",
        "df.sample(10)"
      ],
      "metadata": {
        "id": "WKLMUvjx4rdS"
      },
      "execution_count": null,
      "outputs": []
    },
    {
      "cell_type": "markdown",
      "source": [
        "**pd.read_csv('./Wholesale_customers_data.csv'):**\n",
        "\n",
        "Carga un archivo CSV ubicado en el directorio actual (./) y lo convierte en un dataframe de pandas llamado df\n",
        "\n",
        "**df.dropna():**\n",
        "\n",
        "Elimina cualquier fila que contenga valores nulos (NaN) en el dataframe\n",
        "\n",
        "**df.sample(10):**\n",
        "\n",
        "Devuelve una muestra aleatoria de 10 filas del dataframe"
      ],
      "metadata": {
        "id": "oFsG3KNy4svV"
      }
    },
    {
      "cell_type": "markdown",
      "source": [
        "# Datos de muestra"
      ],
      "metadata": {
        "id": "yleq2aPj4s_q"
      }
    },
    {
      "cell_type": "code",
      "source": [
        "indices=[230,310,21]\n",
        "df = df.drop(['Region','Channel'],axis=1)\n",
        "muestra = pd.DataFrame(df.loc[indices],columns=df.keys()).reset_index(drop=True)\n",
        "df=df.drop(indices,axis=0)"
      ],
      "metadata": {
        "id": "sw8qCOFS4v91"
      },
      "execution_count": null,
      "outputs": []
    },
    {
      "cell_type": "markdown",
      "source": [
        "**indices = [230, 310, 21]**\n",
        "\n",
        "Crea una lista de índices específicos (230, 310, 21) que se usarán  para seleccionar y manipular ciertas filas del dataframe\n",
        "\n",
        "**df.drop(['Region', 'Channel'], axis=1)**\n",
        "\n",
        "Elimina las columnas Region y Channel del dataframe\n",
        "\n",
        "- axis=1: Indica que se está operando sobre columnas (en lugar de filas que sería axis=0)\n",
        "\n",
        "**muestra = pd.DataFrame(df.loc[indices], columns=df.keys()).reset_index(drop=True)**\n",
        "\n",
        "- **df.loc[indices]:** Selecciona las filas con los índices especificados en la lista indices (230, 310, 21) del dataframe\n",
        "\n",
        "- **columns=df.keys():** Asegura que las columnas en el nuevo dataframe muestra correspondan a los nombres de las columnas del dataframe\n",
        "\n",
        "- **.reset_index(drop=True):** Restablece los índices del nuevo dataframe, eliminando los índices originales y creando un nuevo índice que comienza en 0\n",
        "\n",
        "**df = df.drop(indices, axis=0)**\n",
        "\n",
        "Elimina las filas cuyos índices corresponden a la lista indices (230, 310, 21) del dataframe\n",
        "\n",
        "- axis=0: Indica que la operación se realiza sobre las filas"
      ],
      "metadata": {
        "id": "35BI1AcL4y9O"
      }
    },
    {
      "cell_type": "markdown",
      "source": [
        "# Procesamiento de Datos"
      ],
      "metadata": {
        "id": "z0k0WhyJ4yyB"
      }
    },
    {
      "cell_type": "code",
      "source": [
        "df_escalada= preprocessing.Normalizer().fit_transform(df)\n",
        "muestra_escalada= preprocessing.Normalizer().fit_transform(muestra)"
      ],
      "metadata": {
        "id": "ySyaItH045dK"
      },
      "execution_count": null,
      "outputs": []
    },
    {
      "cell_type": "markdown",
      "source": [
        "**df_escalada = preprocessing.Normalizer().fit_transform(df)**\n",
        "\n",
        "**muestra_escalada= preprocessing.Normalizer().fit_transform(muestra)**\n",
        "\n",
        "\n",
        "- **preprocessing.Normalizer():**\n",
        "Normaliza los datos fila por fila de modo que cada fila tenga una norma igual a 1\n",
        "\n",
        "Esto significa que los valores de cada fila se escalan proporcionalmente al dividirlos por la raíz cuadrada de la suma de los cuadrados de los valores de esa fila\n",
        "\n",
        "Es útil cuando las características de cada fila necesitan estar en una escala comparable sin perder la proporción relativa entre ellas\n",
        "\n",
        "- **fit_transform(df):**\n",
        "Ajusta el normalizador (fit) usando el dataframe df  o el de muestra y lo transforma  para devolver una nueva matriz normalizada"
      ],
      "metadata": {
        "id": "w3FK3NtP48RL"
      }
    },
    {
      "cell_type": "markdown",
      "source": [
        "# Analisis"
      ],
      "metadata": {
        "id": "UpZdC_FU48KS"
      }
    },
    {
      "cell_type": "code",
      "source": [
        "x= df_escalada.copy()"
      ],
      "metadata": {
        "id": "uq8psMXc5BVN"
      },
      "execution_count": null,
      "outputs": []
    },
    {
      "cell_type": "markdown",
      "source": [
        "**x = df_escalada.copy()**\n",
        ".\n",
        "**.copy():** Crea una copia independiente del arreglo df_escalada\n",
        "\n",
        "Esto significa que cualquier modificación posterior en x no afectará a df_escalada ni viceversa.\n",
        "\n",
        "**Por qué se usa .copy()?**\n",
        "\n",
        "- Evitar efectos colaterales:\n",
        "Si asignaras x = df_escalada sin usar .copy() ambas variables apuntarían al mismo objeto en memoria. Cambiar x cambiaría automáticamente df_escalada\n",
        "\n",
        "- Asegurar independencia de datos:\n",
        ".copy() garantiza que las dos variables sean independientes."
      ],
      "metadata": {
        "id": "KwL9QLna5Cz5"
      }
    },
    {
      "cell_type": "markdown",
      "source": [
        "## Encontra el valor k optimo usanddo la tecnica del CODO"
      ],
      "metadata": {
        "id": "CI2qIz0d5FjR"
      }
    },
    {
      "cell_type": "code",
      "source": [
        "inercia=[]\n",
        "for i in range(1,20):\n",
        "    algoritmo= KMeans(n_clusters=i,init= 'k-means++',max_iter=300,n_init=10)\n",
        "    algoritmo.fit(x)\n",
        "    inercia.append(algoritmo.inertia_)"
      ],
      "metadata": {
        "id": "uZvnKWrd5DZc"
      },
      "execution_count": null,
      "outputs": []
    },
    {
      "cell_type": "markdown",
      "source": [
        "**inercia = []**\n",
        "\n",
        "Se crea una lista vacía llamada inercia para almacenar los valores de inercia calculados para diferentes números de clusters (n_clusters)\n",
        "\n",
        "**for i in range(1, 20):**\n",
        "Inicia un bucle que va desde i = 1 hasta i = 19 donde\n",
        "i representa el número de clusters que se probarán para el algoritmo K-Means\n",
        "\n",
        "**algoritmo = KMeans(n_clusters=i, init='k-means++', max_iter=300, n_init=10)**\n",
        "\n",
        "Se crea una instancia del modelo de clustering K-Means\n",
        "\n",
        "**Parametros:**\n",
        "\n",
        "- **n_clusters=i:**\n",
        "Número de clusters a formar. Este valor cambia en cada iteración del bucle\n",
        "\n",
        "- **init='k-means++':**\n",
        "Método de inicialización inteligente para los centroides iniciales, que acelera la convergencia\n",
        "\n",
        "- **max_iter=300:**\n",
        "Máximo número de iteraciones que realizará el algoritmo para ajustar los centroides\n",
        "\n",
        "- **n_init=10:**\n",
        "Número de veces que el algoritmo se ejecutará con diferentes inicializaciones. Retorna la mejor solución (mínima inercia) de todas las ejecuciones\n",
        "\n",
        "**Valores posibles para init**\n",
        "\n",
        "**1-'k-means++' (Por defecto):**\n",
        "Este método selecciona los centroides iniciales de manera inteligente para acelerar la convergencia del algoritmo\n",
        "\n",
        "El primer centroide se elige aleatoriamente. Luego, los siguientes centroides se seleccionan maximizando la distancia al centroide más cercano ya seleccionado\n",
        "\n",
        "**Ventajas:**\n",
        "- Reduce el riesgo de converger a un mínimo local deficiente\n",
        "- Mejora la velocidad de convergencia en comparación con una inicialización completamente aleatoria\n",
        "\n",
        "**Cuándo usarlo:**\n",
        "Siempre que no tengas una razón específica para usar un método diferente\n",
        "\n",
        "**2-'random':**\n",
        "Selecciona los centroides iniciales de manera completamente aleatoria\n",
        "\n",
        "**Ventajas:**\n",
        "Simple y rápido\n",
        "\n",
        "**Desventajas:**\n",
        "\n",
        "- Puede dar lugar a soluciones de menor calidad (clusters subóptimos).\n",
        "- Aumenta el riesgo de converger a un mínimo local\n",
        "\n",
        "**Cuándo usarlo:**\n",
        "Para comparar resultados con otros métodos o en problemas pequeños donde la inicialización no tiene un gran impacto\n",
        "\n",
        "**3-Matriz de inicialización personalizada (array-like o matriz NumPy):**\n",
        "\n",
        "\n",
        "Permite especificar manualmente las posiciones iniciales de los centroides.\n",
        "Debes proporcionar una matriz de dimensiones (n_clusters, n_features) donde:\n",
        "\n",
        "- n_clusters es el número de clusters deseados\n",
        "- n_features es el número de características (columnas) en los datos\n",
        "\n",
        "**Ventajas:**\n",
        "Permite personalización completa si tienes conocimiento previo sobre la ubicación probable de los clusters\n",
        "\n",
        "**Desventajas:**\n",
        "Riesgo de convergencia a un mínimo local si los centroides iniciales son mal seleccionados\n",
        "\n",
        "**Cuándo usarlo:**\n",
        "Si ya conoces o tienes una hipótesis sobre las posiciones iniciales de los clusters\n",
        "\n",
        "**4-Otros métodos personalizados (usando inicializadores propios):**\n",
        "\n",
        "Si necesitas un método específico para inicializar los centroides, puedes escribir tu propio inicializador y usarlo\n",
        "\n",
        "\n",
        "**algoritmo.fit(x)**\n",
        "\n",
        "Ajusta el modelo K-Means a los datos normalizados x para el número de clusters i\n",
        "Los centroides y las asignaciones de puntos a clusters se calculan en esta etapa\n",
        "\n",
        "**inercia.append(algoritmo.inertia_)**\n",
        "\n",
        "- algoritmo.inertia_:\n",
        "Es la suma de las distancias cuadradas entre cada punto y el centroide de su cluster asignado\n",
        "\n",
        "La inercia mide qué tan compactos están los clusters. Valores más bajos indican clusters más compactos y definidos\n",
        "\n",
        "Este valor se añade a la lista inercia\n",
        "\n",
        "**Resultado esperado**\n",
        "\n",
        "La lista inercia contendrá 19 valores correspondientes a la inercia para 1 hasta 19 clusters\n",
        "\n",
        "**Uso típico: Método del codo**\n",
        "\n",
        "La inercia se utiliza para determinar el número óptimo de clusters mediante el método del codo:\n",
        "\n",
        "- Se grafica el número de clusters (n_clusters) contra la inercia\n",
        "- El \"codo\" del gráfico indica el punto en el que añadir más clusters ya no reduce significativamente la inercia\n",
        "\n"
      ],
      "metadata": {
        "id": "heNJIc135RkG"
      }
    },
    {
      "cell_type": "markdown",
      "source": [
        "## Graficamos para observar el codo"
      ],
      "metadata": {
        "id": "UAq_HqzT5RX6"
      }
    },
    {
      "cell_type": "code",
      "source": [
        "plt.figure(figsize=(10,6))\n",
        "plt.title('Metodo del Codo')\n",
        "plt.xlabel('No de cluster')\n",
        "plt.ylabel('Inercia')\n",
        "plt.plot(list(range(1,20)),inercia, marker='o')\n",
        "plt.show()"
      ],
      "metadata": {
        "id": "WKI6bbrO5WV1"
      },
      "execution_count": null,
      "outputs": []
    },
    {
      "cell_type": "markdown",
      "source": [
        "**plt.figure(figsize=(10,6))**\n",
        "\n",
        "Crea una figura de tamaño personalizado con dimensiones de 10 unidades de ancho y 6 unidades de alto Esto controla el tamaño del gráfico que se va a mostrar\n",
        "\n",
        "**plt.title('Metodo del Codo')**\n",
        "\n",
        "Añade un título al gráfico: 'Metodo del Codo'\n",
        "\n",
        "**plt.xlabel('No de cluster')**\n",
        "\n",
        "Establece la etiqueta del eje x (horizontal) como 'No de cluster'.\n",
        "Representa el número de clusters utilizados en el algoritmo K-Means (de 1 a 19 en este caso)\n",
        "\n",
        "**plt.ylabel('Inercia')**\n",
        "Establece la etiqueta del eje y (vertical) como 'Inercia'\n",
        "La inercia representa la suma de las distancias cuadradas de los puntos a sus centroides asignados\n",
        "\n",
        "**plt.plot(list(range(1,20)), inercia, marker='o')**\n",
        "\n",
        "- **list(range(1,20)):** Genera una lista de números del 1 al 19 (número de clusters probados)\n",
        "\n",
        "- **inercia:** Lista de valores de inercia calculados previamente para cada número de clusters\n",
        "\n",
        "- **marker='o':** Dibuja un marcador circular en cada punto del gráfico, facilitando la identificación de los puntos de interés\n",
        "\n",
        "- **plt.plot:** Traza una línea conectando los punto\n",
        "\n",
        "**plt.show()**\n",
        "Muestra el gráfico en pantalla\n",
        "\n",
        "**Resultado esperado**\n",
        "Un gráfico llamado \"Método del Codo\" que muestra:\n",
        "\n",
        "- Eje X: Número de clusters (1 a 19)\n",
        "- Eje Y: Valores de inercia calculados para cada número de clusters\n",
        "\n",
        "**Forma esperada:**\n",
        "\n",
        "La inercia disminuye rápidamente al principio y luego empieza a estabilizarse.\n",
        "El \"codo\" del gráfico (el punto donde la reducción de inercia comienza a ser menos pronunciada) indica el número óptimo de clusters\n",
        "\n",
        "**Uso del gráfico**\n",
        "\n",
        "El método del codo sugiere que:\n",
        "\n",
        "- El punto óptimo es donde añadir más clusters deja de reducir significativamente la inercia\n",
        "- Busca el punto donde el gráfico cambia de una pendiente pronunciada a una más plana"
      ],
      "metadata": {
        "id": "fiQxZoNm5XlT"
      }
    },
    {
      "cell_type": "markdown",
      "source": [
        "## Aplicacion KMeans"
      ],
      "metadata": {
        "id": "qhUmryx75YsD"
      }
    },
    {
      "cell_type": "code",
      "source": [
        "algoritmo= KMeans(n_clusters=6,init='k-means++',max_iter=300,n_init=10)"
      ],
      "metadata": {
        "id": "uD9lbe0H5a4g"
      },
      "execution_count": null,
      "outputs": []
    },
    {
      "cell_type": "markdown",
      "source": [
        "Creamos una instancia del modelo KMeans con parámetros específicos\n",
        "\n",
        "- **n_clusters=6**\n",
        "Define el número de clusters (o grupos) que el algoritmo formará.\n",
        "Valor: En este caso, se especifica que se quieren 6 clusters\n",
        "\n",
        " **Cómo afecta el resultado:**\n",
        "Este valor debe seleccionarse basándose en análisis previos, como el método del codo, para encontrar el número óptimo de clusters\n",
        "\n",
        "- **init='k-means++'**\n",
        "Especifica el método de inicialización de los centroides\n",
        "\n",
        " Valor por defecto: 'k-means++'\n",
        "\n",
        " Significado:\n",
        " Selecciona los centroides iniciales de forma inteligente, distribuyéndolos para minimizar la convergencia a mínimos locales\n",
        "\n",
        " Mejora la velocidad y precisión del modelo.\n",
        "\n",
        "**Otras opciones posibles:**\n",
        "\n",
        "**'random':** Inicializa los centroides aleatoriamente\n",
        "\n",
        "**Matriz personalizada:** Puedes pasar una matriz NumPy con los valores iniciales de los centroides\n",
        "\n",
        "**max_iter=300**\n",
        " Define el número máximo de iteraciones que el algoritmo realizará para ajustar los centroides.\n",
        "\n",
        " Valor por defecto: 300\n",
        "\n",
        " Significado:\n",
        "Si el algoritmo no converge antes de las 300 iteraciones, detendrá el proceso y devolverá los centroides más cercanos al resultado óptimo\n",
        "\n",
        "Cuándo modificar este valor:\n",
        "En conjuntos de datos muy grandes o complejos, podrías aumentar este valor si el algoritmo no converge\n",
        "\n",
        "\n",
        "**n_init=10**\n",
        "Especifica el número de veces que el algoritmo se ejecutará con diferentes inicializaciones\n",
        "\n",
        "Valor por defecto: 10\n",
        "\n",
        "Significado:\n",
        "El algoritmo se ejecutará 10 veces con diferentes posiciones iniciales de los centroides.\n",
        "Devuelve la mejor solución (menor inercia) entre las ejecuciones.\n",
        "Cuándo modificar este valor:\n",
        "Para mejorar la estabilidad de los resultados en datos muy complejos, puedes aumentar este valor.\n",
        "\n",
        "\n",
        "**Resultado esperado**\n",
        "\n",
        "Se crea un modelo de KMeans con 6 clusters, utilizando la inicialización 'k-means++', con un límite de 300 iteraciones por ejecución y probando 10 inicializaciones diferentes\n",
        "Este modelo aún no se ha ajustado a los datos; solo se ha configurado"
      ],
      "metadata": {
        "id": "Pq2JE3yw5gas"
      }
    },
    {
      "cell_type": "code",
      "source": [
        "algoritmo.fit(x)"
      ],
      "metadata": {
        "id": "rSeSBOY-5fiz"
      },
      "execution_count": null,
      "outputs": []
    },
    {
      "cell_type": "markdown",
      "source": [
        "El método fit aplica el algoritmo K-Means al conjunto de datos x para encontrar los centroides y asignar clusters\n",
        "\n",
        "El modelo iterará para minimizar la inercia (la suma de las distancias cuadradas de cada punto al centroide más cercano)"
      ],
      "metadata": {
        "id": "3uQCywVv5fRa"
      }
    },
    {
      "cell_type": "code",
      "source": [
        "centroides,etiquetas= algoritmo.cluster_centers_,algoritmo.labels_"
      ],
      "metadata": {
        "id": "JOeueAYF5inZ"
      },
      "execution_count": null,
      "outputs": []
    },
    {
      "cell_type": "markdown",
      "source": [
        "Se extraen los resultados del modelo KMeans después de haber ajustado el algoritmo con algoritmo.fit(x)\n",
        "\n",
        "**centroides = algoritmo.cluster_centers_**\n",
        "\n",
        "\n",
        "- **algoritmo.cluster_centers_** contiene las coordenadas de los centroides finales para cada cluster\n",
        "\n",
        "  - Cada fila representa un cluster y cada columna representa una característica (feature) de los datos.\n",
        "\n",
        "   - Forma de la matriz:\n",
        "\n",
        "        Dimensiones: (n_clusters, n_features), donde:\n",
        "\n",
        "        - n_clusters es el número de clusters (en este caso, 6)\n",
        "        - n_features es el número de columnas (características) en x\n",
        "\n",
        "   - Uso práctico:\n",
        "\n",
        "Los centroides representan el punto central (promedio) de cada cluster en el espacio de las características.\n",
        "Puedes analizarlos para comprender las características promedio de cada grupo\n",
        "\n",
        "\n"
      ],
      "metadata": {
        "id": "tEk9wZtR5kWi"
      }
    },
    {
      "cell_type": "markdown",
      "source": [
        "## Verificamos los datos de muestra"
      ],
      "metadata": {
        "id": "Z4_bXoeu5mF_"
      }
    },
    {
      "cell_type": "code",
      "source": [
        "muestra_prediccion= algoritmo.predict(muestra_escalada)\n",
        "for i, pred in enumerate(muestra_prediccion):\n",
        "    print('Muestra',i,' se encuentra en el cluster: ',pred)"
      ],
      "metadata": {
        "id": "xtMrbfs65kza"
      },
      "execution_count": null,
      "outputs": []
    },
    {
      "cell_type": "markdown",
      "source": [
        "Se utiliza el modelo KMeans ajustado para predecir a qué cluster pertenecen las muestras previamente seleccionadas y escaladas (muestra_escalada)\n",
        "\n",
        "**muestra_prediccion = algoritmo.predict(muestra_escalada)**\n",
        "\n",
        "**algoritmo.predict(muestra_escalada):**\n",
        "Calcula el cluster al que pertenece cada fila de muestra_escalada\n",
        "\n",
        "Asigna cada fila al cluster cuyo centroide esté más cercano (utilizando la distancia euclidiana)\n",
        "\n",
        "**Resultado:**\n",
        "muestra_prediccion es un arreglo con las etiquetas de los clusters para cada fila en muestra_escalada\n",
        "\n",
        " **for i, pred in enumerate(muestra_prediccion):**\n",
        "\n",
        "Inicia un bucle que recorre las predicciones en muestra_prediccion\n",
        "\n",
        "**enumerate(muestra_prediccion):**\n",
        "\n",
        "Proporciona tanto el índice (i) como el valor de la predicción (pred) para cada fila en muestra_escalada\n",
        "\n",
        "**print('Muestra', i, 'se encuentra en el cluster: ', pred)**\n",
        "\n",
        "Imprime en la consola el índice de la muestra (i) y el cluster al que pertenece (pred)\n",
        "\n",
        "**Propósito de este código**\n",
        "\n",
        "Verificar en qué cluster caen las filas seleccionadas de muestra después de aplicar la normalización y el modelo ajustado\n",
        "\n",
        "**Esto es útil para:**\n",
        "- Validar el modelo: ¿Tiene sentido que estas muestras estén en esos clusters?\n",
        "- Interpretar los clusters: Analizar las características de las muestras en relación con el cluster asignado\n",
        "\n"
      ],
      "metadata": {
        "id": "E9gKjLad5roo"
      }
    },
    {
      "cell_type": "markdown",
      "source": [
        "## Graficamos los cluster\n",
        "\n",
        "**Aplicamos PCA ** esto para reducir las dimensiones y sea mas sencillo graficar los datos"
      ],
      "metadata": {
        "id": "7qEgsEea5sEe"
      }
    },
    {
      "cell_type": "code",
      "source": [
        "modelo_pca = PCA(n_components=2)\n",
        "modelo_pca.fit(x)\n",
        "pca=modelo_pca.transform(x)"
      ],
      "metadata": {
        "id": "MXWTAa1k5wQf"
      },
      "execution_count": null,
      "outputs": []
    },
    {
      "cell_type": "markdown",
      "source": [
        "**modelo_pca = PCA(n_components=2)**\n",
        "Se crea un modelo de PCA (Análisis de Componentes Principales) para reducir la dimensionalidad de los datos\n",
        "\n",
        "- n_components=2:\n",
        "Indica que el objetivo es reducir los datos a 2 dimensiones principales (dos componentes)\n",
        "\n",
        "Los componentes principales son combinaciones lineales de las características originales que maximizan la varianza en los datos\n",
        "\n",
        "**modelo_pca.fit(x)**\n",
        "Ajusta el modelo PCA a los datos x\n",
        "\n",
        "Durante el ajuste:\n",
        "\n",
        "Calcula las direcciones (vectores propios) y magnitudes (valores propios) de máxima varianza en los datos\n",
        "\n",
        "Las direcciones representan los nuevos ejes principales\n",
        "\n",
        "Los valores propios determinan cuánta varianza explica cada componente\n",
        "\n",
        "Resultado del ajuste:\n",
        "\n",
        "El modelo ahora tiene información sobre las dos principales direcciones de variación en los datos\n",
        "\n",
        "**pca = modelo_pca.transform(x)**\n",
        "Transforma los datos originales x a las nuevas 2 dimensiones principales identificadas por el modelo PCA\n",
        "\n",
        "Cada fila en pca será una proyección de la fila correspondiente en x sobre los dos nuevos ejes principales\n",
        "\n",
        "Resultado:\n",
        "\n",
        "pca es un nuevo arreglo NumPy con forma (n_samples, 2), donde:\n",
        "- n_samples es el número de filas en los datos originales x.\n",
        "- 2 son las dos componentes principales seleccionadas\n",
        "\n"
      ],
      "metadata": {
        "id": "y9XZyW3N58x4"
      }
    },
    {
      "cell_type": "code",
      "source": [
        "centroides_pca=modelo_pca.transform(centroides)"
      ],
      "metadata": {
        "id": "S_aMu7n159Sm"
      },
      "execution_count": null,
      "outputs": []
    },
    {
      "cell_type": "markdown",
      "source": [
        "Se proyectan las coordenadas de los centroides de los clusters al espacio de las dos componentes principales obtenido previamente con el modelo PCA\n",
        "\n",
        "**modelo_pca.transform(centroides)**\n",
        "\n",
        "Toma las coordenadas de los centroides originales (que tienen la misma dimensionalidad que los datos iniciales) y los transforma al espacio reducido de las dos componentes principales\n",
        "\n",
        "Al igual que se proyectaron los datos originales (x) en el espacio PCA, ahora se proyectan los centroides\n",
        "\n",
        "**Resultado:**\n",
        "\n",
        "centroides_pca es una matriz con las coordenadas de los centroides en el espacio de las dos componentes principales\n",
        "\n",
        "Forma de la matriz:\n",
        "\n",
        "Si hay n_clusters clusters (por ejemplo, 6) y trabajamos con n_components=2:\n",
        "Dimensiones: (n_clusters, n_components)\n",
        "\n",
        "**¿Por qué proyectar los centroides?**\n",
        "\n",
        "- Visualización:\n",
        "\n",
        "  Permite graficar los centroides junto con los datos proyectados en 2D (espacio PCA)\n",
        "  Ayuda a entender cómo se distribuyen los clusters y si los centroides están bien ubicados.\n",
        "\n",
        "- Análisis:\n",
        "\n",
        "  Ver la relación entre los centroides y los puntos de datos en el espacio reducido\n",
        "  Identificar qué tan bien separadas están las áreas de influencia de cada cluster"
      ],
      "metadata": {
        "id": "fCVYHMLd5_rL"
      }
    },
    {
      "cell_type": "code",
      "source": [
        "colores=['blue','red','green','orange','gray','brown']\n",
        "colores_cluster=[colores[etiquetas[i]] for i in range(len(pca))]"
      ],
      "metadata": {
        "id": "yIQxFx3f6AES"
      },
      "execution_count": null,
      "outputs": []
    },
    {
      "cell_type": "markdown",
      "source": [
        "**colores = ['blue', 'red', 'green', 'orange', 'gray', 'brown']**\n",
        "\n",
        "Se define una lista llamada colores que contiene los colores que se usarán para representar los diferentes clusters\n",
        "\n",
        "Cada índice de esta lista corresponde al número del cluster\n",
        "- Cluster 0 → 'blue'\n",
        "- Cluster 1 → 'red'\n",
        "- Cluster 2 → 'green'\n",
        "- Y así sucesivamente\n",
        "\n",
        "**colores_cluster = [colores[etiquetas[i]] for i in range(len(pca))]**\n",
        "\n",
        "Se utiliza una comprensión de listas para asignar un color a cada punto en el espacio PCA, basándose en las etiquetas (etiquetas) de los clusters\n",
        "\n",
        "\n",
        "\n",
        "- **range(len(pca)):** Genera un rango desde 0 hasta el número de puntos en pca (es decir, el número de filas en los datos proyectados)\n",
        "\n",
        "- **etiquetas[i]:** Recupera la etiqueta del cluster asignado al punto i (un número entre 0 y 5 en este caso)\n",
        "\n",
        "- **colores[etiquetas[i]]:** Asigna el color correspondiente al cluster de acuerdo con la lista colores\n",
        "\n",
        "El resultado es una lista llamada colores_cluster, donde cada elemento es el color asignado al punto correspondiente\n",
        "\n",
        "**Resultado:**\n",
        "\n",
        "colores_cluster es una lista de colores, con la misma longitud que pca.\n",
        "Cada color corresponde al cluster al que pertenece el punto\n"
      ],
      "metadata": {
        "id": "Yk3ABTbK6Cgv"
      }
    },
    {
      "cell_type": "code",
      "source": [
        "plt.scatter(pca[:,0],pca[:,1],c=colores_cluster,marker='o',alpha=0.5)\n",
        "plt.scatter(centroides_pca[:,0],centroides_pca[:,1],marker='x',s=100,linewidths=3,c=colores)"
      ],
      "metadata": {
        "id": "mQPwIMp-6DIr"
      },
      "execution_count": null,
      "outputs": []
    },
    {
      "cell_type": "markdown",
      "source": [
        "Crea una visualización donde se representan los puntos del espacio reducido por PCA junto con los centroides de los clusters\n",
        "\n",
        "**plt.scatter(pca[:,0],pca[:,1],c=colores_cluster,marker='o',alpha=0.5)**\n",
        "\n",
        "- pca[:, 0]:\n",
        "Coordenadas de los puntos proyectados en el primer componente principal\n",
        "\n",
        "- pca[:, 1]:\n",
        "Coordenadas de los puntos proyectados en el segundo componente principal\n",
        "\n",
        "- c=colores_cluster:\n",
        "Especifica los colores de los puntos, asignados previamente en la lista colores_cluster según los clusters\n",
        "\n",
        "- marker='o':\n",
        "El marcador para los puntos es un círculo\n",
        "\n",
        "- alpha=0.5:\n",
        "Define la transparencia de los puntos (50%), permitiendo que los clusters densos sean más fáciles de visualizar\n",
        "\n",
        "\n",
        "**plt.scatter(centroides_pca[:,0],centroides_pca[:,1],marker='x',s=100,linewidths=3,c=colores)**\n",
        "\n",
        "- centroides_pca[:, 0]:\n",
        "Coordenadas de los centroides proyectados en el primer componente principal\n",
        "\n",
        "- centroides_pca[:, 1]:\n",
        "Coordenadas de los centroides proyectados en el segundo componente principal\n",
        "\n",
        "- marker='x':\n",
        "El marcador para los centroides es una \"X\"\n",
        "\n",
        "- s=100:\n",
        "Ajusta el tamaño de los marcadores de los centroides\n",
        "\n",
        "- linewidths=3:\n",
        "Define el grosor de las líneas que forman la \"X\"\n",
        "\n",
        "- c=colores:\n",
        "Usa la lista colores para asignar colores a los centroides (uno por cluster)\n",
        "\n",
        "**Qué esperar del gráfico?**\n",
        "\n",
        "- Puntos proyectados (pca):\n",
        "Los datos estarán distribuidos en dos dimensiones principales, con colores que representan el cluster al que pertenecen\n",
        "\n",
        "Los puntos se mostrarán con transparencia, permitiendo observar la densidad de los clusters\n",
        "\n",
        "- Centroides (centroides_pca):\n",
        "\n",
        "Los centroides aparecerán como grandes \"X\" en el gráfico, marcando el centro de cada cluster en el espacio PCA"
      ],
      "metadata": {
        "id": "Z1UWMB8LMBU1"
      }
    },
    {
      "cell_type": "code",
      "source": [
        "xvector=modelo_pca.components_[0] * max(pca[:,0])\n",
        "yvector=modelo_pca.components_[1] * max(pca[:,1])\n",
        "columnas=df.columns"
      ],
      "metadata": {
        "id": "rimtzTGdMAsJ"
      },
      "execution_count": null,
      "outputs": []
    },
    {
      "cell_type": "markdown",
      "source": [
        "Este código se utiliza para extraer y graficar las contribuciones de las características originales en el espacio reducido por PCA\n",
        "\n",
        "\n",
        "**modelo_pca.components_[0]**\n",
        "Accede a los pesos (cargas principales) del primer componente principal.\n",
        "Cada valor en este vector indica qué tan importante es cada característica original para este componente\n",
        "\n",
        "**max(pca[:, 0])**\n",
        "\n",
        "Encuentra el valor máximo de la primera dimensión del espacio PCA (el primer componente principal)\n",
        "\n",
        "Se utiliza para escalar los vectores y hacerlos proporcionales al rango de los datos proyectados\n",
        "\n",
        "**Resultado (xvector):**\n",
        "\n",
        "Representa las contribuciones de las características originales proyectadas sobre el primer componente principal.\n",
        "Escalado para que sea comparable en el espacio PCA\n",
        "\n",
        "**modelo_pca.components_[1]**\n",
        "Accede a los pesos (cargas principales) del segundo componente principal.\n",
        "Cada valor indica la importancia de cada característica original en este componente\n",
        "\n",
        "**max(pca[:, 1])**\n",
        "\n",
        "Encuentra el valor máximo en la segunda dimensión del espacio PCA (el segundo componente principal)\n",
        "\n",
        "Esto permite escalar los vectores para que se ajusten al rango de los datos proyectados\n",
        "\n",
        "**Resultado (yvector):**\n",
        "Representa las contribuciones de las características originales proyectadas sobre el segundo componente principal\n",
        "También está escalado para ser comparable en el espacio PCA\n",
        "\n",
        "**columnas = df.columns**\n",
        "\n",
        "- Extrae los nombres de las columnas del DataFrame original (df)\n",
        "- Esto es útil para etiquetar las contribuciones de las características originales en el gráfico o para interpretar los resultados\n",
        "\n",
        "**¿Qué representan xvector y yvector?**\n",
        "\n",
        "Son los vectores que indican la influencia de las características originales en el espacio reducido por PCA:\n",
        "\n",
        "- xvector: Contribuciones al primer componente principal\n",
        "- yvector: Contribuciones al segundo componente principal\n",
        "\n",
        "Estos vectores son importantes para entender qué características originales explican la varianza en los datos proyectados en cada componente principal\n"
      ],
      "metadata": {
        "id": "lOSP8_nSMAdT"
      }
    },
    {
      "cell_type": "code",
      "source": [
        "for i in range(len(columnas)):\n",
        "    plt.arrow(0,0,xvector[i],yvector[i],color='black',width = 0.0005,head_width=0.02,alpha=0.75)\n",
        "    plt.text(xvector[i],yvector[i],list(columnas)[i],color='black')\n",
        "\n",
        "plt.show()"
      ],
      "metadata": {
        "id": "NefTCnHsMD1N"
      },
      "execution_count": null,
      "outputs": []
    },
    {
      "cell_type": "markdown",
      "source": [
        "**for i in range(len(columnas)):**\n",
        "\n",
        "- Recorre todas las características originales (las columnas del DataFrame df)\n",
        "- Cada característica tiene un vector correspondiente en xvector y yvector\n",
        "\n",
        "**plt.arrow(0, 0, xvector[i], yvector[i], color='black', width=0.0005, head_width=0.02, alpha=0.75):**\n",
        "\n",
        "**plt.arrow(x, y, dx, dy):**\n",
        "Dibuja una flecha que comienza en (0, 0) y termina en (xvector[i], yvector[i])\n",
        "\n",
        "La flecha indica la dirección y magnitud de la contribución de una característica en el espacio PCA\n",
        "\n",
        "Parámetros:\n",
        "\n",
        "- color='black': Define el color de la flecha\n",
        "- width=0.0005: Establece el grosor del cuerpo de la flecha\n",
        "- head_width=0.02: Establece el tamaño de la punta de la flecha\n",
        "- alpha=0.75: Define la transparencia de la flecha (75% opacidad)\n",
        "\n",
        "**plt.text(xvector[i], yvector[i], list(columnas)[i], color='black'):**\n",
        "\n",
        "Dibuja el nombre de la característica en el gráfico, cerca del extremo del vector correspondiente\n",
        "\n",
        "Parámetros:\n",
        "\n",
        "- (xvector[i], yvector[i]): Posición donde se coloca el texto\n",
        "\n",
        "- list(columnas)[i]: Nombre de la característica extraído de la lista columnas\n",
        "\n",
        "**plt.show()**\n",
        "\n",
        "Muestra el gráfico completo con todas las flechas y etiquetas superpuestas\n",
        "\n",
        "**Resultado esperado**\n",
        "\n",
        "El gráfico muestra:\n",
        "\n",
        "Flechas:\n",
        "\n",
        "- Cada flecha representa la contribución de una característica original en el espacio reducido por PCA\n",
        "\n",
        "- La longitud de la flecha indica la magnitud de la contribución\n",
        "\n",
        "- La dirección indica cómo la característica afecta cada uno de los componentes principales\n",
        "\n",
        "Etiquetas:\n",
        "\n",
        "- Cada flecha tiene el nombre de la característica original en su extremo\n",
        "\n",
        "Centro del gráfico:\n",
        "\n",
        "Todas las flechas parten del origen (0, 0)\n"
      ],
      "metadata": {
        "id": "0Y0fojBF6Jg0"
      }
    }
  ]
}