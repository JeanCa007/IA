{
  "nbformat": 4,
  "nbformat_minor": 0,
  "metadata": {
    "colab": {
      "provenance": []
    },
    "kernelspec": {
      "name": "python3",
      "display_name": "Python 3"
    },
    "language_info": {
      "name": "python"
    }
  },
  "cells": [
    {
      "cell_type": "markdown",
      "source": [
        "# TDF-IDF DEMO\n",
        "\n",
        "**Explicación general:**\n",
        "\n",
        "**Cálculo de la matriz TF-IDF:**\n",
        "\n",
        "Se utiliza TfidfVectorizer para convertir una colección de documentos en una matriz numérica en la que cada elemento representa la importancia de una palabra en el documento, considerando su frecuencia y su importancia en el conjunto\n",
        "\n",
        "**Búsqueda con TF-IDF:**\n",
        "\n",
        "Se define una consulta que se transforma en un vector TF-IDF utilizando el mismo vectorizador, lo que asegura que se use el mismo vocabulario.\n",
        "Se calcula la similitud coseno entre la consulta y cada documento para determinar cuáles son los más relevantes\n",
        "\n",
        "Finalmente, se ordenan y muestran los documentos según su similitud con la consulta\n",
        "\n",
        "By Jean Carlo Alvarez Ramirez"
      ],
      "metadata": {
        "id": "4eWq5Kfb6bWC"
      }
    },
    {
      "cell_type": "markdown",
      "source": [
        "# Importar Librerias"
      ],
      "metadata": {
        "id": "_XTgFJhP6oPQ"
      }
    },
    {
      "cell_type": "code",
      "execution_count": null,
      "metadata": {
        "id": "RunYlCqX6YHu"
      },
      "outputs": [],
      "source": [
        "from sklearn.feature_extraction.text import TfidfVectorizer\n",
        "from sklearn.metrics.pairwise import cosine_similarity\n",
        "import pandas as pd"
      ]
    },
    {
      "cell_type": "markdown",
      "source": [
        "Importamos la clase TfidfVectorizer de scikit-learn, nos permite convertir una colección de documentos en una matriz TF-IDF\n",
        "\n",
        "Importamos cosine_similarity esta es la función necesaria para calcular la similitud coseno entre los vectores TF-IDF\n",
        "\n",
        "Importamos pandas para manipular y visualizar los datos de forma tabular"
      ],
      "metadata": {
        "id": "uMT-yhPA6apI"
      }
    },
    {
      "cell_type": "markdown",
      "source": [
        "# Definimos Documentos"
      ],
      "metadata": {
        "id": "EQOtVZ-T6wHL"
      }
    },
    {
      "cell_type": "code",
      "source": [
        "documentos = [\n",
        "    \"El gato come pescado.\",            # Documento 1\n",
        "    \"El perro come carne.\",              # Documento 2\n",
        "    \"El gato y el perro juegan.\",        # Documento 3\n",
        "    \"La casa es grande y bonita.\",       # Documento 4\n",
        "    \"El pescado es fresco.\"              # Documento 5\n",
        "]"
      ],
      "metadata": {
        "id": "FFA4b5QL6vi6"
      },
      "execution_count": null,
      "outputs": []
    },
    {
      "cell_type": "markdown",
      "source": [
        "# Creamos una instancia de TfidfVectorizer"
      ],
      "metadata": {
        "id": "shys5Obb68Pj"
      }
    },
    {
      "cell_type": "code",
      "source": [
        "vectorizador = TfidfVectorizer()"
      ],
      "metadata": {
        "id": "BAJDufrp69g4"
      },
      "execution_count": null,
      "outputs": []
    },
    {
      "cell_type": "markdown",
      "source": [
        "\n",
        "\n",
        "1. Aprender el vocabulario de los documentos\n",
        "2. Calcular la frecuencia de cada término en cada documento (TF)\n",
        "3. Calcular la importancia de cada término en el conjunto (IDF)\n",
        "\n",
        "**TF-IDF (Term Frequency - Inverse Document Frequency)**\n",
        "\n",
        "Este método asigna pesos a las palabras en función de su frecuencia en un documento y en el corpus total.\n",
        "\n",
        "**Parámetros clave (opcionalmente modificables):**\n",
        "\n",
        "Si no pasas parámetros, se usan los valores por defecto. Pero puedes cambiarlos para modificar el comportamiento:\n",
        "\n",
        "- **max_features** : Límite de palabras a considerar\n",
        "\n",
        "Ejemplo: TfidfVectorizer(max_features=1000) solo toma las 1000 palabras más importantes\n",
        "\n",
        "Si lo cambias, reduces o aumentas la cantidad de palabras representadas\n",
        "\n",
        "- **stop_words** : Palabras a ignorar\n",
        "\n",
        "Ejemplo: TfidfVectorizer(stop_words='english') ignora palabras comunes en inglés como the, and, is\n",
        "\n",
        "Si lo cambias, afecta qué palabras se eliminan\n",
        "\n",
        "- **ngram_range** : Secuencia de palabras (ngrams)\n",
        "\n",
        "Ejemplo: TfidfVectorizer(ngram_range=(1,2)) captura palabras solas (unigramas) y combinaciones de dos palabras (bigramas)\n",
        "\n",
        "Si lo cambias, amplías o reduces las combinaciones de palabras analizadas\n",
        "\n",
        "- **lowercase** → Convierte texto a minúsculas\n",
        "\n",
        "Por defecto es True, pero si pones False, mantiene mayúsculas y minúsculas\n",
        "\n",
        "Si lo cambias, afecta cómo se consideran las palabras (Ej: \"Casa\" ≠ \"casa\" si lowercase=False)\n",
        "\n",
        "- **use_idf** → Si se usa el factor de \"Inversa Frecuencia de Documento\"\n",
        "\n",
        "Ejemplo: TfidfVectorizer(use_idf=False) desactiva el IDF, dejando solo la frecuencia de las palabras\n",
        "\n",
        "Si lo cambias, el modelo puede volverse más similar a una bolsa de palabras simple"
      ],
      "metadata": {
        "id": "4YLu70wk6_G9"
      }
    },
    {
      "cell_type": "markdown",
      "source": [
        "# Entrenamos la instancia"
      ],
      "metadata": {
        "id": "rmKqQBuS7QUH"
      }
    },
    {
      "cell_type": "code",
      "source": [
        "matriz_tfidf = vectorizador.fit_transform(documentos)"
      ],
      "metadata": {
        "id": "9qkjXbLL7V3j"
      },
      "execution_count": null,
      "outputs": []
    },
    {
      "cell_type": "markdown",
      "source": [
        "Utilizamos el método fit_transform sobre la lista de documentos para:\n",
        " - Ajustar el modelo aprendiendo el vocabulario\n",
        "\n",
        " - Transformar los documentos en una matriz TF-IDF\n",
        "\n",
        " La matriz resultante es una estructura dispersa donde cada fila representa un documento y cada columna un término\n",
        "\n",
        " Este código aprende el vocabulario de documentos y lo transforma en una matriz TF-IDF\n",
        "\n",
        "\n",
        "**Parámetros:**\n",
        "\n",
        "- documentos : Es una lista de textos (ejemplo: una lista de correos, artículos, comentarios, etc.)\n",
        "\n",
        "**¿Qué hace internamente?**\n",
        "\n",
        "- fit_transform() aprende el vocabulario de los textos y calcula la matriz TF-IDF\n",
        "\n",
        "Crea una matriz dispersa donde las filas son documentos y las columnas son palabras\n",
        "\n",
        "Cada celda contiene el valor TF-IDF de una palabra en un documento\n",
        "\n",
        "**Qué pasa si cambio cosas?**\n",
        "\n",
        "Si cambio documentos → Se entrena con textos diferentes y el vocabulario cambia\n",
        "\n",
        "Si cambio parámetros de TfidfVectorizer:\n",
        "\n",
        "- max_features=2 : Solo toma las 2 palabras más comunes.\n",
        "- stop_words='spanish' : Ignora palabras comunes en español.\n",
        "- ngram_range=(1,2) : Considera palabras individuales y pares de palabras"
      ],
      "metadata": {
        "id": "5QriP8nK7XYT"
      }
    },
    {
      "cell_type": "markdown",
      "source": [
        "# Obtenemos la lista de términos"
      ],
      "metadata": {
        "id": "b7hRcbHC7ft2"
      }
    },
    {
      "cell_type": "code",
      "source": [
        "nombres_caracteristicas = vectorizador.get_feature_names_out()\n",
        "print(nombres_caracteristicas)"
      ],
      "metadata": {
        "colab": {
          "base_uri": "https://localhost:8080/"
        },
        "id": "A2sSoRpV7iuX",
        "outputId": "df220daf-fe26-4cac-84dc-51f3058152bb"
      },
      "execution_count": null,
      "outputs": [
        {
          "output_type": "stream",
          "name": "stdout",
          "text": [
            "['bonita' 'carne' 'casa' 'come' 'el' 'es' 'fresco' 'gato' 'grande'\n",
            " 'juegan' 'la' 'perro' 'pescado']\n"
          ]
        }
      ]
    },
    {
      "cell_type": "markdown",
      "source": [
        "La lista de términos (características) que fueron extraídos del conjunto de documento\n",
        "\n",
        "Este código obtiene los nombres de las palabras (o características) que el TfidfVectorizer ha aprendido de los textos\n",
        "\n",
        "**get_feature_names_out()** devuelve una lista con esos términos en el orden en que aparecen en la matriz TF-IDF"
      ],
      "metadata": {
        "id": "ZdqAJvtY7kNQ"
      }
    },
    {
      "cell_type": "markdown",
      "source": [
        "# Convertimos la matriz TF-IDF a un array"
      ],
      "metadata": {
        "id": "0rbb0PkN7oHK"
      }
    },
    {
      "cell_type": "code",
      "source": [
        "df_tfidf = pd.DataFrame(matriz_tfidf.toarray(), columns=nombres_caracteristicas)"
      ],
      "metadata": {
        "id": "mAB8uVaE7ses"
      },
      "execution_count": null,
      "outputs": []
    },
    {
      "cell_type": "markdown",
      "source": [
        "Convertimos la matriz TF-IDF a un array denso (normal) para facilitar su visualización y luego lo transformamos en un DataFrame de pandas\n",
        "\n",
        "Cada fila del DataFrame corresponde a un documento y cada columna a un término, con su valor TF-IDF\n",
        "\n",
        "Este código convierte la matriz dispersa TF-IDF en un DataFrame de pandas, donde cada fila representa un documento y cada columna representa una palabra con su respectivo valor TF-IDF\n",
        "\n",
        "**Parámetros:**\n",
        "- matriz_tfidf : La matriz de valores TF-IDF obtenida con vectorizador.fit_transform(documentos)\n",
        "\n",
        "- toarray() : Convierte la matriz dispersa en un array de NumPy para poder usarla en pandas\n",
        "\n",
        "- columns=nombres_caracteristicas : Nombres de las palabras como encabezados de las columnas\n",
        "\n",
        "**¿Qué hace?**\n",
        "- Transforma la matriz TF-IDF en un formato más fácil de leer.\n",
        "- Cada fila representa un documento.\n",
        "- Cada columna representa una palabra, con su peso TF-IDF en ese documento"
      ],
      "metadata": {
        "id": "ND9Zco2A7uZR"
      }
    },
    {
      "cell_type": "markdown",
      "source": [
        "# Imprimimos el DataFrame para visualizar la matriz TF-IDF"
      ],
      "metadata": {
        "id": "2vYbG0LI7y5G"
      }
    },
    {
      "cell_type": "code",
      "source": [
        "print(\"Matriz TF-IDF:\")\n",
        "print(df_tfidf)"
      ],
      "metadata": {
        "colab": {
          "base_uri": "https://localhost:8080/"
        },
        "id": "t8M8vBYg72Ey",
        "outputId": "106a3d71-96ca-43e5-b252-5b766a585a21"
      },
      "execution_count": null,
      "outputs": [
        {
          "output_type": "stream",
          "name": "stdout",
          "text": [
            "Matriz TF-IDF:\n",
            "     bonita     carne      casa      come        el        es    fresco  \\\n",
            "0  0.000000  0.000000  0.000000  0.535470  0.373918  0.000000  0.000000   \n",
            "1  0.000000  0.617893  0.000000  0.498512  0.348110  0.000000  0.000000   \n",
            "2  0.000000  0.000000  0.000000  0.000000  0.596228  0.000000  0.000000   \n",
            "3  0.463693  0.000000  0.463693  0.000000  0.000000  0.374105  0.000000   \n",
            "4  0.000000  0.000000  0.000000  0.000000  0.348110  0.498512  0.617893   \n",
            "\n",
            "       gato    grande   juegan        la     perro   pescado  \n",
            "0  0.535470  0.000000  0.00000  0.000000  0.000000  0.535470  \n",
            "1  0.000000  0.000000  0.00000  0.000000  0.498512  0.000000  \n",
            "2  0.426915  0.000000  0.52915  0.000000  0.426915  0.000000  \n",
            "3  0.000000  0.463693  0.00000  0.463693  0.000000  0.000000  \n",
            "4  0.000000  0.000000  0.00000  0.000000  0.000000  0.498512  \n"
          ]
        }
      ]
    },
    {
      "cell_type": "markdown",
      "source": [
        "# Ejemplo de búsqueda utilizando TF-IDF"
      ],
      "metadata": {
        "id": "G4dXpzu273_9"
      }
    },
    {
      "cell_type": "markdown",
      "source": [
        "# Definimos una consulta"
      ],
      "metadata": {
        "id": "dntjjUtI79Od"
      }
    },
    {
      "cell_type": "code",
      "source": [
        "consulta = \"gato y carne\""
      ],
      "metadata": {
        "id": "xWdAg6gF7_f9"
      },
      "execution_count": null,
      "outputs": []
    },
    {
      "cell_type": "markdown",
      "source": [
        "# Convertimos la consulta"
      ],
      "metadata": {
        "id": "zkUatPEr8BQ7"
      }
    },
    {
      "cell_type": "code",
      "source": [
        "consulta_tfidf = vectorizador.transform([consulta])\n",
        "print(consulta_tfidf)"
      ],
      "metadata": {
        "colab": {
          "base_uri": "https://localhost:8080/"
        },
        "id": "o2KvXd-A8E9K",
        "outputId": "69f3b9dc-083f-462a-a0e6-a96a1be74d4c"
      },
      "execution_count": null,
      "outputs": [
        {
          "output_type": "stream",
          "name": "stdout",
          "text": [
            "  (0, 1)\t0.7782829228046183\n",
            "  (0, 7)\t0.6279137616509933\n"
          ]
        }
      ]
    },
    {
      "cell_type": "markdown",
      "source": [
        "Convertimos la consulta a su representación TF-IDF utilizando el vectorizador ya ajustado\n",
        "\n",
        "Es importante transformar la consulta en una lista, ya que transform() espera un iterable de documentos\n",
        "\n",
        "**vectorizador.transform([...])** : Convierte la consulta en una matriz TF-IDF usando el mismo vocabulario aprendido previamente\n",
        "\n",
        "**¿Qué hace?**\n",
        "- Toma la consulta y la convierte en su equivalente numérico sin modificar el modelo\n",
        "\n",
        "- Usa el mismo vocabulario del TfidfVectorizer ya entrenado (no aprende nuevas palabras)\n",
        "\n",
        "- Devuelve una matriz TF-IDF con una sola fila (porque es una consulta única)\n",
        "\n",
        "**¿Qué pasa si cambio algo?**\n",
        "- Si cambio la consulta → Se ajustan los valores según la nueva frase\n",
        "\n",
        "- Si la consulta tiene palabras NO vistas antes → Esas palabras se ignoran (porque el modelo no las conoce)\n",
        "\n",
        "- Si vuelvo a entrenar el vectorizador con nuevos documentos : La transformación podría cambiar porque el vocabulario aprendido será diferente"
      ],
      "metadata": {
        "id": "OEN7qXxV8Gxt"
      }
    },
    {
      "cell_type": "markdown",
      "source": [
        "# Calculamos la similitud coseno"
      ],
      "metadata": {
        "id": "XWJg0cwR8LNA"
      }
    },
    {
      "cell_type": "code",
      "source": [
        "similitudes = cosine_similarity(consulta_tfidf, matriz_tfidf)\n",
        "print(similitudes)"
      ],
      "metadata": {
        "colab": {
          "base_uri": "https://localhost:8080/"
        },
        "id": "VQ9dIGn18Ntt",
        "outputId": "54642557-c474-4d59-c132-6b9566580930"
      },
      "execution_count": null,
      "outputs": [
        {
          "output_type": "stream",
          "name": "stdout",
          "text": [
            "[[0.33622918 0.48089528 0.26806575 0.         0.        ]]\n"
          ]
        }
      ]
    },
    {
      "cell_type": "markdown",
      "source": [
        "Calculamos la similitud coseno entre el vector de la consulta y cada uno de los documentos en la matriz TF-IDF\n",
        "\n",
        "La similitud coseno es una medida de similitud entre dos vectores, útil para comparar textos\n",
        "\n",
        "La similitud coseno mide qué tan parecido es un texto a otro en base a sus vectores\n",
        "\n",
        "**Parámetros:**\n",
        "- **consulta_tfidf** : Es la representación TF-IDF de la consulta (vectorizador.transform([consulta]))\n",
        "\n",
        "- **matriz_tfidf** : Es la matriz TF-IDF de los documentos originales (vectorizador.fit_transform(documentos))\n",
        "\n",
        "**cosine_similarity(A, B)** : Compara cada fila de A con cada fila de B y devuelve valores entre 0 y 1:\n",
        "\n",
        "  - 1 → Textos muy similares\n",
        "\n",
        "  - 0 → Textos completamente diferentes\n",
        "\n",
        "  **¿Qué hace?**\n",
        "- Compara la consulta con cada documento en matriz_tfidf.\n",
        "- Devuelve un array de similitudes, donde cada valor representa la similitud entre la consulta y un documento específico\n",
        "\n"
      ],
      "metadata": {
        "id": "ZbKHxd218PLP"
      }
    },
    {
      "cell_type": "markdown",
      "source": [
        "# Convertimos el resultado a un array"
      ],
      "metadata": {
        "id": "ihIoVgb78TYH"
      }
    },
    {
      "cell_type": "code",
      "source": [
        "similitudes = similitudes.flatten()\n",
        "print(similitudes)"
      ],
      "metadata": {
        "colab": {
          "base_uri": "https://localhost:8080/"
        },
        "id": "JRU821fG8ZMN",
        "outputId": "cf72aada-a93d-46a0-915f-3f6d9a2f2a7e"
      },
      "execution_count": null,
      "outputs": [
        {
          "output_type": "stream",
          "name": "stdout",
          "text": [
            "[0.33622918 0.48089528 0.26806575 0.         0.        ]\n"
          ]
        }
      ]
    },
    {
      "cell_type": "markdown",
      "source": [
        "Este código aplana la matriz de similitudes para convertirla en un array de una sola dimensión\n",
        "\n",
        "**Parámetros:**\n",
        "- similitudes → Es el array 2D de similitudes coseno\n",
        "- .flatten() → Convierte la matriz en un vector 1D\n",
        "\n",
        "**¿Qué hace?**\n",
        "- cosine_similarity() devuelve una matriz 2D con una sola fila, como esta:\n",
        "\n",
        "      [[0.58, 0.00, 0.75]]\n",
        "\n",
        "- .flatten() la convierte en un array 1D:\n",
        "\n",
        "      [0.58, 0.00, 0.75]\n",
        "\n",
        "Esto hace que sea más fácil acceder a los valores, por ejemplo, para ordenar documentos o encontrar el más similar\n",
        "\n",
        "**Qué pasa si cambio algo?**\n",
        "- Si no uso .flatten(), similitudes seguiría siendo una matriz y podría causar errores en algunas funciones\n",
        "\n",
        "- Si comparo varias consultas a la vez (cosine_similarity(consulta_tfidf, matriz_tfidf)), tendría múltiples filas y .flatten() juntaría todos los valores en un solo array (puede ser un problema si necesitas conservar la estructura)\n"
      ],
      "metadata": {
        "id": "U7W8ZcCi8fi2"
      }
    },
    {
      "cell_type": "markdown",
      "source": [
        "# Obtenemos los índices de los documentos ordenados de mayor a menor"
      ],
      "metadata": {
        "id": "4yx3gZJO8ax7"
      }
    },
    {
      "cell_type": "code",
      "source": [
        "ranking_indices = similitudes.argsort()[::-1]\n",
        "print(ranking_indices)"
      ],
      "metadata": {
        "colab": {
          "base_uri": "https://localhost:8080/"
        },
        "id": "pk9sGbEG8gH-",
        "outputId": "055138dc-9923-4f67-a04a-ade758bbe179"
      },
      "execution_count": null,
      "outputs": [
        {
          "output_type": "stream",
          "name": "stdout",
          "text": [
            "[1 0 2 4 3]\n"
          ]
        }
      ]
    },
    {
      "cell_type": "markdown",
      "source": [
        "Este código ordena los índices de los documentos en función de su similitud con la consulta, de mayor a menor\n",
        "\n",
        "\n",
        "**Parámetros:**\n",
        "- similitudes → Es el array 1D de similitudes coseno obtenido después de flatten()\n",
        "\n",
        "- .argsort() → Devuelve los índices de los elementos ordenados de menor a mayor\n",
        "\n",
        "- [::-1] → Invierte el orden para que sea de mayor a menor\n",
        "\n",
        "**¿Qué pasa si cambio algo?**\n",
        "- Si no uso [::-1], los documentos estarán ordenados de menor a mayor relevancia\n",
        "\n",
        "- Si similitudes tiene empates, los índices pueden aparecer en cualquier orden relativo entre sí\n",
        "\n",
        "- Si la consulta tiene poca relación con los documentos, todos los valores serán bajos, pero igual se ordenarán\n"
      ],
      "metadata": {
        "id": "5P8dHfHv8iDU"
      }
    },
    {
      "cell_type": "markdown",
      "source": [
        "# Imprimimos los resultados de la búsqueda"
      ],
      "metadata": {
        "id": "KTAM4eGP8iXV"
      }
    },
    {
      "cell_type": "code",
      "source": [
        "print(\"\\nResultados de la búsqueda:\")\n",
        "for indice in ranking_indices:\n",
        "    print(f\"Documento {indice + 1} (score: {similitudes[indice]:.4f}): {documentos[indice]}\")"
      ],
      "metadata": {
        "colab": {
          "base_uri": "https://localhost:8080/"
        },
        "id": "JAx4jiQp8lov",
        "outputId": "fcfd711f-827f-44fe-a9a6-868aa37d8611"
      },
      "execution_count": null,
      "outputs": [
        {
          "output_type": "stream",
          "name": "stdout",
          "text": [
            "\n",
            "Resultados de la búsqueda:\n",
            "Documento 2 (score: 0.4809): El perro come carne.\n",
            "Documento 1 (score: 0.3362): El gato come pescado.\n",
            "Documento 3 (score: 0.2681): El gato y el perro juegan.\n",
            "Documento 5 (score: 0.0000): El pescado es fresco.\n",
            "Documento 4 (score: 0.0000): La casa es grande y bonita.\n"
          ]
        }
      ]
    },
    {
      "cell_type": "markdown",
      "source": [
        "Este código imprime los resultados de la búsqueda mostrando los documentos ordenados por relevancia junto con su puntaje de similitud coseno\n",
        "\n",
        "\n",
        "**Parámetros:**\n",
        "\n",
        "- ranking_indices : Lista de índices ordenados de mayor a menor similitud (similitudes.argsort()[::-1])\n",
        "\n",
        "- similitudes[indice] : Muestra la similitud del documento con la consulta\n",
        "\n",
        "- documentos[indice] : Obtiene el texto del documento original\n",
        "\n",
        "**¿Qué hace?**\n",
        "\n",
        "- Imprime el encabezado \"Resultados de la búsqueda:\"\n",
        "\n",
        "- Recorre la lista ranking_indices, que tiene los documentos ordenados por relevancia\n",
        "\n",
        "- Muestra el número del documento (indice + 1), su score de similitud y su contenido\n",
        "\n",
        "- El score :.4f limita la similitud a 4 decimales\n",
        "\n",
        "**Ejemplo práctico:**\n",
        "\n",
        "Si tenemos:\n",
        "\n",
        "    documentos = [\"El perro ladra\", \"El gato maulla\", \"El perro y el gato juegan\"]\n",
        "    similitudes = [0.58, 0.00, 0.75]  # Similitudes con la consulta\n",
        "    ranking_indices = [2, 0, 1]  # Documentos ordenados por relevancia\n",
        "\n",
        "Salida esperada:\n",
        "\n",
        "\n",
        "    Resultados de la búsqueda:\n",
        "    Documento 3 (score: 0.7500): El perro y el gato juegan\n",
        "    Documento 1 (score: 0.5800): El perro ladra\n",
        "    Documento 2 (score: 0.0000): El gato maulla\n",
        "\n",
        "**Interpretación:**\n",
        "\n",
        "- El documento 3 es el más similar a la consulta (75% de similitud)\n",
        "- El documento 1 también es algo relevante (58% de similitud)\n",
        "- El documento 2 no tiene relación (0% de similitud)\n",
        "\n",
        "**¿Qué pasa si cambio algo?**\n",
        "\n",
        "- Si la consulta cambia, los valores de similitud pueden variar\n",
        "- Si agrego más documentos, se evaluarán y se ordenarán con base en la consulta\n",
        "- Si stop_words='spanish' en TfidfVectorizer, puede cambiar qué palabras afectan la similitud"
      ],
      "metadata": {
        "id": "zNn5cPo38ngR"
      }
    }
  ]
}