{
  "nbformat": 4,
  "nbformat_minor": 0,
  "metadata": {
    "colab": {
      "name": "Redes Convolucionales Ejemplo.ipynb",
      "provenance": []
    },
    "kernelspec": {
      "name": "python3",
      "display_name": "Python 3"
    },
    "language_info": {
      "name": "python"
    }
  },
  "cells": [
    {
      "cell_type": "markdown",
      "source": [
        "# **Redes Convolucionales**\n",
        "\n",
        "Las Redes neuronales convolucionales son  un tipo de redes neuronales artificiales  donde las «neuronas»  corresponden a campos receptivos de una manera muy similar a las neuronas en la corteza visual primaria (V1) de un cerebro biológico.  Este tipo de red es una variación de un perceptrón multicapa, sin embargo, debido a que su aplicación es realizada en matrices bidimensionales, son muy efectivas para tareas de visión artificial, como en la clasificación y segmentación de imágenes, entre otras aplicaciones.\n",
        "\n",
        "# **Cómo Funcionan**\n",
        "Las redes neuronales convolucionales consisten en múltiples capas de filtros convolucionales de una o más dimensiones. Después de cada capa, por lo general se añade una función para realizar un mapeo causal no-lineal.\n",
        "\n",
        "Como cualquier  red empleada para clasificación, al principio estas redes tienen una  fase de extracción de características, compuesta de neuronas convolucionales , luego hay una reducción por muestreo y al final tendremos neuronas de perceptrón mas sencillas para realizar la clasificación final sobre las características extraídas.\n",
        "\n",
        "La fase de extracción de características se asemeja al proceso estimulante en las células de la corteza visual. Esta fase se compone de capas alternas de neuronas convolucionales y neuronas de reducción de muestreo. Según progresan los datos a lo largo de esta fase, se disminuye su dimensionalidad, siendo las neuronas en capas lejanas mucho menos sensibles a perturbaciones en los datos de entrada, pero al mismo tiempo siendo estas activadas por características cada vez más complejas.\n",
        "\n",
        "\n",
        "# Como se logra que una red convolucional aprenda **bold text**\n",
        "Las Redes neuronales Convolucionales, CNN  aprenden  a reconocer una diversidad de objetos dentro de imágenes , pero para ello necesitan «entrenarse» de previo con  una cantidad importante de «muestras»  -lease más de 10.000, de ésta forma las neuronas de la red van a poder captar las características únicas -de cada objeto- y a su vez, poder generalizarlo – a esto es lo que se le conoce como el proceso de «aprendizaje de un algoritmo » .   Nuestra red va a poder reconocer por ejemplo un cierto tipo de célula porque ya la ha «visto» anteriormente muchas veces, pero no solo buscará celulas semejantes sino que podrá inferir imagenes que no conozca pero que relaciona y en donde podrían existir similitudes ,  y esta es la parte inteligente del conocimiento"
      ],
      "metadata": {
        "id": "6nyvtbZ8vfH5"
      }
    },
    {
      "cell_type": "markdown",
      "source": [
        "# **Ejemplo**"
      ],
      "metadata": {
        "id": "6bITYgUsv9CV"
      }
    },
    {
      "cell_type": "markdown",
      "source": [
        "**Librerias**"
      ],
      "metadata": {
        "id": "ypTeCO6BxAQL"
      }
    },
    {
      "cell_type": "code",
      "source": [
        "import numpy as np\n",
        "from keras.models import Sequential\n",
        "from keras.layers import Dense, Dropout, Activation, Flatten\n",
        "from keras.layers import Convolution2D, MaxPooling2D\n",
        "from keras.utils import np_utils \n",
        "from keras.datasets import mnist\n",
        "import tensorflow as tf"
      ],
      "metadata": {
        "id": "IIj_kZnrv_V9"
      },
      "execution_count": 11,
      "outputs": []
    },
    {
      "cell_type": "markdown",
      "source": [
        "**Cargar Data**"
      ],
      "metadata": {
        "id": "mJGtMYIIxmpQ"
      }
    },
    {
      "cell_type": "code",
      "source": [
        "(train_samples, train_labels), (test_samples,test_labels) = mnist.load_data()"
      ],
      "metadata": {
        "colab": {
          "base_uri": "https://localhost:8080/"
        },
        "id": "PM-yjTChxl0N",
        "outputId": "e178f2ba-facb-4676-e5ae-2d75cea21fb7"
      },
      "execution_count": 2,
      "outputs": [
        {
          "output_type": "stream",
          "name": "stdout",
          "text": [
            "Downloading data from https://storage.googleapis.com/tensorflow/tf-keras-datasets/mnist.npz\n",
            "11493376/11490434 [==============================] - 0s 0us/step\n",
            "11501568/11490434 [==============================] - 0s 0us/step\n"
          ]
        }
      ]
    },
    {
      "cell_type": "markdown",
      "source": [
        "**Procesamiento de los Datos (Estandarizacion)**\n"
      ],
      "metadata": {
        "id": "INKTJE7dyFfH"
      }
    },
    {
      "cell_type": "code",
      "source": [
        "train_samples = train_samples.reshape(train_samples.shape [0], 28, 28, 1)\n",
        "test_samples = test_samples.reshape(test_samples.shape [0], 28, 28, 1)\n",
        "train_samples = train_samples.astype(np.float32)\n",
        "test_samples = test_samples.astype(np.float32)\n",
        "train_samples = train_samples/255\n",
        "test_samples = test_samples/255"
      ],
      "metadata": {
        "id": "PeXj7dzwyNUe"
      },
      "execution_count": 7,
      "outputs": []
    },
    {
      "cell_type": "code",
      "source": [
        "c_train_labels = np_utils.to_categorical(train_labels, 10)\n",
        "c_test_labels = np_utils.to_categorical(test_labels, 10)"
      ],
      "metadata": {
        "id": "_qkUtXOKz2qB"
      },
      "execution_count": 8,
      "outputs": []
    },
    {
      "cell_type": "markdown",
      "source": [
        "**Crear  el Modelo**"
      ],
      "metadata": {
        "id": "ZaA8D38uz9gZ"
      }
    },
    {
      "cell_type": "code",
      "source": [
        "convnet = Sequential()\n",
        "convnet.add(Convolution2D(32, 4, 4, activation=tf.keras.activations.relu, input_shape=(28,28,1)))\n",
        "convnet.add(MaxPooling2D(pool_size=(2,2)))\n",
        "convnet.add(Convolution2D(32, 3, 3, activation=tf.keras.activations.relu))\n",
        "convnet.add(MaxPooling2D((2,2), strides=(2,2), padding='same'))\n",
        "convnet.add(Dropout(0.3))\n",
        "convnet.add(Flatten())\n",
        "convnet.add(Dense(10, activation=tf.keras.activations.softmax))"
      ],
      "metadata": {
        "id": "w0HyJ-Ed0AKM"
      },
      "execution_count": 13,
      "outputs": []
    },
    {
      "cell_type": "markdown",
      "source": [
        "**Compilar Modelo**"
      ],
      "metadata": {
        "id": "9m5919vv18Hk"
      }
    },
    {
      "cell_type": "code",
      "source": [
        "\n",
        "convnet.compile(loss=tf.keras.losses.mean_squared_error, optimizer='sgd', metrics=['accuracy']) "
      ],
      "metadata": {
        "id": "Od9rL59j19O9"
      },
      "execution_count": 18,
      "outputs": []
    },
    {
      "cell_type": "markdown",
      "source": [
        "**Entrenar Modelo**"
      ],
      "metadata": {
        "id": "ShVCw2zl3uAg"
      }
    },
    {
      "cell_type": "code",
      "source": [
        "convnet.fit(train_samples, c_train_labels, batch_size=32, epochs=20, verbose=1)"
      ],
      "metadata": {
        "colab": {
          "base_uri": "https://localhost:8080/"
        },
        "id": "mPAe-snc3vzv",
        "outputId": "4e1b11fe-1e11-402c-9d9d-5dfb0c117387"
      },
      "execution_count": 20,
      "outputs": [
        {
          "output_type": "stream",
          "name": "stdout",
          "text": [
            "Epoch 1/20\n",
            "1875/1875 [==============================] - 8s 4ms/step - loss: 0.0900 - accuracy: 0.1327\n",
            "Epoch 2/20\n",
            "1875/1875 [==============================] - 8s 4ms/step - loss: 0.0898 - accuracy: 0.1741\n",
            "Epoch 3/20\n",
            "1875/1875 [==============================] - 8s 4ms/step - loss: 0.0896 - accuracy: 0.2076\n",
            "Epoch 4/20\n",
            "1875/1875 [==============================] - 8s 4ms/step - loss: 0.0893 - accuracy: 0.2324\n",
            "Epoch 5/20\n",
            "1875/1875 [==============================] - 7s 4ms/step - loss: 0.0891 - accuracy: 0.2539\n",
            "Epoch 6/20\n",
            "1875/1875 [==============================] - 8s 4ms/step - loss: 0.0887 - accuracy: 0.2706\n",
            "Epoch 7/20\n",
            "1875/1875 [==============================] - 8s 4ms/step - loss: 0.0883 - accuracy: 0.2843\n",
            "Epoch 8/20\n",
            "1875/1875 [==============================] - 8s 4ms/step - loss: 0.0878 - accuracy: 0.2948\n",
            "Epoch 9/20\n",
            "1875/1875 [==============================] - 8s 4ms/step - loss: 0.0871 - accuracy: 0.2934\n",
            "Epoch 10/20\n",
            "1875/1875 [==============================] - 9s 5ms/step - loss: 0.0863 - accuracy: 0.2961\n",
            "Epoch 11/20\n",
            "1875/1875 [==============================] - 8s 4ms/step - loss: 0.0851 - accuracy: 0.2938\n",
            "Epoch 12/20\n",
            "1875/1875 [==============================] - 8s 4ms/step - loss: 0.0836 - accuracy: 0.2957\n",
            "Epoch 13/20\n",
            "1875/1875 [==============================] - 7s 4ms/step - loss: 0.0820 - accuracy: 0.3058\n",
            "Epoch 14/20\n",
            "1875/1875 [==============================] - 8s 4ms/step - loss: 0.0804 - accuracy: 0.3222\n",
            "Epoch 15/20\n",
            "1875/1875 [==============================] - 7s 4ms/step - loss: 0.0790 - accuracy: 0.3371\n",
            "Epoch 16/20\n",
            "1875/1875 [==============================] - 7s 4ms/step - loss: 0.0775 - accuracy: 0.3580\n",
            "Epoch 17/20\n",
            "1875/1875 [==============================] - 8s 4ms/step - loss: 0.0759 - accuracy: 0.3800\n",
            "Epoch 18/20\n",
            "1875/1875 [==============================] - 8s 4ms/step - loss: 0.0743 - accuracy: 0.3997\n",
            "Epoch 19/20\n",
            "1875/1875 [==============================] - 8s 4ms/step - loss: 0.0726 - accuracy: 0.4252\n",
            "Epoch 20/20\n",
            "1875/1875 [==============================] - 8s 4ms/step - loss: 0.0709 - accuracy: 0.4441\n"
          ]
        },
        {
          "output_type": "execute_result",
          "data": {
            "text/plain": [
              "<keras.callbacks.History at 0x7f9454364d90>"
            ]
          },
          "metadata": {},
          "execution_count": 20
        }
      ]
    },
    {
      "cell_type": "markdown",
      "source": [
        "**Probamos el Modelo**"
      ],
      "metadata": {
        "id": "MdNcUcAK48E1"
      }
    },
    {
      "cell_type": "code",
      "source": [
        "metrics = convnet.evaluate(test_samples, c_test_labels, verbose=1)\n",
        "print()\n",
        "print(\"%s: %.2f%%\" % (convnet.metrics_names[1], metrics[1]*100))\n",
        "predictions = convnet.predict(test_samples)\n",
        "print(predictions.shape)\n",
        "print(predictions)"
      ],
      "metadata": {
        "colab": {
          "base_uri": "https://localhost:8080/"
        },
        "id": "uTLp1k1B4-wu",
        "outputId": "fc301e07-9592-4710-ef0a-eb10ebe54792"
      },
      "execution_count": 25,
      "outputs": [
        {
          "output_type": "stream",
          "name": "stdout",
          "text": [
            "313/313 [==============================] - 1s 2ms/step - loss: 0.0666 - accuracy: 0.5482\n",
            "\n",
            "accuracy: 54.82%\n",
            "(10000, 10)\n",
            "[[0.05059059 0.07069426 0.01916016 ... 0.25228304 0.09556083 0.22081254]\n",
            " [0.08034041 0.17502117 0.1984404  ... 0.02261334 0.04770268 0.02063787]\n",
            " [0.01580278 0.7415649  0.03589518 ... 0.03316012 0.03164867 0.03200641]\n",
            " ...\n",
            " [0.02507208 0.13871466 0.01486443 ... 0.23137373 0.11065524 0.22407784]\n",
            " [0.03921882 0.12511261 0.01552036 ... 0.21474238 0.09585022 0.21113762]\n",
            " [0.35220423 0.00869487 0.20146862 ... 0.01083724 0.04528471 0.01824366]]\n"
          ]
        }
      ]
    }
  ]
}