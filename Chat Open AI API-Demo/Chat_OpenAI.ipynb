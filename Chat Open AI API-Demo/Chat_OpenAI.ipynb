{
  "nbformat": 4,
  "nbformat_minor": 0,
  "metadata": {
    "colab": {
      "provenance": []
    },
    "kernelspec": {
      "name": "python3",
      "display_name": "Python 3"
    },
    "language_info": {
      "name": "python"
    },
    "widgets": {
      "application/vnd.jupyter.widget-state+json": {
        "df650f22dab94d76843aeb5f95f249ee": {
          "model_module": "@jupyter-widgets/controls",
          "model_name": "TextModel",
          "model_module_version": "1.5.0",
          "state": {
            "_dom_classes": [],
            "_model_module": "@jupyter-widgets/controls",
            "_model_module_version": "1.5.0",
            "_model_name": "TextModel",
            "_view_count": null,
            "_view_module": "@jupyter-widgets/controls",
            "_view_module_version": "1.5.0",
            "_view_name": "TextView",
            "continuous_update": true,
            "description": "Tú:",
            "description_tooltip": null,
            "disabled": false,
            "layout": "IPY_MODEL_4644035a9c4a41db927d0c2938dd3f7b",
            "placeholder": "Escribe tu mensaje aquí",
            "style": "IPY_MODEL_16c5714c1df94c5090915db333c86b2d",
            "value": ""
          }
        },
        "4644035a9c4a41db927d0c2938dd3f7b": {
          "model_module": "@jupyter-widgets/base",
          "model_name": "LayoutModel",
          "model_module_version": "1.2.0",
          "state": {
            "_model_module": "@jupyter-widgets/base",
            "_model_module_version": "1.2.0",
            "_model_name": "LayoutModel",
            "_view_count": null,
            "_view_module": "@jupyter-widgets/base",
            "_view_module_version": "1.2.0",
            "_view_name": "LayoutView",
            "align_content": null,
            "align_items": null,
            "align_self": null,
            "border": null,
            "bottom": null,
            "display": null,
            "flex": null,
            "flex_flow": null,
            "grid_area": null,
            "grid_auto_columns": null,
            "grid_auto_flow": null,
            "grid_auto_rows": null,
            "grid_column": null,
            "grid_gap": null,
            "grid_row": null,
            "grid_template_areas": null,
            "grid_template_columns": null,
            "grid_template_rows": null,
            "height": null,
            "justify_content": null,
            "justify_items": null,
            "left": null,
            "margin": null,
            "max_height": null,
            "max_width": null,
            "min_height": null,
            "min_width": null,
            "object_fit": null,
            "object_position": null,
            "order": null,
            "overflow": null,
            "overflow_x": null,
            "overflow_y": null,
            "padding": null,
            "right": null,
            "top": null,
            "visibility": null,
            "width": null
          }
        },
        "16c5714c1df94c5090915db333c86b2d": {
          "model_module": "@jupyter-widgets/controls",
          "model_name": "DescriptionStyleModel",
          "model_module_version": "1.5.0",
          "state": {
            "_model_module": "@jupyter-widgets/controls",
            "_model_module_version": "1.5.0",
            "_model_name": "DescriptionStyleModel",
            "_view_count": null,
            "_view_module": "@jupyter-widgets/base",
            "_view_module_version": "1.2.0",
            "_view_name": "StyleView",
            "description_width": ""
          }
        },
        "0807dd8f6df14fad9828340d580df010": {
          "model_module": "@jupyter-widgets/controls",
          "model_name": "ButtonModel",
          "model_module_version": "1.5.0",
          "state": {
            "_dom_classes": [],
            "_model_module": "@jupyter-widgets/controls",
            "_model_module_version": "1.5.0",
            "_model_name": "ButtonModel",
            "_view_count": null,
            "_view_module": "@jupyter-widgets/controls",
            "_view_module_version": "1.5.0",
            "_view_name": "ButtonView",
            "button_style": "",
            "description": "Enviar",
            "disabled": false,
            "icon": "send",
            "layout": "IPY_MODEL_b08a635c79eb4f44b602bece70be8d96",
            "style": "IPY_MODEL_7460a84b127d4ef3882e57377f7e8eec",
            "tooltip": "Enviar mensaje"
          }
        },
        "b08a635c79eb4f44b602bece70be8d96": {
          "model_module": "@jupyter-widgets/base",
          "model_name": "LayoutModel",
          "model_module_version": "1.2.0",
          "state": {
            "_model_module": "@jupyter-widgets/base",
            "_model_module_version": "1.2.0",
            "_model_name": "LayoutModel",
            "_view_count": null,
            "_view_module": "@jupyter-widgets/base",
            "_view_module_version": "1.2.0",
            "_view_name": "LayoutView",
            "align_content": null,
            "align_items": null,
            "align_self": null,
            "border": null,
            "bottom": null,
            "display": null,
            "flex": null,
            "flex_flow": null,
            "grid_area": null,
            "grid_auto_columns": null,
            "grid_auto_flow": null,
            "grid_auto_rows": null,
            "grid_column": null,
            "grid_gap": null,
            "grid_row": null,
            "grid_template_areas": null,
            "grid_template_columns": null,
            "grid_template_rows": null,
            "height": null,
            "justify_content": null,
            "justify_items": null,
            "left": null,
            "margin": null,
            "max_height": null,
            "max_width": null,
            "min_height": null,
            "min_width": null,
            "object_fit": null,
            "object_position": null,
            "order": null,
            "overflow": null,
            "overflow_x": null,
            "overflow_y": null,
            "padding": null,
            "right": null,
            "top": null,
            "visibility": null,
            "width": null
          }
        },
        "7460a84b127d4ef3882e57377f7e8eec": {
          "model_module": "@jupyter-widgets/controls",
          "model_name": "ButtonStyleModel",
          "model_module_version": "1.5.0",
          "state": {
            "_model_module": "@jupyter-widgets/controls",
            "_model_module_version": "1.5.0",
            "_model_name": "ButtonStyleModel",
            "_view_count": null,
            "_view_module": "@jupyter-widgets/base",
            "_view_module_version": "1.2.0",
            "_view_name": "StyleView",
            "button_color": null,
            "font_weight": ""
          }
        },
        "a72c86cdc1b3469b8aeca0b98802d107": {
          "model_module": "@jupyter-widgets/output",
          "model_name": "OutputModel",
          "model_module_version": "1.0.0",
          "state": {
            "_dom_classes": [],
            "_model_module": "@jupyter-widgets/output",
            "_model_module_version": "1.0.0",
            "_model_name": "OutputModel",
            "_view_count": null,
            "_view_module": "@jupyter-widgets/output",
            "_view_module_version": "1.0.0",
            "_view_name": "OutputView",
            "layout": "IPY_MODEL_2ef19dd469494bf79d9fef4642a68338",
            "msg_id": "",
            "outputs": [
              {
                "output_type": "stream",
                "name": "stdout",
                "text": [
                  "Tú: hola\n"
                ]
              },
              {
                "output_type": "stream",
                "name": "stdout",
                "text": [
                  "Chatbot: ¡Hola! ¿En qué puedo ayudarte hoy?\n",
                  "\n"
                ]
              }
            ]
          }
        },
        "2ef19dd469494bf79d9fef4642a68338": {
          "model_module": "@jupyter-widgets/base",
          "model_name": "LayoutModel",
          "model_module_version": "1.2.0",
          "state": {
            "_model_module": "@jupyter-widgets/base",
            "_model_module_version": "1.2.0",
            "_model_name": "LayoutModel",
            "_view_count": null,
            "_view_module": "@jupyter-widgets/base",
            "_view_module_version": "1.2.0",
            "_view_name": "LayoutView",
            "align_content": null,
            "align_items": null,
            "align_self": null,
            "border": null,
            "bottom": null,
            "display": null,
            "flex": null,
            "flex_flow": null,
            "grid_area": null,
            "grid_auto_columns": null,
            "grid_auto_flow": null,
            "grid_auto_rows": null,
            "grid_column": null,
            "grid_gap": null,
            "grid_row": null,
            "grid_template_areas": null,
            "grid_template_columns": null,
            "grid_template_rows": null,
            "height": null,
            "justify_content": null,
            "justify_items": null,
            "left": null,
            "margin": null,
            "max_height": null,
            "max_width": null,
            "min_height": null,
            "min_width": null,
            "object_fit": null,
            "object_position": null,
            "order": null,
            "overflow": null,
            "overflow_x": null,
            "overflow_y": null,
            "padding": null,
            "right": null,
            "top": null,
            "visibility": null,
            "width": null
          }
        },
        "634c8104dcdb4d61b9b3a7bfb0f9829a": {
          "model_module": "@jupyter-widgets/controls",
          "model_name": "TextModel",
          "model_module_version": "1.5.0",
          "state": {
            "_dom_classes": [],
            "_model_module": "@jupyter-widgets/controls",
            "_model_module_version": "1.5.0",
            "_model_name": "TextModel",
            "_view_count": null,
            "_view_module": "@jupyter-widgets/controls",
            "_view_module_version": "1.5.0",
            "_view_name": "TextView",
            "continuous_update": true,
            "description": "Tú:",
            "description_tooltip": null,
            "disabled": false,
            "layout": "IPY_MODEL_dbd03b8877c64e03b072642d76473e8e",
            "placeholder": "Escribe tu mensaje aquí",
            "style": "IPY_MODEL_91261482fa1343a09d37b30263fcaa7a",
            "value": ""
          }
        },
        "dbd03b8877c64e03b072642d76473e8e": {
          "model_module": "@jupyter-widgets/base",
          "model_name": "LayoutModel",
          "model_module_version": "1.2.0",
          "state": {
            "_model_module": "@jupyter-widgets/base",
            "_model_module_version": "1.2.0",
            "_model_name": "LayoutModel",
            "_view_count": null,
            "_view_module": "@jupyter-widgets/base",
            "_view_module_version": "1.2.0",
            "_view_name": "LayoutView",
            "align_content": null,
            "align_items": null,
            "align_self": null,
            "border": null,
            "bottom": null,
            "display": null,
            "flex": null,
            "flex_flow": null,
            "grid_area": null,
            "grid_auto_columns": null,
            "grid_auto_flow": null,
            "grid_auto_rows": null,
            "grid_column": null,
            "grid_gap": null,
            "grid_row": null,
            "grid_template_areas": null,
            "grid_template_columns": null,
            "grid_template_rows": null,
            "height": null,
            "justify_content": null,
            "justify_items": null,
            "left": null,
            "margin": null,
            "max_height": null,
            "max_width": null,
            "min_height": null,
            "min_width": null,
            "object_fit": null,
            "object_position": null,
            "order": null,
            "overflow": null,
            "overflow_x": null,
            "overflow_y": null,
            "padding": null,
            "right": null,
            "top": null,
            "visibility": null,
            "width": null
          }
        },
        "91261482fa1343a09d37b30263fcaa7a": {
          "model_module": "@jupyter-widgets/controls",
          "model_name": "DescriptionStyleModel",
          "model_module_version": "1.5.0",
          "state": {
            "_model_module": "@jupyter-widgets/controls",
            "_model_module_version": "1.5.0",
            "_model_name": "DescriptionStyleModel",
            "_view_count": null,
            "_view_module": "@jupyter-widgets/base",
            "_view_module_version": "1.2.0",
            "_view_name": "StyleView",
            "description_width": ""
          }
        },
        "0f4d1beb7792402a958310d9777e51d1": {
          "model_module": "@jupyter-widgets/controls",
          "model_name": "ButtonModel",
          "model_module_version": "1.5.0",
          "state": {
            "_dom_classes": [],
            "_model_module": "@jupyter-widgets/controls",
            "_model_module_version": "1.5.0",
            "_model_name": "ButtonModel",
            "_view_count": null,
            "_view_module": "@jupyter-widgets/controls",
            "_view_module_version": "1.5.0",
            "_view_name": "ButtonView",
            "button_style": "",
            "description": "Enviar",
            "disabled": false,
            "icon": "send",
            "layout": "IPY_MODEL_fdae29af079747f886c87399a3ba22b2",
            "style": "IPY_MODEL_793c72bcfaa14bb39cd677f45695a366",
            "tooltip": "Enviar mensaje"
          }
        },
        "fdae29af079747f886c87399a3ba22b2": {
          "model_module": "@jupyter-widgets/base",
          "model_name": "LayoutModel",
          "model_module_version": "1.2.0",
          "state": {
            "_model_module": "@jupyter-widgets/base",
            "_model_module_version": "1.2.0",
            "_model_name": "LayoutModel",
            "_view_count": null,
            "_view_module": "@jupyter-widgets/base",
            "_view_module_version": "1.2.0",
            "_view_name": "LayoutView",
            "align_content": null,
            "align_items": null,
            "align_self": null,
            "border": null,
            "bottom": null,
            "display": null,
            "flex": null,
            "flex_flow": null,
            "grid_area": null,
            "grid_auto_columns": null,
            "grid_auto_flow": null,
            "grid_auto_rows": null,
            "grid_column": null,
            "grid_gap": null,
            "grid_row": null,
            "grid_template_areas": null,
            "grid_template_columns": null,
            "grid_template_rows": null,
            "height": null,
            "justify_content": null,
            "justify_items": null,
            "left": null,
            "margin": null,
            "max_height": null,
            "max_width": null,
            "min_height": null,
            "min_width": null,
            "object_fit": null,
            "object_position": null,
            "order": null,
            "overflow": null,
            "overflow_x": null,
            "overflow_y": null,
            "padding": null,
            "right": null,
            "top": null,
            "visibility": null,
            "width": null
          }
        },
        "793c72bcfaa14bb39cd677f45695a366": {
          "model_module": "@jupyter-widgets/controls",
          "model_name": "ButtonStyleModel",
          "model_module_version": "1.5.0",
          "state": {
            "_model_module": "@jupyter-widgets/controls",
            "_model_module_version": "1.5.0",
            "_model_name": "ButtonStyleModel",
            "_view_count": null,
            "_view_module": "@jupyter-widgets/base",
            "_view_module_version": "1.2.0",
            "_view_name": "StyleView",
            "button_color": null,
            "font_weight": ""
          }
        },
        "157aee1548f44ca1a718faa50b9b23b3": {
          "model_module": "@jupyter-widgets/output",
          "model_name": "OutputModel",
          "model_module_version": "1.0.0",
          "state": {
            "_dom_classes": [],
            "_model_module": "@jupyter-widgets/output",
            "_model_module_version": "1.0.0",
            "_model_name": "OutputModel",
            "_view_count": null,
            "_view_module": "@jupyter-widgets/output",
            "_view_module_version": "1.0.0",
            "_view_name": "OutputView",
            "layout": "IPY_MODEL_ef3af14304cc4e2faec8540b0a0f0f4f",
            "msg_id": "",
            "outputs": [
              {
                "output_type": "stream",
                "name": "stdout",
                "text": [
                  "Tú: Donde puedo realizar mi pedido\n"
                ]
              },
              {
                "output_type": "stream",
                "name": "stdout",
                "text": [
                  "Chatbot: Lamento la confusión, pero como asistente académico, mi función es brindarte ayuda con consultas académicas y no puedo ayudarte con pedidos de productos o servicios. ¿En qué otra área puedo asistirte?\n",
                  "\n"
                ]
              }
            ]
          }
        },
        "ef3af14304cc4e2faec8540b0a0f0f4f": {
          "model_module": "@jupyter-widgets/base",
          "model_name": "LayoutModel",
          "model_module_version": "1.2.0",
          "state": {
            "_model_module": "@jupyter-widgets/base",
            "_model_module_version": "1.2.0",
            "_model_name": "LayoutModel",
            "_view_count": null,
            "_view_module": "@jupyter-widgets/base",
            "_view_module_version": "1.2.0",
            "_view_name": "LayoutView",
            "align_content": null,
            "align_items": null,
            "align_self": null,
            "border": null,
            "bottom": null,
            "display": null,
            "flex": null,
            "flex_flow": null,
            "grid_area": null,
            "grid_auto_columns": null,
            "grid_auto_flow": null,
            "grid_auto_rows": null,
            "grid_column": null,
            "grid_gap": null,
            "grid_row": null,
            "grid_template_areas": null,
            "grid_template_columns": null,
            "grid_template_rows": null,
            "height": null,
            "justify_content": null,
            "justify_items": null,
            "left": null,
            "margin": null,
            "max_height": null,
            "max_width": null,
            "min_height": null,
            "min_width": null,
            "object_fit": null,
            "object_position": null,
            "order": null,
            "overflow": null,
            "overflow_x": null,
            "overflow_y": null,
            "padding": null,
            "right": null,
            "top": null,
            "visibility": null,
            "width": null
          }
        }
      }
    }
  },
  "cells": [
    {
      "cell_type": "markdown",
      "source": [
        "# **Creación de un Chatbot Básico usando la API de OpenAI en Google Colab**"
      ],
      "metadata": {
        "id": "9QsmnGepCoD8"
      }
    },
    {
      "cell_type": "markdown",
      "source": [
        "**Objetivos de Aprendizaje:**\n",
        "\n",
        "Comprender cómo configurar y utilizar Google Colab\n",
        "\n",
        "Aprender a conectarse y autenticar con la API de OpenAI.\n",
        "\n",
        "Desarrollar un chatbot básico que interactúa con el usuario.\n",
        "\n",
        "Explorar cómo manejar solicitudes y respuestas de la API.\n",
        "\n",
        "Implementar buenas prácticas para la gestión de claves API y manejo de errores."
      ],
      "metadata": {
        "id": "lJGn6r5YC2DX"
      }
    },
    {
      "cell_type": "markdown",
      "source": [
        "# **Instalar la Biblioteca de OpenAI**\n"
      ],
      "metadata": {
        "id": "INYt8QBYyvzl"
      }
    },
    {
      "cell_type": "code",
      "execution_count": 1,
      "metadata": {
        "colab": {
          "base_uri": "https://localhost:8080/"
        },
        "id": "lGVIO6L_w8De",
        "outputId": "664ac9bc-4214-4e18-a9e5-8ecbd6ffcb55"
      },
      "outputs": [
        {
          "output_type": "stream",
          "name": "stdout",
          "text": [
            "Collecting openai\n",
            "  Downloading openai-1.51.2-py3-none-any.whl.metadata (24 kB)\n",
            "Requirement already satisfied: anyio<5,>=3.5.0 in /usr/local/lib/python3.10/dist-packages (from openai) (3.7.1)\n",
            "Requirement already satisfied: distro<2,>=1.7.0 in /usr/lib/python3/dist-packages (from openai) (1.7.0)\n",
            "Collecting httpx<1,>=0.23.0 (from openai)\n",
            "  Downloading httpx-0.27.2-py3-none-any.whl.metadata (7.1 kB)\n",
            "Collecting jiter<1,>=0.4.0 (from openai)\n",
            "  Downloading jiter-0.6.1-cp310-cp310-manylinux_2_17_x86_64.manylinux2014_x86_64.whl.metadata (5.2 kB)\n",
            "Requirement already satisfied: pydantic<3,>=1.9.0 in /usr/local/lib/python3.10/dist-packages (from openai) (2.9.2)\n",
            "Requirement already satisfied: sniffio in /usr/local/lib/python3.10/dist-packages (from openai) (1.3.1)\n",
            "Requirement already satisfied: tqdm>4 in /usr/local/lib/python3.10/dist-packages (from openai) (4.66.5)\n",
            "Requirement already satisfied: typing-extensions<5,>=4.11 in /usr/local/lib/python3.10/dist-packages (from openai) (4.12.2)\n",
            "Requirement already satisfied: idna>=2.8 in /usr/local/lib/python3.10/dist-packages (from anyio<5,>=3.5.0->openai) (3.10)\n",
            "Requirement already satisfied: exceptiongroup in /usr/local/lib/python3.10/dist-packages (from anyio<5,>=3.5.0->openai) (1.2.2)\n",
            "Requirement already satisfied: certifi in /usr/local/lib/python3.10/dist-packages (from httpx<1,>=0.23.0->openai) (2024.8.30)\n",
            "Collecting httpcore==1.* (from httpx<1,>=0.23.0->openai)\n",
            "  Downloading httpcore-1.0.6-py3-none-any.whl.metadata (21 kB)\n",
            "Collecting h11<0.15,>=0.13 (from httpcore==1.*->httpx<1,>=0.23.0->openai)\n",
            "  Downloading h11-0.14.0-py3-none-any.whl.metadata (8.2 kB)\n",
            "Requirement already satisfied: annotated-types>=0.6.0 in /usr/local/lib/python3.10/dist-packages (from pydantic<3,>=1.9.0->openai) (0.7.0)\n",
            "Requirement already satisfied: pydantic-core==2.23.4 in /usr/local/lib/python3.10/dist-packages (from pydantic<3,>=1.9.0->openai) (2.23.4)\n",
            "Downloading openai-1.51.2-py3-none-any.whl (383 kB)\n",
            "\u001b[2K   \u001b[90m━━━━━━━━━━━━━━━━━━━━━━━━━━━━━━━━━━━━━━━━\u001b[0m \u001b[32m383.7/383.7 kB\u001b[0m \u001b[31m11.0 MB/s\u001b[0m eta \u001b[36m0:00:00\u001b[0m\n",
            "\u001b[?25hDownloading httpx-0.27.2-py3-none-any.whl (76 kB)\n",
            "\u001b[2K   \u001b[90m━━━━━━━━━━━━━━━━━━━━━━━━━━━━━━━━━━━━━━━━\u001b[0m \u001b[32m76.4/76.4 kB\u001b[0m \u001b[31m3.5 MB/s\u001b[0m eta \u001b[36m0:00:00\u001b[0m\n",
            "\u001b[?25hDownloading httpcore-1.0.6-py3-none-any.whl (78 kB)\n",
            "\u001b[2K   \u001b[90m━━━━━━━━━━━━━━━━━━━━━━━━━━━━━━━━━━━━━━━━\u001b[0m \u001b[32m78.0/78.0 kB\u001b[0m \u001b[31m4.8 MB/s\u001b[0m eta \u001b[36m0:00:00\u001b[0m\n",
            "\u001b[?25hDownloading jiter-0.6.1-cp310-cp310-manylinux_2_17_x86_64.manylinux2014_x86_64.whl (325 kB)\n",
            "\u001b[2K   \u001b[90m━━━━━━━━━━━━━━━━━━━━━━━━━━━━━━━━━━━━━━━━\u001b[0m \u001b[32m325.2/325.2 kB\u001b[0m \u001b[31m14.5 MB/s\u001b[0m eta \u001b[36m0:00:00\u001b[0m\n",
            "\u001b[?25hDownloading h11-0.14.0-py3-none-any.whl (58 kB)\n",
            "\u001b[2K   \u001b[90m━━━━━━━━━━━━━━━━━━━━━━━━━━━━━━━━━━━━━━━━\u001b[0m \u001b[32m58.3/58.3 kB\u001b[0m \u001b[31m3.3 MB/s\u001b[0m eta \u001b[36m0:00:00\u001b[0m\n",
            "\u001b[?25hInstalling collected packages: jiter, h11, httpcore, httpx, openai\n",
            "Successfully installed h11-0.14.0 httpcore-1.0.6 httpx-0.27.2 jiter-0.6.1 openai-1.51.2\n"
          ]
        }
      ],
      "source": [
        "!pip install openai"
      ]
    },
    {
      "cell_type": "markdown",
      "source": [
        "# **Configurar la Clave API en el Notebook**"
      ],
      "metadata": {
        "id": "DHQbOFhlyqDq"
      }
    },
    {
      "cell_type": "code",
      "source": [
        "import os\n",
        "\n",
        "# Opcional: Si no quieres exponer la clave en el código, puedes usar Google Colab secrets\n",
        "from google.colab import auth\n",
        "auth.authenticate_user()\n",
        "\n",
        "# Luego, puedes almacenar la clave de forma segura\n",
        "os.environ['OPENAI_API_KEY'] = 'sk-svcacct-jW7aj1jhhhM4NWeNN1FYmeaGC1qW9WEGx61Pb3W9CxvvteAbD8qqkuqsYtrN-2jcmT3BlbkFJMQeSXMGT5PX_o_hmW_dn4iJCL-MApQKDxWdssSSQNMjYXWkAD6SX3V-KSdyuQ97SwA'\n"
      ],
      "metadata": {
        "id": "h9tVZgOGxhKn"
      },
      "execution_count": 26,
      "outputs": []
    },
    {
      "cell_type": "markdown",
      "source": [
        "**Explicación:**\n",
        "\n",
        "import os: Importa el módulo para interactuar con el sistema operativo.\n",
        "os.environ['OPENAI_API_KEY']: Establece una variable de entorno para almacenar la clave API."
      ],
      "metadata": {
        "id": "bl8mmBrpzGJI"
      }
    },
    {
      "cell_type": "markdown",
      "source": [
        "# **Verificar la Configuración**"
      ],
      "metadata": {
        "id": "Pcv-jrV0zSl0"
      }
    },
    {
      "cell_type": "code",
      "source": [
        "import os\n",
        "from openai import OpenAI\n",
        "\n",
        "# Configura el cliente de OpenAI\n",
        "client = OpenAI(api_key=os.getenv('OPENAI_API_KEY'))\n",
        "\n",
        "# Verificar la conexión realizando una solicitud simple\n",
        "try:\n",
        "    response = client.models.list()\n",
        "    print(\"Conexión exitosa a la API de OpenAI.\")\n",
        "    print(response)\n",
        "except Exception as e:\n",
        "    print(f\"Error al conectar con la API: {e}\")\n"
      ],
      "metadata": {
        "colab": {
          "base_uri": "https://localhost:8080/"
        },
        "id": "XGK745WEzN5H",
        "outputId": "5ec8ddf7-51da-4fec-be74-49e623cf24b2"
      },
      "execution_count": 27,
      "outputs": [
        {
          "output_type": "stream",
          "name": "stdout",
          "text": [
            "Conexión exitosa a la API de OpenAI.\n",
            "SyncPage[Model](data=[Model(id='gpt-4-turbo', created=1712361441, object='model', owned_by='system'), Model(id='gpt-4-turbo-2024-04-09', created=1712601677, object='model', owned_by='system'), Model(id='tts-1', created=1681940951, object='model', owned_by='openai-internal'), Model(id='tts-1-1106', created=1699053241, object='model', owned_by='system'), Model(id='chatgpt-4o-latest', created=1723515131, object='model', owned_by='system'), Model(id='dall-e-2', created=1698798177, object='model', owned_by='system'), Model(id='gpt-4-turbo-preview', created=1706037777, object='model', owned_by='system'), Model(id='gpt-4o-2024-08-06', created=1722814719, object='model', owned_by='system'), Model(id='gpt-3.5-turbo-instruct', created=1692901427, object='model', owned_by='system'), Model(id='gpt-4o', created=1715367049, object='model', owned_by='system'), Model(id='gpt-4-0125-preview', created=1706037612, object='model', owned_by='system'), Model(id='gpt-3.5-turbo-0125', created=1706048358, object='model', owned_by='system'), Model(id='gpt-3.5-turbo', created=1677610602, object='model', owned_by='openai'), Model(id='babbage-002', created=1692634615, object='model', owned_by='system'), Model(id='davinci-002', created=1692634301, object='model', owned_by='system'), Model(id='gpt-4o-realtime-preview-2024-10-01', created=1727131766, object='model', owned_by='system'), Model(id='dall-e-3', created=1698785189, object='model', owned_by='system'), Model(id='gpt-4o-realtime-preview', created=1727659998, object='model', owned_by='system'), Model(id='gpt-4o-2024-05-13', created=1715368132, object='model', owned_by='system'), Model(id='gpt-4o-mini', created=1721172741, object='model', owned_by='system'), Model(id='tts-1-hd', created=1699046015, object='model', owned_by='system'), Model(id='tts-1-hd-1106', created=1699053533, object='model', owned_by='system'), Model(id='gpt-4o-mini-2024-07-18', created=1721172717, object='model', owned_by='system'), Model(id='gpt-4-1106-preview', created=1698957206, object='model', owned_by='system'), Model(id='text-embedding-ada-002', created=1671217299, object='model', owned_by='openai-internal'), Model(id='gpt-3.5-turbo-16k', created=1683758102, object='model', owned_by='openai-internal'), Model(id='text-embedding-3-small', created=1705948997, object='model', owned_by='system'), Model(id='text-embedding-3-large', created=1705953180, object='model', owned_by='system'), Model(id='whisper-1', created=1677532384, object='model', owned_by='openai-internal'), Model(id='gpt-3.5-turbo-1106', created=1698959748, object='model', owned_by='system'), Model(id='gpt-4-0613', created=1686588896, object='model', owned_by='openai'), Model(id='gpt-4', created=1687882411, object='model', owned_by='openai'), Model(id='gpt-3.5-turbo-instruct-0914', created=1694122472, object='model', owned_by='system')], object='list')\n"
          ]
        }
      ]
    },
    {
      "cell_type": "markdown",
      "source": [
        "**Explicación:**\n",
        "\n",
        "openai.Engine.list(): Lista los motores disponibles para verificar la conexión."
      ],
      "metadata": {
        "id": "9Vw2yRflzasj"
      }
    },
    {
      "cell_type": "markdown",
      "source": [
        "# **Definir una Función para Interactuar con la API**\n"
      ],
      "metadata": {
        "id": "aj9yDNb909yR"
      }
    },
    {
      "cell_type": "code",
      "source": [
        "def obtener_respuesta(prompt, modelo=\"gpt-3.5-turbo\", max_tokens=150):\n",
        "    \"\"\"\n",
        "    Función para obtener una respuesta de la API de OpenAI.\n",
        "\n",
        "    Parámetros:\n",
        "    - prompt: Texto de entrada para el modelo.\n",
        "    - modelo: Modelo de OpenAI a utilizar.\n",
        "    - max_tokens: Máximo de tokens en la respuesta.\n",
        "\n",
        "    Retorna:\n",
        "    - Respuesta generada por el modelo.\n",
        "    \"\"\"\n",
        "    try:\n",
        "        respuesta = client.chat.completions.create(\n",
        "            model=modelo,\n",
        "            messages=[\n",
        "                {\"role\": \"system\", \"content\": \"Eres un asistente útil.\"},\n",
        "                {\"role\": \"user\", \"content\": prompt}\n",
        "            ],\n",
        "            max_tokens=max_tokens,\n",
        "            n=1,\n",
        "            temperature=0.7,\n",
        "        )\n",
        "        texto = respuesta.choices[0].message.content.strip()\n",
        "        return texto\n",
        "    except Exception as e:\n",
        "        return f\"Error al obtener la respuesta: {e}\"\n"
      ],
      "metadata": {
        "id": "SofWTCbQ1Saf"
      },
      "execution_count": 28,
      "outputs": []
    },
    {
      "cell_type": "markdown",
      "source": [
        "**Explicación:**\n",
        "\n",
        "**Parámetros:**\n",
        "\n",
        "prompt: La entrada del usuario o pregunta al chatbot.\n",
        "\n",
        "modelo: Especifica el modelo de OpenAI a utilizar (por ejemplo, \"gpt-3.5-turbo\").\n",
        "\n",
        "max_tokens: Limita la longitud de la respuesta generada.\n",
        "\n",
        "Proceso:\n",
        "Utiliza client.chat.completions.create para generar una respuesta basada en el prompt.\n",
        "\n",
        "Maneja posibles excepciones y errores."
      ],
      "metadata": {
        "id": "VoM2Cx1H1qlX"
      }
    },
    {
      "cell_type": "markdown",
      "source": [
        "# **Crear una Interfaz Básica de Chat**"
      ],
      "metadata": {
        "id": "T9mIQ51z1ysp"
      }
    },
    {
      "cell_type": "code",
      "source": [
        "# Función para iniciar el chat\n",
        "def iniciar_chat():\n",
        "    print(\"¡Bienvenido al Chatbot de Jean Carlo!\")\n",
        "    print(\"Escribe 'salir' para terminar la conversación.\\n\")\n",
        "\n",
        "    while True:\n",
        "        entrada_usuario = input(\"Tú: \")\n",
        "        if entrada_usuario.lower() in ['salir', 'exit', 'quit']:\n",
        "            print(\"Chatbot: ¡Hasta luego!\")\n",
        "            break\n",
        "        respuesta_chatbot = obtener_respuesta(entrada_usuario)\n",
        "        print(f\"Chatbot: {respuesta_chatbot}\\n\")\n"
      ],
      "metadata": {
        "id": "2mHtEsWI11S3"
      },
      "execution_count": 29,
      "outputs": []
    },
    {
      "cell_type": "markdown",
      "source": [
        "**Explicación:**\n",
        "\n",
        "Flujo del Chat:\n",
        "\n",
        "El usuario ingresa un mensaje.\n",
        "\n",
        "El mensaje se envía a la función obtener_respuesta.\n",
        "\n",
        "La respuesta del modelo se muestra al usuario.\n",
        "\n",
        "El ciclo se repite hasta que el usuario decide salir."
      ],
      "metadata": {
        "id": "62JCQ8OD1-B-"
      }
    },
    {
      "cell_type": "markdown",
      "source": [
        "# **Ejecutar el Chatbot**"
      ],
      "metadata": {
        "id": "EOdFV4ak2B7C"
      }
    },
    {
      "cell_type": "code",
      "source": [
        "# Nota: En Google Colab, la función input() puede no funcionar de manera interactiva.\n",
        "# Por lo tanto, implementaremos una versión simplificada.\n",
        "\n",
        "import ipywidgets as widgets\n",
        "from IPython.display import display, clear_output\n",
        "\n",
        "# Crear elementos de la interfaz\n",
        "texto_usuario = widgets.Text(\n",
        "    value='',\n",
        "    placeholder='Escribe tu mensaje aquí',\n",
        "    description='Tú:',\n",
        "    disabled=False\n",
        ")\n",
        "\n",
        "boton_enviar = widgets.Button(\n",
        "    description='Enviar',\n",
        "    disabled=False,\n",
        "    button_style='',\n",
        "    tooltip='Enviar mensaje',\n",
        "    icon='send'\n",
        ")\n",
        "\n",
        "area_conversacion = widgets.Output()\n",
        "\n",
        "def enviar_mensaje(b):\n",
        "    with area_conversacion:\n",
        "        clear_output(wait=True)\n",
        "        mensaje = texto_usuario.value\n",
        "        if mensaje.lower() in ['salir', 'exit', 'quit']:\n",
        "            print(\"Chatbot: ¡Hasta luego!\")\n",
        "            texto_usuario.disabled = True\n",
        "            boton_enviar.disabled = True\n",
        "        else:\n",
        "            print(f\"Tú: {mensaje}\")\n",
        "            respuesta = obtener_respuesta(mensaje)\n",
        "            print(f\"Chatbot: {respuesta}\\n\")\n",
        "        texto_usuario.value = ''\n",
        "\n",
        "boton_enviar.on_click(enviar_mensaje)\n",
        "\n",
        "display(texto_usuario, boton_enviar, area_conversacion)\n"
      ],
      "metadata": {
        "colab": {
          "base_uri": "https://localhost:8080/",
          "height": 133,
          "referenced_widgets": [
            "df650f22dab94d76843aeb5f95f249ee",
            "4644035a9c4a41db927d0c2938dd3f7b",
            "16c5714c1df94c5090915db333c86b2d",
            "0807dd8f6df14fad9828340d580df010",
            "b08a635c79eb4f44b602bece70be8d96",
            "7460a84b127d4ef3882e57377f7e8eec",
            "a72c86cdc1b3469b8aeca0b98802d107",
            "2ef19dd469494bf79d9fef4642a68338"
          ]
        },
        "id": "76rSCOMZ19yL",
        "outputId": "d98895f8-571f-4b07-8430-548ce8714792"
      },
      "execution_count": 30,
      "outputs": [
        {
          "output_type": "display_data",
          "data": {
            "text/plain": [
              "Text(value='', description='Tú:', placeholder='Escribe tu mensaje aquí')"
            ],
            "application/vnd.jupyter.widget-view+json": {
              "version_major": 2,
              "version_minor": 0,
              "model_id": "df650f22dab94d76843aeb5f95f249ee"
            }
          },
          "metadata": {}
        },
        {
          "output_type": "display_data",
          "data": {
            "text/plain": [
              "Button(description='Enviar', icon='send', style=ButtonStyle(), tooltip='Enviar mensaje')"
            ],
            "application/vnd.jupyter.widget-view+json": {
              "version_major": 2,
              "version_minor": 0,
              "model_id": "0807dd8f6df14fad9828340d580df010"
            }
          },
          "metadata": {}
        },
        {
          "output_type": "display_data",
          "data": {
            "text/plain": [
              "Output()"
            ],
            "application/vnd.jupyter.widget-view+json": {
              "version_major": 2,
              "version_minor": 0,
              "model_id": "a72c86cdc1b3469b8aeca0b98802d107"
            }
          },
          "metadata": {}
        }
      ]
    },
    {
      "cell_type": "markdown",
      "source": [
        "**Explicación:**\n",
        "\n",
        "Limitación de Google Colab:\n",
        "La función input() no funciona de manera interactiva en Colab.\n",
        "\n",
        "Solución:\n",
        "Utilizamos widgets de ipywidgets para crear una interfaz interactiva.\n",
        "\n",
        "widgets.Text: Campo de texto para que el usuario ingrese mensajes.\n",
        "\n",
        "widgets.Button: Botón para enviar el mensaje.\n",
        "\n",
        "widgets.Output: Área para mostrar la conversación.\n",
        "\n",
        "**Funcionalidad:**\n",
        "\n",
        "Al hacer clic en el botón \"Enviar\", el mensaje se envía a la función obtener_respuesta.\n",
        "\n",
        "La respuesta se muestra en el área de conversación.\n",
        "\n",
        "Si el usuario escribe \"salir\", se deshabilitan los campos para terminar la conversación."
      ],
      "metadata": {
        "id": "HdXOr22z2Mkd"
      }
    },
    {
      "cell_type": "markdown",
      "source": [
        "Análisis y Mejora del Chatbot"
      ],
      "metadata": {
        "id": "EGneEw_rAZlr"
      }
    },
    {
      "cell_type": "markdown",
      "source": [
        "Ajustar Parámetros de la API\n",
        "Temperature:\n",
        "\n",
        "Controla la creatividad de las respuestas.\n",
        "\n",
        "Valores cercanos a 0: Respuestas más deterministas.\n",
        "\n",
        "Valores cercanos a 1: Respuestas más creativas.\n",
        "\n",
        "Max Tokens:\n",
        "\n",
        "Limita la longitud de las respuestas.\n",
        "\n",
        "Ajusta según la necesidad de detalle.\n",
        "\n",
        "Ejemplo: Modificar la función obtener_respuesta para permitir ajustar la temperatura:"
      ],
      "metadata": {
        "id": "XCvTNNE_AhQK"
      }
    },
    {
      "cell_type": "code",
      "source": [
        "def obtener_respuesta(prompt, modelo=\"gpt-3.5-turbo\", max_tokens=150,temperature=0.7):\n",
        "    \"\"\"\n",
        "    Función para obtener una respuesta de la API de OpenAI.\n",
        "\n",
        "    Parámetros:\n",
        "    - prompt: Texto de entrada para el modelo.\n",
        "    - modelo: Modelo de OpenAI a utilizar.\n",
        "    - max_tokens: Máximo de tokens en la respuesta.\n",
        "\n",
        "    Retorna:\n",
        "    - Respuesta generada por el modelo.\n",
        "    \"\"\"\n",
        "    try:\n",
        "        respuesta = client.chat.completions.create(\n",
        "            model=modelo,\n",
        "            messages=[\n",
        "                {\"role\": \"system\", \"content\": \"Eres un asistente útil.\"},\n",
        "                {\"role\": \"user\", \"content\": prompt}\n",
        "            ],\n",
        "            max_tokens=max_tokens,\n",
        "            n=1,\n",
        "            temperature=temperature,\n",
        "        )\n",
        "        texto = respuesta.choices[0].message.content.strip()\n",
        "        return texto\n",
        "    except Exception as e:\n",
        "        return f\"Error al obtener la respuesta: {e}\""
      ],
      "metadata": {
        "id": "-2EPwiWHAvt8"
      },
      "execution_count": 31,
      "outputs": []
    },
    {
      "cell_type": "markdown",
      "source": [
        "# ** Implementar Manejo de Errores Más Robusto**"
      ],
      "metadata": {
        "id": "nf-SjVRkA5Du"
      }
    },
    {
      "cell_type": "code",
      "source": [
        "def obtener_respuesta(prompt, modelo=\"gpt-3.5-turbo\", max_tokens=150,temperature=0.7):\n",
        "    \"\"\"\n",
        "    Función para obtener una respuesta de la API de OpenAI.\n",
        "\n",
        "    Parámetros:\n",
        "    - prompt: Texto de entrada para el modelo.\n",
        "    - modelo: Modelo de OpenAI a utilizar.\n",
        "    - max_tokens: Máximo de tokens en la respuesta.\n",
        "\n",
        "    Retorna:\n",
        "    - Respuesta generada por el modelo.\n",
        "    \"\"\"\n",
        "    try:\n",
        "        respuesta = client.chat.completions.create(\n",
        "            model=modelo,\n",
        "            messages=[\n",
        "                {\"role\": \"system\", \"content\": \"Eres un asistente útil.\"},\n",
        "                {\"role\": \"user\", \"content\": prompt}\n",
        "            ],\n",
        "            max_tokens=max_tokens,\n",
        "            n=1,\n",
        "            temperature=temperature,\n",
        "        )\n",
        "        texto = respuesta.choices[0].message.content.strip()\n",
        "        return texto\n",
        "    except openai.error.OpenAIError as e:\n",
        "        return f\"Error de la API de OpenAI: {e}\"\n",
        "    except Exception as e:\n",
        "        return f\"Error inesperado: {e}\""
      ],
      "metadata": {
        "id": "eeE5OVwDBMWr"
      },
      "execution_count": 32,
      "outputs": []
    },
    {
      "cell_type": "markdown",
      "source": [
        "**Explicación:**\n",
        "\n",
        "Manejo específico de errores de OpenAI.\n",
        "\n",
        "Manejo general de otros posibles errores."
      ],
      "metadata": {
        "id": "kcSUAg30BDJy"
      }
    },
    {
      "cell_type": "markdown",
      "source": [
        "# **Personalizar el Prompt para Mejorar Respuestas**"
      ],
      "metadata": {
        "id": "nu7wi5YBBSkC"
      }
    },
    {
      "cell_type": "markdown",
      "source": [
        "**Instrucciones al Modelo:**\n",
        "\n",
        "Puedes guiar al modelo para obtener respuestas más específicas.\n",
        "\n",
        "Ejemplo: Modificar el prompt para que el chatbot actúe como un asistente académico."
      ],
      "metadata": {
        "id": "l0fKEIBJBX6Y"
      }
    },
    {
      "cell_type": "code",
      "source": [
        "def obtener_respuesta(prompt, modelo=\"gpt-3.5-turbo\", max_tokens=150,temperature=0.7):\n",
        "    \"\"\"\n",
        "    Función para obtener una respuesta de la API de OpenAI.\n",
        "\n",
        "    Parámetros:\n",
        "    - prompt: Texto de entrada para el modelo.\n",
        "    - modelo: Modelo de OpenAI a utilizar.\n",
        "    - max_tokens: Máximo de tokens en la respuesta.\n",
        "\n",
        "    Retorna:\n",
        "    - Respuesta generada por el modelo.\n",
        "    \"\"\"\n",
        "    try:\n",
        "        respuesta = client.chat.completions.create(\n",
        "            model=modelo,\n",
        "            messages=[\n",
        "                {\"role\": \"system\", \"content\": \"Eres un asistente académico que ayuda a estudiantes de maestría.\"},\n",
        "                {\"role\": \"user\", \"content\": prompt}\n",
        "            ],\n",
        "            max_tokens=max_tokens,\n",
        "            n=1,\n",
        "            temperature=temperature,\n",
        "        )\n",
        "        texto = respuesta.choices[0].message.content.strip()\n",
        "        return texto\n",
        "    except openai.error.OpenAIError as e:\n",
        "        return f\"Error de la API de OpenAI: {e}\"\n",
        "    except Exception as e:\n",
        "        return f\"Error inesperado: {e}\""
      ],
      "metadata": {
        "id": "JFwyX63-BZTE"
      },
      "execution_count": 33,
      "outputs": []
    },
    {
      "cell_type": "markdown",
      "source": [
        "Añadir contexto al prompt para guiar al modelo a proporcionar respuestas más relevantes."
      ],
      "metadata": {
        "id": "hEdihYWZCFtd"
      }
    },
    {
      "cell_type": "markdown",
      "source": [
        "# **Buenas Prácticas:**\n",
        "\n",
        "Seguridad de la Clave API:\n",
        "\n",
        "No compartir la clave en repositorios públicos.\n",
        "\n",
        "Utilizar variables de entorno o servicios de gestión de secretos.\n",
        "\n",
        "Manejo de Errores:\n",
        "\n",
        "Implementar manejo de excepciones para evitar que el programa falle inesperadamente.\n",
        "\n",
        "Optimización de Costos:\n",
        "\n",
        "Controlar el uso de tokens para gestionar costos asociados con la API.\n",
        "Documentación y Comentarios:\n",
        "\n",
        "Documentar el código para facilitar su comprensión y mantenimiento."
      ],
      "metadata": {
        "id": "DkiOJHUvB4Sb"
      }
    },
    {
      "cell_type": "code",
      "source": [
        "# Nota: En Google Colab, la función input() puede no funcionar de manera interactiva.\n",
        "# Por lo tanto, implementaremos una versión simplificada.\n",
        "\n",
        "import ipywidgets as widgets\n",
        "from IPython.display import display, clear_output\n",
        "\n",
        "# Crear elementos de la interfaz\n",
        "texto_usuario = widgets.Text(\n",
        "    value='',\n",
        "    placeholder='Escribe tu mensaje aquí',\n",
        "    description='Tú:',\n",
        "    disabled=False\n",
        ")\n",
        "\n",
        "boton_enviar = widgets.Button(\n",
        "    description='Enviar',\n",
        "    disabled=False,\n",
        "    button_style='',\n",
        "    tooltip='Enviar mensaje',\n",
        "    icon='send'\n",
        ")\n",
        "\n",
        "area_conversacion = widgets.Output()\n",
        "\n",
        "def enviar_mensaje(b):\n",
        "    with area_conversacion:\n",
        "        clear_output(wait=True)\n",
        "        mensaje = texto_usuario.value\n",
        "        if mensaje.lower() in ['salir', 'exit', 'quit']:\n",
        "            print(\"Chatbot: ¡Hasta luego!\")\n",
        "            texto_usuario.disabled = True\n",
        "            boton_enviar.disabled = True\n",
        "        else:\n",
        "            print(f\"Tú: {mensaje}\")\n",
        "            respuesta = obtener_respuesta(mensaje)\n",
        "            print(f\"Chatbot: {respuesta}\\n\")\n",
        "        texto_usuario.value = ''\n",
        "\n",
        "boton_enviar.on_click(enviar_mensaje)\n",
        "\n",
        "display(texto_usuario, boton_enviar, area_conversacion)"
      ],
      "metadata": {
        "colab": {
          "base_uri": "https://localhost:8080/",
          "height": 133,
          "referenced_widgets": [
            "634c8104dcdb4d61b9b3a7bfb0f9829a",
            "dbd03b8877c64e03b072642d76473e8e",
            "91261482fa1343a09d37b30263fcaa7a",
            "0f4d1beb7792402a958310d9777e51d1",
            "fdae29af079747f886c87399a3ba22b2",
            "793c72bcfaa14bb39cd677f45695a366",
            "157aee1548f44ca1a718faa50b9b23b3",
            "ef3af14304cc4e2faec8540b0a0f0f4f"
          ]
        },
        "id": "YCjmCyu2B_6Z",
        "outputId": "62dcf87d-ceec-48f7-f47c-58d18ee5afe9"
      },
      "execution_count": 34,
      "outputs": [
        {
          "output_type": "display_data",
          "data": {
            "text/plain": [
              "Text(value='', description='Tú:', placeholder='Escribe tu mensaje aquí')"
            ],
            "application/vnd.jupyter.widget-view+json": {
              "version_major": 2,
              "version_minor": 0,
              "model_id": "634c8104dcdb4d61b9b3a7bfb0f9829a"
            }
          },
          "metadata": {}
        },
        {
          "output_type": "display_data",
          "data": {
            "text/plain": [
              "Button(description='Enviar', icon='send', style=ButtonStyle(), tooltip='Enviar mensaje')"
            ],
            "application/vnd.jupyter.widget-view+json": {
              "version_major": 2,
              "version_minor": 0,
              "model_id": "0f4d1beb7792402a958310d9777e51d1"
            }
          },
          "metadata": {}
        },
        {
          "output_type": "display_data",
          "data": {
            "text/plain": [
              "Output()"
            ],
            "application/vnd.jupyter.widget-view+json": {
              "version_major": 2,
              "version_minor": 0,
              "model_id": "157aee1548f44ca1a718faa50b9b23b3"
            }
          },
          "metadata": {}
        }
      ]
    }
  ]
}