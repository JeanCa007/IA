{
  "nbformat": 4,
  "nbformat_minor": 0,
  "metadata": {
    "colab": {
      "provenance": []
    },
    "kernelspec": {
      "name": "python3",
      "display_name": "Python 3"
    },
    "language_info": {
      "name": "python"
    }
  },
  "cells": [
    {
      "cell_type": "markdown",
      "source": [
        "# Demo Cluster Jerarquico\n",
        "\n",
        "By Jean Carlo Alvarez"
      ],
      "metadata": {
        "id": "lEKe3q8uk_oH"
      }
    },
    {
      "cell_type": "markdown",
      "source": [
        "# Importar Librerias"
      ],
      "metadata": {
        "id": "QzVJ0_57lkgR"
      }
    },
    {
      "cell_type": "code",
      "execution_count": 2,
      "metadata": {
        "id": "Y6mqLSCFkzzN"
      },
      "outputs": [],
      "source": [
        "import pandas as pd\n",
        "import numpy as np\n",
        "import matplotlib.pyplot as plt\n",
        "from sklearn import preprocessing\n",
        "import scipy.cluster.hierarchy as shc\n",
        "from sklearn.cluster import AgglomerativeClustering"
      ]
    },
    {
      "cell_type": "markdown",
      "source": [
        "## Librerías necesarias :\n",
        "\n",
        "**import pandas as pd:** libreria usada para manipular y analizar datos en estructuras tipo tabla (DataFrame)\n",
        "\n",
        "**import numpy as np:**  útil para realizar operaciones numéricas y trabajar con arrays multidimensionales\n",
        "\n",
        "**import matplotlib.pyplot as plt:**  específicamente la función pyplot que se utiliza para crear gráficos y visualizaciones\n",
        "\n",
        "**from sklearn import preprocessing**:  modulo preprocessing de scikit-learn  para preprocesar los datos como la normalización o escalado\n",
        "\n",
        "**import scipy.cluster.hierarchy as shc:** Importamos scipy especificamente el modulo para hacer clusterización jerárquica, que se usa para agrupar datos en jerarquías\n",
        "\n",
        "**from sklearn.cluster import AgglomerativeClustering:** AgglomerativeClustering de scikit-learn  es un algoritmo de clusterización jerárquica aglomerativa para agrupar los datos en clusters"
      ],
      "metadata": {
        "id": "t-UjrIcKlJej"
      }
    },
    {
      "cell_type": "markdown",
      "source": [
        "# Cargar Datos"
      ],
      "metadata": {
        "id": "9Vv0s2iAlqpo"
      }
    },
    {
      "cell_type": "code",
      "source": [
        "df = df = pd.read_csv('./Wholesale_customers_data.csv')\n",
        "df=df.dropna()\n",
        "df.sample(10)"
      ],
      "metadata": {
        "colab": {
          "base_uri": "https://localhost:8080/",
          "height": 363
        },
        "id": "H_Skn67alJ7_",
        "outputId": "f33e8af2-073a-4187-bb35-99bb23f038c1"
      },
      "execution_count": 3,
      "outputs": [
        {
          "output_type": "execute_result",
          "data": {
            "text/plain": [
              "     Channel  Region  Fresh  Milk  Grocery  Frozen  Detergents_Paper  \\\n",
              "217        1       1  18044  1475     2046    2532               130   \n",
              "419        1       3   8861  3783     2223     633              1580   \n",
              "276        1       3  27901  3749     6964    4479               603   \n",
              "352        1       3    608  1106     1533     830                90   \n",
              "95         1       3      3  2920     6252     440               223   \n",
              "327        1       2    542   899     1664     414                88   \n",
              "68         1       3   2446  7260     3993    5870               788   \n",
              "272        1       1    514  8323     6869     529                93   \n",
              "117        1       3   6990  3880     5380    1647               319   \n",
              "383        1       3   1821  1364     3450    4006               397   \n",
              "\n",
              "     Delicassen  \n",
              "217        1158  \n",
              "419        1521  \n",
              "276        2503  \n",
              "352         195  \n",
              "95          709  \n",
              "327         522  \n",
              "68         3095  \n",
              "272        1040  \n",
              "117        1160  \n",
              "383         361  "
            ],
            "text/html": [
              "\n",
              "  <div id=\"df-f28f1319-16e4-46a0-bd33-9eda13e81513\" class=\"colab-df-container\">\n",
              "    <div>\n",
              "<style scoped>\n",
              "    .dataframe tbody tr th:only-of-type {\n",
              "        vertical-align: middle;\n",
              "    }\n",
              "\n",
              "    .dataframe tbody tr th {\n",
              "        vertical-align: top;\n",
              "    }\n",
              "\n",
              "    .dataframe thead th {\n",
              "        text-align: right;\n",
              "    }\n",
              "</style>\n",
              "<table border=\"1\" class=\"dataframe\">\n",
              "  <thead>\n",
              "    <tr style=\"text-align: right;\">\n",
              "      <th></th>\n",
              "      <th>Channel</th>\n",
              "      <th>Region</th>\n",
              "      <th>Fresh</th>\n",
              "      <th>Milk</th>\n",
              "      <th>Grocery</th>\n",
              "      <th>Frozen</th>\n",
              "      <th>Detergents_Paper</th>\n",
              "      <th>Delicassen</th>\n",
              "    </tr>\n",
              "  </thead>\n",
              "  <tbody>\n",
              "    <tr>\n",
              "      <th>217</th>\n",
              "      <td>1</td>\n",
              "      <td>1</td>\n",
              "      <td>18044</td>\n",
              "      <td>1475</td>\n",
              "      <td>2046</td>\n",
              "      <td>2532</td>\n",
              "      <td>130</td>\n",
              "      <td>1158</td>\n",
              "    </tr>\n",
              "    <tr>\n",
              "      <th>419</th>\n",
              "      <td>1</td>\n",
              "      <td>3</td>\n",
              "      <td>8861</td>\n",
              "      <td>3783</td>\n",
              "      <td>2223</td>\n",
              "      <td>633</td>\n",
              "      <td>1580</td>\n",
              "      <td>1521</td>\n",
              "    </tr>\n",
              "    <tr>\n",
              "      <th>276</th>\n",
              "      <td>1</td>\n",
              "      <td>3</td>\n",
              "      <td>27901</td>\n",
              "      <td>3749</td>\n",
              "      <td>6964</td>\n",
              "      <td>4479</td>\n",
              "      <td>603</td>\n",
              "      <td>2503</td>\n",
              "    </tr>\n",
              "    <tr>\n",
              "      <th>352</th>\n",
              "      <td>1</td>\n",
              "      <td>3</td>\n",
              "      <td>608</td>\n",
              "      <td>1106</td>\n",
              "      <td>1533</td>\n",
              "      <td>830</td>\n",
              "      <td>90</td>\n",
              "      <td>195</td>\n",
              "    </tr>\n",
              "    <tr>\n",
              "      <th>95</th>\n",
              "      <td>1</td>\n",
              "      <td>3</td>\n",
              "      <td>3</td>\n",
              "      <td>2920</td>\n",
              "      <td>6252</td>\n",
              "      <td>440</td>\n",
              "      <td>223</td>\n",
              "      <td>709</td>\n",
              "    </tr>\n",
              "    <tr>\n",
              "      <th>327</th>\n",
              "      <td>1</td>\n",
              "      <td>2</td>\n",
              "      <td>542</td>\n",
              "      <td>899</td>\n",
              "      <td>1664</td>\n",
              "      <td>414</td>\n",
              "      <td>88</td>\n",
              "      <td>522</td>\n",
              "    </tr>\n",
              "    <tr>\n",
              "      <th>68</th>\n",
              "      <td>1</td>\n",
              "      <td>3</td>\n",
              "      <td>2446</td>\n",
              "      <td>7260</td>\n",
              "      <td>3993</td>\n",
              "      <td>5870</td>\n",
              "      <td>788</td>\n",
              "      <td>3095</td>\n",
              "    </tr>\n",
              "    <tr>\n",
              "      <th>272</th>\n",
              "      <td>1</td>\n",
              "      <td>1</td>\n",
              "      <td>514</td>\n",
              "      <td>8323</td>\n",
              "      <td>6869</td>\n",
              "      <td>529</td>\n",
              "      <td>93</td>\n",
              "      <td>1040</td>\n",
              "    </tr>\n",
              "    <tr>\n",
              "      <th>117</th>\n",
              "      <td>1</td>\n",
              "      <td>3</td>\n",
              "      <td>6990</td>\n",
              "      <td>3880</td>\n",
              "      <td>5380</td>\n",
              "      <td>1647</td>\n",
              "      <td>319</td>\n",
              "      <td>1160</td>\n",
              "    </tr>\n",
              "    <tr>\n",
              "      <th>383</th>\n",
              "      <td>1</td>\n",
              "      <td>3</td>\n",
              "      <td>1821</td>\n",
              "      <td>1364</td>\n",
              "      <td>3450</td>\n",
              "      <td>4006</td>\n",
              "      <td>397</td>\n",
              "      <td>361</td>\n",
              "    </tr>\n",
              "  </tbody>\n",
              "</table>\n",
              "</div>\n",
              "    <div class=\"colab-df-buttons\">\n",
              "\n",
              "  <div class=\"colab-df-container\">\n",
              "    <button class=\"colab-df-convert\" onclick=\"convertToInteractive('df-f28f1319-16e4-46a0-bd33-9eda13e81513')\"\n",
              "            title=\"Convert this dataframe to an interactive table.\"\n",
              "            style=\"display:none;\">\n",
              "\n",
              "  <svg xmlns=\"http://www.w3.org/2000/svg\" height=\"24px\" viewBox=\"0 -960 960 960\">\n",
              "    <path d=\"M120-120v-720h720v720H120Zm60-500h600v-160H180v160Zm220 220h160v-160H400v160Zm0 220h160v-160H400v160ZM180-400h160v-160H180v160Zm440 0h160v-160H620v160ZM180-180h160v-160H180v160Zm440 0h160v-160H620v160Z\"/>\n",
              "  </svg>\n",
              "    </button>\n",
              "\n",
              "  <style>\n",
              "    .colab-df-container {\n",
              "      display:flex;\n",
              "      gap: 12px;\n",
              "    }\n",
              "\n",
              "    .colab-df-convert {\n",
              "      background-color: #E8F0FE;\n",
              "      border: none;\n",
              "      border-radius: 50%;\n",
              "      cursor: pointer;\n",
              "      display: none;\n",
              "      fill: #1967D2;\n",
              "      height: 32px;\n",
              "      padding: 0 0 0 0;\n",
              "      width: 32px;\n",
              "    }\n",
              "\n",
              "    .colab-df-convert:hover {\n",
              "      background-color: #E2EBFA;\n",
              "      box-shadow: 0px 1px 2px rgba(60, 64, 67, 0.3), 0px 1px 3px 1px rgba(60, 64, 67, 0.15);\n",
              "      fill: #174EA6;\n",
              "    }\n",
              "\n",
              "    .colab-df-buttons div {\n",
              "      margin-bottom: 4px;\n",
              "    }\n",
              "\n",
              "    [theme=dark] .colab-df-convert {\n",
              "      background-color: #3B4455;\n",
              "      fill: #D2E3FC;\n",
              "    }\n",
              "\n",
              "    [theme=dark] .colab-df-convert:hover {\n",
              "      background-color: #434B5C;\n",
              "      box-shadow: 0px 1px 3px 1px rgba(0, 0, 0, 0.15);\n",
              "      filter: drop-shadow(0px 1px 2px rgba(0, 0, 0, 0.3));\n",
              "      fill: #FFFFFF;\n",
              "    }\n",
              "  </style>\n",
              "\n",
              "    <script>\n",
              "      const buttonEl =\n",
              "        document.querySelector('#df-f28f1319-16e4-46a0-bd33-9eda13e81513 button.colab-df-convert');\n",
              "      buttonEl.style.display =\n",
              "        google.colab.kernel.accessAllowed ? 'block' : 'none';\n",
              "\n",
              "      async function convertToInteractive(key) {\n",
              "        const element = document.querySelector('#df-f28f1319-16e4-46a0-bd33-9eda13e81513');\n",
              "        const dataTable =\n",
              "          await google.colab.kernel.invokeFunction('convertToInteractive',\n",
              "                                                    [key], {});\n",
              "        if (!dataTable) return;\n",
              "\n",
              "        const docLinkHtml = 'Like what you see? Visit the ' +\n",
              "          '<a target=\"_blank\" href=https://colab.research.google.com/notebooks/data_table.ipynb>data table notebook</a>'\n",
              "          + ' to learn more about interactive tables.';\n",
              "        element.innerHTML = '';\n",
              "        dataTable['output_type'] = 'display_data';\n",
              "        await google.colab.output.renderOutput(dataTable, element);\n",
              "        const docLink = document.createElement('div');\n",
              "        docLink.innerHTML = docLinkHtml;\n",
              "        element.appendChild(docLink);\n",
              "      }\n",
              "    </script>\n",
              "  </div>\n",
              "\n",
              "\n",
              "<div id=\"df-305d4fd7-2ee4-4824-a658-4e676bdc079a\">\n",
              "  <button class=\"colab-df-quickchart\" onclick=\"quickchart('df-305d4fd7-2ee4-4824-a658-4e676bdc079a')\"\n",
              "            title=\"Suggest charts\"\n",
              "            style=\"display:none;\">\n",
              "\n",
              "<svg xmlns=\"http://www.w3.org/2000/svg\" height=\"24px\"viewBox=\"0 0 24 24\"\n",
              "     width=\"24px\">\n",
              "    <g>\n",
              "        <path d=\"M19 3H5c-1.1 0-2 .9-2 2v14c0 1.1.9 2 2 2h14c1.1 0 2-.9 2-2V5c0-1.1-.9-2-2-2zM9 17H7v-7h2v7zm4 0h-2V7h2v10zm4 0h-2v-4h2v4z\"/>\n",
              "    </g>\n",
              "</svg>\n",
              "  </button>\n",
              "\n",
              "<style>\n",
              "  .colab-df-quickchart {\n",
              "      --bg-color: #E8F0FE;\n",
              "      --fill-color: #1967D2;\n",
              "      --hover-bg-color: #E2EBFA;\n",
              "      --hover-fill-color: #174EA6;\n",
              "      --disabled-fill-color: #AAA;\n",
              "      --disabled-bg-color: #DDD;\n",
              "  }\n",
              "\n",
              "  [theme=dark] .colab-df-quickchart {\n",
              "      --bg-color: #3B4455;\n",
              "      --fill-color: #D2E3FC;\n",
              "      --hover-bg-color: #434B5C;\n",
              "      --hover-fill-color: #FFFFFF;\n",
              "      --disabled-bg-color: #3B4455;\n",
              "      --disabled-fill-color: #666;\n",
              "  }\n",
              "\n",
              "  .colab-df-quickchart {\n",
              "    background-color: var(--bg-color);\n",
              "    border: none;\n",
              "    border-radius: 50%;\n",
              "    cursor: pointer;\n",
              "    display: none;\n",
              "    fill: var(--fill-color);\n",
              "    height: 32px;\n",
              "    padding: 0;\n",
              "    width: 32px;\n",
              "  }\n",
              "\n",
              "  .colab-df-quickchart:hover {\n",
              "    background-color: var(--hover-bg-color);\n",
              "    box-shadow: 0 1px 2px rgba(60, 64, 67, 0.3), 0 1px 3px 1px rgba(60, 64, 67, 0.15);\n",
              "    fill: var(--button-hover-fill-color);\n",
              "  }\n",
              "\n",
              "  .colab-df-quickchart-complete:disabled,\n",
              "  .colab-df-quickchart-complete:disabled:hover {\n",
              "    background-color: var(--disabled-bg-color);\n",
              "    fill: var(--disabled-fill-color);\n",
              "    box-shadow: none;\n",
              "  }\n",
              "\n",
              "  .colab-df-spinner {\n",
              "    border: 2px solid var(--fill-color);\n",
              "    border-color: transparent;\n",
              "    border-bottom-color: var(--fill-color);\n",
              "    animation:\n",
              "      spin 1s steps(1) infinite;\n",
              "  }\n",
              "\n",
              "  @keyframes spin {\n",
              "    0% {\n",
              "      border-color: transparent;\n",
              "      border-bottom-color: var(--fill-color);\n",
              "      border-left-color: var(--fill-color);\n",
              "    }\n",
              "    20% {\n",
              "      border-color: transparent;\n",
              "      border-left-color: var(--fill-color);\n",
              "      border-top-color: var(--fill-color);\n",
              "    }\n",
              "    30% {\n",
              "      border-color: transparent;\n",
              "      border-left-color: var(--fill-color);\n",
              "      border-top-color: var(--fill-color);\n",
              "      border-right-color: var(--fill-color);\n",
              "    }\n",
              "    40% {\n",
              "      border-color: transparent;\n",
              "      border-right-color: var(--fill-color);\n",
              "      border-top-color: var(--fill-color);\n",
              "    }\n",
              "    60% {\n",
              "      border-color: transparent;\n",
              "      border-right-color: var(--fill-color);\n",
              "    }\n",
              "    80% {\n",
              "      border-color: transparent;\n",
              "      border-right-color: var(--fill-color);\n",
              "      border-bottom-color: var(--fill-color);\n",
              "    }\n",
              "    90% {\n",
              "      border-color: transparent;\n",
              "      border-bottom-color: var(--fill-color);\n",
              "    }\n",
              "  }\n",
              "</style>\n",
              "\n",
              "  <script>\n",
              "    async function quickchart(key) {\n",
              "      const quickchartButtonEl =\n",
              "        document.querySelector('#' + key + ' button');\n",
              "      quickchartButtonEl.disabled = true;  // To prevent multiple clicks.\n",
              "      quickchartButtonEl.classList.add('colab-df-spinner');\n",
              "      try {\n",
              "        const charts = await google.colab.kernel.invokeFunction(\n",
              "            'suggestCharts', [key], {});\n",
              "      } catch (error) {\n",
              "        console.error('Error during call to suggestCharts:', error);\n",
              "      }\n",
              "      quickchartButtonEl.classList.remove('colab-df-spinner');\n",
              "      quickchartButtonEl.classList.add('colab-df-quickchart-complete');\n",
              "    }\n",
              "    (() => {\n",
              "      let quickchartButtonEl =\n",
              "        document.querySelector('#df-305d4fd7-2ee4-4824-a658-4e676bdc079a button');\n",
              "      quickchartButtonEl.style.display =\n",
              "        google.colab.kernel.accessAllowed ? 'block' : 'none';\n",
              "    })();\n",
              "  </script>\n",
              "</div>\n",
              "\n",
              "    </div>\n",
              "  </div>\n"
            ],
            "application/vnd.google.colaboratory.intrinsic+json": {
              "type": "dataframe",
              "summary": "{\n  \"name\": \"df\",\n  \"rows\": 10,\n  \"fields\": [\n    {\n      \"column\": \"Channel\",\n      \"properties\": {\n        \"dtype\": \"number\",\n        \"std\": 0,\n        \"min\": 1,\n        \"max\": 1,\n        \"num_unique_values\": 1,\n        \"samples\": [\n          1\n        ],\n        \"semantic_type\": \"\",\n        \"description\": \"\"\n      }\n    },\n    {\n      \"column\": \"Region\",\n      \"properties\": {\n        \"dtype\": \"number\",\n        \"std\": 0,\n        \"min\": 1,\n        \"max\": 3,\n        \"num_unique_values\": 3,\n        \"samples\": [\n          1\n        ],\n        \"semantic_type\": \"\",\n        \"description\": \"\"\n      }\n    },\n    {\n      \"column\": \"Fresh\",\n      \"properties\": {\n        \"dtype\": \"number\",\n        \"std\": 9326,\n        \"min\": 3,\n        \"max\": 27901,\n        \"num_unique_values\": 10,\n        \"samples\": [\n          6990\n        ],\n        \"semantic_type\": \"\",\n        \"description\": \"\"\n      }\n    },\n    {\n      \"column\": \"Milk\",\n      \"properties\": {\n        \"dtype\": \"number\",\n        \"std\": 2564,\n        \"min\": 899,\n        \"max\": 8323,\n        \"num_unique_values\": 10,\n        \"samples\": [\n          3880\n        ],\n        \"semantic_type\": \"\",\n        \"description\": \"\"\n      }\n    },\n    {\n      \"column\": \"Grocery\",\n      \"properties\": {\n        \"dtype\": \"number\",\n        \"std\": 2180,\n        \"min\": 1533,\n        \"max\": 6964,\n        \"num_unique_values\": 10,\n        \"samples\": [\n          5380\n        ],\n        \"semantic_type\": \"\",\n        \"description\": \"\"\n      }\n    },\n    {\n      \"column\": \"Frozen\",\n      \"properties\": {\n        \"dtype\": \"number\",\n        \"std\": 1992,\n        \"min\": 414,\n        \"max\": 5870,\n        \"num_unique_values\": 10,\n        \"samples\": [\n          1647\n        ],\n        \"semantic_type\": \"\",\n        \"description\": \"\"\n      }\n    },\n    {\n      \"column\": \"Detergents_Paper\",\n      \"properties\": {\n        \"dtype\": \"number\",\n        \"std\": 468,\n        \"min\": 88,\n        \"max\": 1580,\n        \"num_unique_values\": 10,\n        \"samples\": [\n          319\n        ],\n        \"semantic_type\": \"\",\n        \"description\": \"\"\n      }\n    },\n    {\n      \"column\": \"Delicassen\",\n      \"properties\": {\n        \"dtype\": \"number\",\n        \"std\": 932,\n        \"min\": 195,\n        \"max\": 3095,\n        \"num_unique_values\": 10,\n        \"samples\": [\n          1160\n        ],\n        \"semantic_type\": \"\",\n        \"description\": \"\"\n      }\n    }\n  ]\n}"
            }
          },
          "metadata": {},
          "execution_count": 3
        }
      ]
    },
    {
      "cell_type": "markdown",
      "source": [
        "**El dataset es de informacion de clietnes mayoristas**\n",
        "\n",
        "## El codigo:\n",
        "\n",
        "**df = pd.read_csv('./Wholesale_customers_data.csv'):**\n",
        "\n",
        "Lee un archivo CSV ubicado en la ruta ./Wholesale_customers_data.csv y lo carga en un DataFrame llamado df usando la función read_csv de pandas\n",
        "\n",
        "**df = df.dropna():**\n",
        "\n",
        "Elimina cualquier fila del df que contenga valores faltantes o nulos  en cualquier columna\n",
        "\n",
        "**df.sample(10):**\n",
        "\n",
        "Muestra una muestra aleatoria de 10 filas del dataFrame  para obtener una visión rápida de los datos y verificar su contenido. El número 10 indica la cantidad de filas a mostrar"
      ],
      "metadata": {
        "id": "Y55jNSO-lMQs"
      }
    },
    {
      "cell_type": "markdown",
      "source": [
        "# Datos de Muestra"
      ],
      "metadata": {
        "id": "eLmmCbYGlulM"
      }
    },
    {
      "cell_type": "code",
      "source": [
        "indices=[182,99,250]\n",
        "df = df.drop(['Region','Channel'],axis=1)\n",
        "muestra = pd.DataFrame(df.loc[indices],columns=df.keys()).reset_index(drop=True)"
      ],
      "metadata": {
        "id": "uMd2f8RwlMr9"
      },
      "execution_count": 4,
      "outputs": []
    },
    {
      "cell_type": "markdown",
      "source": [
        "**indices = [182, 99, 250]:**\n",
        "\n",
        "Define una lista indices que contiene los índices específicos de las filas que se quieren extraer del dataFrame Los índices son 182, 99 y 250\n",
        "\n",
        "**df = df.drop(['Region','Channel'], axis=1):**\n",
        "\n",
        "- Elimina las columnas Region y 'Channel del dataframw.\n",
        "\n",
        "- El parámetro axis=1 indica que se están eliminando columnas (si fuera axis=0, se eliminarían filas)\n",
        "\n",
        "**muestra = pd.DataFrame(df.loc[indices], columns=df.keys()).reset_index(drop=True):**\n",
        "\n",
        "-  **df.loc[indices]** para seleccionar las filas en los índices especificados en la lista indices\n",
        "\n",
        "- **pd.DataFrame(df.loc[indices], columns=df.keys())**: Crea un nuevo dataframe muestra a partir de esas filas seleccionadas y nos aseguramos que las columnas del nuevo dataframe sean las mismas que las de df (esto se logra con columns=df.keys())\n",
        "\n",
        "- **.reset_index(drop=True):** reinicia los índices de las filas en el dataframe muestra y elimina la columna de índice anterior (por eso usamos drop=True)\n",
        "\n",
        "el codigo basicamente elimina las columnas Region y Channel selecciona tres filas específicas según los índices proporcionados y crea un nuevo dataframe con esas filas ademas de resetear los índices para que comiencen desde cero\n",
        "\n",
        "**Razones para eliminar esas columnas**\n",
        "\n",
        "- Relevancia para el analisis: Si las columnas Region y Channel no aportan información relevante para el análisis o el modelo que se va a construir, se eliminan para simplificar los datos y centrarse solo en las características necesarias\n",
        "\n",
        "- Preprocesamiento: E las columnas que contienen información categorica, como Region y Channel, pueden no ser adecuadas para ciertos tipos de modelos de machine learning ahora si el objetivo es trabajar solo con datos numericos o un conjunto específico de caracteristicas se eliminan\n",
        "\n",
        "- Evitar multicolinealidad: Si las columnas Region y Channel están altamente correlacionadas con otras características eliminarlas puede ayudar a evitar problemas de multicolinealidad que pueden afectar negativamente la precisión de algunos modelos estadísticos\n",
        "\n",
        "Eliminar columnas es una tecnica común de limpieza y preprocesamiento de datos pero la razón exacta depende del contexto del análisis o modelo que se quiera construir\n"
      ],
      "metadata": {
        "id": "6f_kJnkOlPOZ"
      }
    },
    {
      "cell_type": "markdown",
      "source": [
        "# Procesamiento de Datos - Normalizacion"
      ],
      "metadata": {
        "id": "FmUER04JlxgZ"
      }
    },
    {
      "cell_type": "code",
      "source": [
        "df_escalada= preprocessing.Normalizer().fit_transform(df)\n",
        "muestra_escalada= preprocessing.Normalizer().fit_transform(muestra)"
      ],
      "metadata": {
        "id": "Y2p_2iqklPip"
      },
      "execution_count": 5,
      "outputs": []
    },
    {
      "cell_type": "markdown",
      "source": [
        "**df_escalada = preprocessing.Normalizer().fit_transform(df):**\n",
        "\n",
        "Aplica normalizacion o escalado a todos los datos del dataframe\n",
        "\n",
        " La normalizacian escala cada fila para que tenga una magnitud unitaria lo que significa que todas las filas del dataframe tendrán una magnitud igual a 1\n",
        "\n",
        "- **Normalizer()** es un método de scikit-learn que normaliza cada fila de manera independiente dividiendo cada valor de la fila por la magnitud de la fila esta se calcula como la raíz cuadrada de la suma de los cuadrados de los valores en la fila\n",
        "\n",
        "- .**fit_transform(df)** ajusta el modelo de normalizacion al dataframe df y luego transforma los datos devolviendo un array NumPy de los valores normalizados\n",
        "\n",
        "**muestra_escalada = preprocessing.Normalizer().fit_transform(muestra):**\n",
        "\n",
        "Aplica el mismo proceso de normalización al dataframe muestra que contiene las 3 filas seleccionadas previamente\n",
        "\n"
      ],
      "metadata": {
        "id": "UCHSi_pLlT7a"
      }
    },
    {
      "cell_type": "markdown",
      "source": [
        "# Analisis de Grafica para Obtener Numero de Clusters"
      ],
      "metadata": {
        "id": "SipT4kNQl2zJ"
      }
    },
    {
      "cell_type": "code",
      "source": [
        "x= df_escalada\n",
        "plt.figure(figsize=(10,7))\n",
        "plt.title('Dendrogramas')\n",
        "dendrograma= shc.dendrogram(shc.linkage(x,method='ward'))"
      ],
      "metadata": {
        "colab": {
          "base_uri": "https://localhost:8080/",
          "height": 621
        },
        "id": "j8f5NJuglTG3",
        "outputId": "c89b34fd-63d4-49c2-fa62-030e5870b822"
      },
      "execution_count": 6,
      "outputs": [
        {
          "output_type": "display_data",
          "data": {
            "text/plain": [
              "<Figure size 1000x700 with 1 Axes>"
            ],
            "image/png": "[encoded data removed]"
          },
          "metadata": {}
        }
      ]
    },
    {
      "cell_type": "markdown",
      "source": [
        "Un dendrograma es un tipo de gráfico que muestra cómo se agrupan los elementos o datos en diferentes clusters. Es como un \"árbol\" que conecta los datos de manera jerárquica, comenzando desde los elementos individuales y luego agrupándolos paso a paso\n",
        "\n",
        "Es una herramienta visual que ayuda a ver cómo los datos se agrupan de manera jerárquica, mostrando las relaciones de proximidad entre ellos\n",
        "\n",
        "Gneramos un dendrograma utilizando un algoritmo de clusterizacion jerarquica sobre los datos normalizados **df_escalada:**\n",
        "\n",
        "**x = df_escalada:** Se asigna el dataframe normalizado df_escalada a la variable x\n",
        "\n",
        "**plt.figure(figsize=(10,7)):**\n",
        "\n",
        "- Configura el tamaño de la figura del grafico que se va a generar\n",
        "\n",
        " - El tamaño es de 10 unidades de ancho por 7 unidades de alto\n",
        "\n",
        "**plt.title('Dendrogramas'):** el título del gráfico como Dendrogramas\n",
        "\n",
        "**dendrograma = shc.dendrogram(shc.linkage(x, method='ward')):**\n",
        "\n",
        "**shc.linkage(x, method='ward'):**\n",
        "\n",
        "- hace la clusterización jerárquica aglomerativa sobre el conjunto de datos x\n",
        " - El metodo ward es un tipo de medida de distancia para crear el dendrograma, donde el objetivo es minimizar la varianza dentro de cada cluster\n",
        "\n",
        "**Mas metodos ademas del ward**\n",
        "\n",
        "**Metodo single :**\n",
        "\n",
        "- Este metodo calcula la distancia mínima entre los puntos de los dos clusters. En otras palabras, la distancia entre dos clusters es la distancia mas corta entre cualquier par de puntos de cada cluster\n",
        "\n",
        "- Ventaja: Es útil cuando los clusters tienen formas alargadas o distribuciones más dispersas\n",
        "\n",
        "- Desventaja: Puede ser sensible a los ruidos o outliers, ya que se basa solo en la distancia mínima.\n",
        "\n",
        "**Metodo complete :**\n",
        "\n",
        "- En este caso la distancia entre dos clusters se calcula como la distancia máxima entre los puntos de cada uno de los clusters es decir, la distancia máxima entre cualquier par de puntos uno de cada cluster.\n",
        "\n",
        "- Ventaja: Tiende a formar clusters más compactos y homogéneos, lo que hace que sea útil cuando se desea evitar la formación de \"clusters grandes\" o \"conglomerados\"\n",
        "\n",
        "- Desventaja: Es más sensible a los outliers que el método ward\n",
        "\n",
        "**Metodo average :**\n",
        "- Calcula la distancia entre dos clusters como el promedio de todas las distancias posibles entre puntos de los dos clusters. Este método intenta balancear los enfoques de single y complete proporcionando una combinación intermedia entre distancia mínima y máxima\n",
        "\n",
        "- Ventaja: Es menos sensible a los outliers que single y complete\n",
        "\n",
        "- Desventaja: Puede no ser tan efectivo en ciertos tipos de datos que tienen una estructura muy densa\n",
        "\n",
        "**Resumen de Metodos de Enlace:**\n",
        "\n",
        "- ward: minimiza la varianza dentro de los clusters. Es eficaz cuando los clusters son esféricos o compactos\n",
        "\n",
        "- single: se basa en la distancia mínima entre los puntos de los clusters util para clusters alargados, pero sensible a outliers\n",
        "\n",
        "- complete: utiliza la distancia máxima entre los puntos de los clusters ayudando a formar clusters compactos, pero también sensible a outliers\n",
        "\n",
        "- average: usa el promedio de todas las distancias posibles entre los puntos de los dos clusters, balanceando las ventajas de los otros metodos\n",
        "\n",
        "**shc.dendrogram():** crea el dendrograma una representación gráfica que muestra como se agrupan las observaciones a lo largo del proceso de clusterizacion. En el eje vertical se muestra la distancia entre los clusters a medida que se fusionan\n",
        "\n"
      ],
      "metadata": {
        "id": "QC3hSwW2lcGC"
      }
    },
    {
      "cell_type": "markdown",
      "source": [
        "# Aplicacion del Algoritmo"
      ],
      "metadata": {
        "id": "2M5UXpmvl9LN"
      }
    },
    {
      "cell_type": "code",
      "source": [
        "algoritmo= AgglomerativeClustering(n_clusters=3,metric='euclidean',linkage='ward')\n",
        "\n",
        "algoritmo.fit(x)\n",
        "pred=algoritmo.fit_predict(x)"
      ],
      "metadata": {
        "id": "8SlH9o0OlZLV"
      },
      "execution_count": 9,
      "outputs": []
    },
    {
      "cell_type": "markdown",
      "source": [
        "**algoritmo = AgglomerativeClustering(n_clusters=3, affinity='euclidean', linkage='ward'):**\n",
        "\n",
        "- **n_clusters=3:** especifica que el algoritmo debe dividir los datos en 3 clusters\n",
        "\n",
        "- **metric='euclidean':** Define que la medida de distancia utilizada para calcular las distancias entre puntos será la distancia euclidiana\n",
        "\n",
        "**Tipos de metric*\n",
        "- euclidean:\n",
        "\n",
        "Utiliza la distancia euclidiana estándar, que es la distancia \"recta\" entre dos puntos en un espacio multidimensional\n",
        "\n",
        "\n",
        "\n",
        "Es uno de los métodos más comunes y adecuados cuando los datos están distribuidos de manera más o menos uniforme\n",
        "\n",
        "- manhattan:\n",
        "\n",
        "Utiliza la distancia de Manhattan, que es la suma de las diferencias absolutas entre las coordenadas de dos puntos\n",
        "\n",
        "Este método es útil cuando los datos están organizados en una cuadrícula, como en problemas de rutas o desplazamientos\n",
        "\n",
        "- cosine:\n",
        "\n",
        "Utiliza la distancia del coseno, que mide la diferencia en la orientación de los vectores en lugar de la magnitud de la distancia\n",
        "\n",
        "Se usa comúnmente en problemas donde los datos son vectores de características, como en el procesamiento de texto como análisis de similitud de documentos\n",
        "\n",
        "- precomputed:\n",
        "\n",
        "Significa que ya tienes una matriz de distancias precomputada (una matriz que contiene las distancias entre cada par de puntos)\n",
        "\n",
        "Es útil cuando ya has calculado las distancias entre los puntos de antemano, y quieres evitar calcularlas nuevamente.\n",
        "\n",
        "- **linkage='ward':** indica que el metodo de agrupamiento sera \"Ward\", que minimiza la varianza dentro de los grupos al combinar los clusters. Este método tiende a crear clusters más equilibrados y compactos\n",
        "\n",
        "Diferencia entre metric y linkage:\n",
        "\n",
        "- **metric** se refiere a cómo se mide la distancia entre los clusters. La elección de la medida de distancia afecta la manera en que se agruparán los puntos\n",
        "\n",
        "- **linkage** determina cómo se calcula la distancia entre los clusters es decir, cómo se decide cuándo y cómo fusionar dos clusters\n",
        "\n",
        "**algoritmo.fit(x):**\n",
        "\n",
        "ajusta el modelo de clusterizacion aglomerativa a los datos x. Esto significa que el algoritmo aprenderá las relaciones entre los puntos y cómo se deben agrupar en 3 clusters\n",
        "\n",
        "**pred = algoritmo.fit_predict(x):**\n",
        "\n",
        "**fit_predict(x) hace dos cosas:**\n",
        "\n",
        "- fit(x): Ajusta el modelo a los datos x\n",
        "\n",
        "- predict(x): Predice a que cluster pertenece cada punto de datos. Devuelve un array con los índices de los clusters asignados a cada punto\n",
        "\n",
        "El resultado pred es un array que contiene el número del cluster asignado a cada fila de x. Por ejemplo, si pred[0] = 2, eso significa que la primera fila de x pertenece al cluster 2\n",
        "\n",
        "\n",
        "\n"
      ],
      "metadata": {
        "id": "ybw7jXv5lesn"
      }
    },
    {
      "cell_type": "markdown",
      "source": [
        "# Verificamos contra las muestras"
      ],
      "metadata": {
        "id": "j6CE_4ermDKS"
      }
    },
    {
      "cell_type": "code",
      "source": [
        "muestra_prediccion= algoritmo.fit_predict(muestra_escalada)"
      ],
      "metadata": {
        "id": "dXKCaiAzlfDX"
      },
      "execution_count": 10,
      "outputs": []
    },
    {
      "cell_type": "markdown",
      "source": [
        "**algoritmo.fit_predict(muestra_escalada):**\n",
        "\n",
        "\n",
        "- fit(): Ajusta el modelo de clusterización aglomerativa al conjunto de datos escalado muestra_escalada, lo que significa que el algoritmo analiza los datos y determina cómo agruparlos en clusters\n",
        "\n",
        "- predict(): Después de ajustar el modelo, el método predice a qué cluster pertenece cada fila de datos en muestra_escalada.\n",
        "\n",
        "**muestra_prediccion = ...:**\n",
        "\n",
        "El resultado de fit_predict() es un array de etiquetas de cluster que indica a qué grupo pertenece cada una de las tres observaciones de muestra_escalada. Estas etiquetas (numeradas del 0 al 2, ya que especificaste n_clusters=3) se almacenan en la variable muestra_prediccion"
      ],
      "metadata": {
        "id": "gHq5mLtHlgp_"
      }
    },
    {
      "cell_type": "code",
      "source": [
        "for i, pred in enumerate(muestra_prediccion):\n",
        "    print('Muestra',i,' se encuentra en el cluster: ',pred)"
      ],
      "metadata": {
        "colab": {
          "base_uri": "https://localhost:8080/"
        },
        "id": "4lDkrqzvlg5g",
        "outputId": "a193149d-2cfd-4011-c931-8971c396984b"
      },
      "execution_count": 11,
      "outputs": [
        {
          "output_type": "stream",
          "name": "stdout",
          "text": [
            "Muestra 0  se encuentra en el cluster:  1\n",
            "Muestra 1  se encuentra en el cluster:  2\n",
            "Muestra 2  se encuentra en el cluster:  0\n"
          ]
        }
      ]
    },
    {
      "cell_type": "markdown",
      "source": [
        "Recorremos el array de predicciones **muestra_prediccion** y muestra a que cluster pertenece cada muestra V\n",
        "\n",
        "**for i, pred in enumerate(muestra_prediccion)::**\n",
        "\n",
        "- Utiliza **enumerate()** para iterar sobre el array **muestra_prediccion** donde i es el índice de la muestra (0, 1, 2, etc) y pred es la predicción del cluster para esa muestra (por ejemplo, 0, 1 o 2, dependiendo de cuántos clusters se definieron)\n",
        "\n",
        "- **print('Muestra', i, 'se encuentra en el cluster:', pred):**\n",
        "Para cada iteracion imprime el índice de la muestra (i) y el cluster al que pertenece (pred)"
      ],
      "metadata": {
        "id": "EGfZiSmPlihw"
      }
    }
  ]
}