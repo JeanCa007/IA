{
  "nbformat": 4,
  "nbformat_minor": 0,
  "metadata": {
    "colab": {
      "provenance": []
    },
    "kernelspec": {
      "name": "python3",
      "display_name": "Python 3"
    },
    "language_info": {
      "name": "python"
    }
  },
  "cells": [
    {
      "cell_type": "markdown",
      "source": [
        "**Generación del dataset**\n",
        "\n",
        "El dataset que vamos a crear tendrá 5 columnas de características (\n",
        "𝑥\n",
        "1\n",
        ",\n",
        "𝑥\n",
        "2\n",
        ",\n",
        "𝑥\n",
        "3\n",
        ",\n",
        "𝑥\n",
        "4\n",
        ",\n",
        "𝑥\n",
        "5\n",
        "x\n",
        "1\n",
        "​\n",
        " ,x\n",
        "2\n",
        "​\n",
        " ,x\n",
        "3\n",
        "​\n",
        " ,x\n",
        "4\n",
        "​\n",
        " ,x\n",
        "5\n",
        "​\n",
        " ) y 1 columna de clase (etiqueta, “Clase”). La idea es simular, por ejemplo, un escenario en el que cada muestra corresponde a un producto con distintas medidas (tamaño, peso, etc.) y queremos clasificarlo en Clase = 1 (producto de \"Alta calidad\") o Clase = 0 (producto de \"Baja calidad\").\n",
        "\n",
        "La generación se realizará de manera aleatoria, controlando ligeramente la distribución para que sea un ejemplo “realista”\n"
      ],
      "metadata": {
        "id": "XJWzCTPkEgy9"
      }
    },
    {
      "cell_type": "markdown",
      "source": [
        "**Importar librerias**"
      ],
      "metadata": {
        "id": "SNjVbmFGExTq"
      }
    },
    {
      "cell_type": "code",
      "source": [
        "import numpy as np\n",
        "import pandas as pd"
      ],
      "metadata": {
        "id": "HXk8H5UMEwep"
      },
      "execution_count": 1,
      "outputs": []
    },
    {
      "cell_type": "markdown",
      "source": [
        "**import numpy as np**\n",
        "numpy es una biblioteca para trabajar con arrays y cálculos matemáticos eficientes\n",
        "\n",
        "Usos: álgebra lineal, estadísticas, manipulación de datos numéricos y generación de números aleatorios\n",
        "\n",
        "**import pandas as pd**\n",
        "\n",
        "pandas es una biblioteca para análisis y manipulación de datos tabulares\n",
        "\n",
        "Usos: manejar datos estructurados (DataFrames y Series), limpieza, análisis, y transformación de datos."
      ],
      "metadata": {
        "id": "MxOeJh0vKySg"
      }
    },
    {
      "cell_type": "code",
      "source": [
        "# Fijamos una semilla para reproducibilidad\n",
        "np.random.seed(42)"
      ],
      "metadata": {
        "id": "P47GEkBFE5Jt"
      },
      "execution_count": 2,
      "outputs": []
    },
    {
      "cell_type": "markdown",
      "source": [
        "Semilla para el generador de números aleatorios de numpy, garantizando que los resultados de las operaciones aleatorias sean reproducibles\n",
        "\n",
        "**¿Por qué se usa?**\n",
        "\n",
        "Para asegurar que los experimentos o simulaciones con números aleatorios produzcan los mismos resultados en cada ejecución\n",
        "\n",
        "Muy útil en pruebas, análisis reproducibles, y depuración de código"
      ],
      "metadata": {
        "id": "Ji003YrqEp1P"
      }
    },
    {
      "cell_type": "code",
      "source": [
        "# Cantidad de muestras\n",
        "n_muestras = 100"
      ],
      "metadata": {
        "id": "glneOqHHFADS"
      },
      "execution_count": 3,
      "outputs": []
    },
    {
      "cell_type": "markdown",
      "source": [
        "Definimos una variable llamada **n_muestra**s y le asigna el valor 100\n",
        " Esto indica que el programa trabajará con 100 muestras en un contexto de datos o simulaciones\n",
        "\n",
        "**¿Por qué se usa?**\n",
        "\n",
        "Es una forma de establecer la cantidad de datos o iteraciones que se generarán o procesarán\n",
        "\n",
        "Permite modificar el tamaño de las muestras fácilmente si se necesita un experimento con diferentes cantidades de datos"
      ],
      "metadata": {
        "id": "NO6sT9qpFBPS"
      }
    },
    {
      "cell_type": "code",
      "source": [
        "# Generamos datos aleatorios para 5 características\n",
        "# Supondremos que cada característica tiene valores en distintos rangos\n",
        "x1 = np.random.normal(loc=50, scale=5, size=n_muestras)   # Ej. peso en kg (promedio 50)\n",
        "x2 = np.random.normal(loc=30, scale=10, size=n_muestras)  # Ej. tamaño en cm (promedio 30)\n",
        "x3 = np.random.uniform(0, 1, n_muestras)                  # Ej. porcentaje de un componente\n",
        "x4 = np.random.normal(loc=100, scale=20, size=n_muestras) # Ej. otro índice\n",
        "x5 = np.random.normal(loc=0, scale=1, size=n_muestras)    # Ej. ruido o factor extra"
      ],
      "metadata": {
        "id": "3lT6yFBIFBoB"
      },
      "execution_count": 4,
      "outputs": []
    },
    {
      "cell_type": "markdown",
      "source": [
        "Genera datos con una distribución normal (gaussiana)\n",
        "\n",
        "**np.random.normal**\n",
        "\n",
        "- **loc=\"valor\"**: Media del valor\n",
        "\n",
        "- **scale=\"valor**: Desviación estándar (± del valor)\n",
        "\n",
        "- **size=n_muestras**: 100 muestras\n",
        "\n",
        "**np.random.uniform(0, 1, n_muestras)**\n",
        "\n",
        "Genera datos con una distribución uniforme entre 0 y 1\n",
        "\n",
        "Puede representar porcentajes o probabilidades\n",
        "\n",
        "**¿Para qué se usa?**\n",
        "\n",
        "Modelar datos simulados con diferentes características estadísticas, que podrían representar mediciones físicas, índices, o factores experimentales\n",
        "\n"
      ],
      "metadata": {
        "id": "eF6s4krhFKU1"
      }
    },
    {
      "cell_type": "code",
      "source": [
        "# Generamos la clase (0 o 1) con cierta lógica:\n",
        "# Por ejemplo, los productos con x1 > 50 y x2 > 25 y x3 > 0.5 tenderán a ser de \"Alta calidad\" osea 1.\n",
        "# Con algo de aleatoriedad para no hacerlo tan estricto.\n",
        "clase = []\n",
        "for i in range(n_muestras):\n",
        "    score = 0\n",
        "    if x1[i] > 50:\n",
        "        score += 1\n",
        "    if x2[i] > 25:\n",
        "        score += 1\n",
        "    if x3[i] > 0.5:\n",
        "        score += 1\n",
        "    # Añadimos un poco de ruido/azar\n",
        "    if np.random.rand() < 0.1:\n",
        "        score += 1\n",
        "    # Si score >= 2 será 1 (Alta calidad), sino 0\n",
        "    if score >= 2:\n",
        "        clase.append(1)\n",
        "    else:\n",
        "        clase.append(0)"
      ],
      "metadata": {
        "id": "Ivm6hhdTFMpP"
      },
      "execution_count": 5,
      "outputs": []
    },
    {
      "cell_type": "markdown",
      "source": [
        "**Definición de clase**\n",
        "\n",
        "- clase = [] : Inicializa una lista vacía para almacenar las clasificaciones de las muestras\n",
        "\n",
        "**Iteración sobre las muestras**\n",
        "\n",
        "- for i in range(n_muestras): Recorre las 100 muestras (o el valor definido en n_muestras)\n",
        "\n",
        "**Cálculo del score**\n",
        "\n",
        "- score = 0\n",
        "if x1[i] > 50:\n",
        "    score += 1\n",
        "if x2[i] > 25:\n",
        "    score += 1\n",
        "if x3[i] > 0.5:\n",
        "    score += 1\n",
        "\n",
        "Se evalúan condiciones basadas en los valores de x1, x2, y x3\n",
        "Por cada condición cumplida se incrementa el score\n",
        "\n",
        "**Ruido/Aleatoriedad**\n",
        "\n",
        "- if np.random.rand() < 0.1:\n",
        "    score += 1\n",
        "\n",
        "Introduce un pequeño componente aleatorio hay un 10% de probabilidad de sumar 1 al score. Esto hace que la clasificación no sea completamente determinista\n",
        "\n",
        "**Clasificación final**\n",
        "\n",
        "if score >= 2:\n",
        "\n",
        "  clase.append(1)  # Alta calidad\n",
        "\n",
        "else:\n",
        "\n",
        "  clase.append(0)  # Baja calidad\n",
        "\n",
        "Si el score es mayor o igual a 2 la muestra se clasifica como 1 (Alta calidad)\n",
        "\n",
        "Si no se clasifica como 0 (Baja calidad)\n",
        "\n",
        "**¿Para qué sirve?**\n",
        "\n",
        "Simula una clasificación binaria basada en características predefinidas con cierto margen de aleatoriedad\n"
      ],
      "metadata": {
        "id": "vdhJrpaBFUtZ"
      }
    },
    {
      "cell_type": "code",
      "source": [
        "# Convertimos la lista a array para manipular más cómodamente\n",
        "clase = np.array(clase)"
      ],
      "metadata": {
        "id": "RZnByPaKFXQK"
      },
      "execution_count": 6,
      "outputs": []
    },
    {
      "cell_type": "markdown",
      "source": [
        "Convierte la lista clase (actualmente de tipo list) en un arreglo de numpy (tipo numpy.ndarray)\n",
        "\n",
        "\n",
        "**¿Por qué se hace esto?**\n",
        "\n",
        "- Eficiencia: Los arreglos de numpy son más rápidos y consumen menos memoria que las listas de Python\n",
        "\n",
        "- Operaciones vectorizadas: Permite realizar operaciones matemáticas y de manipulación de datos sobre el array de forma más eficiente y con menos código\n",
        "\n",
        "- Compatibilidad: Los arreglos son más adecuados para trabajar con bibliotecas científicas y de aprendizaje automático como **pandas o scikit-learn**"
      ],
      "metadata": {
        "id": "LrCh_ZT2FXx6"
      }
    },
    {
      "cell_type": "code",
      "source": [
        "# Creamos un DataFrame\n",
        "df = pd.DataFrame({\n",
        "    'x1': x1,\n",
        "    'x2': x2,\n",
        "    'x3': x3,\n",
        "    'x4': x4,\n",
        "    'x5': x5,\n",
        "    'Clase': clase\n",
        "})"
      ],
      "metadata": {
        "id": "J_l7TLbMFYPa"
      },
      "execution_count": 7,
      "outputs": []
    },
    {
      "cell_type": "markdown",
      "source": [
        "Creamos un DataFrame de pandas llamado df que organiza los datos generados en una estructura tabular con columnas correspondientes a las características (x1 a x5) y la clase (Clase)\n",
        "\n",
        "**¿Por qué se usa?**\n",
        "\n",
        "- Organización: Estructura los datos en formato tabular, fácil de leer y manipular\n",
        "\n",
        "- Análisis: Facilita operaciones como filtrado, estadísticas, y visualización de los datos\n",
        "\n",
        "- Compatibilidad: Los DataFrames son el formato estándar para bibliotecas de análisis y machine learning\n",
        "\n",
        "\n"
      ],
      "metadata": {
        "id": "psRdPxQIFaEU"
      }
    },
    {
      "cell_type": "code",
      "source": [
        "# Guardamos el dataframe a un archivo CSV\n",
        "df.to_csv('dataset_svm.csv', index=False)"
      ],
      "metadata": {
        "id": "3Gws6JpfFaXb"
      },
      "execution_count": 8,
      "outputs": []
    },
    {
      "cell_type": "markdown",
      "source": [
        "Guarda el DataFrame df en un archivo CSV llamado dataset_svm.csv\n",
        "\n",
        "\n",
        "**df.to_csv:** Método de pandas que exporta el DataFrame a un archivo en formato CSV\n",
        "\n",
        "**'dataset_svm.csv':** Nombre del archivo donde se guardará el DataFrame\n",
        "\n",
        "**index=False:** Omite la inclusión del índice del DataFrame como una columna en el archivo CSV\n",
        "\n",
        "**¿Por qué se hace esto?**\n",
        "\n",
        "- Almacenamiento: Permite guardar el DataFrame para su uso posterior sin necesidad de regenerar los datos\n",
        "\n",
        "- Compatibilidad: Los archivos CSV son un formato estándar compatible con la mayoría de herramientas de análisis de datos y aprendizaje automático\n",
        "\n",
        "- Portabilidad: Puedes compartir los datos fácilmente o utilizarlos en otros scripts"
      ],
      "metadata": {
        "id": "cEIBgYZ2Fcls"
      }
    },
    {
      "cell_type": "code",
      "source": [
        "print(\"Dataset generado y guardado en 'dataset_svm.csv'\")\n",
        "print(df.head())"
      ],
      "metadata": {
        "colab": {
          "base_uri": "https://localhost:8080/"
        },
        "id": "07N7w8GIFeBg",
        "outputId": "310a3099-28b4-409a-af7d-9e52b983500c"
      },
      "execution_count": 9,
      "outputs": [
        {
          "output_type": "stream",
          "name": "stdout",
          "text": [
            "Dataset generado y guardado en 'dataset_svm.csv'\n",
            "          x1         x2        x3          x4        x5  Clase\n",
            "0  52.483571  15.846293  0.877373   96.964298  0.341756      1\n",
            "1  49.308678  25.793547  0.740769  111.766344  1.876171      1\n",
            "2  53.238443  26.572855  0.697016  105.619837  0.950424      1\n",
            "3  57.615149  21.977227  0.702484   87.546010 -0.576904      1\n",
            "4  48.829233  28.387143  0.359491   95.837555 -0.898415      0\n"
          ]
        }
      ]
    },
    {
      "cell_type": "markdown",
      "source": [
        "**print(\"Dataset generado y guardado en 'dataset_svm.csv'\"):**\n",
        "\n",
        "Muestra un mensaje en la consola indicando que el archivo dataset_svm.csv ha sido creado con éxito\n",
        "\n",
        "**print(df.head()):**\n",
        "\n",
        "Imprime las primeras 5 filas del DataFrame df en la consola para que el usuario pueda visualizar una muestra de los datos\n",
        "\n",
        "**¿Por qué se hace esto?**\n",
        "\n",
        "- Confirmación: Proporciona retroalimentación visual de que el archivo se generó y guardó correctamente\n",
        "\n",
        "- Verificación: Muestra un resumen de los datos en el DataFrame para revisar su estructura y contenido"
      ],
      "metadata": {
        "id": "3FFMWWSjFehW"
      }
    }
  ]
}